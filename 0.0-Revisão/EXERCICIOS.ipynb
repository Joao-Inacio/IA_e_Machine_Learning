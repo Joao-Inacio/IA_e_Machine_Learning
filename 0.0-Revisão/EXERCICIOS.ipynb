{
 "cells": [
  {
   "cell_type": "markdown",
   "metadata": {},
   "source": [
    "# **EXERCÍCIOS DE REVISÃO**"
   ]
  },
  {
   "cell_type": "markdown",
   "metadata": {},
   "source": [
    "1. Ler dois números inteiros, executar e mostrar o resultado das seguintes operações: adição, subtração, multiplicação e divisão"
   ]
  },
  {
   "cell_type": "code",
   "execution_count": 1,
   "metadata": {},
   "outputs": [
    {
     "name": "stdout",
     "output_type": "stream",
     "text": [
      "Adição de 3 + 4 = 7 \n",
      "Subtração de 3 - 4 = -1 \n",
      "Multiplicação de 3 * 4 = 12 \n",
      "Divisão de 3 / 4 = 0.75\n"
     ]
    }
   ],
   "source": [
    "n1 = int(input('Digite um número: '))\n",
    "n2 = int(input('Digite outro número: '))\n",
    "print(f'Adição de {n1} + {n2} = {n1 + n2} \\nSubtração de {n1} - {n2} = {n1 - n2} \\nMultiplicação de {n1} * {n2} = {n1 * n2} \\nDivisão de {n1} / {n2} = {n1 / n2}')"
   ]
  },
  {
   "cell_type": "markdown",
   "metadata": {},
   "source": [
    "2. Efetuar o cálculo da quantidade de litros de combustível gasto em uma viagem, utilizando um automóvel que faz 12 Km por litro. Para obter o cálculo, o usuário deve fornecer o tempo gasto na viagem e a velocidade média durante ela. Desta forma, será possível obter a distância percorrida com a fórmula DISTANCIA = TEMPO * VELOCIDADE. Tendo o valor da distância, basta calcular a quantidade de litros de combustível utilizada na viagem, com a fórmula: LITROS_USADOS = DISTANCIA / 12. O programa deve apresentar os valores da velocidade média, tempo gasto na viagem, a distância percorrida e a quantidade de litros utilizada na viagem"
   ]
  },
  {
   "cell_type": "code",
   "execution_count": 2,
   "metadata": {},
   "outputs": [
    {
     "name": "stdout",
     "output_type": "stream",
     "text": [
      "Velocidade: 87km/h\n",
      " Tempo de Viagem: 15h\n",
      " Distância: 1305km\n",
      " Litros: 108.75L\n"
     ]
    }
   ],
   "source": [
    "tempo = int(input('Tempo de Viagem: '))\n",
    "velocidade = int(input('velocidade média: '))\n",
    "\n",
    "distancia = tempo * velocidade\n",
    "\n",
    "litros = distancia / 12\n",
    "print(f'Velocidade: {velocidade}km/h\\n Tempo de Viagem: {tempo}h\\n Distância: {distancia}km\\n Litros: {litros}L')"
   ]
  },
  {
   "cell_type": "markdown",
   "metadata": {},
   "source": [
    "3. Leia a idade do usuário e classifique-o em:\n",
    "- Criança – 0 a 12 anos\n",
    "- Adolescente – 13 a 17 anos\n",
    "- Adulto – acima de 18 anos\n",
    "-Se o usuário digitar um número negativo, mostrar a mensagem que a idade é inválida"
   ]
  },
  {
   "cell_type": "code",
   "execution_count": 3,
   "metadata": {},
   "outputs": [
    {
     "name": "stdout",
     "output_type": "stream",
     "text": [
      "Você é Adulto\n"
     ]
    }
   ],
   "source": [
    "idade = int(input('Sua idade: '))\n",
    "if idade >= 0 and idade <= 12:\n",
    "    print('Você é Criança')\n",
    "elif idade >= 13 and idade <= 17:\n",
    "    print('Você é Adolescente')\n",
    "elif idade >= 18:\n",
    "    print('Você é Adulto')\n",
    "else:\n",
    "    print('idade é inválida')"
   ]
  },
  {
   "cell_type": "markdown",
   "metadata": {},
   "source": [
    "4. Calcular a média de um aluno que cursou a disciplina de Programação I, a partir da leitura das notas M1, M2 e M3; passando por um cálculo da média aritmética. Após a média calculada, devemos anunciar se o aluno foi aprovado, reprovado ou pegou exame\n",
    "- Se a média estiver entre 0.0 e 4.0, o aluno está reprovado\n",
    "- Se a média estiver entre 4.1 e 6.0, o aluno pegou exame\n",
    "- Se a média for maior do que 6.0, o aluno está aprovado\n",
    "- Se o aluno pegou exame, deve ser lida a nota do exame. Se a nota do exame for maior do que 6.0, está aprovado, senão; está reprovado"
   ]
  },
  {
   "cell_type": "code",
   "execution_count": 4,
   "metadata": {},
   "outputs": [
    {
     "name": "stdout",
     "output_type": "stream",
     "text": [
      "A média = 8.0 o aluno está aprovado\n"
     ]
    }
   ],
   "source": [
    "m1 = float(input('Nota 1: '))\n",
    "m2 = float(input('Nota 2: '))\n",
    "m3 = float(input('Nota 3: '))\n",
    "media = (m1 + m2 + m3) / 3\n",
    "if media >= 0.0 and media <= 4.0:\n",
    "    print(f'A média = {media} o aluno está reprovado')\n",
    "elif media >= 4.1 and media <= 6.0:\n",
    "    print(f'A média = {media} o aluno pegou exame')\n",
    "    exam = float(input('Nota do Exame: '))\n",
    "    if exam > 6.0:\n",
    "        print(f'A média = {media} Está aprovado')\n",
    "    else:\n",
    "        print(f'A média = {media} Está reprovado')\n",
    "elif media >= 6.0:\n",
    "    print(f'A média = {media} o aluno está aprovado')\n"
   ]
  }
 ],
 "metadata": {
  "kernelspec": {
   "display_name": "venv",
   "language": "python",
   "name": "python3"
  },
  "language_info": {
   "codemirror_mode": {
    "name": "ipython",
    "version": 3
   },
   "file_extension": ".py",
   "mimetype": "text/x-python",
   "name": "python",
   "nbconvert_exporter": "python",
   "pygments_lexer": "ipython3",
   "version": "3.8.0"
  },
  "orig_nbformat": 4
 },
 "nbformat": 4,
 "nbformat_minor": 2
}
