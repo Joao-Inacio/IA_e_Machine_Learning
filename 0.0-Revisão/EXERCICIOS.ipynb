{
 "cells": [
  {
   "cell_type": "markdown",
   "metadata": {},
   "source": [
    "# **EXERCÍCIOS DE REVISÃO**"
   ]
  },
  {
   "cell_type": "markdown",
   "metadata": {},
   "source": [
    "1. Ler dois números inteiros, executar e mostrar o resultado das seguintes operações: adição, subtração, multiplicação e divisão"
   ]
  },
  {
   "cell_type": "code",
   "execution_count": 1,
   "metadata": {},
   "outputs": [
    {
     "name": "stdout",
     "output_type": "stream",
     "text": [
      "Adição de 10 + 15 = 25 \n",
      "Subtração de 10 - 15 = -5 \n",
      "Multiplicação de 10 * 15 = 150 \n",
      "Divisão de 10 / 15 = 0.6666666666666666\n"
     ]
    }
   ],
   "source": [
    "n1 = int(input('Digite um número: '))\n",
    "n2 = int(input('Digite outro número: '))\n",
    "print(f'Adição de {n1} + {n2} = {n1 + n2} \\nSubtração de {n1} - {n2} = {n1 - n2} \\nMultiplicação de {n1} * {n2} = {n1 * n2} \\nDivisão de {n1} / {n2} = {n1 / n2}')"
   ]
  },
  {
   "cell_type": "markdown",
   "metadata": {},
   "source": [
    "2. Efetuar o cálculo da quantidade de litros de combustível gasto em uma viagem, utilizando um automóvel que faz 12 Km por litro. Para obter o cálculo, o usuário deve fornecer o tempo gasto na viagem e a velocidade média durante ela. Desta forma, será possível obter a distância percorrida com a fórmula DISTANCIA = TEMPO * VELOCIDADE. Tendo o valor da distância, basta calcular a quantidade de litros de combustível utilizada na viagem, com a fórmula: LITROS_USADOS = DISTANCIA / 12. O programa deve apresentar os valores da velocidade média, tempo gasto na viagem, a distância percorrida e a quantidade de litros utilizada na viagem"
   ]
  },
  {
   "cell_type": "code",
   "execution_count": 2,
   "metadata": {},
   "outputs": [
    {
     "name": "stdout",
     "output_type": "stream",
     "text": [
      "Velocidade: 93km/h\n",
      " Tempo de Viagem: 6h\n",
      " Distância: 558km\n",
      " Litros: 46.5L\n"
     ]
    }
   ],
   "source": [
    "tempo = int(input('Tempo de Viagem: '))\n",
    "velocidade = int(input('velocidade média: '))\n",
    "\n",
    "distancia = tempo * velocidade\n",
    "\n",
    "litros = distancia / 12\n",
    "print(f'Velocidade: {velocidade}km/h\\n Tempo de Viagem: {tempo}h\\n Distância: {distancia}km\\n Litros: {litros}L')"
   ]
  }
 ],
 "metadata": {
  "kernelspec": {
   "display_name": "venv",
   "language": "python",
   "name": "python3"
  },
  "language_info": {
   "codemirror_mode": {
    "name": "ipython",
    "version": 3
   },
   "file_extension": ".py",
   "mimetype": "text/x-python",
   "name": "python",
   "nbconvert_exporter": "python",
   "pygments_lexer": "ipython3",
   "version": "3.8.0"
  },
  "orig_nbformat": 4
 },
 "nbformat": 4,
 "nbformat_minor": 2
}
