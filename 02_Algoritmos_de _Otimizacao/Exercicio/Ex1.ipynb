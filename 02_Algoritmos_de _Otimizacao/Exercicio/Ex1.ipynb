{
 "cells": [
  {
   "cell_type": "markdown",
   "metadata": {},
   "source": [
    "#### Exercício\n",
    "* Algoritmos de otimização\n",
    "####\n",
    "Trasportando produto com maximizar do valor de lucro"
   ]
  },
  {
   "cell_type": "code",
   "execution_count": 5,
   "metadata": {},
   "outputs": [],
   "source": [
    "items = [\n",
    "('RefrigeradorA',0.751),\n",
    "('RefrigeradorB',0.635),\n",
    "('RefrigeradorC',0.870),\n",
    "('Celular',0.0000899),\n",
    "('TV55',0.400),\n",
    "('TV50',0.290),\n",
    "('TV42',0.200),\n",
    "('NotebookA',0.00350),\n",
    "('NotebookB',0.498),\n",
    "('NotebookC',0.527),\n",
    "('Ventilador',0.496),\n",
    "('MicroondasA',0.0424),\n",
    "('MicroondasB',0.0544),\n",
    "('MicroondasC',0.0319),\n",
    "]"
   ]
  },
  {
   "cell_type": "code",
   "execution_count": 1,
   "metadata": {},
   "outputs": [],
   "source": [
    "capacidade_maxima = 3.00"
   ]
  },
  {
   "cell_type": "code",
   "execution_count": 2,
   "metadata": {},
   "outputs": [],
   "source": [
    "# Adicionado a base de produtos\n",
    "produtos = {}\n",
    "for linha in open('./produtos.txt'):\n",
    "    produto, tamanho, preco = linha.split(',')\n",
    "    produtos.setdefault((tamanho, capacidade_maxima), [])\n",
    "    produtos[(tamanho, capacidade_maxima)].append((produto, tamanho, float(preco)))"
   ]
  },
  {
   "cell_type": "code",
   "execution_count": 3,
   "metadata": {},
   "outputs": [
    {
     "data": {
      "text/plain": [
       "{('0.751', 3.0): [('RefrigeradorA', '0.751', 999.9)],\n",
       " ('0.635', 3.0): [('RefrigeradorB', '0.635', 849.0)],\n",
       " ('0.870', 3.0): [('RefrigeradorC', '0.870', 1199.89)],\n",
       " ('0.0000899', 3.0): [('Celular', '0.0000899', 2199.12)],\n",
       " ('0.400', 3.0): [('TV55', '0.400', 4346.99)],\n",
       " ('0.290', 3.0): [('TV50', '0.290', 3999.9)],\n",
       " ('0.200', 3.0): [('TV42', '0.200', 2999.9)],\n",
       " ('0.00350', 3.0): [('NotebookA', '0.00350', 2499.9)],\n",
       " ('0.498', 3.0): [('NotebookB', '0.498', 1999.9)],\n",
       " ('0.527', 3.0): [('NotebookC', '0.527', 3999.0)],\n",
       " ('0.496', 3.0): [('Ventilador', '0.496', 199.9)],\n",
       " ('0.0424', 3.0): [('MicroondasA', '0.0424', 308.66)],\n",
       " ('0.0544', 3.0): [('MicroondasB', '0.0544', 429.9)],\n",
       " ('0.0319', 3.0): [('MicroondasC', '0.0319', 299.29)]}"
      ]
     },
     "execution_count": 3,
     "metadata": {},
     "output_type": "execute_result"
    }
   ],
   "source": [
    "produtos"
   ]
  },
  {
   "cell_type": "code",
   "execution_count": 11,
   "metadata": {},
   "outputs": [],
   "source": [
    "# Criando a função de Imprime produtos\n",
    "def imprimir_produtos(agenda):\n",
    "    id_produto = -1\n",
    "    total_preco = 0\n",
    "    for i in range(len(agenda) // 2):\n",
    "        nome = items[i][0]\n",
    "        tamanho = items[i][1]\n",
    "        id_produto += 1\n",
    "        ida = produtos[(capacidade_maxima, tamanho)][agenda[id_produto]]\n",
    "        total_preco += ida[2]\n",
    "        id_produto += 1\n",
    "        volta = produtos[(capacidade_maxima, tamanho)][agenda[id_produto]]\n",
    "        total_preco += volta[2]\n",
    "        print('%10s%10s %5s-%5s %3s %5s-%5s %3s' % (nome, tamanho, ida[0],\n",
    "                ida[1], ida[2], volta[0], volta[1], volta[2]))\n",
    "    print('Preço total: ', total_preco)\n"
   ]
  },
  {
   "cell_type": "code",
   "execution_count": 7,
   "metadata": {},
   "outputs": [
    {
     "data": {
      "text/plain": [
       "14"
      ]
     },
     "execution_count": 7,
     "metadata": {},
     "output_type": "execute_result"
    }
   ],
   "source": [
    "# Agenda de voos\n",
    "agenda = [0, 1, 1, 1, 1, 1, 0, 1, 1, 1, 0, 1, 1, 1]\n",
    "len(agenda)"
   ]
  },
  {
   "cell_type": "code",
   "execution_count": 12,
   "metadata": {},
   "outputs": [
    {
     "ename": "KeyError",
     "evalue": "(3.0, 0.751)",
     "output_type": "error",
     "traceback": [
      "\u001b[1;31m---------------------------------------------------------------------------\u001b[0m",
      "\u001b[1;31mKeyError\u001b[0m                                  Traceback (most recent call last)",
      "\u001b[1;32mc:\\IA_e_Machine_Learning\\02_Algoritmos_de _Otimizacao\\Exercicio\\Ex1.ipynb Célula: 8\u001b[0m in \u001b[0;36m<cell line: 2>\u001b[1;34m()\u001b[0m\n\u001b[0;32m      <a href='vscode-notebook-cell:/c%3A/IA_e_Machine_Learning/02_Algoritmos_de%20_Otimizacao/Exercicio/Ex1.ipynb#X10sZmlsZQ%3D%3D?line=0'>1</a>\u001b[0m \u001b[39m# experimentando a função\u001b[39;00m\n\u001b[1;32m----> <a href='vscode-notebook-cell:/c%3A/IA_e_Machine_Learning/02_Algoritmos_de%20_Otimizacao/Exercicio/Ex1.ipynb#X10sZmlsZQ%3D%3D?line=1'>2</a>\u001b[0m imprimir_produtos(agenda)\n",
      "\u001b[1;32mc:\\IA_e_Machine_Learning\\02_Algoritmos_de _Otimizacao\\Exercicio\\Ex1.ipynb Célula: 8\u001b[0m in \u001b[0;36mimprimir_produtos\u001b[1;34m(agenda)\u001b[0m\n\u001b[0;32m      <a href='vscode-notebook-cell:/c%3A/IA_e_Machine_Learning/02_Algoritmos_de%20_Otimizacao/Exercicio/Ex1.ipynb#X10sZmlsZQ%3D%3D?line=6'>7</a>\u001b[0m tamanho \u001b[39m=\u001b[39m items[i][\u001b[39m1\u001b[39m]\n\u001b[0;32m      <a href='vscode-notebook-cell:/c%3A/IA_e_Machine_Learning/02_Algoritmos_de%20_Otimizacao/Exercicio/Ex1.ipynb#X10sZmlsZQ%3D%3D?line=7'>8</a>\u001b[0m id_produto \u001b[39m+\u001b[39m\u001b[39m=\u001b[39m \u001b[39m1\u001b[39m\n\u001b[1;32m----> <a href='vscode-notebook-cell:/c%3A/IA_e_Machine_Learning/02_Algoritmos_de%20_Otimizacao/Exercicio/Ex1.ipynb#X10sZmlsZQ%3D%3D?line=8'>9</a>\u001b[0m ida \u001b[39m=\u001b[39m produtos[(capacidade_maxima, tamanho)][agenda[id_produto]]\n\u001b[0;32m     <a href='vscode-notebook-cell:/c%3A/IA_e_Machine_Learning/02_Algoritmos_de%20_Otimizacao/Exercicio/Ex1.ipynb#X10sZmlsZQ%3D%3D?line=9'>10</a>\u001b[0m total_preco \u001b[39m+\u001b[39m\u001b[39m=\u001b[39m ida[\u001b[39m2\u001b[39m]\n\u001b[0;32m     <a href='vscode-notebook-cell:/c%3A/IA_e_Machine_Learning/02_Algoritmos_de%20_Otimizacao/Exercicio/Ex1.ipynb#X10sZmlsZQ%3D%3D?line=10'>11</a>\u001b[0m id_produto \u001b[39m+\u001b[39m\u001b[39m=\u001b[39m \u001b[39m1\u001b[39m\n",
      "\u001b[1;31mKeyError\u001b[0m: (3.0, 0.751)"
     ]
    }
   ],
   "source": [
    "# experimentando a função\n",
    "imprimir_produtos(agenda)"
   ]
  }
 ],
 "metadata": {
  "kernelspec": {
   "display_name": "Python 3.9.12 ('env')",
   "language": "python",
   "name": "python3"
  },
  "language_info": {
   "codemirror_mode": {
    "name": "ipython",
    "version": 3
   },
   "file_extension": ".py",
   "mimetype": "text/x-python",
   "name": "python",
   "nbconvert_exporter": "python",
   "pygments_lexer": "ipython3",
   "version": "3.9.12"
  },
  "orig_nbformat": 4,
  "vscode": {
   "interpreter": {
    "hash": "c5f6ce69dbdee32838ece07d9e8fd9729c7c568c3817f923ea5ea08e345fcd27"
   }
  }
 },
 "nbformat": 4,
 "nbformat_minor": 2
}
