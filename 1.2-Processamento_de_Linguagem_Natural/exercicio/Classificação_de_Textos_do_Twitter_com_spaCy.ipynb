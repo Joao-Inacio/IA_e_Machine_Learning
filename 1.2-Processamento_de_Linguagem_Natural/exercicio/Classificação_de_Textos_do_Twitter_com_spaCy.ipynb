{
  "cells": [
    {
      "cell_type": "markdown",
      "metadata": {
        "id": "AGgw36kc8udU"
      },
      "source": [
        "# Classificação de textos do Twitter com spaCy"
      ]
    },
    {
      "cell_type": "markdown",
      "metadata": {
        "id": "JtJGnXGi8zt9"
      },
      "source": [
        "# Etapa 1: Importação e instalação das bibliotecas"
      ]
    },
    {
      "cell_type": "code",
      "execution_count": 1,
      "metadata": {
        "colab": {
          "base_uri": "https://localhost:8080/",
          "height": 35
        },
        "id": "T1ZYK4Svri9a",
        "outputId": "a2aeb0ef-72a0-4ee8-8d29-2e2d2c196d24"
      },
      "outputs": [
        {
          "data": {
            "text/plain": [
              "'2.2.3'"
            ]
          },
          "execution_count": 1,
          "metadata": {},
          "output_type": "execute_result"
        }
      ],
      "source": [
        "import spacy\n",
        "spacy.__version__"
      ]
    },
    {
      "cell_type": "code",
      "execution_count": 2,
      "metadata": {
        "id": "DelYAveq8yuX"
      },
      "outputs": [],
      "source": [
        "import pandas as pd\n",
        "import string\n",
        "import spacy\n",
        "import random\n",
        "import seaborn as sns\n",
        "import numpy as np\n",
        "import re"
      ]
    },
    {
      "cell_type": "markdown",
      "metadata": {
        "id": "iE3VMD8t86ky"
      },
      "source": [
        "# Etapa 2: Carregamento das bases de dados\n",
        "\n",
        "- Link Kaggle: https://www.kaggle.com/augustop/portuguese-tweets-for-sentiment-analysis#TweetsNeutralHash.csv"
      ]
    },
    {
      "cell_type": "markdown",
      "metadata": {
        "id": "472HCiGNxsGm"
      },
      "source": [
        "## Base de treinamento\n",
        "\n",
        "- Negative label: 0\n",
        "- Positive label: 1"
      ]
    },
    {
      "cell_type": "code",
      "execution_count": 3,
      "metadata": {
        "id": "jqsZesTIj1D1"
      },
      "outputs": [],
      "source": [
        "base_treinamento = pd.read_csv('../data/Train50.csv', delimiter=';')"
      ]
    },
    {
      "cell_type": "code",
      "execution_count": 4,
      "metadata": {
        "colab": {
          "base_uri": "https://localhost:8080/"
        },
        "id": "kkNNr-fokG5Z",
        "outputId": "8f1019e8-3d8c-4cc1-ce00-b62445409b8a"
      },
      "outputs": [
        {
          "data": {
            "text/plain": [
              "(50000, 5)"
            ]
          },
          "execution_count": 4,
          "metadata": {},
          "output_type": "execute_result"
        }
      ],
      "source": [
        "base_treinamento.shape"
      ]
    },
    {
      "cell_type": "code",
      "execution_count": 5,
      "metadata": {
        "colab": {
          "base_uri": "https://localhost:8080/",
          "height": 250
        },
        "id": "ian62Lo5kKXp",
        "outputId": "28f1112a-2119-4f80-bb7c-fd7a57596f5e"
      },
      "outputs": [
        {
          "data": {
            "text/html": [
              "<div>\n",
              "<style scoped>\n",
              "    .dataframe tbody tr th:only-of-type {\n",
              "        vertical-align: middle;\n",
              "    }\n",
              "\n",
              "    .dataframe tbody tr th {\n",
              "        vertical-align: top;\n",
              "    }\n",
              "\n",
              "    .dataframe thead th {\n",
              "        text-align: right;\n",
              "    }\n",
              "</style>\n",
              "<table border=\"1\" class=\"dataframe\">\n",
              "  <thead>\n",
              "    <tr style=\"text-align: right;\">\n",
              "      <th></th>\n",
              "      <th>id</th>\n",
              "      <th>tweet_text</th>\n",
              "      <th>tweet_date</th>\n",
              "      <th>sentiment</th>\n",
              "      <th>query_used</th>\n",
              "    </tr>\n",
              "  </thead>\n",
              "  <tbody>\n",
              "    <tr>\n",
              "      <th>0</th>\n",
              "      <td>1050785521201541121</td>\n",
              "      <td>@Laranjito76 A pessoa certa para isso seria o ...</td>\n",
              "      <td>Fri Oct 12 16:29:25 +0000 2018</td>\n",
              "      <td>1</td>\n",
              "      <td>:)</td>\n",
              "    </tr>\n",
              "    <tr>\n",
              "      <th>1</th>\n",
              "      <td>1050785431955140608</td>\n",
              "      <td>@behin_d_curtain Para mim, é precisamente o co...</td>\n",
              "      <td>Fri Oct 12 16:29:04 +0000 2018</td>\n",
              "      <td>1</td>\n",
              "      <td>:)</td>\n",
              "    </tr>\n",
              "    <tr>\n",
              "      <th>2</th>\n",
              "      <td>1050785401248645120</td>\n",
              "      <td>Vou fazer um video hoje... estou pensando em f...</td>\n",
              "      <td>Fri Oct 12 16:28:56 +0000 2018</td>\n",
              "      <td>1</td>\n",
              "      <td>:)</td>\n",
              "    </tr>\n",
              "    <tr>\n",
              "      <th>3</th>\n",
              "      <td>1050785370982547461</td>\n",
              "      <td>aaaaaaaa amei tanto essas polaroids, nem sei e...</td>\n",
              "      <td>Fri Oct 12 16:28:49 +0000 2018</td>\n",
              "      <td>1</td>\n",
              "      <td>:)</td>\n",
              "    </tr>\n",
              "    <tr>\n",
              "      <th>4</th>\n",
              "      <td>1050785368902131713</td>\n",
              "      <td>Valoriza o coração do menininho que vc tem. El...</td>\n",
              "      <td>Fri Oct 12 16:28:49 +0000 2018</td>\n",
              "      <td>1</td>\n",
              "      <td>:)</td>\n",
              "    </tr>\n",
              "  </tbody>\n",
              "</table>\n",
              "</div>"
            ],
            "text/plain": [
              "                    id                                         tweet_text  \\\n",
              "0  1050785521201541121  @Laranjito76 A pessoa certa para isso seria o ...   \n",
              "1  1050785431955140608  @behin_d_curtain Para mim, é precisamente o co...   \n",
              "2  1050785401248645120  Vou fazer um video hoje... estou pensando em f...   \n",
              "3  1050785370982547461  aaaaaaaa amei tanto essas polaroids, nem sei e...   \n",
              "4  1050785368902131713  Valoriza o coração do menininho que vc tem. El...   \n",
              "\n",
              "                       tweet_date  sentiment query_used  \n",
              "0  Fri Oct 12 16:29:25 +0000 2018          1         :)  \n",
              "1  Fri Oct 12 16:29:04 +0000 2018          1         :)  \n",
              "2  Fri Oct 12 16:28:56 +0000 2018          1         :)  \n",
              "3  Fri Oct 12 16:28:49 +0000 2018          1         :)  \n",
              "4  Fri Oct 12 16:28:49 +0000 2018          1         :)  "
            ]
          },
          "execution_count": 5,
          "metadata": {},
          "output_type": "execute_result"
        }
      ],
      "source": [
        "base_treinamento.head()"
      ]
    },
    {
      "cell_type": "code",
      "execution_count": 6,
      "metadata": {
        "colab": {
          "base_uri": "https://localhost:8080/",
          "height": 250
        },
        "id": "xFrzQLCckhEW",
        "outputId": "a787dece-f977-4e23-ec38-35be4e48eab4"
      },
      "outputs": [
        {
          "data": {
            "text/html": [
              "<div>\n",
              "<style scoped>\n",
              "    .dataframe tbody tr th:only-of-type {\n",
              "        vertical-align: middle;\n",
              "    }\n",
              "\n",
              "    .dataframe tbody tr th {\n",
              "        vertical-align: top;\n",
              "    }\n",
              "\n",
              "    .dataframe thead th {\n",
              "        text-align: right;\n",
              "    }\n",
              "</style>\n",
              "<table border=\"1\" class=\"dataframe\">\n",
              "  <thead>\n",
              "    <tr style=\"text-align: right;\">\n",
              "      <th></th>\n",
              "      <th>id</th>\n",
              "      <th>tweet_text</th>\n",
              "      <th>tweet_date</th>\n",
              "      <th>sentiment</th>\n",
              "      <th>query_used</th>\n",
              "    </tr>\n",
              "  </thead>\n",
              "  <tbody>\n",
              "    <tr>\n",
              "      <th>49995</th>\n",
              "      <td>1046762827053232128</td>\n",
              "      <td>:( é tão lindo que dói https://t.co/GqnpgyWWxB</td>\n",
              "      <td>Mon Oct 01 14:04:40 +0000 2018</td>\n",
              "      <td>0</td>\n",
              "      <td>:(</td>\n",
              "    </tr>\n",
              "    <tr>\n",
              "      <th>49996</th>\n",
              "      <td>1046762813362966529</td>\n",
              "      <td>@veraluciarj Pois é.. tenho problema c/ \"coisa...</td>\n",
              "      <td>Mon Oct 01 14:04:37 +0000 2018</td>\n",
              "      <td>0</td>\n",
              "      <td>:(</td>\n",
              "    </tr>\n",
              "    <tr>\n",
              "      <th>49997</th>\n",
              "      <td>1046762806392082432</td>\n",
              "      <td>eu te amo tanto minja vidinha meu bem mais pre...</td>\n",
              "      <td>Mon Oct 01 14:04:35 +0000 2018</td>\n",
              "      <td>0</td>\n",
              "      <td>:(</td>\n",
              "    </tr>\n",
              "    <tr>\n",
              "      <th>49998</th>\n",
              "      <td>1046762752071618560</td>\n",
              "      <td>@itsLary @jessboluda Pfvor :(</td>\n",
              "      <td>Mon Oct 01 14:04:22 +0000 2018</td>\n",
              "      <td>0</td>\n",
              "      <td>:(</td>\n",
              "    </tr>\n",
              "    <tr>\n",
              "      <th>49999</th>\n",
              "      <td>1046762735340584962</td>\n",
              "      <td>@Renk_lol Passa ano Entra ano Eu nao desisto d...</td>\n",
              "      <td>Mon Oct 01 14:04:18 +0000 2018</td>\n",
              "      <td>0</td>\n",
              "      <td>:(</td>\n",
              "    </tr>\n",
              "  </tbody>\n",
              "</table>\n",
              "</div>"
            ],
            "text/plain": [
              "                        id                                         tweet_text  \\\n",
              "49995  1046762827053232128     :( é tão lindo que dói https://t.co/GqnpgyWWxB   \n",
              "49996  1046762813362966529  @veraluciarj Pois é.. tenho problema c/ \"coisa...   \n",
              "49997  1046762806392082432  eu te amo tanto minja vidinha meu bem mais pre...   \n",
              "49998  1046762752071618560                      @itsLary @jessboluda Pfvor :(   \n",
              "49999  1046762735340584962  @Renk_lol Passa ano Entra ano Eu nao desisto d...   \n",
              "\n",
              "                           tweet_date  sentiment query_used  \n",
              "49995  Mon Oct 01 14:04:40 +0000 2018          0         :(  \n",
              "49996  Mon Oct 01 14:04:37 +0000 2018          0         :(  \n",
              "49997  Mon Oct 01 14:04:35 +0000 2018          0         :(  \n",
              "49998  Mon Oct 01 14:04:22 +0000 2018          0         :(  \n",
              "49999  Mon Oct 01 14:04:18 +0000 2018          0         :(  "
            ]
          },
          "execution_count": 6,
          "metadata": {},
          "output_type": "execute_result"
        }
      ],
      "source": [
        "base_treinamento.tail()"
      ]
    },
    {
      "cell_type": "code",
      "execution_count": 7,
      "metadata": {
        "colab": {
          "base_uri": "https://localhost:8080/",
          "height": 334
        },
        "id": "IVVwuPGhkm5h",
        "outputId": "a30f2ed9-83ad-44ff-9ede-6f66def37923"
      },
      "outputs": [
        {
          "data": {
            "image/png": "[encoded data removed]",
            "text/plain": [
              "<Figure size 640x480 with 1 Axes>"
            ]
          },
          "metadata": {},
          "output_type": "display_data"
        }
      ],
      "source": [
        "sns.countplot(base_treinamento['sentiment'], label = 'Contagem');"
      ]
    },
    {
      "cell_type": "code",
      "execution_count": 8,
      "metadata": {
        "id": "-xTh-gqelMWn"
      },
      "outputs": [],
      "source": [
        "base_treinamento.drop(['id', 'tweet_date', 'query_used'], axis = 1, inplace=True)"
      ]
    },
    {
      "cell_type": "code",
      "execution_count": 9,
      "metadata": {
        "colab": {
          "base_uri": "https://localhost:8080/",
          "height": 206
        },
        "id": "82hWS5cklVZ_",
        "outputId": "0da20b3c-3b32-4309-d719-5de3ac258369"
      },
      "outputs": [
        {
          "data": {
            "text/html": [
              "<div>\n",
              "<style scoped>\n",
              "    .dataframe tbody tr th:only-of-type {\n",
              "        vertical-align: middle;\n",
              "    }\n",
              "\n",
              "    .dataframe tbody tr th {\n",
              "        vertical-align: top;\n",
              "    }\n",
              "\n",
              "    .dataframe thead th {\n",
              "        text-align: right;\n",
              "    }\n",
              "</style>\n",
              "<table border=\"1\" class=\"dataframe\">\n",
              "  <thead>\n",
              "    <tr style=\"text-align: right;\">\n",
              "      <th></th>\n",
              "      <th>tweet_text</th>\n",
              "      <th>sentiment</th>\n",
              "    </tr>\n",
              "  </thead>\n",
              "  <tbody>\n",
              "    <tr>\n",
              "      <th>0</th>\n",
              "      <td>@Laranjito76 A pessoa certa para isso seria o ...</td>\n",
              "      <td>1</td>\n",
              "    </tr>\n",
              "    <tr>\n",
              "      <th>1</th>\n",
              "      <td>@behin_d_curtain Para mim, é precisamente o co...</td>\n",
              "      <td>1</td>\n",
              "    </tr>\n",
              "    <tr>\n",
              "      <th>2</th>\n",
              "      <td>Vou fazer um video hoje... estou pensando em f...</td>\n",
              "      <td>1</td>\n",
              "    </tr>\n",
              "    <tr>\n",
              "      <th>3</th>\n",
              "      <td>aaaaaaaa amei tanto essas polaroids, nem sei e...</td>\n",
              "      <td>1</td>\n",
              "    </tr>\n",
              "    <tr>\n",
              "      <th>4</th>\n",
              "      <td>Valoriza o coração do menininho que vc tem. El...</td>\n",
              "      <td>1</td>\n",
              "    </tr>\n",
              "  </tbody>\n",
              "</table>\n",
              "</div>"
            ],
            "text/plain": [
              "                                          tweet_text  sentiment\n",
              "0  @Laranjito76 A pessoa certa para isso seria o ...          1\n",
              "1  @behin_d_curtain Para mim, é precisamente o co...          1\n",
              "2  Vou fazer um video hoje... estou pensando em f...          1\n",
              "3  aaaaaaaa amei tanto essas polaroids, nem sei e...          1\n",
              "4  Valoriza o coração do menininho que vc tem. El...          1"
            ]
          },
          "execution_count": 9,
          "metadata": {},
          "output_type": "execute_result"
        }
      ],
      "source": [
        "base_treinamento.head()"
      ]
    },
    {
      "cell_type": "code",
      "execution_count": 10,
      "metadata": {
        "colab": {
          "base_uri": "https://localhost:8080/",
          "height": 271
        },
        "id": "dfMcmaval-7w",
        "outputId": "42f81c2f-9d7c-4a2e-9c4e-5c11df7938b2"
      },
      "outputs": [
        {
          "data": {
            "image/png": "[encoded data removed]",
            "text/plain": [
              "<Figure size 640x480 with 2 Axes>"
            ]
          },
          "metadata": {},
          "output_type": "display_data"
        }
      ],
      "source": [
        "sns.heatmap(pd.isnull(base_treinamento));"
      ]
    },
    {
      "cell_type": "markdown",
      "metadata": {
        "id": "KwANq9uCx-jV"
      },
      "source": [
        "## Base de teste"
      ]
    },
    {
      "cell_type": "code",
      "execution_count": 11,
      "metadata": {
        "id": "PllVVG-IlYkC"
      },
      "outputs": [],
      "source": [
        "base_teste = pd.read_csv('../data/Test.csv', delimiter=';')"
      ]
    },
    {
      "cell_type": "code",
      "execution_count": 12,
      "metadata": {
        "colab": {
          "base_uri": "https://localhost:8080/",
          "height": 337
        },
        "id": "yeiX7jb-lfdE",
        "outputId": "0afeeed2-7b43-4db6-8b8c-825d82bf0918"
      },
      "outputs": [
        {
          "data": {
            "text/html": [
              "<div>\n",
              "<style scoped>\n",
              "    .dataframe tbody tr th:only-of-type {\n",
              "        vertical-align: middle;\n",
              "    }\n",
              "\n",
              "    .dataframe tbody tr th {\n",
              "        vertical-align: top;\n",
              "    }\n",
              "\n",
              "    .dataframe thead th {\n",
              "        text-align: right;\n",
              "    }\n",
              "</style>\n",
              "<table border=\"1\" class=\"dataframe\">\n",
              "  <thead>\n",
              "    <tr style=\"text-align: right;\">\n",
              "      <th></th>\n",
              "      <th>id</th>\n",
              "      <th>tweet_text</th>\n",
              "      <th>tweet_date</th>\n",
              "      <th>sentiment</th>\n",
              "      <th>query_used</th>\n",
              "    </tr>\n",
              "  </thead>\n",
              "  <tbody>\n",
              "    <tr>\n",
              "      <th>0</th>\n",
              "      <td>1029536486021099522</td>\n",
              "      <td>@Gazo1a Nossa! Muito obrigada :)</td>\n",
              "      <td>Wed Aug 15 01:13:20 +0000 2018</td>\n",
              "      <td>1</td>\n",
              "      <td>:)</td>\n",
              "    </tr>\n",
              "    <tr>\n",
              "      <th>1</th>\n",
              "      <td>1029536496368406528</td>\n",
              "      <td>@BerzGamer vai pa puta que te pariu :)</td>\n",
              "      <td>Wed Aug 15 01:13:23 +0000 2018</td>\n",
              "      <td>1</td>\n",
              "      <td>:)</td>\n",
              "    </tr>\n",
              "    <tr>\n",
              "      <th>2</th>\n",
              "      <td>1029536531655131137</td>\n",
              "      <td>QUER MAIS DESCONTOS? (14/08) ⭐⭐⭐⭐⭐ 🌐 Confira n...</td>\n",
              "      <td>Wed Aug 15 01:13:31 +0000 2018</td>\n",
              "      <td>1</td>\n",
              "      <td>:)</td>\n",
              "    </tr>\n",
              "    <tr>\n",
              "      <th>3</th>\n",
              "      <td>1029536560117678081</td>\n",
              "      <td>EU VOU PEGAR VCS, ME AJUDEM GALERA, PELO AMOR ...</td>\n",
              "      <td>Wed Aug 15 01:13:38 +0000 2018</td>\n",
              "      <td>1</td>\n",
              "      <td>:)</td>\n",
              "    </tr>\n",
              "    <tr>\n",
              "      <th>4</th>\n",
              "      <td>1029536605852377088</td>\n",
              "      <td>Estávamos em casa do Zé e eu estava a morrer d...</td>\n",
              "      <td>Wed Aug 15 01:13:49 +0000 2018</td>\n",
              "      <td>1</td>\n",
              "      <td>:)</td>\n",
              "    </tr>\n",
              "  </tbody>\n",
              "</table>\n",
              "</div>"
            ],
            "text/plain": [
              "                    id                                         tweet_text  \\\n",
              "0  1029536486021099522                   @Gazo1a Nossa! Muito obrigada :)   \n",
              "1  1029536496368406528             @BerzGamer vai pa puta que te pariu :)   \n",
              "2  1029536531655131137  QUER MAIS DESCONTOS? (14/08) ⭐⭐⭐⭐⭐ 🌐 Confira n...   \n",
              "3  1029536560117678081  EU VOU PEGAR VCS, ME AJUDEM GALERA, PELO AMOR ...   \n",
              "4  1029536605852377088  Estávamos em casa do Zé e eu estava a morrer d...   \n",
              "\n",
              "                       tweet_date  sentiment query_used  \n",
              "0  Wed Aug 15 01:13:20 +0000 2018          1         :)  \n",
              "1  Wed Aug 15 01:13:23 +0000 2018          1         :)  \n",
              "2  Wed Aug 15 01:13:31 +0000 2018          1         :)  \n",
              "3  Wed Aug 15 01:13:38 +0000 2018          1         :)  \n",
              "4  Wed Aug 15 01:13:49 +0000 2018          1         :)  "
            ]
          },
          "execution_count": 12,
          "metadata": {},
          "output_type": "execute_result"
        }
      ],
      "source": [
        "base_teste.head()"
      ]
    },
    {
      "cell_type": "code",
      "execution_count": 13,
      "metadata": {
        "colab": {
          "base_uri": "https://localhost:8080/"
        },
        "id": "Lr5tKcjPlkQy",
        "outputId": "746663a7-7882-4300-970a-1ccd338037ad"
      },
      "outputs": [
        {
          "data": {
            "text/plain": [
              "(5000, 5)"
            ]
          },
          "execution_count": 13,
          "metadata": {},
          "output_type": "execute_result"
        }
      ],
      "source": [
        "base_teste.shape"
      ]
    },
    {
      "cell_type": "code",
      "execution_count": 14,
      "metadata": {
        "colab": {
          "base_uri": "https://localhost:8080/",
          "height": 334
        },
        "id": "uyU25iuZlnSP",
        "outputId": "d2304438-5f77-4d15-9895-02caf29de92d"
      },
      "outputs": [
        {
          "data": {
            "image/png": "[encoded data removed]",
            "text/plain": [
              "<Figure size 640x480 with 1 Axes>"
            ]
          },
          "metadata": {},
          "output_type": "display_data"
        }
      ],
      "source": [
        "sns.countplot(base_teste['sentiment'], label='Contagem');"
      ]
    },
    {
      "cell_type": "code",
      "execution_count": 15,
      "metadata": {
        "id": "gPgCCOZslxXy"
      },
      "outputs": [],
      "source": [
        "base_teste.drop(['id', 'tweet_date', 'query_used'], axis = 1, inplace=True)"
      ]
    },
    {
      "cell_type": "code",
      "execution_count": 16,
      "metadata": {
        "colab": {
          "base_uri": "https://localhost:8080/",
          "height": 206
        },
        "id": "5evaWMpvl1kg",
        "outputId": "271e8ed8-78f6-4f86-d244-96d0d58a65b4"
      },
      "outputs": [
        {
          "data": {
            "text/html": [
              "<div>\n",
              "<style scoped>\n",
              "    .dataframe tbody tr th:only-of-type {\n",
              "        vertical-align: middle;\n",
              "    }\n",
              "\n",
              "    .dataframe tbody tr th {\n",
              "        vertical-align: top;\n",
              "    }\n",
              "\n",
              "    .dataframe thead th {\n",
              "        text-align: right;\n",
              "    }\n",
              "</style>\n",
              "<table border=\"1\" class=\"dataframe\">\n",
              "  <thead>\n",
              "    <tr style=\"text-align: right;\">\n",
              "      <th></th>\n",
              "      <th>tweet_text</th>\n",
              "      <th>sentiment</th>\n",
              "    </tr>\n",
              "  </thead>\n",
              "  <tbody>\n",
              "    <tr>\n",
              "      <th>0</th>\n",
              "      <td>@Gazo1a Nossa! Muito obrigada :)</td>\n",
              "      <td>1</td>\n",
              "    </tr>\n",
              "    <tr>\n",
              "      <th>1</th>\n",
              "      <td>@BerzGamer vai pa puta que te pariu :)</td>\n",
              "      <td>1</td>\n",
              "    </tr>\n",
              "    <tr>\n",
              "      <th>2</th>\n",
              "      <td>QUER MAIS DESCONTOS? (14/08) ⭐⭐⭐⭐⭐ 🌐 Confira n...</td>\n",
              "      <td>1</td>\n",
              "    </tr>\n",
              "    <tr>\n",
              "      <th>3</th>\n",
              "      <td>EU VOU PEGAR VCS, ME AJUDEM GALERA, PELO AMOR ...</td>\n",
              "      <td>1</td>\n",
              "    </tr>\n",
              "    <tr>\n",
              "      <th>4</th>\n",
              "      <td>Estávamos em casa do Zé e eu estava a morrer d...</td>\n",
              "      <td>1</td>\n",
              "    </tr>\n",
              "  </tbody>\n",
              "</table>\n",
              "</div>"
            ],
            "text/plain": [
              "                                          tweet_text  sentiment\n",
              "0                   @Gazo1a Nossa! Muito obrigada :)          1\n",
              "1             @BerzGamer vai pa puta que te pariu :)          1\n",
              "2  QUER MAIS DESCONTOS? (14/08) ⭐⭐⭐⭐⭐ 🌐 Confira n...          1\n",
              "3  EU VOU PEGAR VCS, ME AJUDEM GALERA, PELO AMOR ...          1\n",
              "4  Estávamos em casa do Zé e eu estava a morrer d...          1"
            ]
          },
          "execution_count": 16,
          "metadata": {},
          "output_type": "execute_result"
        }
      ],
      "source": [
        "base_teste.head()"
      ]
    },
    {
      "cell_type": "code",
      "execution_count": 17,
      "metadata": {
        "colab": {
          "base_uri": "https://localhost:8080/",
          "height": 271
        },
        "id": "FYE-KGRkmZcd",
        "outputId": "711c850e-4e70-469b-9c2e-923fcd5b5021"
      },
      "outputs": [
        {
          "data": {
            "image/png": "[encoded data removed]",
            "text/plain": [
              "<Figure size 640x480 with 2 Axes>"
            ]
          },
          "metadata": {},
          "output_type": "display_data"
        }
      ],
      "source": [
        "sns.heatmap(pd.isnull(base_teste));"
      ]
    },
    {
      "cell_type": "markdown",
      "metadata": {
        "id": "h36-8Ien-AQ1"
      },
      "source": [
        "# Etapa 3: Função para pré-processamento dos textos\n",
        "\n",
        "- Letras minúsculas\n",
        "- Nome do usuário (@)\n",
        "- URLs\n",
        "- Espaços em branco\n",
        "- Emoticons\n",
        "- Stop words\n",
        "- Lematização\n",
        "- Pontuações"
      ]
    },
    {
      "cell_type": "code",
      "execution_count": 18,
      "metadata": {},
      "outputs": [],
      "source": [
        "base_treinamento = base_treinamento.sample(n=5000)"
      ]
    },
    {
      "cell_type": "code",
      "execution_count": 19,
      "metadata": {
        "colab": {
          "base_uri": "https://localhost:8080/"
        },
        "id": "gOur6ftJnKuP",
        "outputId": "f855ac6a-b18c-422f-8dee-dc98f2ea7eed"
      },
      "outputs": [
        {
          "data": {
            "text/plain": [
              "<spacy.lang.pt.Portuguese at 0x1bd4969f7c0>"
            ]
          },
          "execution_count": 19,
          "metadata": {},
          "output_type": "execute_result"
        }
      ],
      "source": [
        "spacy.prefer_gpu()\n",
        "pln = spacy.load(\"pt_core_news_sm\")\n",
        "pln"
      ]
    },
    {
      "cell_type": "code",
      "execution_count": 20,
      "metadata": {
        "id": "z6-JRv8Ynayt"
      },
      "outputs": [],
      "source": [
        "stop_words = spacy.lang.pt.stop_words.STOP_WORDS"
      ]
    },
    {
      "cell_type": "code",
      "execution_count": 21,
      "metadata": {
        "colab": {
          "base_uri": "https://localhost:8080/"
        },
        "id": "QqMa61Qwnj4c",
        "outputId": "1ac5f0a9-7afd-42f8-9b2b-38889d4c0d43"
      },
      "outputs": [
        {
          "name": "stdout",
          "output_type": "stream",
          "text": [
            "{'dizer', 'ele', 'foi', 'para', 'nós', 'atrás', 'mês', 'nesse', 'ter', 'maiorias', 'fazes', 'conhecida', 'oitava', 'dez', 'quando', 'deverá', 'demais', 'neste', 'longe', 'ambas', 'entre', 'oitavo', 'sois', 'quinta', 'és', 'minhas', 'te', 'for', 'todo', 'após', 'novos', 'comprida', 'alguns', 'irá', 'muitos', 'fora', 'inicio', 'ou', 'estava', 'dezassete', 'porque', 'aqueles', 'agora', 'pelas', 'último', 'aquele', 'perto', 'tem', 'usar', 'vossa', 'faz', 'aquela', 'tipo', 'obrigada', 'uma', 'vossos', 'uns', 'dão', 'ademais', 'teus', 'esteve', 'apoia', 'naquele', 'tiveram', 'estes', 'pois', 'novas', 'dezasseis', 'custa', 'posso', 'umas', 'vai', 'foste', 'ali', 'parte', 'momento', 'estiveram', 'aquelas', 'era', 'me', 'nem', 'área', 'dá', 'deste', 'fazer', 'teve', 'mais', 'que', 'conselho', 'dizem', 'tentar', 'numa', 'cuja', 'cujo', 'desde', 'primeiro', 'dos', 'desse', 'num', 'sim', 'sou', 'vos', 'bom', 'bastante', 'com', 'suas', 'tua', 'vem', 'seria', 'estou', 'sétimo', 'vocês', 'segunda', 'logo', 'tente', 'dezoito', 'tendes', 'valor', 'primeira', 'mil', 'tentei', 'tanto', 'toda', 'esses', 'lhe', 'faço', 'corrente', 'ainda', 'quem', 'tenho', 'doze', 'baixo', 'no', 'vezes', 'vêm', 'local', 'estará', 'nenhuma', 'antes', 'tempo', 'qualquer', 'fazia', 'tentaram', 'isso', 'oito', 'nosso', 'onde', 'vinte', 'estado', 'somos', 'apoio', 'tarde', 'tais', 'um', 'portanto', 'estás', 'zero', 'todas', 'fez', 'três', 'através', 'quê', 'ambos', 'lá', 'nível', 'máximo', 'boa', 'vossas', 'menos', 'meus', 'nove', 'vens', 'puderam', 'porquanto', 'tanta', 'sete', 'tu', 'daquela', 'cada', 'usa', 'como', 'pôde', 'dois', 'certamente', 'têm', 'adeus', 'conhecido', 'temos', 'até', 'apenas', 'põe', 'fará', 'nova', 'quarto', 'sem', 'vez', 'pode', 'diante', 'sexto', 'são', 'sob', 'depois', 'caminho', 'certeza', 'devem', 'fim', 'estar', 'talvez', 'segundo', 'nessa', 'esse', 'acerca', 'tudo', 'partir', 'desta', 'de', 'próximo', 'nossos', 'mesmo', 'não', 'saber', 'estão', 'este', 'aos', 'à', 'às', 'todos', 'já', 'vós', 'quinto', 'querem', 'apontar', 'outros', 'mas', 'esta', 'contudo', 'só', 'tens', 'dentro', 'sistema', 'porquê', 'seus', 'forma', 'estas', 'meio', 'terceiro', 'poder', 'disso', 'nos', 'ligado', 'tive', 'ponto', 'posição', 'as', 'eventual', 'essas', 'quarta', 'breve', 'tivemos', 'pegar', 'menor', 'cedo', 'relação', 'direita', 'aí', 'sempre', 'final', 'ser', 'quanto', 'isto', 'sei', 'teu', 'se', 'somente', 'vosso', 'cinco', 'números', 'pouco', 'parece', 'vários', 'deve', 'quinze', 'mal', 'quero', 'maior', 'próxima', 'quer', 'nas', 'estivestes', 'maioria', 'falta', 'seu', 'na', 'pela', 'minha', 'podia', 'povo', 'da', 'por', 'quieta', 'possivelmente', 'inclusive', 'cá', 'eu', 'coisa', 'vinda', 'nunca', 'veja', 'sexta', 'contra', 'grupo', 'essa', 'então', 'vais', 'exemplo', 'porém', 'próprio', 'vão', 'possível', 'sobre', 'tal', 'novo', 'quatro', 'dessa', 'dezanove', 'debaixo', 'eles', 'outra', 'obrigado', 'favor', 'assim', 'embora', 'daquele', 'qual', 'põem', 'nada', 'pelo', 'cima', 'ir', 'quieto', 'comprido', 'está', 'onze', 'grandes', 'das', 'dar', 'naquela', 'elas', 'lugar', 'foram', 'pelos', 'ela', 'bem', 'treze', 'sabe', 'estivemos', 'estiveste', 'outras', 'vindo', 'meu', 'des', 'terceira', 'nesta', 'ao', 'podem', 'cento', 'ora', 'pontos', 'aqui', 'duas', 'os', 'sétima', 'também', 'ontem', 'fazemos', 'tuas', 'nuns', 'nossa', 'tivestes', 'muito', 'número', 'algo', 'além', 'lado', 'grande', 'pouca', 'ver', 'questão', 'fazem', 'aquilo', 'seis', 'você', 'sua', 'quais', 'é', 'tão', 'iniciar', 'fazeis', 'do', 'diz', 'nossas', 'em', 'fostes', 'enquanto', 'geral', 'poderá', 'meses', 'algumas', 'fomos', 'fui', 'catorze', 'estive', 'tiveste'}\n"
          ]
        }
      ],
      "source": [
        "print(stop_words)"
      ]
    },
    {
      "cell_type": "code",
      "execution_count": 22,
      "metadata": {
        "colab": {
          "base_uri": "https://localhost:8080/",
          "height": 35
        },
        "id": "n1lFJDhJnoth",
        "outputId": "3097019f-2793-4755-b2d7-5b57ad8325cc"
      },
      "outputs": [
        {
          "data": {
            "text/plain": [
              "'!\"#$%&\\'()*+,-./:;<=>?@[\\\\]^_`{|}~'"
            ]
          },
          "execution_count": 22,
          "metadata": {},
          "output_type": "execute_result"
        }
      ],
      "source": [
        "string.punctuation"
      ]
    },
    {
      "cell_type": "code",
      "execution_count": 23,
      "metadata": {
        "id": "rS9ldTSJnsMb"
      },
      "outputs": [],
      "source": [
        "def preprocessamento(texto):\n",
        "  # Letras minúsculas\n",
        "  texto = texto.lower()\n",
        "\n",
        "  # Nome do usuário\n",
        "  texto = re.sub(r\"@[A-Za-z0-9$-_@.&+]+\", ' ', texto)\n",
        "\n",
        "  # URLs\n",
        "  texto = re.sub(r\"https?://[A-Za-z0-9./]+\", ' ', texto)\n",
        "\n",
        "  # Espaços em branco\n",
        "  texto = re.sub(r\" +\", ' ', texto)\n",
        "\n",
        "  # Emoticons\n",
        "  lista_emocoes = {':)': 'emocaopositiva',\n",
        "                   ':d': 'emocaopositiva',\n",
        "                   ':(': 'emocaonegativa'}\n",
        "  for emocao in lista_emocoes:\n",
        "    texto = texto.replace(emocao, lista_emocoes[emocao])\n",
        "\n",
        "  # Lematização\n",
        "  documento = pln(texto)\n",
        "\n",
        "  lista = []\n",
        "  for token in documento:\n",
        "    lista.append(token.lemma_)\n",
        "\n",
        "  # Stop words e pontuações\n",
        "  lista = [palavra for palavra in lista if palavra not in stop_words and palavra not in string.punctuation]\n",
        "  lista = ' '.join([str(elemento) for elemento in lista if not elemento.isdigit()])\n",
        "\n",
        "  return lista"
      ]
    },
    {
      "cell_type": "code",
      "execution_count": 24,
      "metadata": {
        "colab": {
          "base_uri": "https://localhost:8080/",
          "height": 53
        },
        "id": "iIy-2X18n0G8",
        "outputId": "5793abee-31f4-4982-ad25-c576df73bc88"
      },
      "outputs": [
        {
          "data": {
            "text/plain": [
              "'  emocaopositiva parir emocaonegativa mim precisamente o contrário emocaopositiva vir o chuva e vir o disposição emocaopositiva'"
            ]
          },
          "execution_count": 24,
          "metadata": {},
          "output_type": "execute_result"
        }
      ],
      "source": [
        "texto_teste = '@behin_d_curtain :D Para :( mim, http://www.iaexpert.com.br é precisamente o contrário :) Vem a chuva e vem a boa disposição :)'\n",
        "resultado = preprocessamento(texto_teste)\n",
        "resultado"
      ]
    },
    {
      "cell_type": "markdown",
      "metadata": {
        "id": "DtL8DBPVOFoL"
      },
      "source": [
        "# Etapa 4: Pré-processamento da base de dados"
      ]
    },
    {
      "cell_type": "markdown",
      "metadata": {
        "id": "n7G5PSVUOOId"
      },
      "source": [
        "### Limpeza dos textos"
      ]
    },
    {
      "cell_type": "code",
      "execution_count": 25,
      "metadata": {
        "colab": {
          "base_uri": "https://localhost:8080/",
          "height": 363
        },
        "id": "o3zrf-ytssZb",
        "outputId": "d537b39f-8224-4ef2-9bf1-0439c4150bee"
      },
      "outputs": [
        {
          "data": {
            "text/html": [
              "<div>\n",
              "<style scoped>\n",
              "    .dataframe tbody tr th:only-of-type {\n",
              "        vertical-align: middle;\n",
              "    }\n",
              "\n",
              "    .dataframe tbody tr th {\n",
              "        vertical-align: top;\n",
              "    }\n",
              "\n",
              "    .dataframe thead th {\n",
              "        text-align: right;\n",
              "    }\n",
              "</style>\n",
              "<table border=\"1\" class=\"dataframe\">\n",
              "  <thead>\n",
              "    <tr style=\"text-align: right;\">\n",
              "      <th></th>\n",
              "      <th>tweet_text</th>\n",
              "      <th>sentiment</th>\n",
              "    </tr>\n",
              "  </thead>\n",
              "  <tbody>\n",
              "    <tr>\n",
              "      <th>31320</th>\n",
              "      <td>Antes de levarem a gente pros campos de concen...</td>\n",
              "      <td>0</td>\n",
              "    </tr>\n",
              "    <tr>\n",
              "      <th>23682</th>\n",
              "      <td>@luqizilla Parabéns ai cachorrão de diamante, ...</td>\n",
              "      <td>1</td>\n",
              "    </tr>\n",
              "    <tr>\n",
              "      <th>11060</th>\n",
              "      <td>@VargasZanchetta dinheiro mais bem gasto em um...</td>\n",
              "      <td>1</td>\n",
              "    </tr>\n",
              "    <tr>\n",
              "      <th>11116</th>\n",
              "      <td>@lovatolorde que poc burra como q eu vou votar...</td>\n",
              "      <td>1</td>\n",
              "    </tr>\n",
              "    <tr>\n",
              "      <th>15616</th>\n",
              "      <td>Aproveitem o dia 3 de outubro numa quarta para...</td>\n",
              "      <td>1</td>\n",
              "    </tr>\n",
              "    <tr>\n",
              "      <th>31097</th>\n",
              "      <td>Quando eu lembro que agora só tem pomeras no d...</td>\n",
              "      <td>0</td>\n",
              "    </tr>\n",
              "    <tr>\n",
              "      <th>9126</th>\n",
              "      <td>A bermuda que eu mais uso manchada de água san...</td>\n",
              "      <td>1</td>\n",
              "    </tr>\n",
              "    <tr>\n",
              "      <th>9848</th>\n",
              "      <td>@queenbriny Boa Noite :P</td>\n",
              "      <td>1</td>\n",
              "    </tr>\n",
              "    <tr>\n",
              "      <th>49517</th>\n",
              "      <td>to triste e com saudade :( meu instinto eh ir ...</td>\n",
              "      <td>0</td>\n",
              "    </tr>\n",
              "    <tr>\n",
              "      <th>32912</th>\n",
              "      <td>queria só um limão :((</td>\n",
              "      <td>0</td>\n",
              "    </tr>\n",
              "  </tbody>\n",
              "</table>\n",
              "</div>"
            ],
            "text/plain": [
              "                                              tweet_text  sentiment\n",
              "31320  Antes de levarem a gente pros campos de concen...          0\n",
              "23682  @luqizilla Parabéns ai cachorrão de diamante, ...          1\n",
              "11060  @VargasZanchetta dinheiro mais bem gasto em um...          1\n",
              "11116  @lovatolorde que poc burra como q eu vou votar...          1\n",
              "15616  Aproveitem o dia 3 de outubro numa quarta para...          1\n",
              "31097  Quando eu lembro que agora só tem pomeras no d...          0\n",
              "9126   A bermuda que eu mais uso manchada de água san...          1\n",
              "9848                            @queenbriny Boa Noite :P          1\n",
              "49517  to triste e com saudade :( meu instinto eh ir ...          0\n",
              "32912                             queria só um limão :((          0"
            ]
          },
          "execution_count": 25,
          "metadata": {},
          "output_type": "execute_result"
        }
      ],
      "source": [
        "base_treinamento.head(10)"
      ]
    },
    {
      "cell_type": "code",
      "execution_count": 26,
      "metadata": {
        "id": "SNSsbuMis0-d"
      },
      "outputs": [],
      "source": [
        "base_treinamento['tweet_text'] = base_treinamento['tweet_text'].apply(preprocessamento)"
      ]
    },
    {
      "cell_type": "code",
      "execution_count": 27,
      "metadata": {
        "colab": {
          "base_uri": "https://localhost:8080/",
          "height": 363
        },
        "id": "wR742NJLusfy",
        "outputId": "ccf5564e-eb6a-4737-b537-8297f3a13639"
      },
      "outputs": [
        {
          "data": {
            "text/html": [
              "<div>\n",
              "<style scoped>\n",
              "    .dataframe tbody tr th:only-of-type {\n",
              "        vertical-align: middle;\n",
              "    }\n",
              "\n",
              "    .dataframe tbody tr th {\n",
              "        vertical-align: top;\n",
              "    }\n",
              "\n",
              "    .dataframe thead th {\n",
              "        text-align: right;\n",
              "    }\n",
              "</style>\n",
              "<table border=\"1\" class=\"dataframe\">\n",
              "  <thead>\n",
              "    <tr style=\"text-align: right;\">\n",
              "      <th></th>\n",
              "      <th>tweet_text</th>\n",
              "      <th>sentiment</th>\n",
              "    </tr>\n",
              "  </thead>\n",
              "  <tbody>\n",
              "    <tr>\n",
              "      <th>31320</th>\n",
              "      <td>antar levar o gente pros campo concentração vi...</td>\n",
              "      <td>0</td>\n",
              "    </tr>\n",
              "    <tr>\n",
              "      <th>23682</th>\n",
              "      <td>parabém ai cachorrão diamante felicidade pdl...</td>\n",
              "      <td>1</td>\n",
              "    </tr>\n",
              "    <tr>\n",
              "      <th>11060</th>\n",
              "      <td>dinheiro gastar emocaopositiva comprar budwe...</td>\n",
              "      <td>1</td>\n",
              "    </tr>\n",
              "    <tr>\n",
              "      <th>11116</th>\n",
              "      <td>poc burro comer q votar o bolsonaro emocaopo...</td>\n",
              "      <td>1</td>\n",
              "    </tr>\n",
              "    <tr>\n",
              "      <th>15616</th>\n",
              "      <td>aproveitar o dia outubro parir forçar o campan...</td>\n",
              "      <td>1</td>\n",
              "    </tr>\n",
              "    <tr>\n",
              "      <th>31097</th>\n",
              "      <td>lembrar pomeras o domingo emocaonegativa</td>\n",
              "      <td>0</td>\n",
              "    </tr>\n",
              "    <tr>\n",
              "      <th>9126</th>\n",
              "      <td>o bermuda manchar água sanitário emocaopositiva</td>\n",
              "      <td>1</td>\n",
              "    </tr>\n",
              "    <tr>\n",
              "      <th>9848</th>\n",
              "      <td>noite :p</td>\n",
              "      <td>1</td>\n",
              "    </tr>\n",
              "    <tr>\n",
              "      <th>49517</th>\n",
              "      <td>to triste e saudade emocaonegativa instinto eh...</td>\n",
              "      <td>0</td>\n",
              "    </tr>\n",
              "    <tr>\n",
              "      <th>32912</th>\n",
              "      <td>querer limão emocaonegativa</td>\n",
              "      <td>0</td>\n",
              "    </tr>\n",
              "  </tbody>\n",
              "</table>\n",
              "</div>"
            ],
            "text/plain": [
              "                                              tweet_text  sentiment\n",
              "31320  antar levar o gente pros campo concentração vi...          0\n",
              "23682    parabém ai cachorrão diamante felicidade pdl...          1\n",
              "11060    dinheiro gastar emocaopositiva comprar budwe...          1\n",
              "11116    poc burro comer q votar o bolsonaro emocaopo...          1\n",
              "15616  aproveitar o dia outubro parir forçar o campan...          1\n",
              "31097           lembrar pomeras o domingo emocaonegativa          0\n",
              "9126     o bermuda manchar água sanitário emocaopositiva          1\n",
              "9848                                            noite :p          1\n",
              "49517  to triste e saudade emocaonegativa instinto eh...          0\n",
              "32912                        querer limão emocaonegativa          0"
            ]
          },
          "execution_count": 27,
          "metadata": {},
          "output_type": "execute_result"
        }
      ],
      "source": [
        "base_treinamento.head(10)"
      ]
    },
    {
      "cell_type": "code",
      "execution_count": 28,
      "metadata": {
        "id": "DI1GvLX1uyr4"
      },
      "outputs": [],
      "source": [
        "base_teste['tweet_text'] = base_teste['tweet_text'].apply(preprocessamento)"
      ]
    },
    {
      "cell_type": "code",
      "execution_count": 29,
      "metadata": {
        "colab": {
          "base_uri": "https://localhost:8080/",
          "height": 363
        },
        "id": "jTGab2hXvGSr",
        "outputId": "cd4a549a-7bf9-4aa8-edfd-bc739264a4b7"
      },
      "outputs": [
        {
          "data": {
            "text/html": [
              "<div>\n",
              "<style scoped>\n",
              "    .dataframe tbody tr th:only-of-type {\n",
              "        vertical-align: middle;\n",
              "    }\n",
              "\n",
              "    .dataframe tbody tr th {\n",
              "        vertical-align: top;\n",
              "    }\n",
              "\n",
              "    .dataframe thead th {\n",
              "        text-align: right;\n",
              "    }\n",
              "</style>\n",
              "<table border=\"1\" class=\"dataframe\">\n",
              "  <thead>\n",
              "    <tr style=\"text-align: right;\">\n",
              "      <th></th>\n",
              "      <th>tweet_text</th>\n",
              "      <th>sentiment</th>\n",
              "    </tr>\n",
              "  </thead>\n",
              "  <tbody>\n",
              "    <tr>\n",
              "      <th>0</th>\n",
              "      <td>obrigar emocaopositiva</td>\n",
              "      <td>1</td>\n",
              "    </tr>\n",
              "    <tr>\n",
              "      <th>1</th>\n",
              "      <td>pa puta parir emocaopositiva</td>\n",
              "      <td>1</td>\n",
              "    </tr>\n",
              "    <tr>\n",
              "      <th>2</th>\n",
              "      <td>querer desconto 14/08 ⭐ ⭐ ⭐ ⭐ ⭐ 🌐 conferir o l...</td>\n",
              "      <td>1</td>\n",
              "    </tr>\n",
              "    <tr>\n",
              "      <th>3</th>\n",
              "      <td>vcs ajudar galera pelar amor butera emocaoposi...</td>\n",
              "      <td>1</td>\n",
              "    </tr>\n",
              "    <tr>\n",
              "      <th>4</th>\n",
              "      <td>casar zé e o morrer sono chegar o casar e fica...</td>\n",
              "      <td>1</td>\n",
              "    </tr>\n",
              "    <tr>\n",
              "      <th>5</th>\n",
              "      <td>preciso emocaopositiva</td>\n",
              "      <td>1</td>\n",
              "    </tr>\n",
              "    <tr>\n",
              "      <th>6</th>\n",
              "      <td>acaso adorar beijo e abraço hahahahaha bue f...</td>\n",
              "      <td>1</td>\n",
              "    </tr>\n",
              "    <tr>\n",
              "      <th>7</th>\n",
              "      <td>solteiro s emocaopositiva</td>\n",
              "      <td>1</td>\n",
              "    </tr>\n",
              "    <tr>\n",
              "      <th>8</th>\n",
              "      <td>lindeza cortador kit mário coleção bia cravol ...</td>\n",
              "      <td>1</td>\n",
              "    </tr>\n",
              "    <tr>\n",
              "      <th>9</th>\n",
              "      <td>claro emocaopositiva</td>\n",
              "      <td>1</td>\n",
              "    </tr>\n",
              "  </tbody>\n",
              "</table>\n",
              "</div>"
            ],
            "text/plain": [
              "                                          tweet_text  sentiment\n",
              "0                             obrigar emocaopositiva          1\n",
              "1                       pa puta parir emocaopositiva          1\n",
              "2  querer desconto 14/08 ⭐ ⭐ ⭐ ⭐ ⭐ 🌐 conferir o l...          1\n",
              "3  vcs ajudar galera pelar amor butera emocaoposi...          1\n",
              "4  casar zé e o morrer sono chegar o casar e fica...          1\n",
              "5                             preciso emocaopositiva          1\n",
              "6    acaso adorar beijo e abraço hahahahaha bue f...          1\n",
              "7                          solteiro s emocaopositiva          1\n",
              "8  lindeza cortador kit mário coleção bia cravol ...          1\n",
              "9                               claro emocaopositiva          1"
            ]
          },
          "execution_count": 29,
          "metadata": {},
          "output_type": "execute_result"
        }
      ],
      "source": [
        "base_teste.head(10)"
      ]
    },
    {
      "cell_type": "markdown",
      "metadata": {
        "id": "trA39YO4PcFp"
      },
      "source": [
        "### Tratamento da classe"
      ]
    },
    {
      "cell_type": "code",
      "execution_count": 30,
      "metadata": {
        "id": "SPPY0MlIYoTR"
      },
      "outputs": [],
      "source": [
        "exemplo_base_dados = [[\"este trabalho é agradável\", {\"POSITIVO\": True, \"NEGATIVO\": False}],\n",
        "                      [\"este lugar continua assustador\", {\"POSITIVO\": False, \"NEGATIVO\": True}]]"
      ]
    },
    {
      "cell_type": "code",
      "execution_count": 31,
      "metadata": {
        "id": "TH31QeqEyrub"
      },
      "outputs": [],
      "source": [
        "base_dados_treinamento_final = []\n",
        "for texto, emocao in zip(base_treinamento['tweet_text'], base_treinamento['sentiment']):\n",
        "  if emocao == 1:\n",
        "    dic = ({'POSITIVO': True, 'NEGATIVO': False})\n",
        "  elif emocao == 0:\n",
        "    dic = ({'POSITIVO': False, 'NEGATIVO': True})\n",
        "\n",
        "  base_dados_treinamento_final.append([texto, dic.copy()])"
      ]
    },
    {
      "cell_type": "code",
      "execution_count": 32,
      "metadata": {
        "colab": {
          "base_uri": "https://localhost:8080/"
        },
        "id": "kwFKyNZM2TFj",
        "outputId": "8a87a805-4c0e-4727-e9cc-963a2828b7f4"
      },
      "outputs": [
        {
          "data": {
            "text/plain": [
              "5000"
            ]
          },
          "execution_count": 32,
          "metadata": {},
          "output_type": "execute_result"
        }
      ],
      "source": [
        "len(base_dados_treinamento_final)"
      ]
    },
    {
      "cell_type": "code",
      "execution_count": 33,
      "metadata": {
        "colab": {
          "base_uri": "https://localhost:8080/"
        },
        "id": "_3D9UkMI2W60",
        "outputId": "34bffa97-d186-401e-ef5c-e84c4e6f553c"
      },
      "outputs": [
        {
          "data": {
            "text/plain": [
              "[['querer morar emocaonegativa', {'POSITIVO': False, 'NEGATIVO': True}],\n",
              " ['  yaaas apelidar happy vírus poxa emocaonegativa',\n",
              "  {'POSITIVO': False, 'NEGATIVO': True}],\n",
              " ['  antonieta tá o vibe odisseia ... tá chato escolher emocaonegativa',\n",
              "  {'POSITIVO': False, 'NEGATIVO': True}],\n",
              " ['  foder emocaonegativa', {'POSITIVO': False, 'NEGATIVO': True}],\n",
              " ['ave maria saudade amor emocaonegativa',\n",
              "  {'POSITIVO': False, 'NEGATIVO': True}]]"
            ]
          },
          "execution_count": 33,
          "metadata": {},
          "output_type": "execute_result"
        }
      ],
      "source": [
        "base_dados_treinamento_final[10:15]"
      ]
    },
    {
      "cell_type": "code",
      "execution_count": 34,
      "metadata": {
        "colab": {
          "base_uri": "https://localhost:8080/"
        },
        "id": "E8C-_9AB2fEM",
        "outputId": "884b04a0-b0ff-4337-df15-37808ee6f891"
      },
      "outputs": [
        {
          "data": {
            "text/plain": [
              "[]"
            ]
          },
          "execution_count": 34,
          "metadata": {},
          "output_type": "execute_result"
        }
      ],
      "source": [
        "base_dados_treinamento_final[45000:45005]"
      ]
    },
    {
      "cell_type": "markdown",
      "metadata": {
        "id": "5mc19ZByUNsu"
      },
      "source": [
        "# Etapa 5: Criação do classificador"
      ]
    },
    {
      "cell_type": "code",
      "execution_count": 35,
      "metadata": {
        "id": "YnZ1orji7Iv8"
      },
      "outputs": [],
      "source": [
        "modelo = spacy.blank('pt')\n",
        "categorias = modelo.create_pipe(\"textcat\")\n",
        "categorias.add_label(\"POSITIVO\")\n",
        "categorias.add_label(\"NEGATIVO\")\n",
        "modelo.add_pipe(categorias)\n",
        "historico = []"
      ]
    },
    {
      "cell_type": "code",
      "execution_count": 36,
      "metadata": {
        "colab": {
          "base_uri": "https://localhost:8080/"
        },
        "id": "3jlGvLEz764Y",
        "outputId": "b60cbfc1-bbc9-4cbd-bced-c27ff62764d8"
      },
      "outputs": [
        {
          "name": "stdout",
          "output_type": "stream",
          "text": [
            "{'textcat': 1.4545368060225883e-05}\n",
            "{'textcat': 5.279939990776583e-08}\n",
            "{'textcat': 3.23153887538119e-08}\n",
            "{'textcat': 3.1457299237702685e-08}\n"
          ]
        }
      ],
      "source": [
        "modelo.begin_training()\n",
        "for epoca in range(20):\n",
        "  random.shuffle(base_dados_treinamento_final)\n",
        "  losses = {}\n",
        "  for batch in spacy.util.minibatch(base_dados_treinamento_final, 512):\n",
        "    textos = [modelo(texto) for texto, entities in batch]\n",
        "    annotations = [{'cats': entities} for texto, entities in batch]\n",
        "    modelo.update(textos, annotations, losses=losses)\n",
        "    historico.append(losses)\n",
        "  if epoca % 5 == 0:\n",
        "    print(losses)"
      ]
    },
    {
      "cell_type": "code",
      "execution_count": 37,
      "metadata": {
        "id": "wSe-tDsCAciN"
      },
      "outputs": [],
      "source": [
        "historico_loss = []\n",
        "for i in historico:\n",
        "  historico_loss.append(i.get('textcat'))"
      ]
    },
    {
      "cell_type": "code",
      "execution_count": 38,
      "metadata": {
        "colab": {
          "base_uri": "https://localhost:8080/"
        },
        "id": "ShJhtbYtAr50",
        "outputId": "e43de8ac-a57f-4e3b-e686-daec743ac35c"
      },
      "outputs": [
        {
          "data": {
            "text/plain": [
              "array([1.45453681e-05, 1.45453681e-05, 1.45453681e-05, 1.45453681e-05,\n",
              "       1.45453681e-05, 1.45453681e-05, 1.45453681e-05, 1.45453681e-05,\n",
              "       1.45453681e-05, 1.45453681e-05, 1.30176731e-06, 1.30176731e-06,\n",
              "       1.30176731e-06, 1.30176731e-06, 1.30176731e-06, 1.30176731e-06,\n",
              "       1.30176731e-06, 1.30176731e-06, 1.30176731e-06, 1.30176731e-06,\n",
              "       1.98967727e-07, 1.98967727e-07, 1.98967727e-07, 1.98967727e-07,\n",
              "       1.98967727e-07, 1.98967727e-07, 1.98967727e-07, 1.98967727e-07,\n",
              "       1.98967727e-07, 1.98967727e-07, 9.49485487e-08, 9.49485487e-08,\n",
              "       9.49485487e-08, 9.49485487e-08, 9.49485487e-08, 9.49485487e-08,\n",
              "       9.49485487e-08, 9.49485487e-08, 9.49485487e-08, 9.49485487e-08,\n",
              "       6.73050169e-08, 6.73050169e-08, 6.73050169e-08, 6.73050169e-08,\n",
              "       6.73050169e-08, 6.73050169e-08, 6.73050169e-08, 6.73050169e-08,\n",
              "       6.73050169e-08, 6.73050169e-08, 5.27993999e-08, 5.27993999e-08,\n",
              "       5.27993999e-08, 5.27993999e-08, 5.27993999e-08, 5.27993999e-08,\n",
              "       5.27993999e-08, 5.27993999e-08, 5.27993999e-08, 5.27993999e-08,\n",
              "       4.10443871e-08, 4.10443871e-08, 4.10443871e-08, 4.10443871e-08,\n",
              "       4.10443871e-08, 4.10443871e-08, 4.10443871e-08, 4.10443871e-08,\n",
              "       4.10443871e-08, 4.10443871e-08, 3.50687871e-08, 3.50687871e-08,\n",
              "       3.50687871e-08, 3.50687871e-08, 3.50687871e-08, 3.50687871e-08,\n",
              "       3.50687871e-08, 3.50687871e-08, 3.50687871e-08, 3.50687871e-08,\n",
              "       3.33147640e-08, 3.33147640e-08, 3.33147640e-08, 3.33147640e-08,\n",
              "       3.33147640e-08, 3.33147640e-08, 3.33147640e-08, 3.33147640e-08,\n",
              "       3.33147640e-08, 3.33147640e-08, 3.29583675e-08, 3.29583675e-08,\n",
              "       3.29583675e-08, 3.29583675e-08, 3.29583675e-08, 3.29583675e-08,\n",
              "       3.29583675e-08, 3.29583675e-08, 3.29583675e-08, 3.29583675e-08,\n",
              "       3.23153888e-08, 3.23153888e-08, 3.23153888e-08, 3.23153888e-08,\n",
              "       3.23153888e-08, 3.23153888e-08, 3.23153888e-08, 3.23153888e-08,\n",
              "       3.23153888e-08, 3.23153888e-08, 5.02523449e-08, 5.02523449e-08,\n",
              "       5.02523449e-08, 5.02523449e-08, 5.02523449e-08, 5.02523449e-08,\n",
              "       5.02523449e-08, 5.02523449e-08, 5.02523449e-08, 5.02523449e-08,\n",
              "       3.17916150e-08, 3.17916150e-08, 3.17916150e-08, 3.17916150e-08,\n",
              "       3.17916150e-08, 3.17916150e-08, 3.17916150e-08, 3.17916150e-08,\n",
              "       3.17916150e-08, 3.17916150e-08, 3.17399621e-08, 3.17399621e-08,\n",
              "       3.17399621e-08, 3.17399621e-08, 3.17399621e-08, 3.17399621e-08,\n",
              "       3.17399621e-08, 3.17399621e-08, 3.17399621e-08, 3.17399621e-08,\n",
              "       4.98872128e-08, 4.98872128e-08, 4.98872128e-08, 4.98872128e-08,\n",
              "       4.98872128e-08, 4.98872128e-08, 4.98872128e-08, 4.98872128e-08,\n",
              "       4.98872128e-08, 4.98872128e-08, 3.14572992e-08, 3.14572992e-08,\n",
              "       3.14572992e-08, 3.14572992e-08, 3.14572992e-08, 3.14572992e-08,\n",
              "       3.14572992e-08, 3.14572992e-08, 3.14572992e-08, 3.14572992e-08,\n",
              "       3.13394955e-08, 3.13394955e-08, 3.13394955e-08, 3.13394955e-08,\n",
              "       3.13394955e-08, 3.13394955e-08, 3.13394955e-08, 3.13394955e-08,\n",
              "       3.13394955e-08, 3.13394955e-08, 3.11122882e-08, 3.11122882e-08,\n",
              "       3.11122882e-08, 3.11122882e-08, 3.11122882e-08, 3.11122882e-08,\n",
              "       3.11122882e-08, 3.11122882e-08, 3.11122882e-08, 3.11122882e-08,\n",
              "       4.93461759e-08, 4.93461759e-08, 4.93461759e-08, 4.93461759e-08,\n",
              "       4.93461759e-08, 4.93461759e-08, 4.93461759e-08, 4.93461759e-08,\n",
              "       4.93461759e-08, 4.93461759e-08, 3.09293771e-08, 3.09293771e-08,\n",
              "       3.09293771e-08, 3.09293771e-08, 3.09293771e-08, 3.09293771e-08,\n",
              "       3.09293771e-08, 3.09293771e-08, 3.09293771e-08, 3.09293771e-08])"
            ]
          },
          "execution_count": 38,
          "metadata": {},
          "output_type": "execute_result"
        }
      ],
      "source": [
        "historico_loss = np.array(historico_loss)\n",
        "historico_loss"
      ]
    },
    {
      "cell_type": "code",
      "execution_count": 39,
      "metadata": {
        "colab": {
          "base_uri": "https://localhost:8080/",
          "height": 312
        },
        "id": "6lEL-QoBA0KI",
        "outputId": "4f76b8fd-292e-48f9-beec-e593ddf69aec"
      },
      "outputs": [
        {
          "data": {
            "text/plain": [
              "Text(0, 0.5, 'Erro')"
            ]
          },
          "execution_count": 39,
          "metadata": {},
          "output_type": "execute_result"
        },
        {
          "data": {
            "image/png": "[encoded data removed]",
            "text/plain": [
              "<Figure size 640x480 with 1 Axes>"
            ]
          },
          "metadata": {},
          "output_type": "display_data"
        }
      ],
      "source": [
        "import matplotlib.pyplot as plt\n",
        "plt.plot(historico_loss)\n",
        "plt.title('Progressão do erro')\n",
        "plt.xlabel('Batches')\n",
        "plt.ylabel('Erro')"
      ]
    },
    {
      "cell_type": "code",
      "execution_count": 40,
      "metadata": {
        "id": "amNE8xy_BPSF"
      },
      "outputs": [],
      "source": [
        "modelo.to_disk(\"modelo\")"
      ]
    },
    {
      "cell_type": "markdown",
      "metadata": {
        "id": "ePMk8G0Dl6wg"
      },
      "source": [
        "# Etapa 6: Testes com uma frase"
      ]
    },
    {
      "cell_type": "code",
      "execution_count": 41,
      "metadata": {
        "colab": {
          "base_uri": "https://localhost:8080/"
        },
        "id": "W-7DO-DoAyPU",
        "outputId": "e26b3ec0-18a4-4f63-adc9-e6454bdafbcf"
      },
      "outputs": [
        {
          "data": {
            "text/plain": [
              "<spacy.lang.pt.Portuguese at 0x1bd5a430910>"
            ]
          },
          "execution_count": 41,
          "metadata": {},
          "output_type": "execute_result"
        }
      ],
      "source": [
        "modelo_carregado = spacy.load('modelo')\n",
        "modelo_carregado"
      ]
    },
    {
      "cell_type": "markdown",
      "metadata": {
        "id": "RZxpVOP4wJT9"
      },
      "source": [
        "## Texto positivo"
      ]
    },
    {
      "cell_type": "code",
      "execution_count": 42,
      "metadata": {
        "colab": {
          "base_uri": "https://localhost:8080/",
          "height": 35
        },
        "id": "fGB9HS7BBEK2",
        "outputId": "66ea22fc-39f2-4609-8e41-203600068a7f"
      },
      "outputs": [
        {
          "data": {
            "text/plain": [
              "'  ficar feliz q recíproco emocaopositiva'"
            ]
          },
          "execution_count": 42,
          "metadata": {},
          "output_type": "execute_result"
        }
      ],
      "source": [
        "texto_positivo = base_teste['tweet_text'][21]\n",
        "texto_positivo"
      ]
    },
    {
      "cell_type": "code",
      "execution_count": 43,
      "metadata": {
        "colab": {
          "base_uri": "https://localhost:8080/"
        },
        "id": "NRJW5li7Bpij",
        "outputId": "2a5cf983-2143-413f-fe0f-28174b99162f"
      },
      "outputs": [
        {
          "data": {
            "text/plain": [
              "  ficar feliz q recíproco emocaopositiva"
            ]
          },
          "execution_count": 43,
          "metadata": {},
          "output_type": "execute_result"
        }
      ],
      "source": [
        "previsao = modelo_carregado(texto_positivo)\n",
        "previsao"
      ]
    },
    {
      "cell_type": "code",
      "execution_count": 44,
      "metadata": {
        "colab": {
          "base_uri": "https://localhost:8080/"
        },
        "id": "_XtuIsoMBuz8",
        "outputId": "092768c4-99d5-4022-ab04-f70a121bc38c"
      },
      "outputs": [
        {
          "data": {
            "text/plain": [
              "{'POSITIVO': 0.999552309513092, 'NEGATIVO': 0.00011948264727834612}"
            ]
          },
          "execution_count": 44,
          "metadata": {},
          "output_type": "execute_result"
        }
      ],
      "source": [
        "previsao.cats"
      ]
    },
    {
      "cell_type": "code",
      "execution_count": 45,
      "metadata": {
        "colab": {
          "base_uri": "https://localhost:8080/",
          "height": 35
        },
        "id": "wKdZht7PB1cJ",
        "outputId": "cb15efc4-b173-45d8-cba7-49035ec3ab53"
      },
      "outputs": [
        {
          "data": {
            "text/plain": [
              "'gostar'"
            ]
          },
          "execution_count": 45,
          "metadata": {},
          "output_type": "execute_result"
        }
      ],
      "source": [
        "texto_positivo = 'eu gosto muito de você'\n",
        "texto_positivo = preprocessamento(texto_positivo)\n",
        "texto_positivo"
      ]
    },
    {
      "cell_type": "code",
      "execution_count": 46,
      "metadata": {
        "colab": {
          "base_uri": "https://localhost:8080/"
        },
        "id": "GFDF7coVCC4c",
        "outputId": "8f89dcfb-fa09-47ce-aaaf-2de82f2102db"
      },
      "outputs": [
        {
          "data": {
            "text/plain": [
              "{'POSITIVO': 0.2621064782142639, 'NEGATIVO': 0.797693133354187}"
            ]
          },
          "execution_count": 46,
          "metadata": {},
          "output_type": "execute_result"
        }
      ],
      "source": [
        "modelo_carregado(texto_positivo).cats"
      ]
    },
    {
      "cell_type": "markdown",
      "metadata": {
        "id": "eavhsiJ4weg6"
      },
      "source": [
        "## Texto negativo"
      ]
    },
    {
      "cell_type": "code",
      "execution_count": 47,
      "metadata": {
        "colab": {
          "base_uri": "https://localhost:8080/",
          "height": 35
        },
        "id": "Luyzv_ZcCY9p",
        "outputId": "3a325acb-c764-47a9-b4cb-23a1649bcb63"
      },
      "outputs": [
        {
          "data": {
            "text/plain": [
              "'tô triste filmar mulan o mushu emocaonegativa'"
            ]
          },
          "execution_count": 47,
          "metadata": {},
          "output_type": "execute_result"
        }
      ],
      "source": [
        "base_teste['tweet_text'][4000]"
      ]
    },
    {
      "cell_type": "code",
      "execution_count": 48,
      "metadata": {
        "colab": {
          "base_uri": "https://localhost:8080/"
        },
        "id": "GgpAm0JFCggN",
        "outputId": "0338a89b-d462-434b-cb99-1523e49c743a"
      },
      "outputs": [
        {
          "data": {
            "text/plain": [
              "{'POSITIVO': 0.004464374855160713, 'NEGATIVO': 0.9982393980026245}"
            ]
          },
          "execution_count": 48,
          "metadata": {},
          "output_type": "execute_result"
        }
      ],
      "source": [
        "texto_negativo = base_teste['tweet_text'][4000]\n",
        "previsao = modelo_carregado(texto_negativo)\n",
        "previsao.cats"
      ]
    },
    {
      "cell_type": "markdown",
      "metadata": {
        "id": "KhF2vtEsnlpM"
      },
      "source": [
        "# Etapa 7: Avaliação do modelo"
      ]
    },
    {
      "cell_type": "markdown",
      "metadata": {
        "id": "sJzwpVWNACFi"
      },
      "source": [
        "## Avaliação na base de treinamento\n"
      ]
    },
    {
      "cell_type": "code",
      "execution_count": 49,
      "metadata": {
        "id": "6NoTHRADDZ0Z"
      },
      "outputs": [],
      "source": [
        "previsoes = []\n",
        "for texto in base_treinamento['tweet_text']:\n",
        "  previsao = modelo_carregado(texto)\n",
        "  previsoes.append(previsao.cats)"
      ]
    },
    {
      "cell_type": "code",
      "execution_count": 50,
      "metadata": {
        "colab": {
          "base_uri": "https://localhost:8080/"
        },
        "id": "8lRO94OuDvLZ",
        "outputId": "2467e1ba-a65c-47a2-e56a-134ea878f8df"
      },
      "outputs": [
        {
          "data": {
            "text/plain": [
              "[{'POSITIVO': 0.006914909463375807, 'NEGATIVO': 0.9995328187942505},\n",
              " {'POSITIVO': 0.9998034834861755, 'NEGATIVO': 0.00017324059444945306},\n",
              " {'POSITIVO': 0.9984935522079468, 'NEGATIVO': 0.0012980414321646094},\n",
              " {'POSITIVO': 0.9997180104255676, 'NEGATIVO': 0.00013756382395513356},\n",
              " {'POSITIVO': 0.9997491240501404, 'NEGATIVO': 0.00013716408284381032},\n",
              " {'POSITIVO': 0.0010048502590507269, 'NEGATIVO': 0.9994845390319824},\n",
              " {'POSITIVO': 0.9997441172599792, 'NEGATIVO': 0.0002469273458700627},\n",
              " {'POSITIVO': 0.9987195730209351, 'NEGATIVO': 0.00024243546067737043},\n",
              " {'POSITIVO': 0.0017077348893508315, 'NEGATIVO': 0.9992189407348633},\n",
              " {'POSITIVO': 0.0037010465748608112, 'NEGATIVO': 0.9985973238945007},\n",
              " {'POSITIVO': 0.0011658868752419949, 'NEGATIVO': 0.9991288781166077},\n",
              " {'POSITIVO': 0.002568864729255438, 'NEGATIVO': 0.9994685053825378},\n",
              " {'POSITIVO': 0.005667201709002256, 'NEGATIVO': 0.9988194108009338},\n",
              " {'POSITIVO': 0.00045391591265797615, 'NEGATIVO': 0.9995717406272888},\n",
              " {'POSITIVO': 0.0009885639883577824, 'NEGATIVO': 0.9974410533905029},\n",
              " {'POSITIVO': 0.0002840799279510975, 'NEGATIVO': 0.9997503161430359},\n",
              " {'POSITIVO': 0.9997498393058777, 'NEGATIVO': 0.0002477628877386451},\n",
              " {'POSITIVO': 0.0014884184347465634, 'NEGATIVO': 0.9983704686164856},\n",
              " {'POSITIVO': 0.9997314810752869, 'NEGATIVO': 0.00028191632009111345},\n",
              " {'POSITIVO': 0.9996483325958252, 'NEGATIVO': 7.025634840829298e-05},\n",
              " {'POSITIVO': 0.9993510842323303, 'NEGATIVO': 0.000521048903465271},\n",
              " {'POSITIVO': 0.9997004270553589, 'NEGATIVO': 0.00031020448659546673},\n",
              " {'POSITIVO': 0.003964094445109367, 'NEGATIVO': 0.9965978264808655},\n",
              " {'POSITIVO': 0.004399077035486698, 'NEGATIVO': 0.9994431138038635},\n",
              " {'POSITIVO': 0.9996691942214966, 'NEGATIVO': 0.00011035368515877053},\n",
              " {'POSITIVO': 0.9994439482688904, 'NEGATIVO': 5.492864875122905e-05},\n",
              " {'POSITIVO': 0.996367335319519, 'NEGATIVO': 0.003452607896178961},\n",
              " {'POSITIVO': 0.0038826502859592438, 'NEGATIVO': 0.999170184135437},\n",
              " {'POSITIVO': 0.999674916267395, 'NEGATIVO': 0.00020118229440413415},\n",
              " {'POSITIVO': 0.999657392501831, 'NEGATIVO': 8.627253555459902e-05},\n",
              " {'POSITIVO': 0.9997057318687439, 'NEGATIVO': 0.00020999037951696664},\n",
              " {'POSITIVO': 0.9347631931304932, 'NEGATIVO': 0.05778787285089493},\n",
              " {'POSITIVO': 0.9989070892333984, 'NEGATIVO': 0.00521361269056797},\n",
              " {'POSITIVO': 0.9870142936706543, 'NEGATIVO': 0.0049007851630449295},\n",
              " {'POSITIVO': 0.003382608061656356, 'NEGATIVO': 0.9996322393417358},\n",
              " {'POSITIVO': 0.0045679351314902306, 'NEGATIVO': 0.9881396293640137},\n",
              " {'POSITIVO': 0.9996652603149414, 'NEGATIVO': 0.00028938899049535394},\n",
              " {'POSITIVO': 0.9997130036354065, 'NEGATIVO': 7.798287697369233e-05},\n",
              " {'POSITIVO': 0.001334611908532679, 'NEGATIVO': 0.999250590801239},\n",
              " {'POSITIVO': 0.9997971653938293, 'NEGATIVO': 0.00021959567675366998},\n",
              " {'POSITIVO': 0.002828193362802267, 'NEGATIVO': 0.9979943037033081},\n",
              " {'POSITIVO': 0.000703411758877337, 'NEGATIVO': 0.997077465057373},\n",
              " {'POSITIVO': 0.004655660595744848, 'NEGATIVO': 0.9941739439964294},\n",
              " {'POSITIVO': 0.0014551924541592598, 'NEGATIVO': 0.9978345036506653},\n",
              " {'POSITIVO': 0.9972858428955078, 'NEGATIVO': 0.0008470042957924306},\n",
              " {'POSITIVO': 0.999861478805542, 'NEGATIVO': 0.0003355109947733581},\n",
              " {'POSITIVO': 0.9993543028831482, 'NEGATIVO': 0.0002254889695905149},\n",
              " {'POSITIVO': 0.9998438358306885, 'NEGATIVO': 0.0002597145503386855},\n",
              " {'POSITIVO': 0.9995278120040894, 'NEGATIVO': 7.62300260248594e-05},\n",
              " {'POSITIVO': 0.0006558666354976594, 'NEGATIVO': 0.9964434504508972},\n",
              " {'POSITIVO': 0.9997753500938416, 'NEGATIVO': 6.16376637481153e-05},\n",
              " {'POSITIVO': 0.0024013195652514696, 'NEGATIVO': 0.9988927245140076},\n",
              " {'POSITIVO': 0.999649167060852, 'NEGATIVO': 7.659815310034901e-05},\n",
              " {'POSITIVO': 0.9979129433631897, 'NEGATIVO': 0.0005771434516645968},\n",
              " {'POSITIVO': 0.9985001087188721, 'NEGATIVO': 0.001017016009427607},\n",
              " {'POSITIVO': 0.9997139573097229, 'NEGATIVO': 7.361155439866707e-05},\n",
              " {'POSITIVO': 0.9988852143287659, 'NEGATIVO': 0.0015780434478074312},\n",
              " {'POSITIVO': 0.9994243383407593, 'NEGATIVO': 4.539786823443137e-05},\n",
              " {'POSITIVO': 0.994044840335846, 'NEGATIVO': 0.0037433502729982138},\n",
              " {'POSITIVO': 0.0019075447926297784, 'NEGATIVO': 0.9997838139533997},\n",
              " {'POSITIVO': 0.0037206890992820263, 'NEGATIVO': 0.997291624546051},\n",
              " {'POSITIVO': 0.9997448325157166, 'NEGATIVO': 0.00022009121312294155},\n",
              " {'POSITIVO': 0.0023144136648625135, 'NEGATIVO': 0.9991287589073181},\n",
              " {'POSITIVO': 0.9995476603507996, 'NEGATIVO': 9.336807852378115e-05},\n",
              " {'POSITIVO': 0.002673220820724964, 'NEGATIVO': 0.9966574907302856},\n",
              " {'POSITIVO': 0.0028880976606160402, 'NEGATIVO': 0.9989287257194519},\n",
              " {'POSITIVO': 0.002271607518196106, 'NEGATIVO': 0.998781144618988},\n",
              " {'POSITIVO': 0.9997602105140686, 'NEGATIVO': 0.00024240705533884466},\n",
              " {'POSITIVO': 0.0008507727761752903, 'NEGATIVO': 0.9995403289794922},\n",
              " {'POSITIVO': 0.0021373762283474207, 'NEGATIVO': 0.9990856647491455},\n",
              " {'POSITIVO': 0.9997832179069519, 'NEGATIVO': 0.00025490528787486255},\n",
              " {'POSITIVO': 0.9997627139091492, 'NEGATIVO': 0.00017322655185125768},\n",
              " {'POSITIVO': 0.0031540649943053722, 'NEGATIVO': 0.999115526676178},\n",
              " {'POSITIVO': 0.005175510421395302, 'NEGATIVO': 0.9952548742294312},\n",
              " {'POSITIVO': 0.001334611908532679, 'NEGATIVO': 0.999250590801239},\n",
              " {'POSITIVO': 0.0024135238490998745, 'NEGATIVO': 0.9991633892059326},\n",
              " {'POSITIVO': 0.0013966923579573631, 'NEGATIVO': 0.9994304776191711},\n",
              " {'POSITIVO': 0.0012483816826716065, 'NEGATIVO': 0.9993934631347656},\n",
              " {'POSITIVO': 0.9990620017051697, 'NEGATIVO': 0.0004332350508775562},\n",
              " {'POSITIVO': 0.999769389629364, 'NEGATIVO': 0.00026051781605929136},\n",
              " {'POSITIVO': 0.9997004270553589, 'NEGATIVO': 0.00018501411250326782},\n",
              " {'POSITIVO': 0.014500089921057224, 'NEGATIVO': 0.994030237197876},\n",
              " {'POSITIVO': 0.0068314955569803715, 'NEGATIVO': 0.9978691339492798},\n",
              " {'POSITIVO': 0.9996820688247681, 'NEGATIVO': 0.0002580494910944253},\n",
              " {'POSITIVO': 0.9998218417167664, 'NEGATIVO': 0.00022923904180061072},\n",
              " {'POSITIVO': 0.0031994676683098078, 'NEGATIVO': 0.9994961023330688},\n",
              " {'POSITIVO': 0.9964189529418945, 'NEGATIVO': 0.00845871027559042},\n",
              " {'POSITIVO': 0.0009763861889950931, 'NEGATIVO': 0.9957826137542725},\n",
              " {'POSITIVO': 0.001334611908532679, 'NEGATIVO': 0.999250590801239},\n",
              " {'POSITIVO': 0.9994925260543823, 'NEGATIVO': 0.00016964094538707286},\n",
              " {'POSITIVO': 0.9997530579566956, 'NEGATIVO': 0.0001048791891662404},\n",
              " {'POSITIVO': 0.9996703863143921, 'NEGATIVO': 0.00019422183686401695},\n",
              " {'POSITIVO': 0.9997579455375671, 'NEGATIVO': 8.80386505741626e-05},\n",
              " {'POSITIVO': 0.0016248078318312764, 'NEGATIVO': 0.9997838139533997},\n",
              " {'POSITIVO': 0.9997239708900452, 'NEGATIVO': 0.00010675911471480504},\n",
              " {'POSITIVO': 0.9981277585029602, 'NEGATIVO': 0.001739943865686655},\n",
              " {'POSITIVO': 0.9997934699058533, 'NEGATIVO': 0.00011523537978064269},\n",
              " {'POSITIVO': 0.0017014098120853305, 'NEGATIVO': 0.9995436072349548},\n",
              " {'POSITIVO': 0.006232903338968754, 'NEGATIVO': 0.9975143671035767},\n",
              " {'POSITIVO': 0.002188632730394602, 'NEGATIVO': 0.9995296001434326},\n",
              " {'POSITIVO': 0.9997949004173279, 'NEGATIVO': 0.0003251126909162849},\n",
              " {'POSITIVO': 0.9996321201324463, 'NEGATIVO': 8.03490838734433e-05},\n",
              " {'POSITIVO': 0.004965664818882942, 'NEGATIVO': 0.9995643496513367},\n",
              " {'POSITIVO': 0.0007891561253927648, 'NEGATIVO': 0.9979361295700073},\n",
              " {'POSITIVO': 0.0034015763085335493, 'NEGATIVO': 0.9987861514091492},\n",
              " {'POSITIVO': 0.0024478854611516, 'NEGATIVO': 0.9982140064239502},\n",
              " {'POSITIVO': 0.0014129691990092397, 'NEGATIVO': 0.9967371821403503},\n",
              " {'POSITIVO': 0.9997509121894836, 'NEGATIVO': 0.00014332955470308661},\n",
              " {'POSITIVO': 0.999749481678009, 'NEGATIVO': 0.00017637124983593822},\n",
              " {'POSITIVO': 0.009156656451523304, 'NEGATIVO': 0.994975209236145},\n",
              " {'POSITIVO': 0.0011925959261134267, 'NEGATIVO': 0.9993141889572144},\n",
              " {'POSITIVO': 0.9996949434280396, 'NEGATIVO': 0.00013682588178198785},\n",
              " {'POSITIVO': 0.9978424310684204, 'NEGATIVO': 0.001135825994424522},\n",
              " {'POSITIVO': 0.9680017232894897, 'NEGATIVO': 0.039052125066518784},\n",
              " {'POSITIVO': 0.9997039437294006, 'NEGATIVO': 0.00010815449059009552},\n",
              " {'POSITIVO': 0.9996463060379028, 'NEGATIVO': 0.0003432610828895122},\n",
              " {'POSITIVO': 0.9996851682662964, 'NEGATIVO': 6.118953024270013e-05},\n",
              " {'POSITIVO': 0.999729573726654, 'NEGATIVO': 0.00017245757044292986},\n",
              " {'POSITIVO': 0.005885207559913397, 'NEGATIVO': 0.9977120161056519},\n",
              " {'POSITIVO': 0.0011168650817126036, 'NEGATIVO': 0.9998223185539246},\n",
              " {'POSITIVO': 0.0022430685348808765, 'NEGATIVO': 0.9939935803413391},\n",
              " {'POSITIVO': 0.9980893731117249, 'NEGATIVO': 0.00018662554793991148},\n",
              " {'POSITIVO': 0.9985761642456055, 'NEGATIVO': 0.0008728713728487492},\n",
              " {'POSITIVO': 0.9994423985481262, 'NEGATIVO': 4.539786823443137e-05},\n",
              " {'POSITIVO': 0.0025551405269652605, 'NEGATIVO': 0.9975466132164001},\n",
              " {'POSITIVO': 0.9997144341468811, 'NEGATIVO': 0.00019239986431784928},\n",
              " {'POSITIVO': 0.9997639060020447, 'NEGATIVO': 0.00033188972156494856},\n",
              " {'POSITIVO': 0.003009097184985876, 'NEGATIVO': 0.9944013953208923},\n",
              " {'POSITIVO': 0.0012310434831306338, 'NEGATIVO': 0.9993928670883179},\n",
              " {'POSITIVO': 0.0007515580509789288, 'NEGATIVO': 0.995891809463501},\n",
              " {'POSITIVO': 0.0021750768646597862, 'NEGATIVO': 0.9997614026069641},\n",
              " {'POSITIVO': 0.9997509121894836, 'NEGATIVO': 0.0001462041400372982},\n",
              " {'POSITIVO': 0.999672532081604, 'NEGATIVO': 0.00012683073873631656},\n",
              " {'POSITIVO': 0.9997009038925171, 'NEGATIVO': 0.00013734758249484003},\n",
              " {'POSITIVO': 0.9997624754905701, 'NEGATIVO': 0.0002497911045793444},\n",
              " {'POSITIVO': 0.9993791580200195, 'NEGATIVO': 9.44984785746783e-05},\n",
              " {'POSITIVO': 0.9997585415840149, 'NEGATIVO': 0.00041484113899059594},\n",
              " {'POSITIVO': 0.9997031092643738, 'NEGATIVO': 0.00016290174971800297},\n",
              " {'POSITIVO': 0.0007544473628513515, 'NEGATIVO': 0.998176097869873},\n",
              " {'POSITIVO': 0.002498648827895522, 'NEGATIVO': 0.9993717074394226},\n",
              " {'POSITIVO': 0.9992685914039612, 'NEGATIVO': 8.663420157972723e-05},\n",
              " {'POSITIVO': 0.0011644806945696473, 'NEGATIVO': 0.9976746439933777},\n",
              " {'POSITIVO': 0.004384392406791449, 'NEGATIVO': 0.9986172914505005},\n",
              " {'POSITIVO': 0.0017275474965572357, 'NEGATIVO': 0.999221682548523},\n",
              " {'POSITIVO': 0.0005805101827718318, 'NEGATIVO': 0.9994984865188599},\n",
              " {'POSITIVO': 0.9996882677078247, 'NEGATIVO': 8.835800690576434e-05},\n",
              " {'POSITIVO': 0.00439963024109602, 'NEGATIVO': 0.999636173248291},\n",
              " {'POSITIVO': 0.0034555476158857346, 'NEGATIVO': 0.9936922788619995},\n",
              " {'POSITIVO': 0.0011546820169314742, 'NEGATIVO': 0.9943529367446899},\n",
              " {'POSITIVO': 0.001538494136184454, 'NEGATIVO': 0.9995607733726501},\n",
              " {'POSITIVO': 0.999677300453186, 'NEGATIVO': 4.539786823443137e-05},\n",
              " {'POSITIVO': 0.9997839331626892, 'NEGATIVO': 0.00012171494745416567},\n",
              " {'POSITIVO': 0.9996974468231201, 'NEGATIVO': 0.00020848633721470833},\n",
              " {'POSITIVO': 0.9991443157196045, 'NEGATIVO': 0.0006596234161406755},\n",
              " {'POSITIVO': 0.9995231628417969, 'NEGATIVO': 6.041876258677803e-05},\n",
              " {'POSITIVO': 0.0005503188585862517, 'NEGATIVO': 0.9989583492279053},\n",
              " {'POSITIVO': 0.0007733951788395643, 'NEGATIVO': 0.9997121691703796},\n",
              " {'POSITIVO': 0.9993000030517578, 'NEGATIVO': 0.000127494364278391},\n",
              " {'POSITIVO': 0.0017710153479129076, 'NEGATIVO': 0.9987713694572449},\n",
              " {'POSITIVO': 0.0032563970889896154, 'NEGATIVO': 0.9994914531707764},\n",
              " {'POSITIVO': 0.9996002316474915, 'NEGATIVO': 0.00021466186444740742},\n",
              " {'POSITIVO': 0.0036861274857074022, 'NEGATIVO': 0.9993447661399841},\n",
              " {'POSITIVO': 0.9998063445091248, 'NEGATIVO': 0.0001701492874417454},\n",
              " {'POSITIVO': 0.0065314751118421555, 'NEGATIVO': 0.9993656277656555},\n",
              " {'POSITIVO': 0.004762668628245592, 'NEGATIVO': 0.9990346431732178},\n",
              " {'POSITIVO': 0.9997237324714661, 'NEGATIVO': 0.00011511424236232415},\n",
              " {'POSITIVO': 0.00047101022209972143, 'NEGATIVO': 0.999244213104248},\n",
              " {'POSITIVO': 0.0004641944542527199, 'NEGATIVO': 0.9990119934082031},\n",
              " {'POSITIVO': 0.0014364039525389671, 'NEGATIVO': 0.9984764456748962},\n",
              " {'POSITIVO': 0.0003859918506350368, 'NEGATIVO': 0.9997403025627136},\n",
              " {'POSITIVO': 0.002545703202486038, 'NEGATIVO': 0.99849534034729},\n",
              " {'POSITIVO': 0.0044586374424397945, 'NEGATIVO': 0.998896598815918},\n",
              " {'POSITIVO': 0.004186722449958324, 'NEGATIVO': 0.9998778104782104},\n",
              " {'POSITIVO': 0.9731447696685791, 'NEGATIVO': 0.013906818814575672},\n",
              " {'POSITIVO': 0.9997342228889465, 'NEGATIVO': 8.354550664080307e-05},\n",
              " {'POSITIVO': 0.0021884795278310776, 'NEGATIVO': 0.9993103742599487},\n",
              " {'POSITIVO': 0.0016603422118350863, 'NEGATIVO': 0.999090313911438},\n",
              " {'POSITIVO': 0.999708354473114, 'NEGATIVO': 0.0002487958990968764},\n",
              " {'POSITIVO': 0.9997629523277283, 'NEGATIVO': 0.00023342699569184333},\n",
              " {'POSITIVO': 0.0013654506765305996, 'NEGATIVO': 0.9979379773139954},\n",
              " {'POSITIVO': 0.0008639679872430861, 'NEGATIVO': 0.9992750287055969},\n",
              " {'POSITIVO': 0.0003186393005307764, 'NEGATIVO': 0.9996597766876221},\n",
              " {'POSITIVO': 0.9997820258140564, 'NEGATIVO': 0.00010287937766406685},\n",
              " {'POSITIVO': 0.00605542678385973, 'NEGATIVO': 0.9998794794082642},\n",
              " {'POSITIVO': 0.9997026324272156, 'NEGATIVO': 7.079018541844562e-05},\n",
              " {'POSITIVO': 0.0017045526765286922, 'NEGATIVO': 0.9980650544166565},\n",
              " {'POSITIVO': 0.9996844530105591, 'NEGATIVO': 9.545505599817261e-05},\n",
              " {'POSITIVO': 0.0022454336285591125, 'NEGATIVO': 0.9991914629936218},\n",
              " {'POSITIVO': 0.0025290485937148333, 'NEGATIVO': 0.9994353652000427},\n",
              " {'POSITIVO': 0.0065307822078466415, 'NEGATIVO': 0.997822642326355},\n",
              " {'POSITIVO': 0.0024671226274222136, 'NEGATIVO': 0.9973503351211548},\n",
              " {'POSITIVO': 0.001722468645311892, 'NEGATIVO': 0.999836802482605},\n",
              " {'POSITIVO': 0.007908315397799015, 'NEGATIVO': 0.9875884652137756},\n",
              " {'POSITIVO': 0.9996320009231567, 'NEGATIVO': 0.0001801923499442637},\n",
              " {'POSITIVO': 0.9558349251747131, 'NEGATIVO': 0.03566533699631691},\n",
              " {'POSITIVO': 0.9980959296226501, 'NEGATIVO': 0.0009246996487490833},\n",
              " {'POSITIVO': 0.9957963228225708, 'NEGATIVO': 0.0002042512351181358},\n",
              " {'POSITIVO': 0.999804675579071, 'NEGATIVO': 0.00021245561947580427},\n",
              " {'POSITIVO': 0.9938099980354309, 'NEGATIVO': 0.0019463753560557961},\n",
              " {'POSITIVO': 0.999687910079956, 'NEGATIVO': 0.00010722332081058994},\n",
              " {'POSITIVO': 0.9997735619544983, 'NEGATIVO': 0.00024664003285579383},\n",
              " {'POSITIVO': 0.008836607448756695, 'NEGATIVO': 0.9987484216690063},\n",
              " {'POSITIVO': 0.9858878254890442, 'NEGATIVO': 0.005774905439466238},\n",
              " {'POSITIVO': 0.0009234343888238072, 'NEGATIVO': 0.9982289671897888},\n",
              " {'POSITIVO': 0.004367637448012829, 'NEGATIVO': 0.9987528324127197},\n",
              " {'POSITIVO': 0.008845649659633636, 'NEGATIVO': 0.9952535629272461},\n",
              " {'POSITIVO': 0.9997674822807312, 'NEGATIVO': 0.00011075830843765289},\n",
              " {'POSITIVO': 0.0007459493353962898, 'NEGATIVO': 0.9994115829467773},\n",
              " {'POSITIVO': 0.9992176294326782, 'NEGATIVO': 0.00025315803941339254},\n",
              " {'POSITIVO': 0.9984630346298218, 'NEGATIVO': 0.00019842659821733832},\n",
              " {'POSITIVO': 0.003801352810114622, 'NEGATIVO': 0.9986199140548706},\n",
              " {'POSITIVO': 0.00277890358120203, 'NEGATIVO': 0.9996341466903687},\n",
              " {'POSITIVO': 0.0019296545069664717, 'NEGATIVO': 0.9953039884567261},\n",
              " {'POSITIVO': 0.9997480511665344, 'NEGATIVO': 0.00011838451609946787},\n",
              " {'POSITIVO': 0.9997209906578064, 'NEGATIVO': 0.0001849604886956513},\n",
              " {'POSITIVO': 0.9995482563972473, 'NEGATIVO': 7.458218169631436e-05},\n",
              " {'POSITIVO': 0.0015609635738655925, 'NEGATIVO': 0.9991022348403931},\n",
              " {'POSITIVO': 0.0010712913936004043, 'NEGATIVO': 0.998866081237793},\n",
              " {'POSITIVO': 0.9997537732124329, 'NEGATIVO': 0.00024333421606570482},\n",
              " {'POSITIVO': 0.002191895619034767, 'NEGATIVO': 0.9976825714111328},\n",
              " {'POSITIVO': 0.9991740584373474, 'NEGATIVO': 0.006517894100397825},\n",
              " {'POSITIVO': 0.9994449019432068, 'NEGATIVO': 0.00017910513270180672},\n",
              " {'POSITIVO': 0.006452435627579689, 'NEGATIVO': 0.9941869974136353},\n",
              " {'POSITIVO': 0.0016156344208866358, 'NEGATIVO': 0.9992101192474365},\n",
              " {'POSITIVO': 0.01847839169204235, 'NEGATIVO': 0.9911803603172302},\n",
              " {'POSITIVO': 0.0015163292409852147, 'NEGATIVO': 0.9986466765403748},\n",
              " {'POSITIVO': 0.9986314177513123, 'NEGATIVO': 0.0011458685621619225},\n",
              " {'POSITIVO': 0.9997846484184265, 'NEGATIVO': 0.00018360029207542539},\n",
              " {'POSITIVO': 0.9996771812438965, 'NEGATIVO': 0.00022224252461455762},\n",
              " {'POSITIVO': 0.9997503161430359, 'NEGATIVO': 0.0001260500430362299},\n",
              " {'POSITIVO': 0.9979345798492432, 'NEGATIVO': 0.0007946679834276438},\n",
              " {'POSITIVO': 0.9997217059135437, 'NEGATIVO': 0.00014672437100671232},\n",
              " {'POSITIVO': 0.9899895191192627, 'NEGATIVO': 0.01709568314254284},\n",
              " {'POSITIVO': 0.0025858557783067226, 'NEGATIVO': 0.9972882270812988},\n",
              " {'POSITIVO': 0.9997832179069519, 'NEGATIVO': 0.00010372396354796365},\n",
              " {'POSITIVO': 0.9996992349624634, 'NEGATIVO': 0.0001213782379636541},\n",
              " {'POSITIVO': 0.9997633099555969, 'NEGATIVO': 0.00013055326417088509},\n",
              " {'POSITIVO': 0.9997205138206482, 'NEGATIVO': 0.00014115255908109248},\n",
              " {'POSITIVO': 0.0040952241979539394, 'NEGATIVO': 0.9955517649650574},\n",
              " {'POSITIVO': 0.0011201131856068969, 'NEGATIVO': 0.9989569187164307},\n",
              " {'POSITIVO': 0.008729306980967522, 'NEGATIVO': 0.979868471622467},\n",
              " {'POSITIVO': 0.9996709823608398, 'NEGATIVO': 0.00020697666332125664},\n",
              " {'POSITIVO': 0.9996227025985718, 'NEGATIVO': 0.00030258920742198825},\n",
              " {'POSITIVO': 0.9995707869529724, 'NEGATIVO': 8.427379361819476e-05},\n",
              " {'POSITIVO': 0.9997904896736145, 'NEGATIVO': 0.00017136571113951504},\n",
              " {'POSITIVO': 0.9996737241744995, 'NEGATIVO': 0.00015425258607137948},\n",
              " {'POSITIVO': 0.0010678203543648124, 'NEGATIVO': 0.9973623156547546},\n",
              " {'POSITIVO': 0.9996634721755981, 'NEGATIVO': 0.00018743390683084726},\n",
              " {'POSITIVO': 0.9998169541358948, 'NEGATIVO': 0.0001839541073422879},\n",
              " {'POSITIVO': 0.0015970675740391016, 'NEGATIVO': 0.9995095729827881},\n",
              " {'POSITIVO': 0.9997736811637878, 'NEGATIVO': 0.0001387261727359146},\n",
              " {'POSITIVO': 0.9997410178184509, 'NEGATIVO': 0.00020378241606522352},\n",
              " {'POSITIVO': 0.0015579551691189408, 'NEGATIVO': 0.9983373880386353},\n",
              " {'POSITIVO': 0.9996957778930664, 'NEGATIVO': 0.00017352345457766205},\n",
              " {'POSITIVO': 0.00177610048558563, 'NEGATIVO': 0.9972931742668152},\n",
              " {'POSITIVO': 0.9997779726982117, 'NEGATIVO': 0.00013250033953227103},\n",
              " {'POSITIVO': 0.999731719493866, 'NEGATIVO': 0.00018844763690140098},\n",
              " {'POSITIVO': 0.0012300078524276614, 'NEGATIVO': 0.9984911680221558},\n",
              " {'POSITIVO': 0.0007030006963759661, 'NEGATIVO': 0.9991092085838318},\n",
              " {'POSITIVO': 0.0012161724735051394, 'NEGATIVO': 0.99924635887146},\n",
              " {'POSITIVO': 0.999697208404541, 'NEGATIVO': 0.0001861680648289621},\n",
              " {'POSITIVO': 0.9996670484542847, 'NEGATIVO': 0.00024718057829886675},\n",
              " {'POSITIVO': 0.9997400641441345, 'NEGATIVO': 6.863204907858744e-05},\n",
              " {'POSITIVO': 0.007038545794785023, 'NEGATIVO': 0.999139666557312},\n",
              " {'POSITIVO': 0.01820719614624977, 'NEGATIVO': 0.9814498424530029},\n",
              " {'POSITIVO': 0.0006353292264975607, 'NEGATIVO': 0.9997243285179138},\n",
              " {'POSITIVO': 0.9996612071990967, 'NEGATIVO': 0.00010137836943613365},\n",
              " {'POSITIVO': 0.9996844530105591, 'NEGATIVO': 0.0001050212886184454},\n",
              " {'POSITIVO': 0.9996993541717529, 'NEGATIVO': 0.00012510742817539722},\n",
              " {'POSITIVO': 0.9996104836463928, 'NEGATIVO': 8.853503823047504e-05},\n",
              " {'POSITIVO': 0.9995725750923157, 'NEGATIVO': 0.00033519414137117565},\n",
              " {'POSITIVO': 0.9980438947677612, 'NEGATIVO': 0.0013972483575344086},\n",
              " {'POSITIVO': 0.994219183921814, 'NEGATIVO': 0.0023086306173354387},\n",
              " {'POSITIVO': 0.0030015804804861546, 'NEGATIVO': 0.9996447563171387},\n",
              " {'POSITIVO': 0.9996289014816284, 'NEGATIVO': 0.00010163913975702599},\n",
              " {'POSITIVO': 0.0035828244872391224, 'NEGATIVO': 0.9963920712471008},\n",
              " {'POSITIVO': 0.0025293505750596523, 'NEGATIVO': 0.9998680353164673},\n",
              " {'POSITIVO': 0.0012186731910333037, 'NEGATIVO': 0.9976212382316589},\n",
              " {'POSITIVO': 0.9989280104637146, 'NEGATIVO': 0.0003456332487985492},\n",
              " {'POSITIVO': 0.0012813226785510778, 'NEGATIVO': 0.9993188381195068},\n",
              " {'POSITIVO': 0.9997257590293884, 'NEGATIVO': 0.0002149262436432764},\n",
              " {'POSITIVO': 0.015061871148645878, 'NEGATIVO': 0.9941552877426147},\n",
              " {'POSITIVO': 0.9980220794677734, 'NEGATIVO': 0.0013767030322924256},\n",
              " {'POSITIVO': 0.001950801583006978, 'NEGATIVO': 0.9969688057899475},\n",
              " {'POSITIVO': 0.014222826808691025, 'NEGATIVO': 0.9975969195365906},\n",
              " {'POSITIVO': 0.997840166091919, 'NEGATIVO': 0.0011310046538710594},\n",
              " {'POSITIVO': 0.020949753001332283, 'NEGATIVO': 0.9975613355636597},\n",
              " {'POSITIVO': 0.001084631308913231, 'NEGATIVO': 0.9985798597335815},\n",
              " {'POSITIVO': 0.9982020854949951, 'NEGATIVO': 0.000679195043630898},\n",
              " {'POSITIVO': 0.001965427305549383, 'NEGATIVO': 0.9993997812271118},\n",
              " {'POSITIVO': 0.9996135830879211, 'NEGATIVO': 0.0002179725415771827},\n",
              " {'POSITIVO': 0.9996800422668457, 'NEGATIVO': 6.428054621210322e-05},\n",
              " {'POSITIVO': 0.9997270703315735, 'NEGATIVO': 0.00013792990648653358},\n",
              " {'POSITIVO': 0.0010116936173290014, 'NEGATIVO': 0.9994033575057983},\n",
              " {'POSITIVO': 0.999574601650238, 'NEGATIVO': 0.00012220663484185934},\n",
              " {'POSITIVO': 0.9986905455589294, 'NEGATIVO': 0.0023181007709354162},\n",
              " {'POSITIVO': 0.9996551275253296, 'NEGATIVO': 9.606457024347037e-05},\n",
              " {'POSITIVO': 0.0013388131046667695, 'NEGATIVO': 0.9973904490470886},\n",
              " {'POSITIVO': 0.9995129108428955, 'NEGATIVO': 0.00023579767730552703},\n",
              " {'POSITIVO': 0.0015853710938245058, 'NEGATIVO': 0.9923473596572876},\n",
              " {'POSITIVO': 0.9996721744537354, 'NEGATIVO': 0.00020833630696870387},\n",
              " {'POSITIVO': 0.008236647583544254, 'NEGATIVO': 0.9994509816169739},\n",
              " {'POSITIVO': 0.0011381312506273389, 'NEGATIVO': 0.9918084740638733},\n",
              " {'POSITIVO': 0.00021008409385103732, 'NEGATIVO': 0.9997537732124329},\n",
              " {'POSITIVO': 0.0007098367786966264, 'NEGATIVO': 0.9994912147521973},\n",
              " {'POSITIVO': 0.0013920299243181944, 'NEGATIVO': 0.9988985061645508},\n",
              " {'POSITIVO': 0.998863697052002, 'NEGATIVO': 0.00022704944422002882},\n",
              " {'POSITIVO': 0.0011167959310114384, 'NEGATIVO': 0.9994945526123047},\n",
              " {'POSITIVO': 0.9996933937072754, 'NEGATIVO': 0.00022402899048756808},\n",
              " {'POSITIVO': 0.9969726800918579, 'NEGATIVO': 0.0003691455931402743},\n",
              " {'POSITIVO': 0.006314956583082676, 'NEGATIVO': 0.9923973679542542},\n",
              " {'POSITIVO': 0.9996778964996338, 'NEGATIVO': 0.00031581183429807425},\n",
              " {'POSITIVO': 0.0009778584353625774, 'NEGATIVO': 0.9988884329795837},\n",
              " {'POSITIVO': 0.9997182488441467, 'NEGATIVO': 0.00013086521357763559},\n",
              " {'POSITIVO': 0.002498909132555127, 'NEGATIVO': 0.9980577826499939},\n",
              " {'POSITIVO': 0.9997175335884094, 'NEGATIVO': 0.0001994370250031352},\n",
              " {'POSITIVO': 0.0014752544229850173, 'NEGATIVO': 0.9990419745445251},\n",
              " {'POSITIVO': 0.0020909609738737345, 'NEGATIVO': 0.9988131523132324},\n",
              " {'POSITIVO': 0.9997995495796204, 'NEGATIVO': 0.00029801615164615214},\n",
              " {'POSITIVO': 0.9996638298034668, 'NEGATIVO': 0.000253283855272457},\n",
              " {'POSITIVO': 0.9996116757392883, 'NEGATIVO': 0.00030778266955167055},\n",
              " {'POSITIVO': 0.001610443228855729, 'NEGATIVO': 0.9985523819923401},\n",
              " {'POSITIVO': 0.0065381466411054134, 'NEGATIVO': 0.9991969466209412},\n",
              " {'POSITIVO': 0.014256500639021397, 'NEGATIVO': 0.9915136694908142},\n",
              " {'POSITIVO': 0.9943214654922485, 'NEGATIVO': 0.00538001861423254},\n",
              " {'POSITIVO': 0.9997346997261047, 'NEGATIVO': 5.0649545300984755e-05},\n",
              " {'POSITIVO': 0.999765932559967, 'NEGATIVO': 0.00013788609066978097},\n",
              " {'POSITIVO': 0.999749481678009, 'NEGATIVO': 0.0001279308198718354},\n",
              " {'POSITIVO': 0.9994838237762451, 'NEGATIVO': 4.539786823443137e-05},\n",
              " {'POSITIVO': 0.9997252821922302, 'NEGATIVO': 0.00016162852989509702},\n",
              " {'POSITIVO': 0.9996812343597412, 'NEGATIVO': 0.0001555310154799372},\n",
              " {'POSITIVO': 0.9951533079147339, 'NEGATIVO': 0.001446537091396749},\n",
              " {'POSITIVO': 0.9993005990982056, 'NEGATIVO': 0.00043833270319737494},\n",
              " {'POSITIVO': 0.9997181296348572, 'NEGATIVO': 0.00010980135994032025},\n",
              " {'POSITIVO': 0.0030502136796712875, 'NEGATIVO': 0.9973074197769165},\n",
              " {'POSITIVO': 0.9974992871284485, 'NEGATIVO': 0.0014908547746017575},\n",
              " {'POSITIVO': 0.9994720816612244, 'NEGATIVO': 8.172169327735901e-05},\n",
              " {'POSITIVO': 0.9984675049781799, 'NEGATIVO': 0.00058025709586218},\n",
              " {'POSITIVO': 0.0005144309252500534, 'NEGATIVO': 0.9977151155471802},\n",
              " {'POSITIVO': 0.9997686743736267, 'NEGATIVO': 8.748356049181893e-05},\n",
              " {'POSITIVO': 0.9997290968894958, 'NEGATIVO': 0.00013040084741078317},\n",
              " {'POSITIVO': 0.0013175487983971834, 'NEGATIVO': 0.9971229434013367},\n",
              " {'POSITIVO': 0.9996813535690308, 'NEGATIVO': 0.00017150203348137438},\n",
              " {'POSITIVO': 0.0006515839486382902, 'NEGATIVO': 0.9993922710418701},\n",
              " {'POSITIVO': 0.0007976096821948886, 'NEGATIVO': 0.9993711113929749},\n",
              " {'POSITIVO': 0.0015907911583781242, 'NEGATIVO': 0.9992918968200684},\n",
              " {'POSITIVO': 0.006880512461066246, 'NEGATIVO': 0.9965574741363525},\n",
              " {'POSITIVO': 0.9995030164718628, 'NEGATIVO': 4.539786823443137e-05},\n",
              " {'POSITIVO': 0.012836068868637085, 'NEGATIVO': 0.9866961240768433},\n",
              " {'POSITIVO': 0.0012008276535198092, 'NEGATIVO': 0.9972960352897644},\n",
              " {'POSITIVO': 0.0022919755429029465, 'NEGATIVO': 0.9995473027229309},\n",
              " {'POSITIVO': 0.0026430943980813026, 'NEGATIVO': 0.999729335308075},\n",
              " {'POSITIVO': 0.9992607235908508, 'NEGATIVO': 0.0005014034104533494},\n",
              " {'POSITIVO': 0.0005512851057574153, 'NEGATIVO': 0.999454915523529},\n",
              " {'POSITIVO': 0.0030485522001981735, 'NEGATIVO': 0.9968705773353577},\n",
              " {'POSITIVO': 0.001205253298394382, 'NEGATIVO': 0.9990181922912598},\n",
              " {'POSITIVO': 0.00141088233795017, 'NEGATIVO': 0.9997914433479309},\n",
              " {'POSITIVO': 0.0011239686282351613, 'NEGATIVO': 0.9990208148956299},\n",
              " {'POSITIVO': 0.9997401833534241, 'NEGATIVO': 0.00041600721306167543},\n",
              " {'POSITIVO': 0.0002863742411136627, 'NEGATIVO': 0.9996548891067505},\n",
              " {'POSITIVO': 0.0023230984807014465, 'NEGATIVO': 0.995754599571228},\n",
              " {'POSITIVO': 0.9994567036628723, 'NEGATIVO': 0.0001005946978693828},\n",
              " {'POSITIVO': 0.00221225805580616, 'NEGATIVO': 0.9985523819923401},\n",
              " {'POSITIVO': 0.0008817657944746315, 'NEGATIVO': 0.9984594583511353},\n",
              " {'POSITIVO': 0.9996911287307739, 'NEGATIVO': 0.000173390973941423},\n",
              " {'POSITIVO': 0.9995771050453186, 'NEGATIVO': 0.0002754048618953675},\n",
              " {'POSITIVO': 0.0012364726280793548, 'NEGATIVO': 0.997955322265625},\n",
              " {'POSITIVO': 0.0022828890942037106, 'NEGATIVO': 0.9991825222969055},\n",
              " {'POSITIVO': 0.9992830157279968, 'NEGATIVO': 0.0008598353015258908},\n",
              " {'POSITIVO': 0.9990241527557373, 'NEGATIVO': 0.0003187349939253181},\n",
              " {'POSITIVO': 0.002491467632353306, 'NEGATIVO': 0.9992944002151489},\n",
              " {'POSITIVO': 0.0032811486162245274, 'NEGATIVO': 0.9979324340820312},\n",
              " {'POSITIVO': 0.9996950626373291, 'NEGATIVO': 0.00014373741578310728},\n",
              " {'POSITIVO': 0.0052121286280453205, 'NEGATIVO': 0.9983186721801758},\n",
              " {'POSITIVO': 0.9997205138206482, 'NEGATIVO': 0.00014115255908109248},\n",
              " {'POSITIVO': 0.9997174143791199, 'NEGATIVO': 0.00028227752773091197},\n",
              " {'POSITIVO': 0.006374881602823734, 'NEGATIVO': 0.9994359612464905},\n",
              " {'POSITIVO': 0.0023465838748961687, 'NEGATIVO': 0.9987806677818298},\n",
              " {'POSITIVO': 0.006883481051772833, 'NEGATIVO': 0.9923326969146729},\n",
              " {'POSITIVO': 0.002557516098022461, 'NEGATIVO': 0.9966946840286255},\n",
              " {'POSITIVO': 0.9991195797920227, 'NEGATIVO': 0.0005727125098928809},\n",
              " {'POSITIVO': 0.9975524544715881, 'NEGATIVO': 0.0011046727886423469},\n",
              " {'POSITIVO': 0.995721697807312, 'NEGATIVO': 0.0007406767108477652},\n",
              " {'POSITIVO': 0.0022897273302078247, 'NEGATIVO': 0.9992545247077942},\n",
              " {'POSITIVO': 0.007815933786332607, 'NEGATIVO': 0.9916063547134399},\n",
              " {'POSITIVO': 0.0020420581568032503, 'NEGATIVO': 0.9998458623886108},\n",
              " {'POSITIVO': 0.015969309955835342, 'NEGATIVO': 0.9939272403717041},\n",
              " {'POSITIVO': 0.997088611125946, 'NEGATIVO': 0.0004403549537528306},\n",
              " {'POSITIVO': 0.9885298609733582, 'NEGATIVO': 0.004939890466630459},\n",
              " {'POSITIVO': 0.003657746594399214, 'NEGATIVO': 0.9982788562774658},\n",
              " {'POSITIVO': 0.9995889067649841, 'NEGATIVO': 0.00022472300042863935},\n",
              " {'POSITIVO': 0.0003165370726492256, 'NEGATIVO': 0.9995875954627991},\n",
              " {'POSITIVO': 0.004247503820806742, 'NEGATIVO': 0.9994385838508606},\n",
              " {'POSITIVO': 0.0035756188444793224, 'NEGATIVO': 0.9995614886283875},\n",
              " {'POSITIVO': 0.999285876750946, 'NEGATIVO': 0.0003652082523331046},\n",
              " {'POSITIVO': 0.010935919359326363, 'NEGATIVO': 0.9975416660308838},\n",
              " {'POSITIVO': 0.9997569918632507, 'NEGATIVO': 0.00021727658167947084},\n",
              " {'POSITIVO': 0.9990692734718323, 'NEGATIVO': 0.000469558231998235},\n",
              " {'POSITIVO': 0.0013992764288559556, 'NEGATIVO': 0.9991422891616821},\n",
              " {'POSITIVO': 0.0038845434319227934, 'NEGATIVO': 0.9969974756240845},\n",
              " {'POSITIVO': 0.9997005462646484, 'NEGATIVO': 0.00017128877516370267},\n",
              " {'POSITIVO': 0.99982088804245, 'NEGATIVO': 0.0003099283785559237},\n",
              " {'POSITIVO': 0.999147891998291, 'NEGATIVO': 0.00015591470582876354},\n",
              " {'POSITIVO': 0.999776303768158, 'NEGATIVO': 0.0001231027563335374},\n",
              " {'POSITIVO': 0.0007593292975798249, 'NEGATIVO': 0.9995978474617004},\n",
              " {'POSITIVO': 0.9995467066764832, 'NEGATIVO': 9.26268839975819e-05},\n",
              " {'POSITIVO': 0.9996910095214844, 'NEGATIVO': 0.00022607586288359016},\n",
              " {'POSITIVO': 0.9988231062889099, 'NEGATIVO': 0.0038712553214281797},\n",
              " {'POSITIVO': 0.0020412374287843704, 'NEGATIVO': 0.9993926286697388},\n",
              " {'POSITIVO': 0.9987512826919556, 'NEGATIVO': 9.739781671669334e-05},\n",
              " {'POSITIVO': 0.0040654512122273445, 'NEGATIVO': 0.9969168901443481},\n",
              " {'POSITIVO': 0.9964428544044495, 'NEGATIVO': 0.0013145406264811754},\n",
              " {'POSITIVO': 0.0019580249208956957, 'NEGATIVO': 0.9992226362228394},\n",
              " {'POSITIVO': 0.003564313519746065, 'NEGATIVO': 0.994836688041687},\n",
              " {'POSITIVO': 0.9997302889823914, 'NEGATIVO': 0.00013900331396143883},\n",
              " {'POSITIVO': 0.002257200889289379, 'NEGATIVO': 0.9983841180801392},\n",
              " {'POSITIVO': 0.002052984433248639, 'NEGATIVO': 0.999302864074707},\n",
              " {'POSITIVO': 0.999767005443573, 'NEGATIVO': 0.0002735349116846919},\n",
              " {'POSITIVO': 0.9995890259742737, 'NEGATIVO': 0.00010310831567039713},\n",
              " {'POSITIVO': 0.005074535496532917, 'NEGATIVO': 0.9992676377296448},\n",
              " {'POSITIVO': 0.0023662408348172903, 'NEGATIVO': 0.9985097050666809},\n",
              " {'POSITIVO': 0.9997218251228333, 'NEGATIVO': 0.00019340781727805734},\n",
              " {'POSITIVO': 0.999544084072113, 'NEGATIVO': 0.00023469814914278686},\n",
              " {'POSITIVO': 0.9993308782577515, 'NEGATIVO': 0.0006130022811703384},\n",
              " {'POSITIVO': 0.0007709173951297998, 'NEGATIVO': 0.999725878238678},\n",
              " {'POSITIVO': 0.003274859394878149, 'NEGATIVO': 0.9993454813957214},\n",
              " {'POSITIVO': 0.9996663331985474, 'NEGATIVO': 0.00018343563715461642},\n",
              " {'POSITIVO': 0.0020824018865823746, 'NEGATIVO': 0.9998915195465088},\n",
              " {'POSITIVO': 0.9997174143791199, 'NEGATIVO': 0.00018007382459472865},\n",
              " {'POSITIVO': 0.999735414981842, 'NEGATIVO': 0.0001235161762451753},\n",
              " {'POSITIVO': 0.001843257574364543, 'NEGATIVO': 0.9993923902511597},\n",
              " {'POSITIVO': 0.00241889338940382, 'NEGATIVO': 0.9987576007843018},\n",
              " {'POSITIVO': 0.9996751546859741, 'NEGATIVO': 0.000128617393784225},\n",
              " {'POSITIVO': 0.004278027918189764, 'NEGATIVO': 0.9987620115280151},\n",
              " {'POSITIVO': 0.002626300323754549, 'NEGATIVO': 0.9979922771453857},\n",
              " {'POSITIVO': 0.9997344613075256, 'NEGATIVO': 0.0001406543597113341},\n",
              " {'POSITIVO': 0.0010301494039595127, 'NEGATIVO': 0.9990326166152954},\n",
              " {'POSITIVO': 0.9955788254737854, 'NEGATIVO': 0.0010611239122226834},\n",
              " {'POSITIVO': 0.0015907965134829283, 'NEGATIVO': 0.9981472492218018},\n",
              " {'POSITIVO': 0.9997569918632507, 'NEGATIVO': 0.00010900256893364713},\n",
              " {'POSITIVO': 0.0009084481280297041, 'NEGATIVO': 0.9990554451942444},\n",
              " {'POSITIVO': 0.001229498884640634, 'NEGATIVO': 0.9990637898445129},\n",
              " {'POSITIVO': 0.0014577480033040047, 'NEGATIVO': 0.9998925924301147},\n",
              " {'POSITIVO': 0.9998230338096619, 'NEGATIVO': 0.0002873103367164731},\n",
              " {'POSITIVO': 0.00045391591265797615, 'NEGATIVO': 0.9995717406272888},\n",
              " {'POSITIVO': 0.005627182312309742, 'NEGATIVO': 0.9984318614006042},\n",
              " {'POSITIVO': 0.9997566342353821, 'NEGATIVO': 0.00014156596444081515},\n",
              " {'POSITIVO': 0.02489192597568035, 'NEGATIVO': 0.9824011921882629},\n",
              " {'POSITIVO': 0.002517418237403035, 'NEGATIVO': 0.998616099357605},\n",
              " {'POSITIVO': 0.9973976612091064, 'NEGATIVO': 0.001203673891723156},\n",
              " {'POSITIVO': 0.999789297580719, 'NEGATIVO': 9.497782593825832e-05},\n",
              " {'POSITIVO': 0.0006599982152692974, 'NEGATIVO': 0.9998113512992859},\n",
              " {'POSITIVO': 0.002140637254342437, 'NEGATIVO': 0.9977241158485413},\n",
              " {'POSITIVO': 0.023151163011789322, 'NEGATIVO': 0.9821226596832275},\n",
              " {'POSITIVO': 0.999699592590332, 'NEGATIVO': 0.00020336821035016328},\n",
              " {'POSITIVO': 0.0023829457350075245, 'NEGATIVO': 0.9995500445365906},\n",
              " {'POSITIVO': 0.998807430267334, 'NEGATIVO': 0.0008226049831137061},\n",
              " {'POSITIVO': 0.0024166509974747896, 'NEGATIVO': 0.9985187649726868},\n",
              " {'POSITIVO': 0.023075640201568604, 'NEGATIVO': 0.9902487397193909},\n",
              " {'POSITIVO': 0.9998040795326233, 'NEGATIVO': 0.00014071245095692575},\n",
              " {'POSITIVO': 0.9974936246871948, 'NEGATIVO': 0.0006015426479279995},\n",
              " {'POSITIVO': 0.002600177191197872, 'NEGATIVO': 0.996291995048523},\n",
              " {'POSITIVO': 0.0012246024562045932, 'NEGATIVO': 0.9991397857666016},\n",
              " {'POSITIVO': 0.000506556243635714, 'NEGATIVO': 0.9999047517776489},\n",
              " {'POSITIVO': 0.9997885823249817, 'NEGATIVO': 0.0002560042485129088},\n",
              " {'POSITIVO': 0.0011563595617190003, 'NEGATIVO': 0.9994003772735596},\n",
              " {'POSITIVO': 0.9997468590736389, 'NEGATIVO': 7.790802919771522e-05},\n",
              " {'POSITIVO': 0.9997068047523499, 'NEGATIVO': 9.763391426531598e-05},\n",
              " {'POSITIVO': 0.012335136532783508, 'NEGATIVO': 0.9966233968734741},\n",
              " {'POSITIVO': 0.9997934699058533, 'NEGATIVO': 0.00011523537978064269},\n",
              " {'POSITIVO': 0.0004339118313509971, 'NEGATIVO': 0.9987441301345825},\n",
              " {'POSITIVO': 0.0073317852802574635, 'NEGATIVO': 0.9985523819923401},\n",
              " {'POSITIVO': 0.0004096500633750111, 'NEGATIVO': 0.9991710186004639},\n",
              " {'POSITIVO': 0.9997809529304504, 'NEGATIVO': 0.00012775856885127723},\n",
              " {'POSITIVO': 0.9997690320014954, 'NEGATIVO': 8.481572876917198e-05},\n",
              " {'POSITIVO': 0.9996738433837891, 'NEGATIVO': 0.00029895378975197673},\n",
              " {'POSITIVO': 0.0063221994787454605, 'NEGATIVO': 0.9925852417945862},\n",
              " {'POSITIVO': 0.004585979040712118, 'NEGATIVO': 0.999612033367157},\n",
              " {'POSITIVO': 0.9996976852416992, 'NEGATIVO': 0.00018487655324861407},\n",
              " {'POSITIVO': 0.9997740387916565, 'NEGATIVO': 0.0002367663983022794},\n",
              " {'POSITIVO': 0.0033208427485078573, 'NEGATIVO': 0.9931578040122986},\n",
              " {'POSITIVO': 0.0007654309156350791, 'NEGATIVO': 0.9975160360336304},\n",
              " {'POSITIVO': 0.9997279047966003, 'NEGATIVO': 0.0001546363637316972},\n",
              " {'POSITIVO': 0.0009509523515589535, 'NEGATIVO': 0.9992709755897522},\n",
              " {'POSITIVO': 0.0013456669403240085, 'NEGATIVO': 0.9992345571517944},\n",
              " {'POSITIVO': 0.9998170733451843, 'NEGATIVO': 0.00011623036698438227},\n",
              " {'POSITIVO': 0.0011031936155632138, 'NEGATIVO': 0.9992523789405823},\n",
              " {'POSITIVO': 0.998711347579956, 'NEGATIVO': 0.0006468265783041716},\n",
              " {'POSITIVO': 0.9969448447227478, 'NEGATIVO': 0.002462284406647086},\n",
              " {'POSITIVO': 0.0005033303168602288, 'NEGATIVO': 0.9995365142822266},\n",
              " {'POSITIVO': 0.999544084072113, 'NEGATIVO': 0.00023469814914278686},\n",
              " {'POSITIVO': 0.0019365157932043076, 'NEGATIVO': 0.9997010827064514},\n",
              " {'POSITIVO': 0.001334611908532679, 'NEGATIVO': 0.999250590801239},\n",
              " {'POSITIVO': 0.001322752214036882, 'NEGATIVO': 0.9981120824813843},\n",
              " {'POSITIVO': 0.007004127372056246, 'NEGATIVO': 0.9934452772140503},\n",
              " {'POSITIVO': 0.9983953833580017, 'NEGATIVO': 0.0009212843724526465},\n",
              " {'POSITIVO': 0.0025501190684735775, 'NEGATIVO': 0.99922776222229},\n",
              " {'POSITIVO': 0.0019500806229189038, 'NEGATIVO': 0.9992294311523438},\n",
              " {'POSITIVO': 0.002510076854377985, 'NEGATIVO': 0.999413013458252},\n",
              " {'POSITIVO': 0.0014173047384247184, 'NEGATIVO': 0.9972062706947327},\n",
              " {'POSITIVO': 0.9814614653587341, 'NEGATIVO': 0.0033365152776241302},\n",
              " {'POSITIVO': 0.9997941851615906, 'NEGATIVO': 0.00021341086539905518},\n",
              " {'POSITIVO': 0.016556227579712868, 'NEGATIVO': 0.9983540773391724},\n",
              " {'POSITIVO': 0.0008469989988952875, 'NEGATIVO': 0.99882572889328},\n",
              " {'POSITIVO': 0.0029524345882236958, 'NEGATIVO': 0.9979333877563477},\n",
              " {'POSITIVO': 0.9997633099555969, 'NEGATIVO': 0.0001797021395759657},\n",
              " {'POSITIVO': 0.9997569918632507, 'NEGATIVO': 0.00018326641293242574},\n",
              " {'POSITIVO': 0.9987175464630127, 'NEGATIVO': 0.0008444959530606866},\n",
              " {'POSITIVO': 0.0006830576458014548, 'NEGATIVO': 0.9995443224906921},\n",
              " {'POSITIVO': 0.9997352957725525, 'NEGATIVO': 0.00019985943799838424},\n",
              " {'POSITIVO': 0.00633640494197607, 'NEGATIVO': 0.9965745210647583},\n",
              " {'POSITIVO': 0.9996486902236938, 'NEGATIVO': 0.0001298124116146937},\n",
              " {'POSITIVO': 0.9997069239616394, 'NEGATIVO': 6.521073373733088e-05},\n",
              " {'POSITIVO': 0.0007019953336566687, 'NEGATIVO': 0.9991644620895386},\n",
              " {'POSITIVO': 0.9997686743736267, 'NEGATIVO': 8.748356049181893e-05},\n",
              " {'POSITIVO': 0.9997130036354065, 'NEGATIVO': 0.0002018209343077615},\n",
              " {'POSITIVO': 0.9996798038482666, 'NEGATIVO': 0.00017587783804628998},\n",
              " {'POSITIVO': 0.9997509121894836, 'NEGATIVO': 0.00029556293156929314},\n",
              " {'POSITIVO': 0.02023041993379593, 'NEGATIVO': 0.9948845505714417},\n",
              " {'POSITIVO': 0.0013091013533994555, 'NEGATIVO': 0.9998756647109985},\n",
              " {'POSITIVO': 0.9998016953468323, 'NEGATIVO': 0.00019571966549847275},\n",
              " {'POSITIVO': 0.9997040629386902, 'NEGATIVO': 0.00015846856695134193},\n",
              " {'POSITIVO': 0.003878248855471611, 'NEGATIVO': 0.9971184730529785},\n",
              " {'POSITIVO': 0.011805552989244461, 'NEGATIVO': 0.9916315674781799},\n",
              " {'POSITIVO': 0.0011272481642663479, 'NEGATIVO': 0.9986090064048767},\n",
              " {'POSITIVO': 0.002444896847009659, 'NEGATIVO': 0.9949852228164673},\n",
              " {'POSITIVO': 0.9994366765022278, 'NEGATIVO': 0.0001236359094036743},\n",
              " {'POSITIVO': 0.9997386336326599, 'NEGATIVO': 0.00015552478726021945},\n",
              " {'POSITIVO': 0.0007830204558558762, 'NEGATIVO': 0.9993721842765808},\n",
              " {'POSITIVO': 0.002542070811614394, 'NEGATIVO': 0.9940989017486572},\n",
              " {'POSITIVO': 0.9910814762115479, 'NEGATIVO': 0.002880672924220562},\n",
              " {'POSITIVO': 0.0011552905198186636, 'NEGATIVO': 0.998862624168396},\n",
              " {'POSITIVO': 0.0034442294854670763, 'NEGATIVO': 0.9993294477462769},\n",
              " {'POSITIVO': 0.002594825578853488, 'NEGATIVO': 0.9989247918128967},\n",
              " {'POSITIVO': 0.9997506737709045, 'NEGATIVO': 0.00017704788479022682},\n",
              " {'POSITIVO': 0.9997232556343079, 'NEGATIVO': 0.00012440222781151533},\n",
              " {'POSITIVO': 0.0017249260563403368, 'NEGATIVO': 0.9991081357002258},\n",
              " {'POSITIVO': 0.9962041974067688, 'NEGATIVO': 0.002288983203470707},\n",
              " {'POSITIVO': 0.9995835423469543, 'NEGATIVO': 5.7340439525432885e-05},\n",
              " {'POSITIVO': 0.9997959733009338, 'NEGATIVO': 0.00024096800188999623},\n",
              " {'POSITIVO': 0.9994807839393616, 'NEGATIVO': 0.0002822201931849122},\n",
              " {'POSITIVO': 0.0026552178896963596, 'NEGATIVO': 0.9995087385177612},\n",
              " {'POSITIVO': 0.0015476546250283718, 'NEGATIVO': 0.9988314509391785},\n",
              " {'POSITIVO': 0.9989916682243347, 'NEGATIVO': 0.0003888487699441612},\n",
              " {'POSITIVO': 0.0019590475130826235, 'NEGATIVO': 0.9995550513267517},\n",
              " {'POSITIVO': 0.0012441582512110472, 'NEGATIVO': 0.9991787075996399},\n",
              " {'POSITIVO': 0.0016900354530662298, 'NEGATIVO': 0.9989520311355591},\n",
              " {'POSITIVO': 0.9996747970581055, 'NEGATIVO': 0.00021860047127120197},\n",
              " {'POSITIVO': 0.9978371262550354, 'NEGATIVO': 0.0008059096871875226},\n",
              " {'POSITIVO': 0.9997733235359192, 'NEGATIVO': 0.0003347056044731289},\n",
              " {'POSITIVO': 0.0007237820536829531, 'NEGATIVO': 0.9991476535797119},\n",
              " {'POSITIVO': 0.9997392296791077, 'NEGATIVO': 0.0003384882875252515},\n",
              " {'POSITIVO': 0.998703122138977, 'NEGATIVO': 0.00011645469930954278},\n",
              " {'POSITIVO': 0.9996747970581055, 'NEGATIVO': 0.00012297593639232218},\n",
              " {'POSITIVO': 0.9997197985649109, 'NEGATIVO': 0.0002436023496557027},\n",
              " {'POSITIVO': 0.999721348285675, 'NEGATIVO': 0.00020794534066226333},\n",
              " {'POSITIVO': 0.0023763065692037344, 'NEGATIVO': 0.9986135959625244},\n",
              " {'POSITIVO': 0.014514979906380177, 'NEGATIVO': 0.9971277117729187},\n",
              " {'POSITIVO': 0.0023130488116294146, 'NEGATIVO': 0.9935356378555298},\n",
              " {'POSITIVO': 0.006073272321373224, 'NEGATIVO': 0.9993736147880554},\n",
              " {'POSITIVO': 0.019441111013293266, 'NEGATIVO': 0.9954258799552917},\n",
              " {'POSITIVO': 0.004397306591272354, 'NEGATIVO': 0.9987010955810547},\n",
              " {'POSITIVO': 0.0013445037184283137, 'NEGATIVO': 0.9991544485092163},\n",
              " {'POSITIVO': 0.002949931425973773, 'NEGATIVO': 0.9993665814399719},\n",
              " {'POSITIVO': 0.0074703143909573555, 'NEGATIVO': 0.9969504475593567},\n",
              " {'POSITIVO': 0.0006209204439073801, 'NEGATIVO': 0.9995881915092468},\n",
              " {'POSITIVO': 0.0008472076733596623, 'NEGATIVO': 0.9980705380439758},\n",
              " {'POSITIVO': 0.0019961302168667316, 'NEGATIVO': 0.9987004995346069},\n",
              " {'POSITIVO': 0.9991809725761414, 'NEGATIVO': 0.0005400177906267345},\n",
              " {'POSITIVO': 0.0012668734416365623, 'NEGATIVO': 0.9955975413322449},\n",
              " {'POSITIVO': 0.009919269010424614, 'NEGATIVO': 0.9912576675415039},\n",
              " {'POSITIVO': 0.9997408986091614, 'NEGATIVO': 0.00012125987268518656},\n",
              " {'POSITIVO': 0.0024402530398219824, 'NEGATIVO': 0.9997005462646484},\n",
              " {'POSITIVO': 0.9997418522834778, 'NEGATIVO': 0.00039519602432847023},\n",
              " {'POSITIVO': 0.0025940879713743925, 'NEGATIVO': 0.9991692304611206},\n",
              " {'POSITIVO': 0.9997456669807434, 'NEGATIVO': 8.801859803497791e-05},\n",
              " {'POSITIVO': 0.0018403008580207825, 'NEGATIVO': 0.9997531771659851},\n",
              " {'POSITIVO': 0.0023460937663912773, 'NEGATIVO': 0.9966541528701782},\n",
              " {'POSITIVO': 0.9996784925460815, 'NEGATIVO': 4.539786823443137e-05},\n",
              " {'POSITIVO': 0.9997820258140564, 'NEGATIVO': 0.00010287937766406685},\n",
              " {'POSITIVO': 0.004661076702177525, 'NEGATIVO': 0.9965108036994934},\n",
              " {'POSITIVO': 0.9997444748878479, 'NEGATIVO': 0.00010616208601277322},\n",
              " {'POSITIVO': 0.003567360108718276, 'NEGATIVO': 0.9965603947639465},\n",
              " {'POSITIVO': 0.00037696928484365344, 'NEGATIVO': 0.999600350856781},\n",
              " {'POSITIVO': 0.001960482681170106, 'NEGATIVO': 0.9980087876319885},\n",
              " {'POSITIVO': 0.0007140191155485809, 'NEGATIVO': 0.9992678761482239},\n",
              " {'POSITIVO': 0.9997376799583435, 'NEGATIVO': 0.00025985523825511336},\n",
              " {'POSITIVO': 0.001983824884518981, 'NEGATIVO': 0.9994958639144897},\n",
              " {'POSITIVO': 0.9997878670692444, 'NEGATIVO': 0.00013531096919905394},\n",
              " {'POSITIVO': 0.9988025426864624, 'NEGATIVO': 0.00025013284175656736},\n",
              " {'POSITIVO': 0.9948554039001465, 'NEGATIVO': 0.0011651036329567432},\n",
              " {'POSITIVO': 0.9997908473014832, 'NEGATIVO': 0.00020472443429753184},\n",
              " {'POSITIVO': 0.014725659042596817, 'NEGATIVO': 0.9966261386871338},\n",
              " {'POSITIVO': 0.001298457500524819, 'NEGATIVO': 0.9993370175361633},\n",
              " {'POSITIVO': 0.9997829794883728, 'NEGATIVO': 0.00015652782167308033},\n",
              " {'POSITIVO': 0.0015101833269000053, 'NEGATIVO': 0.9986860156059265},\n",
              " {'POSITIVO': 0.998867392539978, 'NEGATIVO': 0.00044917751802131534},\n",
              " {'POSITIVO': 0.0006655387114733458, 'NEGATIVO': 0.998354434967041},\n",
              " {'POSITIVO': 0.003753530327230692, 'NEGATIVO': 0.9988536834716797},\n",
              " {'POSITIVO': 0.9996939897537231, 'NEGATIVO': 0.0002096568641718477},\n",
              " {'POSITIVO': 0.0010192868066951632, 'NEGATIVO': 0.9997829794883728},\n",
              " {'POSITIVO': 0.9969532489776611, 'NEGATIVO': 0.0004908047267235816},\n",
              " {'POSITIVO': 0.0015620215563103557, 'NEGATIVO': 0.9995514750480652},\n",
              " {'POSITIVO': 0.9959703683853149, 'NEGATIVO': 0.0011163561139255762},\n",
              " {'POSITIVO': 0.0028687745798379183, 'NEGATIVO': 0.993111252784729},\n",
              " {'POSITIVO': 0.9994528889656067, 'NEGATIVO': 0.0001449871779186651},\n",
              " {'POSITIVO': 0.9995966553688049, 'NEGATIVO': 0.00027857039822265506},\n",
              " {'POSITIVO': 0.004317987244576216, 'NEGATIVO': 0.9986060261726379},\n",
              " {'POSITIVO': 0.0024168912786990404, 'NEGATIVO': 0.9992576241493225},\n",
              " {'POSITIVO': 0.000858949264511466, 'NEGATIVO': 0.9998132586479187},\n",
              " {'POSITIVO': 0.0010032103164121509, 'NEGATIVO': 0.9966225624084473},\n",
              " {'POSITIVO': 0.9996063113212585, 'NEGATIVO': 9.141436748905107e-05},\n",
              " {'POSITIVO': 0.9997554421424866, 'NEGATIVO': 0.00018434406956657767},\n",
              " {'POSITIVO': 0.0010304168099537492, 'NEGATIVO': 0.9990587830543518},\n",
              " {'POSITIVO': 0.999383807182312, 'NEGATIVO': 0.00013138598296791315},\n",
              " {'POSITIVO': 0.0004381606704555452, 'NEGATIVO': 0.9988862872123718},\n",
              " {'POSITIVO': 0.01994726061820984, 'NEGATIVO': 0.985821545124054},\n",
              " {'POSITIVO': 0.9943017959594727, 'NEGATIVO': 0.0020983009599149227},\n",
              " {'POSITIVO': 0.9997820258140564, 'NEGATIVO': 0.00010287937766406685},\n",
              " {'POSITIVO': 0.9997357726097107, 'NEGATIVO': 0.00010947474947897717},\n",
              " {'POSITIVO': 0.9998235106468201, 'NEGATIVO': 0.0001954891486093402},\n",
              " {'POSITIVO': 0.009747778996825218, 'NEGATIVO': 0.9894317388534546},\n",
              " {'POSITIVO': 0.9997573494911194, 'NEGATIVO': 0.0002523293369449675},\n",
              " {'POSITIVO': 0.9996888637542725, 'NEGATIVO': 0.0001333271648036316},\n",
              " {'POSITIVO': 0.0012042978778481483, 'NEGATIVO': 0.9987127780914307},\n",
              " {'POSITIVO': 0.9997357726097107, 'NEGATIVO': 0.0002779235946945846},\n",
              " {'POSITIVO': 0.9968464970588684, 'NEGATIVO': 0.00032999698305502534},\n",
              " {'POSITIVO': 0.0022938759066164494, 'NEGATIVO': 0.998986542224884},\n",
              " {'POSITIVO': 0.9997608065605164, 'NEGATIVO': 0.00010597527580102906},\n",
              " {'POSITIVO': 0.9972810745239258, 'NEGATIVO': 0.000887888774741441},\n",
              " {'POSITIVO': 0.999336302280426, 'NEGATIVO': 0.0005996679537929595},\n",
              " {'POSITIVO': 0.9997249245643616, 'NEGATIVO': 0.00021379008830990642},\n",
              " {'POSITIVO': 0.0025807630736380816, 'NEGATIVO': 0.9991875290870667},\n",
              " {'POSITIVO': 0.9996329545974731, 'NEGATIVO': 0.00012124913337174803},\n",
              " {'POSITIVO': 0.011450673453509808, 'NEGATIVO': 0.998722493648529},\n",
              " {'POSITIVO': 0.0008223718614317477, 'NEGATIVO': 0.998004138469696},\n",
              " {'POSITIVO': 0.9996211528778076, 'NEGATIVO': 0.00012976823200006038},\n",
              " {'POSITIVO': 0.0004660015110857785, 'NEGATIVO': 0.9992936849594116},\n",
              " {'POSITIVO': 0.9997063279151917, 'NEGATIVO': 0.00012939581938553602},\n",
              " {'POSITIVO': 0.00532371923327446, 'NEGATIVO': 0.9986799359321594},\n",
              " {'POSITIVO': 0.9997182488441467, 'NEGATIVO': 0.00015252074808813632},\n",
              " {'POSITIVO': 0.9972322583198547, 'NEGATIVO': 0.0008617981802672148},\n",
              " {'POSITIVO': 0.0012537265429273248, 'NEGATIVO': 0.9996814727783203},\n",
              " {'POSITIVO': 0.9996212720870972, 'NEGATIVO': 0.00020190310897305608},\n",
              " {'POSITIVO': 0.005525089800357819, 'NEGATIVO': 0.9948411583900452},\n",
              " {'POSITIVO': 0.9997944235801697, 'NEGATIVO': 0.0002094379160553217},\n",
              " {'POSITIVO': 0.999640703201294, 'NEGATIVO': 0.00013849871174897999},\n",
              " {'POSITIVO': 0.9898964166641235, 'NEGATIVO': 0.003492767224088311},\n",
              " {'POSITIVO': 0.0006526896031573415, 'NEGATIVO': 0.9987505674362183},\n",
              " {'POSITIVO': 0.0007138698128983378, 'NEGATIVO': 0.9988090991973877},\n",
              " {'POSITIVO': 0.0004389120440464467, 'NEGATIVO': 0.999018669128418},\n",
              " {'POSITIVO': 0.9983078241348267, 'NEGATIVO': 0.000822303700260818},\n",
              " {'POSITIVO': 0.999782383441925, 'NEGATIVO': 0.00021665680105797946},\n",
              " {'POSITIVO': 0.002329670125618577, 'NEGATIVO': 0.9996793270111084},\n",
              " {'POSITIVO': 0.9995666146278381, 'NEGATIVO': 5.954374501015991e-05},\n",
              " {'POSITIVO': 0.0015733232721686363, 'NEGATIVO': 0.9996393918991089},\n",
              " {'POSITIVO': 0.0007693915977142751, 'NEGATIVO': 0.999517560005188},\n",
              " {'POSITIVO': 0.0015556870494037867, 'NEGATIVO': 0.9980736970901489},\n",
              " {'POSITIVO': 0.0011501421686261892, 'NEGATIVO': 0.9989023208618164},\n",
              " {'POSITIVO': 0.002149794017896056, 'NEGATIVO': 0.9997478127479553},\n",
              " {'POSITIVO': 0.9995957016944885, 'NEGATIVO': 0.0001069999416358769},\n",
              " {'POSITIVO': 0.9997591376304626, 'NEGATIVO': 0.00014346178795676678},\n",
              " {'POSITIVO': 0.0015304441330954432, 'NEGATIVO': 0.9982181191444397},\n",
              " {'POSITIVO': 0.004678686149418354, 'NEGATIVO': 0.9923830628395081},\n",
              " {'POSITIVO': 0.001334611908532679, 'NEGATIVO': 0.999250590801239},\n",
              " {'POSITIVO': 0.9997747540473938, 'NEGATIVO': 0.0004184393328614533},\n",
              " {'POSITIVO': 0.0017350236885249615, 'NEGATIVO': 0.9997262358665466},\n",
              " {'POSITIVO': 0.9997115731239319, 'NEGATIVO': 0.00014013185864314437},\n",
              " {'POSITIVO': 0.9995829463005066, 'NEGATIVO': 5.017629882786423e-05},\n",
              " {'POSITIVO': 0.0006098691956140101, 'NEGATIVO': 0.998323380947113},\n",
              " {'POSITIVO': 0.0010420632315799594, 'NEGATIVO': 0.998925507068634},\n",
              " {'POSITIVO': 0.001959787681698799, 'NEGATIVO': 0.9980618357658386},\n",
              " {'POSITIVO': 0.9997783303260803, 'NEGATIVO': 8.166420593624935e-05},\n",
              " {'POSITIVO': 0.9997361302375793, 'NEGATIVO': 0.00018044922035187483},\n",
              " {'POSITIVO': 0.9998151659965515, 'NEGATIVO': 0.00015335463103838265},\n",
              " {'POSITIVO': 0.0025593878235667944, 'NEGATIVO': 0.9996215105056763},\n",
              " {'POSITIVO': 0.999506950378418, 'NEGATIVO': 0.0001085885232896544},\n",
              " {'POSITIVO': 0.9988443851470947, 'NEGATIVO': 0.004213560372591019},\n",
              " {'POSITIVO': 0.004665984306484461, 'NEGATIVO': 0.9985560774803162},\n",
              " {'POSITIVO': 0.0005056257359683514, 'NEGATIVO': 0.9997069239616394},\n",
              " {'POSITIVO': 0.0009871921502053738, 'NEGATIVO': 0.9969893097877502},\n",
              " {'POSITIVO': 0.0016591199673712254, 'NEGATIVO': 0.9994029998779297},\n",
              " {'POSITIVO': 0.9998332262039185, 'NEGATIVO': 0.00023905081616248935},\n",
              " {'POSITIVO': 0.9987468719482422, 'NEGATIVO': 0.00021258024207782},\n",
              " {'POSITIVO': 0.9997242093086243, 'NEGATIVO': 7.995659689186141e-05},\n",
              " {'POSITIVO': 0.9892020225524902, 'NEGATIVO': 0.003200249746441841},\n",
              " {'POSITIVO': 0.0012568766251206398, 'NEGATIVO': 0.9958468079566956},\n",
              " {'POSITIVO': 0.9996411800384521, 'NEGATIVO': 9.439201676286757e-05},\n",
              " {'POSITIVO': 0.9997244477272034, 'NEGATIVO': 0.0001507179404143244},\n",
              " {'POSITIVO': 0.9997313618659973, 'NEGATIVO': 0.000161121686687693},\n",
              " {'POSITIVO': 0.9997162222862244, 'NEGATIVO': 0.0002240294124931097},\n",
              " {'POSITIVO': 0.9997647404670715, 'NEGATIVO': 0.000197664849110879},\n",
              " {'POSITIVO': 0.004463828168809414, 'NEGATIVO': 0.99847811460495},\n",
              " {'POSITIVO': 0.999687910079956, 'NEGATIVO': 0.00013682013377547264},\n",
              " {'POSITIVO': 0.9983944296836853, 'NEGATIVO': 0.0023530314210802317},\n",
              " {'POSITIVO': 0.9995689988136292, 'NEGATIVO': 6.689840665785596e-05},\n",
              " {'POSITIVO': 0.9996519088745117, 'NEGATIVO': 0.00014255863789003342},\n",
              " {'POSITIVO': 0.9997560381889343, 'NEGATIVO': 0.00020986025629099458},\n",
              " {'POSITIVO': 0.005970997270196676, 'NEGATIVO': 0.9960209727287292},\n",
              " {'POSITIVO': 0.9947428703308105, 'NEGATIVO': 0.003335291286930442},\n",
              " {'POSITIVO': 0.0008925194852054119, 'NEGATIVO': 0.9982782602310181},\n",
              " {'POSITIVO': 0.0002820311055984348, 'NEGATIVO': 0.999384880065918},\n",
              " {'POSITIVO': 0.00031725066946819425, 'NEGATIVO': 0.9997056126594543},\n",
              " {'POSITIVO': 0.9981591105461121, 'NEGATIVO': 0.000663590501062572},\n",
              " {'POSITIVO': 0.9997770190238953, 'NEGATIVO': 0.0003083951014559716},\n",
              " {'POSITIVO': 0.0012904248433187604, 'NEGATIVO': 0.9986966252326965},\n",
              " {'POSITIVO': 0.9997827410697937, 'NEGATIVO': 9.758587111718953e-05},\n",
              " {'POSITIVO': 0.9996850490570068, 'NEGATIVO': 4.7798515879549086e-05},\n",
              " {'POSITIVO': 0.0006755997892469168, 'NEGATIVO': 0.9996895790100098},\n",
              " {'POSITIVO': 0.9997524619102478, 'NEGATIVO': 0.0001727930357446894},\n",
              " {'POSITIVO': 0.0009250688599422574, 'NEGATIVO': 0.9982513785362244},\n",
              " {'POSITIVO': 0.0022238418459892273, 'NEGATIVO': 0.9921520352363586},\n",
              " {'POSITIVO': 0.9997941851615906, 'NEGATIVO': 0.00021341086539905518},\n",
              " {'POSITIVO': 0.00902847945690155, 'NEGATIVO': 0.9944778680801392},\n",
              " {'POSITIVO': 0.9998440742492676, 'NEGATIVO': 0.0002029799943557009},\n",
              " {'POSITIVO': 0.001187846064567566, 'NEGATIVO': 0.9981829524040222},\n",
              " {'POSITIVO': 0.9996926784515381, 'NEGATIVO': 0.00013240912812761962},\n",
              " {'POSITIVO': 0.0015084429178386927, 'NEGATIVO': 0.9984690546989441},\n",
              " {'POSITIVO': 0.9996447563171387, 'NEGATIVO': 0.0001264478050870821},\n",
              " {'POSITIVO': 0.00614337669685483, 'NEGATIVO': 0.9973282814025879},\n",
              " {'POSITIVO': 0.9996893405914307, 'NEGATIVO': 9.82441270025447e-05},\n",
              " {'POSITIVO': 0.9997296929359436, 'NEGATIVO': 0.00016915879677981138},\n",
              " {'POSITIVO': 0.9995977282524109, 'NEGATIVO': 0.0002561277651693672},\n",
              " {'POSITIVO': 0.001322682248428464, 'NEGATIVO': 0.9944002032279968},\n",
              " {'POSITIVO': 0.9984500408172607, 'NEGATIVO': 0.0022984500974416733},\n",
              " {'POSITIVO': 0.0025576099287718534, 'NEGATIVO': 0.9994180202484131},\n",
              " {'POSITIVO': 0.9997115731239319, 'NEGATIVO': 0.00023718008014839143},\n",
              " {'POSITIVO': 0.9996997117996216, 'NEGATIVO': 0.0002138457348337397},\n",
              " {'POSITIVO': 0.9996680021286011, 'NEGATIVO': 0.00012566123041324317},\n",
              " {'POSITIVO': 0.0009006637847051024, 'NEGATIVO': 0.9981807470321655},\n",
              " {'POSITIVO': 0.003468308597803116, 'NEGATIVO': 0.9996881484985352},\n",
              " {'POSITIVO': 0.9997583031654358, 'NEGATIVO': 0.0001159351522801444},\n",
              " {'POSITIVO': 0.0027295632753521204, 'NEGATIVO': 0.9976164102554321},\n",
              " {'POSITIVO': 0.9986372590065002, 'NEGATIVO': 0.0010284832678735256},\n",
              " {'POSITIVO': 0.9997785687446594, 'NEGATIVO': 0.000514258339535445},\n",
              " {'POSITIVO': 0.0020243620965629816, 'NEGATIVO': 0.9965881109237671},\n",
              " {'POSITIVO': 0.004401508253067732, 'NEGATIVO': 0.9933284521102905},\n",
              " {'POSITIVO': 0.9997281432151794, 'NEGATIVO': 0.00022966781398281455},\n",
              " {'POSITIVO': 0.9996906518936157, 'NEGATIVO': 7.159850065363571e-05},\n",
              " {'POSITIVO': 0.004300808999687433, 'NEGATIVO': 0.9985101819038391},\n",
              " {'POSITIVO': 0.9996955394744873, 'NEGATIVO': 9.707819117465988e-05},\n",
              " {'POSITIVO': 0.9996987581253052, 'NEGATIVO': 0.00011645901395240799},\n",
              " {'POSITIVO': 0.004878016654402018, 'NEGATIVO': 0.9963273406028748},\n",
              " {'POSITIVO': 0.0012253993190824986, 'NEGATIVO': 0.9991593360900879},\n",
              " {'POSITIVO': 0.9990442395210266, 'NEGATIVO': 0.0005360436043702066},\n",
              " {'POSITIVO': 0.9996981620788574, 'NEGATIVO': 0.0004739636497106403},\n",
              " {'POSITIVO': 0.9996732473373413, 'NEGATIVO': 0.00023466144921258092},\n",
              " {'POSITIVO': 0.9997264742851257, 'NEGATIVO': 0.00012757000513374805},\n",
              " {'POSITIVO': 0.9997450709342957, 'NEGATIVO': 0.00014808536798227578},\n",
              " {'POSITIVO': 0.004328134469687939, 'NEGATIVO': 0.9961776733398438},\n",
              " {'POSITIVO': 0.9997901320457458, 'NEGATIVO': 0.00018550075765233487},\n",
              " {'POSITIVO': 0.007721269968897104, 'NEGATIVO': 0.9994764924049377},\n",
              " {'POSITIVO': 0.001346051343716681, 'NEGATIVO': 0.9975283741950989},\n",
              " {'POSITIVO': 0.9997237324714661, 'NEGATIVO': 0.00010489907435839996},\n",
              " {'POSITIVO': 0.00219967239536345, 'NEGATIVO': 0.9996564388275146},\n",
              " {'POSITIVO': 0.0018979657907038927, 'NEGATIVO': 0.9975213408470154},\n",
              " {'POSITIVO': 0.0006148263928480446, 'NEGATIVO': 0.9990063309669495},\n",
              " {'POSITIVO': 0.9988906979560852, 'NEGATIVO': 0.0007896071765571833},\n",
              " {'POSITIVO': 0.002936516422778368, 'NEGATIVO': 0.9993882179260254},\n",
              " {'POSITIVO': 0.0003962178889196366, 'NEGATIVO': 0.9997946619987488},\n",
              " {'POSITIVO': 0.005816260818392038, 'NEGATIVO': 0.9975766539573669},\n",
              " {'POSITIVO': 0.001281983102671802, 'NEGATIVO': 0.9975206255912781},\n",
              " {'POSITIVO': 0.0035398313775658607, 'NEGATIVO': 0.9964106678962708},\n",
              " {'POSITIVO': 0.9997386336326599, 'NEGATIVO': 0.0001434907753719017},\n",
              " {'POSITIVO': 0.9996669292449951, 'NEGATIVO': 0.00010081508662551641},\n",
              " {'POSITIVO': 0.006892620585858822, 'NEGATIVO': 0.997749388217926},\n",
              " {'POSITIVO': 0.9997506737709045, 'NEGATIVO': 0.00016752444207668304},\n",
              " {'POSITIVO': 0.0012619320768862963, 'NEGATIVO': 0.9997957348823547},\n",
              " {'POSITIVO': 0.005177990533411503, 'NEGATIVO': 0.9978908896446228},\n",
              " {'POSITIVO': 0.00244156620465219, 'NEGATIVO': 0.9968917965888977},\n",
              " {'POSITIVO': 0.004479607101529837, 'NEGATIVO': 0.9981491565704346},\n",
              " {'POSITIVO': 0.0047065494582057, 'NEGATIVO': 0.9974969029426575},\n",
              " {'POSITIVO': 0.0010106893023476005, 'NEGATIVO': 0.9991639852523804},\n",
              " {'POSITIVO': 0.002573027042672038, 'NEGATIVO': 0.9982598423957825},\n",
              " {'POSITIVO': 0.0011881509562954307, 'NEGATIVO': 0.9988549947738647},\n",
              " {'POSITIVO': 0.01033115666359663, 'NEGATIVO': 0.9984707236289978},\n",
              " {'POSITIVO': 0.0024396495427936316, 'NEGATIVO': 0.9905397891998291},\n",
              " {'POSITIVO': 0.99970942735672, 'NEGATIVO': 0.00030130325467325747},\n",
              " {'POSITIVO': 0.000993412104435265, 'NEGATIVO': 0.9996243715286255},\n",
              " {'POSITIVO': 0.999731719493866, 'NEGATIVO': 0.00023892319586593658},\n",
              " {'POSITIVO': 0.9995660185813904, 'NEGATIVO': 0.000188626887393184},\n",
              " {'POSITIVO': 0.0014452656032517552, 'NEGATIVO': 0.9988736510276794},\n",
              " {'POSITIVO': 0.9998650550842285, 'NEGATIVO': 0.00028843479230999947},\n",
              " {'POSITIVO': 0.9997609257698059, 'NEGATIVO': 0.00019170530140399933},\n",
              " {'POSITIVO': 0.9982550740242004, 'NEGATIVO': 0.0006906474591232836},\n",
              " {'POSITIVO': 0.9976634979248047, 'NEGATIVO': 0.0011586197651922703},\n",
              " {'POSITIVO': 0.9991375207901001, 'NEGATIVO': 0.002052037976682186},\n",
              " {'POSITIVO': 0.9997686743736267, 'NEGATIVO': 8.748356049181893e-05},\n",
              " {'POSITIVO': 0.9997559189796448, 'NEGATIVO': 0.00015675366739742458},\n",
              " {'POSITIVO': 0.004770880099385977, 'NEGATIVO': 0.9986490607261658},\n",
              " {'POSITIVO': 0.0021592460107058287, 'NEGATIVO': 0.9924585223197937},\n",
              " {'POSITIVO': 0.004632450174540281, 'NEGATIVO': 0.9992237091064453},\n",
              " {'POSITIVO': 0.9996034502983093, 'NEGATIVO': 0.0003797042299993336},\n",
              " {'POSITIVO': 0.0014236605493351817, 'NEGATIVO': 0.9973614811897278},\n",
              " {'POSITIVO': 0.005348144564777613, 'NEGATIVO': 0.9974615573883057},\n",
              " {'POSITIVO': 0.9998053908348083, 'NEGATIVO': 0.00031458999728783965},\n",
              " {'POSITIVO': 0.9997684359550476, 'NEGATIVO': 0.00036376534262672067},\n",
              " {'POSITIVO': 0.0018308763392269611, 'NEGATIVO': 0.998930037021637},\n",
              " {'POSITIVO': 0.9962024092674255, 'NEGATIVO': 0.007956034503877163},\n",
              " {'POSITIVO': 0.9996218681335449, 'NEGATIVO': 0.00020104020950384438},\n",
              " {'POSITIVO': 0.9996718168258667, 'NEGATIVO': 0.0002520898706279695},\n",
              " {'POSITIVO': 0.0009857321856543422, 'NEGATIVO': 0.9993634819984436},\n",
              " {'POSITIVO': 0.001334611908532679, 'NEGATIVO': 0.999250590801239},\n",
              " {'POSITIVO': 0.003010404761880636, 'NEGATIVO': 0.9995108842849731},\n",
              " {'POSITIVO': 0.005487244576215744, 'NEGATIVO': 0.9982349872589111},\n",
              " {'POSITIVO': 0.005207381676882505, 'NEGATIVO': 0.9943021535873413},\n",
              " {'POSITIVO': 0.9995893836021423, 'NEGATIVO': 0.00012179271288914606},\n",
              " {'POSITIVO': 0.0016227801097556949, 'NEGATIVO': 0.9984875917434692},\n",
              " {'POSITIVO': 0.999609649181366, 'NEGATIVO': 0.00024176861916203052},\n",
              " {'POSITIVO': 0.005277870688587427, 'NEGATIVO': 0.9991924166679382},\n",
              " {'POSITIVO': 0.9997209906578064, 'NEGATIVO': 0.00018180494953412563},\n",
              " {'POSITIVO': 0.002441484946757555, 'NEGATIVO': 0.9987766146659851},\n",
              " {'POSITIVO': 0.003227849258109927, 'NEGATIVO': 0.9978647828102112},\n",
              " {'POSITIVO': 0.0020283753983676434, 'NEGATIVO': 0.9995332956314087},\n",
              " {'POSITIVO': 0.0014549937332049012, 'NEGATIVO': 0.9984592199325562},\n",
              " {'POSITIVO': 0.9996795654296875, 'NEGATIVO': 9.405508171766996e-05},\n",
              " {'POSITIVO': 0.00031725066946819425, 'NEGATIVO': 0.9997056126594543},\n",
              " {'POSITIVO': 0.9995242357254028, 'NEGATIVO': 6.0747432144125924e-05},\n",
              " {'POSITIVO': 0.9996625185012817, 'NEGATIVO': 0.00014503736747428775},\n",
              " {'POSITIVO': 0.0011034560156986117, 'NEGATIVO': 0.9976334571838379},\n",
              " {'POSITIVO': 0.003325827419757843, 'NEGATIVO': 0.9989369511604309},\n",
              " {'POSITIVO': 0.9998339414596558, 'NEGATIVO': 0.000142419507028535},\n",
              " {'POSITIVO': 0.9995637536048889, 'NEGATIVO': 5.442009205580689e-05},\n",
              " {'POSITIVO': 0.9970247149467468, 'NEGATIVO': 0.00018568993255030364},\n",
              " {'POSITIVO': 0.9996472597122192, 'NEGATIVO': 0.00013465156371239573},\n",
              " {'POSITIVO': 0.007837316952645779, 'NEGATIVO': 0.9983750581741333},\n",
              " {'POSITIVO': 0.01033115666359663, 'NEGATIVO': 0.9984707236289978},\n",
              " {'POSITIVO': 0.006654687225818634, 'NEGATIVO': 0.996548593044281},\n",
              " {'POSITIVO': 0.9995228052139282, 'NEGATIVO': 0.00035066716372966766},\n",
              " {'POSITIVO': 0.003779341233894229, 'NEGATIVO': 0.9954987168312073},\n",
              " {'POSITIVO': 0.9993143081665039, 'NEGATIVO': 0.00012824570876546204},\n",
              " {'POSITIVO': 0.9996980428695679, 'NEGATIVO': 0.00015742455434519798},\n",
              " {'POSITIVO': 0.999544084072113, 'NEGATIVO': 0.00023469814914278686},\n",
              " {'POSITIVO': 0.0033326565753668547, 'NEGATIVO': 0.9976766705513},\n",
              " {'POSITIVO': 0.002691315021365881, 'NEGATIVO': 0.9987996816635132},\n",
              " {'POSITIVO': 0.9993833303451538, 'NEGATIVO': 0.00016251977649517357},\n",
              " {'POSITIVO': 0.9993259906768799, 'NEGATIVO': 4.539786823443137e-05},\n",
              " {'POSITIVO': 0.9942305088043213, 'NEGATIVO': 0.004554303828626871},\n",
              " {'POSITIVO': 0.9986685514450073, 'NEGATIVO': 0.0033156638965010643},\n",
              " {'POSITIVO': 0.9987666606903076, 'NEGATIVO': 0.0003418792912270874},\n",
              " {'POSITIVO': 0.9993997812271118, 'NEGATIVO': 0.0005589898792095482},\n",
              " {'POSITIVO': 0.002089253393933177, 'NEGATIVO': 0.998740017414093},\n",
              " {'POSITIVO': 0.9996801614761353, 'NEGATIVO': 0.000243644361034967},\n",
              " {'POSITIVO': 0.9998290538787842, 'NEGATIVO': 0.0003625553217716515},\n",
              " {'POSITIVO': 0.9995203018188477, 'NEGATIVO': 6.034125908627175e-05},\n",
              " {'POSITIVO': 0.9996523857116699, 'NEGATIVO': 9.256004705093801e-05},\n",
              " {'POSITIVO': 0.9997454285621643, 'NEGATIVO': 0.00027060325373895466},\n",
              " {'POSITIVO': 0.012355945073068142, 'NEGATIVO': 0.9930816292762756},\n",
              " {'POSITIVO': 0.0043693589977920055, 'NEGATIVO': 0.9973828196525574},\n",
              " {'POSITIVO': 0.999718964099884, 'NEGATIVO': 6.9194778916426e-05},\n",
              " {'POSITIVO': 0.0020587898325175047, 'NEGATIVO': 0.999582827091217},\n",
              " {'POSITIVO': 0.9995288848876953, 'NEGATIVO': 0.00010751736408565193},\n",
              " {'POSITIVO': 0.9997133612632751, 'NEGATIVO': 0.00016704351583030075},\n",
              " {'POSITIVO': 0.99924635887146, 'NEGATIVO': 0.0005236094584688544},\n",
              " {'POSITIVO': 0.0036511425860226154, 'NEGATIVO': 0.9981313347816467},\n",
              " {'POSITIVO': 0.009660691022872925, 'NEGATIVO': 0.9972662925720215},\n",
              " {'POSITIVO': 0.0012762327678501606, 'NEGATIVO': 0.9990922212600708},\n",
              " {'POSITIVO': 0.9995318651199341, 'NEGATIVO': 0.00019515281019266695},\n",
              " {'POSITIVO': 0.9997705817222595, 'NEGATIVO': 7.012689457042143e-05},\n",
              " {'POSITIVO': 0.003962789196521044, 'NEGATIVO': 0.9996527433395386},\n",
              " {'POSITIVO': 0.00149528996553272, 'NEGATIVO': 0.9989701509475708},\n",
              " {'POSITIVO': 0.9994303584098816, 'NEGATIVO': 4.809879101230763e-05},\n",
              " {'POSITIVO': 0.005477664526551962, 'NEGATIVO': 0.9951446652412415},\n",
              " {'POSITIVO': 0.001971026649698615, 'NEGATIVO': 0.9972164630889893},\n",
              " {'POSITIVO': 0.9997345805168152, 'NEGATIVO': 0.00011241908214287832},\n",
              " {'POSITIVO': 0.0008709456888027489, 'NEGATIVO': 0.9973568916320801},\n",
              " {'POSITIVO': 0.9996566772460938, 'NEGATIVO': 0.00022311281645670533},\n",
              " {'POSITIVO': 0.0021534550469368696, 'NEGATIVO': 0.9967895150184631},\n",
              " {'POSITIVO': 0.001252969028428197, 'NEGATIVO': 0.9995254278182983},\n",
              " {'POSITIVO': 0.9997479319572449, 'NEGATIVO': 0.00026762232300825417},\n",
              " {'POSITIVO': 0.0078355073928833, 'NEGATIVO': 0.9972367286682129},\n",
              " {'POSITIVO': 0.0010277118999511003, 'NEGATIVO': 0.9972841739654541},\n",
              " {'POSITIVO': 0.9975979924201965, 'NEGATIVO': 0.0016618771478533745},\n",
              " {'POSITIVO': 0.0029587072785943747, 'NEGATIVO': 0.9977707862854004},\n",
              " {'POSITIVO': 0.010442267172038555, 'NEGATIVO': 0.995102047920227},\n",
              " {'POSITIVO': 0.9954148530960083, 'NEGATIVO': 0.0018039175774902105},\n",
              " {'POSITIVO': 0.0008187812636606395, 'NEGATIVO': 0.9989976286888123},\n",
              " {'POSITIVO': 0.9995211362838745, 'NEGATIVO': 6.426356412703171e-05},\n",
              " {'POSITIVO': 0.9918478727340698, 'NEGATIVO': 0.010458041913807392},\n",
              " {'POSITIVO': 0.001095951534807682, 'NEGATIVO': 0.9974589943885803},\n",
              " {'POSITIVO': 0.0010405880166217685, 'NEGATIVO': 0.9999377727508545},\n",
              " {'POSITIVO': 0.9996821880340576, 'NEGATIVO': 0.00013567581481765956},\n",
              " {'POSITIVO': 0.005561727099120617, 'NEGATIVO': 0.9914643168449402},\n",
              " {'POSITIVO': 0.9971432089805603, 'NEGATIVO': 0.0058264718391001225},\n",
              " {'POSITIVO': 0.0025391827803105116, 'NEGATIVO': 0.9995123147964478},\n",
              " {'POSITIVO': 0.002538328990340233, 'NEGATIVO': 0.9990242719650269},\n",
              " {'POSITIVO': 0.0021125557832419872, 'NEGATIVO': 0.9997593760490417},\n",
              " {'POSITIVO': 0.0028544513043016195, 'NEGATIVO': 0.9994767308235168},\n",
              " {'POSITIVO': 0.0020491036120802164, 'NEGATIVO': 0.9991284012794495},\n",
              " {'POSITIVO': 0.0007016707095317543, 'NEGATIVO': 0.9981985688209534},\n",
              " {'POSITIVO': 0.0005394292529672384, 'NEGATIVO': 0.9977479577064514},\n",
              " {'POSITIVO': 0.9997736811637878, 'NEGATIVO': 0.00035773307899944484},\n",
              " {'POSITIVO': 0.0006830576458014548, 'NEGATIVO': 0.9995443224906921},\n",
              " {'POSITIVO': 0.9922776222229004, 'NEGATIVO': 0.00046834925888106227},\n",
              " {'POSITIVO': 0.9996283054351807, 'NEGATIVO': 0.00012631404388230294},\n",
              " {'POSITIVO': 0.9997368454933167, 'NEGATIVO': 0.00024220651539508253},\n",
              " {'POSITIVO': 0.9997454285621643, 'NEGATIVO': 0.00013933998707216233},\n",
              " {'POSITIVO': 0.00046047178329899907, 'NEGATIVO': 0.9991921782493591},\n",
              " {'POSITIVO': 0.9995414018630981, 'NEGATIVO': 6.774195207981393e-05},\n",
              " {'POSITIVO': 0.9993029832839966, 'NEGATIVO': 0.0001323281176155433},\n",
              " {'POSITIVO': 0.002421035896986723, 'NEGATIVO': 0.998008668422699},\n",
              " {'POSITIVO': 0.9997654557228088, 'NEGATIVO': 0.0006188679835759103},\n",
              " {'POSITIVO': 0.9997565150260925, 'NEGATIVO': 0.0002693401766009629},\n",
              " {'POSITIVO': 0.00357373571023345, 'NEGATIVO': 0.9984744191169739},\n",
              " {'POSITIVO': 0.0007957905763760209, 'NEGATIVO': 0.9995567202568054},\n",
              " {'POSITIVO': 0.0019369223155081272, 'NEGATIVO': 0.9992801547050476},\n",
              " {'POSITIVO': 0.0034753258805722, 'NEGATIVO': 0.9985699653625488},\n",
              " {'POSITIVO': 0.9978834986686707, 'NEGATIVO': 0.002493377774953842},\n",
              " {'POSITIVO': 0.999555766582489, 'NEGATIVO': 0.00017553639190737158},\n",
              " {'POSITIVO': 0.9996669292449951, 'NEGATIVO': 8.780875941738486e-05},\n",
              " {'POSITIVO': 0.00096246472094208, 'NEGATIVO': 0.9997279047966003},\n",
              " {'POSITIVO': 0.000674788374453783, 'NEGATIVO': 0.9998169541358948},\n",
              " {'POSITIVO': 0.99782794713974, 'NEGATIVO': 0.00048377481289207935},\n",
              " {'POSITIVO': 0.008567155338823795, 'NEGATIVO': 0.9964951872825623},\n",
              " {'POSITIVO': 0.9996868371963501, 'NEGATIVO': 0.00015937245916575193},\n",
              " {'POSITIVO': 0.9996521472930908, 'NEGATIVO': 0.00021456794638652354},\n",
              " {'POSITIVO': 0.0021254760213196278, 'NEGATIVO': 0.9912009239196777},\n",
              " {'POSITIVO': 0.9995737671852112, 'NEGATIVO': 0.0002925569424405694},\n",
              " {'POSITIVO': 0.9991111159324646, 'NEGATIVO': 0.0008153505041263998},\n",
              " {'POSITIVO': 0.0006277672946453094, 'NEGATIVO': 0.9991227984428406},\n",
              " {'POSITIVO': 0.9997087121009827, 'NEGATIVO': 0.0001569712912896648},\n",
              " {'POSITIVO': 0.0015985744539648294, 'NEGATIVO': 0.9953926801681519},\n",
              " {'POSITIVO': 0.0019405382918193936, 'NEGATIVO': 0.9998052716255188},\n",
              " {'POSITIVO': 0.9994533658027649, 'NEGATIVO': 0.00011457085201982409},\n",
              " {'POSITIVO': 0.007412042003124952, 'NEGATIVO': 0.9995386600494385},\n",
              " {'POSITIVO': 0.9996927976608276, 'NEGATIVO': 0.00013320008292794228},\n",
              " {'POSITIVO': 0.9988191723823547, 'NEGATIVO': 0.0005657341098412871},\n",
              " {'POSITIVO': 0.9996240139007568, 'NEGATIVO': 7.523594103986397e-05},\n",
              " {'POSITIVO': 0.9996618032455444, 'NEGATIVO': 0.0001700115972198546},\n",
              " {'POSITIVO': 0.9996373653411865, 'NEGATIVO': 0.00020576397946570069},\n",
              " {'POSITIVO': 0.999675989151001, 'NEGATIVO': 0.00011997952242381871},\n",
              " {'POSITIVO': 0.0017135001253336668, 'NEGATIVO': 0.9986382126808167},\n",
              " {'POSITIVO': 0.0015069355722516775, 'NEGATIVO': 0.9989504218101501},\n",
              " {'POSITIVO': 0.9997531771659851, 'NEGATIVO': 0.0002038259553955868},\n",
              " {'POSITIVO': 0.9996751546859741, 'NEGATIVO': 0.0001216091332025826},\n",
              " {'POSITIVO': 0.007988659664988518, 'NEGATIVO': 0.9981182813644409},\n",
              " {'POSITIVO': 0.9995404481887817, 'NEGATIVO': 0.00016413677076343447},\n",
              " {'POSITIVO': 0.9996663331985474, 'NEGATIVO': 0.00013441349437925965},\n",
              " {'POSITIVO': 0.002695481525734067, 'NEGATIVO': 0.9997883439064026},\n",
              " {'POSITIVO': 0.9995766282081604, 'NEGATIVO': 0.00011157793051097542},\n",
              " {'POSITIVO': 0.002524045994505286, 'NEGATIVO': 0.9994364380836487},\n",
              " {'POSITIVO': 0.001334611908532679, 'NEGATIVO': 0.999250590801239},\n",
              " {'POSITIVO': 0.999488353729248, 'NEGATIVO': 0.0001317599817411974},\n",
              " {'POSITIVO': 0.007422840688377619, 'NEGATIVO': 0.9955863952636719},\n",
              " {'POSITIVO': 0.002632260089740157, 'NEGATIVO': 0.9991523027420044},\n",
              " {'POSITIVO': 0.9986897110939026, 'NEGATIVO': 0.0013236557133495808},\n",
              " {'POSITIVO': 0.9998176693916321, 'NEGATIVO': 0.0003486584173515439},\n",
              " {'POSITIVO': 0.0017544481670483947, 'NEGATIVO': 0.9975631237030029},\n",
              " {'POSITIVO': 0.0013186383293941617, 'NEGATIVO': 0.9986339211463928},\n",
              " {'POSITIVO': 0.001179028651677072, 'NEGATIVO': 0.9990670084953308},\n",
              " {'POSITIVO': 0.999784529209137, 'NEGATIVO': 0.00025780085707083344},\n",
              " {'POSITIVO': 0.9853589534759521, 'NEGATIVO': 0.01174363773316145},\n",
              " {'POSITIVO': 0.9997276663780212, 'NEGATIVO': 0.00019818513828795403},\n",
              " {'POSITIVO': 0.0011412345338612795, 'NEGATIVO': 0.999040424823761},\n",
              " {'POSITIVO': 0.0012790522305294871, 'NEGATIVO': 0.9990625977516174},\n",
              " {'POSITIVO': 0.999659538269043, 'NEGATIVO': 0.0010819981107488275},\n",
              " {'POSITIVO': 0.9997827410697937, 'NEGATIVO': 0.0001416833110852167},\n",
              " {'POSITIVO': 0.019631272181868553, 'NEGATIVO': 0.9923301339149475},\n",
              " {'POSITIVO': 0.0002840799279510975, 'NEGATIVO': 0.9997503161430359},\n",
              " {'POSITIVO': 0.0007090801955200732, 'NEGATIVO': 0.9997689127922058},\n",
              " {'POSITIVO': 0.9996980428695679, 'NEGATIVO': 0.00015742455434519798},\n",
              " {'POSITIVO': 0.9995423555374146, 'NEGATIVO': 0.000162535288836807},\n",
              " {'POSITIVO': 0.9997898936271667, 'NEGATIVO': 0.00018541411554906517},\n",
              " {'POSITIVO': 0.9934089183807373, 'NEGATIVO': 0.001516384887509048},\n",
              " {'POSITIVO': 0.9996009469032288, 'NEGATIVO': 0.00010503119847271591},\n",
              " {'POSITIVO': 0.00045391591265797615, 'NEGATIVO': 0.9995717406272888},\n",
              " {'POSITIVO': 0.9997420907020569, 'NEGATIVO': 0.0001154568963102065},\n",
              " {'POSITIVO': 0.002249761251732707, 'NEGATIVO': 0.9986573457717896},\n",
              " {'POSITIVO': 0.0015348311280831695, 'NEGATIVO': 0.9969843029975891},\n",
              " {'POSITIVO': 0.0009099541930481791, 'NEGATIVO': 0.9987230896949768},\n",
              " {'POSITIVO': 0.0023454753682017326, 'NEGATIVO': 0.9976961016654968},\n",
              " {'POSITIVO': 0.9977123737335205, 'NEGATIVO': 0.0004748379869852215},\n",
              " {'POSITIVO': 0.9996901750564575, 'NEGATIVO': 0.00024219127953983843},\n",
              " {'POSITIVO': 0.9979475140571594, 'NEGATIVO': 0.0008164533646777272},\n",
              " {'POSITIVO': 0.999754011631012, 'NEGATIVO': 0.00016567045531701297},\n",
              " {'POSITIVO': 0.009083467535674572, 'NEGATIVO': 0.9889151453971863},\n",
              " {'POSITIVO': 0.9994543194770813, 'NEGATIVO': 0.00014509835455100983},\n",
              " {'POSITIVO': 0.011152760125696659, 'NEGATIVO': 0.9969937801361084},\n",
              " {'POSITIVO': 0.999671220779419, 'NEGATIVO': 0.0001630563783692196},\n",
              " {'POSITIVO': 0.9997101426124573, 'NEGATIVO': 0.00020773388678207994},\n",
              " {'POSITIVO': 0.9996815919876099, 'NEGATIVO': 9.642977238399908e-05},\n",
              " {'POSITIVO': 0.005517454817891121, 'NEGATIVO': 0.9953739047050476},\n",
              " {'POSITIVO': 0.002351543167605996, 'NEGATIVO': 0.9990512728691101},\n",
              " {'POSITIVO': 0.9992939233779907, 'NEGATIVO': 0.0008728338871151209},\n",
              " {'POSITIVO': 0.00036211905535310507, 'NEGATIVO': 0.9995824694633484},\n",
              " {'POSITIVO': 0.003438221290707588, 'NEGATIVO': 0.9968421459197998},\n",
              " {'POSITIVO': 0.9996757507324219, 'NEGATIVO': 0.00013512992882169783},\n",
              " {'POSITIVO': 0.0017220918089151382, 'NEGATIVO': 0.9991045594215393},\n",
              " {'POSITIVO': 0.0014106595190241933, 'NEGATIVO': 0.9981202483177185},\n",
              " {'POSITIVO': 0.9933486580848694, 'NEGATIVO': 0.0020699005108326674},\n",
              " {'POSITIVO': 0.9997175335884094, 'NEGATIVO': 0.0001994370250031352},\n",
              " {'POSITIVO': 0.9997441172599792, 'NEGATIVO': 0.00023077103833202273},\n",
              " {'POSITIVO': 0.999683141708374, 'NEGATIVO': 0.00017864939582068473},\n",
              " {'POSITIVO': 0.0010820662137120962, 'NEGATIVO': 0.9994006156921387},\n",
              " {'POSITIVO': 0.0015724149998277426, 'NEGATIVO': 0.9979019165039062},\n",
              " {'POSITIVO': 0.0023155019152909517, 'NEGATIVO': 0.998143196105957},\n",
              " {'POSITIVO': 0.001334611908532679, 'NEGATIVO': 0.999250590801239},\n",
              " {'POSITIVO': 0.9996610879898071, 'NEGATIVO': 0.0004418053140398115},\n",
              " {'POSITIVO': 0.003596721449866891, 'NEGATIVO': 0.9976211190223694},\n",
              " {'POSITIVO': 0.9996685981750488, 'NEGATIVO': 9.684675023891032e-05},\n",
              " ...]"
            ]
          },
          "execution_count": 50,
          "metadata": {},
          "output_type": "execute_result"
        }
      ],
      "source": [
        "previsoes"
      ]
    },
    {
      "cell_type": "code",
      "execution_count": 51,
      "metadata": {
        "id": "YXTXMXAgEDMR"
      },
      "outputs": [],
      "source": [
        "previsoes_final = []\n",
        "for previsao in previsoes:\n",
        "  if previsao['POSITIVO'] > previsao['NEGATIVO']:\n",
        "    previsoes_final.append(1)\n",
        "  else:\n",
        "    previsoes_final.append(0)\n",
        "\n",
        "previsoes_final = np.array(previsoes_final)"
      ]
    },
    {
      "cell_type": "code",
      "execution_count": 52,
      "metadata": {
        "colab": {
          "base_uri": "https://localhost:8080/"
        },
        "id": "ilep1MZKEVyg",
        "outputId": "ae446317-b01b-4981-a311-fe404279f569"
      },
      "outputs": [
        {
          "data": {
            "text/plain": [
              "array([0, 1, 1, ..., 0, 0, 1])"
            ]
          },
          "execution_count": 52,
          "metadata": {},
          "output_type": "execute_result"
        }
      ],
      "source": [
        "previsoes_final"
      ]
    },
    {
      "cell_type": "code",
      "execution_count": 53,
      "metadata": {
        "colab": {
          "base_uri": "https://localhost:8080/"
        },
        "id": "3bbnP269EaYs",
        "outputId": "ec912c86-3234-48e9-fd90-79b64f53a959"
      },
      "outputs": [
        {
          "data": {
            "text/plain": [
              "array([0, 1, 1, ..., 0, 0, 1], dtype=int64)"
            ]
          },
          "execution_count": 53,
          "metadata": {},
          "output_type": "execute_result"
        }
      ],
      "source": [
        "respostas_reais = base_treinamento['sentiment'].values\n",
        "respostas_reais"
      ]
    },
    {
      "cell_type": "code",
      "execution_count": 54,
      "metadata": {
        "colab": {
          "base_uri": "https://localhost:8080/"
        },
        "id": "7dM1nOQtEo6p",
        "outputId": "19ca82b3-8d72-4765-d919-84d368047665"
      },
      "outputs": [
        {
          "data": {
            "text/plain": [
              "0.9996"
            ]
          },
          "execution_count": 54,
          "metadata": {},
          "output_type": "execute_result"
        }
      ],
      "source": [
        "from sklearn.metrics import confusion_matrix, accuracy_score\n",
        "accuracy_score(respostas_reais, previsoes_final)"
      ]
    },
    {
      "cell_type": "code",
      "execution_count": 55,
      "metadata": {
        "colab": {
          "base_uri": "https://localhost:8080/"
        },
        "id": "UuI8nXdAE-Nw",
        "outputId": "5fffdcc8-7720-42a1-c8a7-0a5f33b632d8"
      },
      "outputs": [
        {
          "data": {
            "text/plain": [
              "array([[2488,    2],\n",
              "       [   0, 2510]], dtype=int64)"
            ]
          },
          "execution_count": 55,
          "metadata": {},
          "output_type": "execute_result"
        }
      ],
      "source": [
        "cm = confusion_matrix(respostas_reais, previsoes_final)\n",
        "cm"
      ]
    },
    {
      "cell_type": "code",
      "execution_count": 56,
      "metadata": {
        "colab": {
          "base_uri": "https://localhost:8080/"
        },
        "id": "ws7BgykmyWQG",
        "outputId": "605fbb83-62dd-40cf-93f7-ff130d333537"
      },
      "outputs": [
        {
          "data": {
            "text/plain": [
              "<Axes: >"
            ]
          },
          "execution_count": 56,
          "metadata": {},
          "output_type": "execute_result"
        },
        {
          "data": {
            "image/png": "[encoded data removed]",
            "text/plain": [
              "<Figure size 640x480 with 2 Axes>"
            ]
          },
          "metadata": {},
          "output_type": "display_data"
        }
      ],
      "source": [
        "sns.heatmap(cm, annot=True)"
      ]
    },
    {
      "cell_type": "markdown",
      "metadata": {
        "id": "HmLjfVrZAE2T"
      },
      "source": [
        "## Avaliação na base de teste"
      ]
    },
    {
      "cell_type": "code",
      "execution_count": 57,
      "metadata": {
        "id": "AwmnAwRcF1sD"
      },
      "outputs": [],
      "source": [
        "previsoes = []\n",
        "for texto in base_teste['tweet_text']:\n",
        "  previsao = modelo_carregado(texto)\n",
        "  previsoes.append(previsao.cats)"
      ]
    },
    {
      "cell_type": "code",
      "execution_count": 58,
      "metadata": {
        "id": "Y7MpSvS4F8xv"
      },
      "outputs": [],
      "source": [
        "previsoes_final = []\n",
        "for previsao in previsoes:\n",
        "  if previsao['POSITIVO'] > previsao['NEGATIVO']:\n",
        "    previsoes_final.append(1)\n",
        "  else:\n",
        "    previsoes_final.append(0)\n",
        "\n",
        "previsoes_final = np.array(previsoes_final)"
      ]
    },
    {
      "cell_type": "code",
      "execution_count": 59,
      "metadata": {
        "id": "rgoCy1SXGEkw"
      },
      "outputs": [],
      "source": [
        "respostas_reais = base_teste['sentiment'].values"
      ]
    },
    {
      "cell_type": "code",
      "execution_count": 60,
      "metadata": {
        "colab": {
          "base_uri": "https://localhost:8080/"
        },
        "id": "HbpqmtMlGJ0T",
        "outputId": "c5fc1207-f7cb-466d-c0e5-023f9b0ec002"
      },
      "outputs": [
        {
          "data": {
            "text/plain": [
              "0.9946"
            ]
          },
          "execution_count": 60,
          "metadata": {},
          "output_type": "execute_result"
        }
      ],
      "source": [
        "accuracy_score(respostas_reais, previsoes_final)"
      ]
    },
    {
      "cell_type": "code",
      "execution_count": 61,
      "metadata": {
        "colab": {
          "base_uri": "https://localhost:8080/"
        },
        "id": "noYdfAJ0GQAF",
        "outputId": "5ee84abc-3126-4724-84bd-06360415b367"
      },
      "outputs": [
        {
          "data": {
            "text/plain": [
              "array([[2494,    6],\n",
              "       [  21, 2479]], dtype=int64)"
            ]
          },
          "execution_count": 61,
          "metadata": {},
          "output_type": "execute_result"
        }
      ],
      "source": [
        "cm = confusion_matrix(respostas_reais, previsoes_final)\n",
        "cm"
      ]
    },
    {
      "cell_type": "code",
      "execution_count": 62,
      "metadata": {
        "colab": {
          "base_uri": "https://localhost:8080/"
        },
        "id": "WCe0F3G8zQkW",
        "outputId": "2830a611-9b7b-4e5e-9443-c9635f380cf2"
      },
      "outputs": [
        {
          "data": {
            "text/plain": [
              "<Axes: >"
            ]
          },
          "execution_count": 62,
          "metadata": {},
          "output_type": "execute_result"
        },
        {
          "data": {
            "image/png": "[encoded data removed]",
            "text/plain": [
              "<Figure size 640x480 with 2 Axes>"
            ]
          },
          "metadata": {},
          "output_type": "display_data"
        }
      ],
      "source": [
        "sns.heatmap(cm, annot=True)"
      ]
    }
  ],
  "metadata": {
    "accelerator": "TPU",
    "colab": {
      "provenance": []
    },
    "kernelspec": {
      "display_name": "Python 3",
      "name": "python3"
    },
    "language_info": {
      "codemirror_mode": {
        "name": "ipython",
        "version": 3
      },
      "file_extension": ".py",
      "mimetype": "text/x-python",
      "name": "python",
      "nbconvert_exporter": "python",
      "pygments_lexer": "ipython3",
      "version": "3.8.0"
    }
  },
  "nbformat": 4,
  "nbformat_minor": 0
}
