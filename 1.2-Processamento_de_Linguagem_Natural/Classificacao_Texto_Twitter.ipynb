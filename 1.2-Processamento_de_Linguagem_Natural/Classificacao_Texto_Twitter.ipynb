{
 "cells": [
  {
   "attachments": {},
   "cell_type": "markdown",
   "metadata": {},
   "source": [
    "# **Classificação de textos do Twitter com spaCy**"
   ]
  },
  {
   "attachments": {},
   "cell_type": "markdown",
   "metadata": {},
   "source": [
    "### Etapa 1: Bibliotecas"
   ]
  },
  {
   "cell_type": "code",
   "execution_count": 1,
   "metadata": {},
   "outputs": [
    {
     "data": {
      "text/plain": [
       "'2.2.3'"
      ]
     },
     "execution_count": 1,
     "metadata": {},
     "output_type": "execute_result"
    }
   ],
   "source": [
    "# Libs\n",
    "import pandas as pd\n",
    "import string\n",
    "import spacy\n",
    "import random\n",
    "import seaborn as sns\n",
    "import numpy as np\n",
    "import re\n",
    "spacy.__version__"
   ]
  },
  {
   "attachments": {},
   "cell_type": "markdown",
   "metadata": {},
   "source": [
    "### Etapa 2: Carregamento da Base de dados"
   ]
  },
  {
   "cell_type": "code",
   "execution_count": 2,
   "metadata": {},
   "outputs": [
    {
     "data": {
      "text/html": [
       "<div>\n",
       "<style scoped>\n",
       "    .dataframe tbody tr th:only-of-type {\n",
       "        vertical-align: middle;\n",
       "    }\n",
       "\n",
       "    .dataframe tbody tr th {\n",
       "        vertical-align: top;\n",
       "    }\n",
       "\n",
       "    .dataframe thead th {\n",
       "        text-align: right;\n",
       "    }\n",
       "</style>\n",
       "<table border=\"1\" class=\"dataframe\">\n",
       "  <thead>\n",
       "    <tr style=\"text-align: right;\">\n",
       "      <th></th>\n",
       "      <th>texto</th>\n",
       "      <th>emocao</th>\n",
       "    </tr>\n",
       "  </thead>\n",
       "  <tbody>\n",
       "    <tr>\n",
       "      <th>0</th>\n",
       "      <td>este trabalho é agradável</td>\n",
       "      <td>alegria</td>\n",
       "    </tr>\n",
       "    <tr>\n",
       "      <th>1</th>\n",
       "      <td>gosto de ficar no seu aconchego</td>\n",
       "      <td>alegria</td>\n",
       "    </tr>\n",
       "    <tr>\n",
       "      <th>2</th>\n",
       "      <td>fiz a adesão ao curso hoje</td>\n",
       "      <td>alegria</td>\n",
       "    </tr>\n",
       "    <tr>\n",
       "      <th>3</th>\n",
       "      <td>eu sou admirada por muitos</td>\n",
       "      <td>alegria</td>\n",
       "    </tr>\n",
       "    <tr>\n",
       "      <th>4</th>\n",
       "      <td>adoro como você</td>\n",
       "      <td>alegria</td>\n",
       "    </tr>\n",
       "  </tbody>\n",
       "</table>\n",
       "</div>"
      ],
      "text/plain": [
       "                             texto   emocao\n",
       "0        este trabalho é agradável  alegria\n",
       "1  gosto de ficar no seu aconchego  alegria\n",
       "2       fiz a adesão ao curso hoje  alegria\n",
       "3       eu sou admirada por muitos  alegria\n",
       "4                  adoro como você  alegria"
      ]
     },
     "execution_count": 2,
     "metadata": {},
     "output_type": "execute_result"
    }
   ],
   "source": [
    "# dados\n",
    "bd = pd.read_csv('./data/base_treinamento.txt', encoding='utf8')\n",
    "bd.head()"
   ]
  },
  {
   "cell_type": "code",
   "execution_count": 3,
   "metadata": {},
   "outputs": [
    {
     "data": {
      "text/plain": [
       "(196, 2)"
      ]
     },
     "execution_count": 3,
     "metadata": {},
     "output_type": "execute_result"
    }
   ],
   "source": [
    "# tamanho da base de dados \n",
    "bd.shape"
   ]
  },
  {
   "cell_type": "code",
   "execution_count": 4,
   "metadata": {},
   "outputs": [
    {
     "data": {
      "image/png": "[encoded data removed]",
      "text/plain": [
       "<Figure size 640x480 with 1 Axes>"
      ]
     },
     "metadata": {},
     "output_type": "display_data"
    }
   ],
   "source": [
    "# gráficos de emoções \n",
    "sns.countplot(x=bd['emocao'], label='Contagem');"
   ]
  },
  {
   "attachments": {},
   "cell_type": "markdown",
   "metadata": {},
   "source": [
    "### Etapa 3: Função para pré-processamento dos textos"
   ]
  },
  {
   "cell_type": "code",
   "execution_count": 5,
   "metadata": {},
   "outputs": [
    {
     "data": {
      "text/plain": [
       "'!\"#$%&\\'()*+,-./:;<=>?@[\\\\]^_`{|}~'"
      ]
     },
     "execution_count": 5,
     "metadata": {},
     "output_type": "execute_result"
    }
   ],
   "source": [
    "# Variável para remover pontuações \n",
    "pontuacoes = string.punctuation\n",
    "pontuacoes"
   ]
  },
  {
   "cell_type": "code",
   "execution_count": 6,
   "metadata": {},
   "outputs": [
    {
     "data": {
      "text/plain": [
       "413"
      ]
     },
     "execution_count": 6,
     "metadata": {},
     "output_type": "execute_result"
    }
   ],
   "source": [
    "# Variável para remover as stop_words\n",
    "from spacy.lang.pt.stop_words import STOP_WORDS\n",
    "\n",
    "stop_words = STOP_WORDS\n",
    "len(stop_words)"
   ]
  },
  {
   "cell_type": "code",
   "execution_count": 7,
   "metadata": {},
   "outputs": [
    {
     "data": {
      "text/plain": [
       "<spacy.lang.pt.Portuguese at 0x2edc1f415b0>"
      ]
     },
     "execution_count": 7,
     "metadata": {},
     "output_type": "execute_result"
    }
   ],
   "source": [
    "# Carregando o spacy\n",
    "spacy.prefer_gpu()\n",
    "pln = spacy.load(\"pt_core_news_sm\")\n",
    "pln"
   ]
  },
  {
   "cell_type": "code",
   "execution_count": 8,
   "metadata": {},
   "outputs": [],
   "source": [
    "# Criação da função de processamento \n",
    "def preprocessamento(texto):\n",
    "    # Letras minúsculas\n",
    "    texto = texto.lower()\n",
    "\n",
    "    # Nome do usuário\n",
    "    texto = re.sub(r\"@[A-Za-z0-9$-_@.&+]+\", ' ', texto)\n",
    "\n",
    "    # URLs\n",
    "    texto = re.sub(r\"https?://[A-Za-z0-9./]+\", ' ', texto)\n",
    "\n",
    "    # Espaços em branco\n",
    "    texto = re.sub(r\" +\", ' ', texto)\n",
    "\n",
    "    # Emoticons\n",
    "    lista_emocoes = {':)': 'emocaopositiva',\n",
    "                    ':d': 'emocaopositiva',\n",
    "                    ':(': 'emocaonegativa'}\n",
    "    for emocao in lista_emocoes:\n",
    "        texto = texto.replace(emocao, lista_emocoes[emocao])\n",
    "\n",
    "    # Lematização\n",
    "    documento = pln(texto)\n",
    "\n",
    "    lista = []\n",
    "    for token in documento:\n",
    "        lista.append(token.lemma_)\n",
    "    \n",
    "    # Stop words e pontuações\n",
    "    lista = [palavra for palavra in lista if palavra not in stop_words and palavra not in string.punctuation]\n",
    "    lista = ' '.join([str(elemento) for elemento in lista if not elemento.isdigit()])\n",
    "    \n",
    "    return lista"
   ]
  },
  {
   "cell_type": "code",
   "execution_count": 9,
   "metadata": {},
   "outputs": [
    {
     "data": {
      "text/plain": [
       "'  emocaopositiva parir emocaonegativa mim precisamente o contrário emocaopositiva vir o chuva e vir o disposição emocaopositiva'"
      ]
     },
     "execution_count": 9,
     "metadata": {},
     "output_type": "execute_result"
    }
   ],
   "source": [
    "# testando a função\n",
    "texto_teste = '@behin_d_curtain :D Para :( mim, http://www.iaexpert.com.br é precisamente o contrário :) Vem a chuva e vem a boa disposição :)'\n",
    "resultado = preprocessamento(texto_teste)\n",
    "resultado"
   ]
  },
  {
   "cell_type": "markdown",
   "metadata": {},
   "source": [
    "### Base de Teste"
   ]
  },
  {
   "cell_type": "code",
   "execution_count": 10,
   "metadata": {},
   "outputs": [
    {
     "data": {
      "text/html": [
       "<div>\n",
       "<style scoped>\n",
       "    .dataframe tbody tr th:only-of-type {\n",
       "        vertical-align: middle;\n",
       "    }\n",
       "\n",
       "    .dataframe tbody tr th {\n",
       "        vertical-align: top;\n",
       "    }\n",
       "\n",
       "    .dataframe thead th {\n",
       "        text-align: right;\n",
       "    }\n",
       "</style>\n",
       "<table border=\"1\" class=\"dataframe\">\n",
       "  <thead>\n",
       "    <tr style=\"text-align: right;\">\n",
       "      <th></th>\n",
       "      <th>texto</th>\n",
       "      <th>emocao</th>\n",
       "    </tr>\n",
       "  </thead>\n",
       "  <tbody>\n",
       "    <tr>\n",
       "      <th>0</th>\n",
       "      <td>não precisei pagar o ingresso</td>\n",
       "      <td>alegria</td>\n",
       "    </tr>\n",
       "    <tr>\n",
       "      <th>1</th>\n",
       "      <td>se eu ajeitar tudo fica bem</td>\n",
       "      <td>alegria</td>\n",
       "    </tr>\n",
       "    <tr>\n",
       "      <th>2</th>\n",
       "      <td>minha fortuna ultrapassará a sua</td>\n",
       "      <td>alegria</td>\n",
       "    </tr>\n",
       "    <tr>\n",
       "      <th>3</th>\n",
       "      <td>sou muito afortunado</td>\n",
       "      <td>alegria</td>\n",
       "    </tr>\n",
       "    <tr>\n",
       "      <th>4</th>\n",
       "      <td>é benéfico para todos esta nova medida</td>\n",
       "      <td>alegria</td>\n",
       "    </tr>\n",
       "  </tbody>\n",
       "</table>\n",
       "</div>"
      ],
      "text/plain": [
       "                                    texto   emocao\n",
       "0           não precisei pagar o ingresso  alegria\n",
       "1             se eu ajeitar tudo fica bem  alegria\n",
       "2        minha fortuna ultrapassará a sua  alegria\n",
       "3                    sou muito afortunado  alegria\n",
       "4  é benéfico para todos esta nova medida  alegria"
      ]
     },
     "execution_count": 10,
     "metadata": {},
     "output_type": "execute_result"
    }
   ],
   "source": [
    "# Base de teste\n",
    "bd_test = pd.read_csv('./data/base_teste.txt', encoding='utf8')\n",
    "bd_test.head()"
   ]
  },
  {
   "cell_type": "markdown",
   "metadata": {},
   "source": [
    "### Etapa 4: Pré-processamento da base de dados"
   ]
  },
  {
   "cell_type": "code",
   "execution_count": 11,
   "metadata": {},
   "outputs": [
    {
     "data": {
      "text/html": [
       "<div>\n",
       "<style scoped>\n",
       "    .dataframe tbody tr th:only-of-type {\n",
       "        vertical-align: middle;\n",
       "    }\n",
       "\n",
       "    .dataframe tbody tr th {\n",
       "        vertical-align: top;\n",
       "    }\n",
       "\n",
       "    .dataframe thead th {\n",
       "        text-align: right;\n",
       "    }\n",
       "</style>\n",
       "<table border=\"1\" class=\"dataframe\">\n",
       "  <thead>\n",
       "    <tr style=\"text-align: right;\">\n",
       "      <th></th>\n",
       "      <th>texto</th>\n",
       "      <th>emocao</th>\n",
       "    </tr>\n",
       "  </thead>\n",
       "  <tbody>\n",
       "    <tr>\n",
       "      <th>0</th>\n",
       "      <td>este trabalho é agradável</td>\n",
       "      <td>alegria</td>\n",
       "    </tr>\n",
       "    <tr>\n",
       "      <th>1</th>\n",
       "      <td>gosto de ficar no seu aconchego</td>\n",
       "      <td>alegria</td>\n",
       "    </tr>\n",
       "    <tr>\n",
       "      <th>2</th>\n",
       "      <td>fiz a adesão ao curso hoje</td>\n",
       "      <td>alegria</td>\n",
       "    </tr>\n",
       "    <tr>\n",
       "      <th>3</th>\n",
       "      <td>eu sou admirada por muitos</td>\n",
       "      <td>alegria</td>\n",
       "    </tr>\n",
       "    <tr>\n",
       "      <th>4</th>\n",
       "      <td>adoro como você</td>\n",
       "      <td>alegria</td>\n",
       "    </tr>\n",
       "  </tbody>\n",
       "</table>\n",
       "</div>"
      ],
      "text/plain": [
       "                             texto   emocao\n",
       "0        este trabalho é agradável  alegria\n",
       "1  gosto de ficar no seu aconchego  alegria\n",
       "2       fiz a adesão ao curso hoje  alegria\n",
       "3       eu sou admirada por muitos  alegria\n",
       "4                  adoro como você  alegria"
      ]
     },
     "execution_count": 11,
     "metadata": {},
     "output_type": "execute_result"
    }
   ],
   "source": [
    "# Limpeza de dado\n",
    "bd.head()"
   ]
  },
  {
   "cell_type": "code",
   "execution_count": 12,
   "metadata": {},
   "outputs": [
    {
     "data": {
      "text/html": [
       "<div>\n",
       "<style scoped>\n",
       "    .dataframe tbody tr th:only-of-type {\n",
       "        vertical-align: middle;\n",
       "    }\n",
       "\n",
       "    .dataframe tbody tr th {\n",
       "        vertical-align: top;\n",
       "    }\n",
       "\n",
       "    .dataframe thead th {\n",
       "        text-align: right;\n",
       "    }\n",
       "</style>\n",
       "<table border=\"1\" class=\"dataframe\">\n",
       "  <thead>\n",
       "    <tr style=\"text-align: right;\">\n",
       "      <th></th>\n",
       "      <th>texto</th>\n",
       "      <th>emocao</th>\n",
       "    </tr>\n",
       "  </thead>\n",
       "  <tbody>\n",
       "    <tr>\n",
       "      <th>0</th>\n",
       "      <td>trabalhar agradável</td>\n",
       "      <td>alegria</td>\n",
       "    </tr>\n",
       "    <tr>\n",
       "      <th>1</th>\n",
       "      <td>gostar ficar o aconchegar</td>\n",
       "      <td>alegria</td>\n",
       "    </tr>\n",
       "    <tr>\n",
       "      <th>2</th>\n",
       "      <td>o adesão o o cursar hoje</td>\n",
       "      <td>alegria</td>\n",
       "    </tr>\n",
       "    <tr>\n",
       "      <th>3</th>\n",
       "      <td>admirar</td>\n",
       "      <td>alegria</td>\n",
       "    </tr>\n",
       "    <tr>\n",
       "      <th>4</th>\n",
       "      <td>adorar comer</td>\n",
       "      <td>alegria</td>\n",
       "    </tr>\n",
       "    <tr>\n",
       "      <th>5</th>\n",
       "      <td>adorar cabelar maciar</td>\n",
       "      <td>alegria</td>\n",
       "    </tr>\n",
       "    <tr>\n",
       "      <th>6</th>\n",
       "      <td>adorar o cor olho</td>\n",
       "      <td>alegria</td>\n",
       "    </tr>\n",
       "    <tr>\n",
       "      <th>7</th>\n",
       "      <td>somar amável o outro</td>\n",
       "      <td>alegria</td>\n",
       "    </tr>\n",
       "    <tr>\n",
       "      <th>8</th>\n",
       "      <td>sentir umar afeição</td>\n",
       "      <td>alegria</td>\n",
       "    </tr>\n",
       "    <tr>\n",
       "      <th>9</th>\n",
       "      <td>querer agradar filho</td>\n",
       "      <td>alegria</td>\n",
       "    </tr>\n",
       "  </tbody>\n",
       "</table>\n",
       "</div>"
      ],
      "text/plain": [
       "                       texto   emocao\n",
       "0        trabalhar agradável  alegria\n",
       "1  gostar ficar o aconchegar  alegria\n",
       "2   o adesão o o cursar hoje  alegria\n",
       "3                    admirar  alegria\n",
       "4               adorar comer  alegria\n",
       "5      adorar cabelar maciar  alegria\n",
       "6          adorar o cor olho  alegria\n",
       "7       somar amável o outro  alegria\n",
       "8        sentir umar afeição  alegria\n",
       "9       querer agradar filho  alegria"
      ]
     },
     "execution_count": 12,
     "metadata": {},
     "output_type": "execute_result"
    }
   ],
   "source": [
    "# Limpeza\n",
    "bd['texto'] = bd['texto'].apply(preprocessamento)\n",
    "bd.head(10)"
   ]
  },
  {
   "cell_type": "code",
   "execution_count": 13,
   "metadata": {},
   "outputs": [
    {
     "data": {
      "text/html": [
       "<div>\n",
       "<style scoped>\n",
       "    .dataframe tbody tr th:only-of-type {\n",
       "        vertical-align: middle;\n",
       "    }\n",
       "\n",
       "    .dataframe tbody tr th {\n",
       "        vertical-align: top;\n",
       "    }\n",
       "\n",
       "    .dataframe thead th {\n",
       "        text-align: right;\n",
       "    }\n",
       "</style>\n",
       "<table border=\"1\" class=\"dataframe\">\n",
       "  <thead>\n",
       "    <tr style=\"text-align: right;\">\n",
       "      <th></th>\n",
       "      <th>texto</th>\n",
       "      <th>emocao</th>\n",
       "    </tr>\n",
       "  </thead>\n",
       "  <tbody>\n",
       "    <tr>\n",
       "      <th>0</th>\n",
       "      <td>trabalhar agradável</td>\n",
       "      <td>alegria</td>\n",
       "    </tr>\n",
       "    <tr>\n",
       "      <th>1</th>\n",
       "      <td>gostar ficar o aconchegar</td>\n",
       "      <td>alegria</td>\n",
       "    </tr>\n",
       "    <tr>\n",
       "      <th>2</th>\n",
       "      <td>o adesão o o cursar hoje</td>\n",
       "      <td>alegria</td>\n",
       "    </tr>\n",
       "    <tr>\n",
       "      <th>3</th>\n",
       "      <td>admirar</td>\n",
       "      <td>alegria</td>\n",
       "    </tr>\n",
       "    <tr>\n",
       "      <th>4</th>\n",
       "      <td>adorar comer</td>\n",
       "      <td>alegria</td>\n",
       "    </tr>\n",
       "    <tr>\n",
       "      <th>5</th>\n",
       "      <td>adorar cabelar maciar</td>\n",
       "      <td>alegria</td>\n",
       "    </tr>\n",
       "    <tr>\n",
       "      <th>6</th>\n",
       "      <td>adorar o cor olho</td>\n",
       "      <td>alegria</td>\n",
       "    </tr>\n",
       "    <tr>\n",
       "      <th>7</th>\n",
       "      <td>somar amável o outro</td>\n",
       "      <td>alegria</td>\n",
       "    </tr>\n",
       "    <tr>\n",
       "      <th>8</th>\n",
       "      <td>sentir umar afeição</td>\n",
       "      <td>alegria</td>\n",
       "    </tr>\n",
       "    <tr>\n",
       "      <th>9</th>\n",
       "      <td>querer agradar filho</td>\n",
       "      <td>alegria</td>\n",
       "    </tr>\n",
       "  </tbody>\n",
       "</table>\n",
       "</div>"
      ],
      "text/plain": [
       "                       texto   emocao\n",
       "0        trabalhar agradável  alegria\n",
       "1  gostar ficar o aconchegar  alegria\n",
       "2   o adesão o o cursar hoje  alegria\n",
       "3                    admirar  alegria\n",
       "4               adorar comer  alegria\n",
       "5      adorar cabelar maciar  alegria\n",
       "6          adorar o cor olho  alegria\n",
       "7       somar amável o outro  alegria\n",
       "8        sentir umar afeição  alegria\n",
       "9       querer agradar filho  alegria"
      ]
     },
     "execution_count": 13,
     "metadata": {},
     "output_type": "execute_result"
    }
   ],
   "source": [
    "# Limpeza da base de teste\n",
    "bd_test['texto'] = bd_test['texto'].apply(preprocessamento)\n",
    "bd.head(10)"
   ]
  },
  {
   "cell_type": "markdown",
   "metadata": {},
   "source": [
    "### Tratamento da Classe"
   ]
  },
  {
   "cell_type": "code",
   "execution_count": 14,
   "metadata": {},
   "outputs": [],
   "source": [
    "# Transformando as variáveis\n",
    "bd_final = []\n",
    "for texto, emocao in zip(bd['texto'], bd['emocao']):\n",
    "    if emocao == 'alegria':\n",
    "        dic = ({'ALEGRIA': True, 'MEDO': False})\n",
    "    elif emocao == 'medo':\n",
    "        dic = ({'ALEGRIA': False, 'MEDO': True})\n",
    "\n",
    "    bd_final.append([texto, dic.copy()])"
   ]
  },
  {
   "cell_type": "code",
   "execution_count": 15,
   "metadata": {},
   "outputs": [
    {
     "data": {
      "text/plain": [
       "196"
      ]
     },
     "execution_count": 15,
     "metadata": {},
     "output_type": "execute_result"
    }
   ],
   "source": [
    "# Tamanho \n",
    "len(bd_final)"
   ]
  },
  {
   "cell_type": "code",
   "execution_count": 16,
   "metadata": {},
   "outputs": [
    {
     "data": {
      "text/plain": [
       "[['sentir completamente amar', {'ALEGRIA': True, 'MEDO': False}],\n",
       " ['amar', {'ALEGRIA': True, 'MEDO': False}],\n",
       " ['alívio', {'ALEGRIA': True, 'MEDO': False}],\n",
       " ['o dor amenizar finalmente', {'ALEGRIA': True, 'MEDO': False}],\n",
       " ['achar apaixonar', {'ALEGRIA': True, 'MEDO': False}]]"
      ]
     },
     "execution_count": 16,
     "metadata": {},
     "output_type": "execute_result"
    }
   ],
   "source": [
    "# Visualizando a base de dado\n",
    "bd_final[10:15]"
   ]
  },
  {
   "cell_type": "code",
   "execution_count": 17,
   "metadata": {},
   "outputs": [
    {
     "data": {
      "text/plain": [
       "[['trabalhar agradável', {'ALEGRIA': True, 'MEDO': False}],\n",
       " ['gostar ficar o aconchegar', {'ALEGRIA': True, 'MEDO': False}],\n",
       " ['o adesão o o cursar hoje', {'ALEGRIA': True, 'MEDO': False}],\n",
       " ['admirar', {'ALEGRIA': True, 'MEDO': False}],\n",
       " ['adorar comer', {'ALEGRIA': True, 'MEDO': False}],\n",
       " ['adorar cabelar maciar', {'ALEGRIA': True, 'MEDO': False}],\n",
       " ['adorar o cor olho', {'ALEGRIA': True, 'MEDO': False}],\n",
       " ['somar amável o outro', {'ALEGRIA': True, 'MEDO': False}],\n",
       " ['sentir umar afeição', {'ALEGRIA': True, 'MEDO': False}],\n",
       " ['querer agradar filho', {'ALEGRIA': True, 'MEDO': False}],\n",
       " ['sentir completamente amar', {'ALEGRIA': True, 'MEDO': False}],\n",
       " ['amar', {'ALEGRIA': True, 'MEDO': False}],\n",
       " ['alívio', {'ALEGRIA': True, 'MEDO': False}],\n",
       " ['o dor amenizar finalmente', {'ALEGRIA': True, 'MEDO': False}],\n",
       " ['achar apaixonar', {'ALEGRIA': True, 'MEDO': False}],\n",
       " ['amar maravilhoso', {'ALEGRIA': True, 'MEDO': False}],\n",
       " ['sentir animar', {'ALEGRIA': True, 'MEDO': False}],\n",
       " ['sentir hoje', {'ALEGRIA': True, 'MEDO': False}],\n",
       " ['comer o luar belo', {'ALEGRIA': True, 'MEDO': False}],\n",
       " ['o dia bonito', {'ALEGRIA': True, 'MEDO': False}],\n",
       " ['comer afortunar', {'ALEGRIA': True, 'MEDO': False}],\n",
       " ['o maravilhar mundo', {'ALEGRIA': True, 'MEDO': False}],\n",
       " ['receber caro hoje colega', {'ALEGRIA': True, 'MEDO': False}],\n",
       " ['sentir reconfortar hoje', {'ALEGRIA': True, 'MEDO': False}],\n",
       " ['o amigo', {'ALEGRIA': True, 'MEDO': False}],\n",
       " ['contentar o resultar teste', {'ALEGRIA': True, 'MEDO': False}],\n",
       " ['pintura brilhante', {'ALEGRIA': True, 'MEDO': False}],\n",
       " ['água abundância', {'ALEGRIA': True, 'MEDO': False}],\n",
       " ['roupar delicado', {'ALEGRIA': True, 'MEDO': False}],\n",
       " ['comediante', {'ALEGRIA': True, 'MEDO': False}],\n",
       " ['bondade o suar', {'ALEGRIA': True, 'MEDO': False}],\n",
       " ['o amor lindar', {'ALEGRIA': True, 'MEDO': False}],\n",
       " ['amizade durar parir', {'ALEGRIA': True, 'MEDO': False}],\n",
       " ['eufórico o notícia', {'ALEGRIA': True, 'MEDO': False}],\n",
       " ['realmente fiel o mim', {'ALEGRIA': True, 'MEDO': False}],\n",
       " ['umar festa parir comemorar aniversário', {'ALEGRIA': True, 'MEDO': False}],\n",
       " ['graça o deus enxergar o certar', {'ALEGRIA': True, 'MEDO': False}],\n",
       " ['o melhor escolher', {'ALEGRIA': True, 'MEDO': False}],\n",
       " ['o incrível belo', {'ALEGRIA': True, 'MEDO': False}],\n",
       " ['engraçar explicar', {'ALEGRIA': True, 'MEDO': False}],\n",
       " ['emocionante n', {'ALEGRIA': True, 'MEDO': False}],\n",
       " ['cativar pelar olhar', {'ALEGRIA': True, 'MEDO': False}],\n",
       " ['loucamente apaixonar', {'ALEGRIA': True, 'MEDO': False}],\n",
       " ['dúvida', {'ALEGRIA': True, 'MEDO': False}],\n",
       " ['rodear pelar abraçar', {'ALEGRIA': True, 'MEDO': False}],\n",
       " ['estrelo pelar caminhar', {'ALEGRIA': True, 'MEDO': False}],\n",
       " ['sentir o sol', {'ALEGRIA': True, 'MEDO': False}],\n",
       " ['sorrir orelhar o orelhar', {'ALEGRIA': True, 'MEDO': False}],\n",
       " ['valer o peno', {'ALEGRIA': True, 'MEDO': False}],\n",
       " ['finalmente colocar amor', {'ALEGRIA': True, 'MEDO': False}],\n",
       " ['nó dançar noite adentrar', {'ALEGRIA': True, 'MEDO': False}],\n",
       " ['amor brilhante', {'ALEGRIA': True, 'MEDO': False}],\n",
       " ['tocar coração durante o caminhar', {'ALEGRIA': True, 'MEDO': False}],\n",
       " ['suar amigo e companheiro', {'ALEGRIA': True, 'MEDO': False}],\n",
       " ['trazer voltar o vidar', {'ALEGRIA': True, 'MEDO': False}],\n",
       " ['e comer sonhar doce', {'ALEGRIA': True, 'MEDO': False}],\n",
       " ['adorar doce frutar', {'ALEGRIA': True, 'MEDO': False}],\n",
       " ['suco favorito', {'ALEGRIA': True, 'MEDO': False}],\n",
       " ['agradecido pelar ajudar', {'ALEGRIA': True, 'MEDO': False}],\n",
       " ['enorme prazer equipar', {'ALEGRIA': True, 'MEDO': False}],\n",
       " ['trabalhar equipar o melhor', {'ALEGRIA': True, 'MEDO': False}],\n",
       " ['sentir flutuar o ar', {'ALEGRIA': True, 'MEDO': False}],\n",
       " ['o brisa agradável hoje', {'ALEGRIA': True, 'MEDO': False}],\n",
       " ['ótimo e compatível', {'ALEGRIA': True, 'MEDO': False}],\n",
       " ['compatível o outro', {'ALEGRIA': True, 'MEDO': False}],\n",
       " ['o órgão compatível o paciente', {'ALEGRIA': True, 'MEDO': False}],\n",
       " ['contentar aceito o faculdade', {'ALEGRIA': True, 'MEDO': False}],\n",
       " ['aprovar o exame', {'ALEGRIA': True, 'MEDO': False}],\n",
       " ['beneficiar pelar empresar', {'ALEGRIA': True, 'MEDO': False}],\n",
       " ['cativante', {'ALEGRIA': True, 'MEDO': False}],\n",
       " ['contentar o apoiar', {'ALEGRIA': True, 'MEDO': False}],\n",
       " ['comer e confortável', {'ALEGRIA': True, 'MEDO': False}],\n",
       " ['e quentar n frio', {'ALEGRIA': True, 'MEDO': False}],\n",
       " ['elogiar e', {'ALEGRIA': True, 'MEDO': False}],\n",
       " ['chamar parir comemorar', {'ALEGRIA': True, 'MEDO': False}],\n",
       " ['desejável o suar presença apresentação', {'ALEGRIA': True, 'MEDO': False}],\n",
       " ['grato o', {'ALEGRIA': True, 'MEDO': False}],\n",
       " ['dedicar n', {'ALEGRIA': True, 'MEDO': False}],\n",
       " ['completamente apaixonar', {'ALEGRIA': True, 'MEDO': False}],\n",
       " ['agitar noite', {'ALEGRIA': True, 'MEDO': False}],\n",
       " ['significar parir mim', {'ALEGRIA': True, 'MEDO': False}],\n",
       " ['agir preconceito e julgamento', {'ALEGRIA': True, 'MEDO': False}],\n",
       " ['finalmente completar o coleção maravilhoso',\n",
       "  {'ALEGRIA': True, 'MEDO': False}],\n",
       " ['suar rei', {'ALEGRIA': True, 'MEDO': False}],\n",
       " ['satisfatoriamente anunciar o vencedor jogo',\n",
       "  {'ALEGRIA': True, 'MEDO': False}],\n",
       " ['atrair facilmente', {'ALEGRIA': True, 'MEDO': False}],\n",
       " ['rapaz e extremamente atraente', {'ALEGRIA': True, 'MEDO': False}],\n",
       " ['sinto-me vivo', {'ALEGRIA': True, 'MEDO': False}],\n",
       " ['sinto-me paz', {'ALEGRIA': True, 'MEDO': False}],\n",
       " ['lucrar', {'ALEGRIA': True, 'MEDO': False}],\n",
       " ['ordem', {'ALEGRIA': True, 'MEDO': False}],\n",
       " ['arrumar empregar junto', {'ALEGRIA': True, 'MEDO': False}],\n",
       " ['o arrumação terminar alívio', {'ALEGRIA': True, 'MEDO': False}],\n",
       " ['o câncer benigno', {'ALEGRIA': True, 'MEDO': False}],\n",
       " ['o amor abundante', {'ALEGRIA': True, 'MEDO': False}],\n",
       " ['caridoso natal', {'ALEGRIA': True, 'MEDO': False}],\n",
       " ['charme irar atrair o', {'ALEGRIA': True, 'MEDO': False}],\n",
       " ['comer charmoso querer', {'ALEGRIA': True, 'MEDO': False}],\n",
       " ['querido amigo', {'ALEGRIA': True, 'MEDO': False}],\n",
       " ['cuidadoso o sentimento', {'ALEGRIA': True, 'MEDO': False}],\n",
       " ['comover tamanho caridade', {'ALEGRIA': True, 'MEDO': False}],\n",
       " ['chá quentar e reconfortante', {'ALEGRIA': True, 'MEDO': False}],\n",
       " ['alegria', {'ALEGRIA': True, 'MEDO': False}],\n",
       " ['aplaudir o vencedor', {'ALEGRIA': True, 'MEDO': False}],\n",
       " ['palmar parir o aniversariante', {'ALEGRIA': True, 'MEDO': False}],\n",
       " ['desejar o', {'ALEGRIA': True, 'MEDO': False}],\n",
       " ['horar apreciar vinho', {'ALEGRIA': True, 'MEDO': False}],\n",
       " ['apreciar suar presença escola', {'ALEGRIA': True, 'MEDO': False}],\n",
       " ['ansiar trabalho', {'ALEGRIA': True, 'MEDO': False}],\n",
       " ['maravilhoso jogar amistoso', {'ALEGRIA': True, 'MEDO': False}],\n",
       " ['e ótimo o menimos apaziguar', {'ALEGRIA': True, 'MEDO': False}],\n",
       " ['concretizar finalmente sonhar', {'ALEGRIA': True, 'MEDO': False}],\n",
       " ['implorar matar', {'ALEGRIA': False, 'MEDO': True}],\n",
       " ['perigoso', {'ALEGRIA': False, 'MEDO': True}],\n",
       " ['segurar', {'ALEGRIA': False, 'MEDO': True}],\n",
       " ['correr pra', {'ALEGRIA': False, 'MEDO': True}],\n",
       " ['socorrer querer roubar o doce', {'ALEGRIA': False, 'MEDO': True}],\n",
       " ['caro perseguir', {'ALEGRIA': False, 'MEDO': True}],\n",
       " ['entrar perigoso', {'ALEGRIA': False, 'MEDO': True}],\n",
       " ['continuar assustador', {'ALEGRIA': False, 'MEDO': True}],\n",
       " ['o selva animar perigoso', {'ALEGRIA': False, 'MEDO': True}],\n",
       " ['avançar cautela', {'ALEGRIA': False, 'MEDO': True}],\n",
       " ['silencioso cuidar', {'ALEGRIA': False, 'MEDO': True}],\n",
       " ['deixe-me viver', {'ALEGRIA': False, 'MEDO': True}],\n",
       " ['ficar mesada tirar noto', {'ALEGRIA': False, 'MEDO': True}],\n",
       " ['parecer olho o vigiar', {'ALEGRIA': False, 'MEDO': True}],\n",
       " ['o sentença juiz negativo', {'ALEGRIA': False, 'MEDO': True}],\n",
       " ['missão arriscar', {'ALEGRIA': False, 'MEDO': True}],\n",
       " ['salvem-se', {'ALEGRIA': False, 'MEDO': True}],\n",
       " ['planar descobrir', {'ALEGRIA': False, 'MEDO': True}],\n",
       " ['culpar jurar', {'ALEGRIA': False, 'MEDO': True}],\n",
       " ['tomar cuidar o lobisomem', {'ALEGRIA': False, 'MEDO': True}],\n",
       " ['achar descobrir o verdade', {'ALEGRIA': False, 'MEDO': True}],\n",
       " ['deus desaparecer', {'ALEGRIA': False, 'MEDO': True}],\n",
       " ['tomar d', {'ALEGRIA': False, 'MEDO': True}],\n",
       " ['manter segredar descobrir ferrar', {'ALEGRIA': False, 'MEDO': True}],\n",
       " ['soltar inocentar', {'ALEGRIA': False, 'MEDO': True}],\n",
       " ['ouvir passo mim', {'ALEGRIA': False, 'MEDO': True}],\n",
       " ['pedir socorrer', {'ALEGRIA': False, 'MEDO': True}],\n",
       " ['cuidar o curvo o estrar', {'ALEGRIA': False, 'MEDO': True}],\n",
       " ['parecer perigoso', {'ALEGRIA': False, 'MEDO': True}],\n",
       " ['tremer medo', {'ALEGRIA': False, 'MEDO': True}],\n",
       " ['socorrer cair', {'ALEGRIA': False, 'MEDO': True}],\n",
       " ['o florestar negro perigoso', {'ALEGRIA': False, 'MEDO': True}],\n",
       " ['ouvir passo o direção', {'ALEGRIA': False, 'MEDO': True}],\n",
       " ['achar arriscar', {'ALEGRIA': False, 'MEDO': True}],\n",
       " ['voltar perigoso', {'ALEGRIA': False, 'MEDO': True}],\n",
       " ['fugir acabar morto', {'ALEGRIA': False, 'MEDO': True}],\n",
       " ['recear livrar d situação', {'ALEGRIA': False, 'MEDO': True}],\n",
       " ['socorrer armar', {'ALEGRIA': False, 'MEDO': True}],\n",
       " ['eis cuidar bater o postar', {'ALEGRIA': False, 'MEDO': True}],\n",
       " ['socorrer nó afundar', {'ALEGRIA': False, 'MEDO': True}],\n",
       " ['e sério cuidar armar', {'ALEGRIA': False, 'MEDO': True}],\n",
       " ['o tubarão atacar', {'ALEGRIA': False, 'MEDO': True}],\n",
       " ['sentir arrepio ficar o escuro', {'ALEGRIA': False, 'MEDO': True}],\n",
       " ['calmo o dinheiro', {'ALEGRIA': False, 'MEDO': True}],\n",
       " ['achar enganar', {'ALEGRIA': False, 'MEDO': True}],\n",
       " ['ligeiro fugir depressa', {'ALEGRIA': False, 'MEDO': True}],\n",
       " ['crocodilo selvagem vir parir', {'ALEGRIA': False, 'MEDO': True}],\n",
       " ['ficar o achar', {'ALEGRIA': False, 'MEDO': True}],\n",
       " ['fugir o tigre parecer faminto', {'ALEGRIA': False, 'MEDO': True}],\n",
       " ['sair precisar milagre', {'ALEGRIA': False, 'MEDO': True}],\n",
       " ['tirar mim socorrer', {'ALEGRIA': False, 'MEDO': True}],\n",
       " ['nadar afogar', {'ALEGRIA': False, 'MEDO': True}],\n",
       " ['e segurar', {'ALEGRIA': False, 'MEDO': True}],\n",
       " ['apanhar pai boletim', {'ALEGRIA': False, 'MEDO': True}],\n",
       " ['conseguir sair d', {'ALEGRIA': False, 'MEDO': True}],\n",
       " ['sair tardar assaltar', {'ALEGRIA': False, 'MEDO': True}],\n",
       " ['deixar', {'ALEGRIA': False, 'MEDO': True}],\n",
       " ['esperar largar', {'ALEGRIA': False, 'MEDO': True}],\n",
       " ['pelar suar segurança', {'ALEGRIA': False, 'MEDO': True}],\n",
       " ['entregar o dinheiro matar', {'ALEGRIA': False, 'MEDO': True}],\n",
       " ['levar o dinheiro', {'ALEGRIA': False, 'MEDO': True}],\n",
       " ['dirigir rápido', {'ALEGRIA': False, 'MEDO': True}],\n",
       " ['descobrir prender', {'ALEGRIA': False, 'MEDO': True}],\n",
       " ['esperar nenhum', {'ALEGRIA': False, 'MEDO': True}],\n",
       " ['afogar ajudar o sair água', {'ALEGRIA': False, 'MEDO': True}],\n",
       " ['o salvar', {'ALEGRIA': False, 'MEDO': True}],\n",
       " ['querer pensar o acontecer', {'ALEGRIA': False, 'MEDO': True}],\n",
       " ['n cidade umar desgraçar outro', {'ALEGRIA': False, 'MEDO': True}],\n",
       " ['alguém ligar assustar', {'ALEGRIA': False, 'MEDO': True}],\n",
       " ['remedio matar', {'ALEGRIA': False, 'MEDO': True}],\n",
       " ['confiar n cautela', {'ALEGRIA': False, 'MEDO': True}],\n",
       " ['cautela', {'ALEGRIA': False, 'MEDO': True}],\n",
       " ['descobrir deus', {'ALEGRIA': False, 'MEDO': True}],\n",
       " ['recear', {'ALEGRIA': False, 'MEDO': True}],\n",
       " ['o noite e perigoso', {'ALEGRIA': False, 'MEDO': True}],\n",
       " ['estremecer casar', {'ALEGRIA': False, 'MEDO': True}],\n",
       " ['olhar criatura mover monstruosamente', {'ALEGRIA': False, 'MEDO': True}],\n",
       " ['aguentar suspense', {'ALEGRIA': False, 'MEDO': True}],\n",
       " ['afugentar o cão', {'ALEGRIA': False, 'MEDO': True}],\n",
       " ['chocar e amedrontar assassinato brutal', {'ALEGRIA': False, 'MEDO': True}],\n",
       " ['precisar afugentar ímpeto medo infernar', {'ALEGRIA': False, 'MEDO': True}],\n",
       " ['político suar forçar parir afugentar e amedrontar o',\n",
       "  {'ALEGRIA': False, 'MEDO': True}],\n",
       " ['o objetivo d e amedrontar', {'ALEGRIA': False, 'MEDO': True}],\n",
       " ['apavorar', {'ALEGRIA': False, 'MEDO': True}]]"
      ]
     },
     "execution_count": 17,
     "metadata": {},
     "output_type": "execute_result"
    }
   ],
   "source": [
    "# Visualizando a toda base de dado\n",
    "bd_final"
   ]
  },
  {
   "cell_type": "markdown",
   "metadata": {},
   "source": [
    "### Etapa 5: Criação do classificador"
   ]
  },
  {
   "cell_type": "code",
   "execution_count": 18,
   "metadata": {},
   "outputs": [],
   "source": [
    "# Criação do modelo\n",
    "modelo = spacy.blank('pt')\n",
    "categorias = modelo.create_pipe(\"textcat\")\n",
    "categorias.add_label(\"ALEGRIA\")\n",
    "categorias.add_label(\"MEDO\")\n",
    "modelo.add_pipe(categorias)\n",
    "historico = []"
   ]
  },
  {
   "cell_type": "code",
   "execution_count": 19,
   "metadata": {},
   "outputs": [
    {
     "name": "stdout",
     "output_type": "stream",
     "text": [
      "{'textcat': 0.0025046531518455595}\n",
      "{'textcat': 0.00040203357275458984}\n",
      "{'textcat': 5.551007689064136e-06}\n",
      "{'textcat': 1.2862466007845796e-06}\n",
      "{'textcat': 6.421580067694777e-07}\n",
      "{'textcat': 4.93691061365098e-07}\n",
      "{'textcat': 4.678730647356133e-07}\n",
      "{'textcat': 3.6414774129411853e-07}\n",
      "{'textcat': 2.911919345649494e-07}\n"
     ]
    }
   ],
   "source": [
    "# Treinado o modelo\n",
    "modelo.begin_training()\n",
    "for epoca in range(42):\n",
    "    random.shuffle(bd_final)\n",
    "    losses = {}\n",
    "    for batch in spacy.util.minibatch(bd_final, 42):\n",
    "        textos = [modelo(texto) for texto, entities in batch]\n",
    "        annotations = [{'cats': entities} for texto, entities in batch]\n",
    "        modelo.update(textos, annotations, losses=losses)\n",
    "        historico.append(losses)\n",
    "    if epoca % 5 == 0:\n",
    "        print(losses)"
   ]
  },
  {
   "cell_type": "code",
   "execution_count": 20,
   "metadata": {},
   "outputs": [],
   "source": [
    "# Armazenando os valores dos resultados\n",
    "historico_loss = []\n",
    "for i in historico:\n",
    "    historico_loss.append(i.get('textcat'))"
   ]
  },
  {
   "cell_type": "code",
   "execution_count": 21,
   "metadata": {},
   "outputs": [
    {
     "data": {
      "text/plain": [
       "array([2.50465315e-03, 2.50465315e-03, 2.50465315e-03, 2.50465315e-03,\n",
       "       2.50465315e-03, 2.03998169e-03, 2.03998169e-03, 2.03998169e-03,\n",
       "       2.03998169e-03, 2.03998169e-03, 1.51825200e-03, 1.51825200e-03,\n",
       "       1.51825200e-03, 1.51825200e-03, 1.51825200e-03, 1.06345535e-03,\n",
       "       1.06345535e-03, 1.06345535e-03, 1.06345535e-03, 1.06345535e-03,\n",
       "       7.11676643e-04, 7.11676643e-04, 7.11676643e-04, 7.11676643e-04,\n",
       "       7.11676643e-04, 4.02033573e-04, 4.02033573e-04, 4.02033573e-04,\n",
       "       4.02033573e-04, 4.02033573e-04, 1.55539699e-04, 1.55539699e-04,\n",
       "       1.55539699e-04, 1.55539699e-04, 1.55539699e-04, 8.78021292e-05,\n",
       "       8.78021292e-05, 8.78021292e-05, 8.78021292e-05, 8.78021292e-05,\n",
       "       2.72000021e-05, 2.72000021e-05, 2.72000021e-05, 2.72000021e-05,\n",
       "       2.72000021e-05, 1.39933587e-05, 1.39933587e-05, 1.39933587e-05,\n",
       "       1.39933587e-05, 1.39933587e-05, 5.55100769e-06, 5.55100769e-06,\n",
       "       5.55100769e-06, 5.55100769e-06, 5.55100769e-06, 2.91286980e-06,\n",
       "       2.91286980e-06, 2.91286980e-06, 2.91286980e-06, 2.91286980e-06,\n",
       "       2.21746592e-06, 2.21746592e-06, 2.21746592e-06, 2.21746592e-06,\n",
       "       2.21746592e-06, 1.56099688e-06, 1.56099688e-06, 1.56099688e-06,\n",
       "       1.56099688e-06, 1.56099688e-06, 1.72835843e-06, 1.72835843e-06,\n",
       "       1.72835843e-06, 1.72835843e-06, 1.72835843e-06, 1.28624660e-06,\n",
       "       1.28624660e-06, 1.28624660e-06, 1.28624660e-06, 1.28624660e-06,\n",
       "       8.99700403e-07, 8.99700403e-07, 8.99700403e-07, 8.99700403e-07,\n",
       "       8.99700403e-07, 7.65644664e-07, 7.65644664e-07, 7.65644664e-07,\n",
       "       7.65644664e-07, 7.65644664e-07, 9.22412362e-07, 9.22412362e-07,\n",
       "       9.22412362e-07, 9.22412362e-07, 9.22412362e-07, 6.72207115e-07,\n",
       "       6.72207115e-07, 6.72207115e-07, 6.72207115e-07, 6.72207115e-07,\n",
       "       6.42158007e-07, 6.42158007e-07, 6.42158007e-07, 6.42158007e-07,\n",
       "       6.42158007e-07, 6.12845973e-07, 6.12845973e-07, 6.12845973e-07,\n",
       "       6.12845973e-07, 6.12845973e-07, 6.92494972e-07, 6.92494972e-07,\n",
       "       6.92494972e-07, 6.92494972e-07, 6.92494972e-07, 5.94125858e-07,\n",
       "       5.94125858e-07, 5.94125858e-07, 5.94125858e-07, 5.94125858e-07,\n",
       "       5.36861293e-07, 5.36861293e-07, 5.36861293e-07, 5.36861293e-07,\n",
       "       5.36861293e-07, 4.93691061e-07, 4.93691061e-07, 4.93691061e-07,\n",
       "       4.93691061e-07, 4.93691061e-07, 4.90795664e-07, 4.90795664e-07,\n",
       "       4.90795664e-07, 4.90795664e-07, 4.90795664e-07, 4.60299830e-07,\n",
       "       4.60299830e-07, 4.60299830e-07, 4.60299830e-07, 4.60299830e-07,\n",
       "       4.08648628e-07, 4.08648628e-07, 4.08648628e-07, 4.08648628e-07,\n",
       "       4.08648628e-07, 3.94537668e-07, 3.94537668e-07, 3.94537668e-07,\n",
       "       3.94537668e-07, 3.94537668e-07, 4.67873065e-07, 4.67873065e-07,\n",
       "       4.67873065e-07, 4.67873065e-07, 4.67873065e-07, 3.66966731e-07,\n",
       "       3.66966731e-07, 3.66966731e-07, 3.66966731e-07, 3.66966731e-07,\n",
       "       3.66914580e-07, 3.66914580e-07, 3.66914580e-07, 3.66914580e-07,\n",
       "       3.66914580e-07, 3.58360303e-07, 3.58360303e-07, 3.58360303e-07,\n",
       "       3.58360303e-07, 3.58360303e-07, 3.25761484e-07, 3.25761484e-07,\n",
       "       3.25761484e-07, 3.25761484e-07, 3.25761484e-07, 3.64147741e-07,\n",
       "       3.64147741e-07, 3.64147741e-07, 3.64147741e-07, 3.64147741e-07,\n",
       "       3.09972648e-07, 3.09972648e-07, 3.09972648e-07, 3.09972648e-07,\n",
       "       3.09972648e-07, 2.99050132e-07, 2.99050132e-07, 2.99050132e-07,\n",
       "       2.99050132e-07, 2.99050132e-07, 3.13668803e-07, 3.13668803e-07,\n",
       "       3.13668803e-07, 3.13668803e-07, 3.13668803e-07, 3.00668198e-07,\n",
       "       3.00668198e-07, 3.00668198e-07, 3.00668198e-07, 3.00668198e-07,\n",
       "       2.91191935e-07, 2.91191935e-07, 2.91191935e-07, 2.91191935e-07,\n",
       "       2.91191935e-07, 2.68835734e-07, 2.68835734e-07, 2.68835734e-07,\n",
       "       2.68835734e-07, 2.68835734e-07])"
      ]
     },
     "execution_count": 21,
     "metadata": {},
     "output_type": "execute_result"
    }
   ],
   "source": [
    "# convertendo para um array\n",
    "historico_loss = np.array(historico_loss)\n",
    "historico_loss"
   ]
  },
  {
   "cell_type": "code",
   "execution_count": 22,
   "metadata": {},
   "outputs": [
    {
     "data": {
      "text/plain": [
       "Text(0, 0.5, 'Erro')"
      ]
     },
     "execution_count": 22,
     "metadata": {},
     "output_type": "execute_result"
    },
    {
     "data": {
      "image/png": "[encoded data removed]",
      "text/plain": [
       "<Figure size 640x480 with 1 Axes>"
      ]
     },
     "metadata": {},
     "output_type": "display_data"
    }
   ],
   "source": [
    "# Visualizando a regressão do erro\n",
    "import matplotlib.pyplot as plt\n",
    "plt.plot(historico_loss)\n",
    "plt.title('Progressão do erro')\n",
    "plt.xlabel('Épocas')\n",
    "plt.ylabel('Erro')"
   ]
  },
  {
   "cell_type": "code",
   "execution_count": 23,
   "metadata": {},
   "outputs": [],
   "source": [
    "# Salvando o modelo\n",
    "modelo.to_disk('modelo')"
   ]
  },
  {
   "cell_type": "markdown",
   "metadata": {},
   "source": [
    "### Etapa 6 Teste com uma frase"
   ]
  },
  {
   "cell_type": "code",
   "execution_count": 24,
   "metadata": {},
   "outputs": [
    {
     "data": {
      "text/plain": [
       "<spacy.lang.pt.Portuguese at 0x2edc5510ee0>"
      ]
     },
     "execution_count": 24,
     "metadata": {},
     "output_type": "execute_result"
    }
   ],
   "source": [
    "# Carregando o modelo\n",
    "modelo_carregado = spacy.load('modelo')\n",
    "modelo_carregado"
   ]
  },
  {
   "cell_type": "code",
   "execution_count": 25,
   "metadata": {},
   "outputs": [],
   "source": [
    "# Frases\n",
    "texto_positivo = \"Eu adoro  cor dos seus olhos\""
   ]
  },
  {
   "cell_type": "code",
   "execution_count": 26,
   "metadata": {},
   "outputs": [
    {
     "data": {
      "text/plain": [
       "'adorar cor olho'"
      ]
     },
     "execution_count": 26,
     "metadata": {},
     "output_type": "execute_result"
    }
   ],
   "source": [
    "# Fazendo o processamento da frase\n",
    "texto_positivo = preprocessamento(texto_positivo)\n",
    "texto_positivo"
   ]
  },
  {
   "cell_type": "code",
   "execution_count": 27,
   "metadata": {},
   "outputs": [
    {
     "data": {
      "text/plain": [
       "adorar cor olho"
      ]
     },
     "execution_count": 27,
     "metadata": {},
     "output_type": "execute_result"
    }
   ],
   "source": [
    "# Fazendo a previsão\n",
    "previssao = modelo_carregado(texto_positivo)\n",
    "previssao"
   ]
  },
  {
   "cell_type": "code",
   "execution_count": 28,
   "metadata": {},
   "outputs": [
    {
     "data": {
      "text/plain": [
       "{'ALEGRIA': 0.9931890964508057, 'MEDO': 0.0016020270995795727}"
      ]
     },
     "execution_count": 28,
     "metadata": {},
     "output_type": "execute_result"
    }
   ],
   "source": [
    "# Visualizando a previsão\n",
    "previssao.cats"
   ]
  },
  {
   "cell_type": "code",
   "execution_count": 29,
   "metadata": {},
   "outputs": [
    {
     "data": {
      "text/plain": [
       "'matar'"
      ]
     },
     "execution_count": 29,
     "metadata": {},
     "output_type": "execute_result"
    }
   ],
   "source": [
    "# Testando frase negativa\n",
    "frase_negativa = \"eu vou te mata\"\n",
    "frase_negativa = preprocessamento(frase_negativa)\n",
    "frase_negativa"
   ]
  },
  {
   "cell_type": "code",
   "execution_count": 30,
   "metadata": {},
   "outputs": [
    {
     "data": {
      "text/plain": [
       "{'ALEGRIA': 0.0040457057766616344, 'MEDO': 0.9978833794593811}"
      ]
     },
     "execution_count": 30,
     "metadata": {},
     "output_type": "execute_result"
    }
   ],
   "source": [
    "# Previsão\n",
    "previssao = modelo_carregado(frase_negativa)\n",
    "previssao.cats"
   ]
  },
  {
   "cell_type": "markdown",
   "metadata": {},
   "source": [
    "### Avaliação na Base de Treinamento"
   ]
  },
  {
   "cell_type": "code",
   "execution_count": 31,
   "metadata": {},
   "outputs": [
    {
     "data": {
      "text/plain": [
       "[{'ALEGRIA': 0.9959602952003479, 'MEDO': 0.0009994811844080687},\n",
       " {'ALEGRIA': 0.9934285283088684, 'MEDO': 0.004740826319903135},\n",
       " {'ALEGRIA': 0.998943030834198, 'MEDO': 0.0007886702078394592},\n",
       " {'ALEGRIA': 0.9897329211235046, 'MEDO': 0.006195311900228262},\n",
       " {'ALEGRIA': 0.997491717338562, 'MEDO': 0.0030821359250694513},\n",
       " {'ALEGRIA': 0.9930223822593689, 'MEDO': 0.004302508197724819},\n",
       " {'ALEGRIA': 0.9928085803985596, 'MEDO': 0.004748851992189884},\n",
       " {'ALEGRIA': 0.9847767353057861, 'MEDO': 0.014417717233300209},\n",
       " {'ALEGRIA': 0.994975209236145, 'MEDO': 0.0036842976696789265},\n",
       " {'ALEGRIA': 0.9917342662811279, 'MEDO': 0.0006119994213804603},\n",
       " {'ALEGRIA': 0.9961530566215515, 'MEDO': 0.0003110630495939404},\n",
       " {'ALEGRIA': 0.9942670464515686, 'MEDO': 0.002719415118917823},\n",
       " {'ALEGRIA': 0.9949400424957275, 'MEDO': 0.0050277202390134335},\n",
       " {'ALEGRIA': 0.9980891346931458, 'MEDO': 0.00045259317266754806},\n",
       " {'ALEGRIA': 0.9684726595878601, 'MEDO': 0.0233096182346344},\n",
       " {'ALEGRIA': 0.990706741809845, 'MEDO': 0.0025659792590886354},\n",
       " {'ALEGRIA': 0.9975912570953369, 'MEDO': 0.001305566867813468},\n",
       " {'ALEGRIA': 0.9982945322990417, 'MEDO': 0.00021179989562369883},\n",
       " {'ALEGRIA': 0.9982353448867798, 'MEDO': 0.0009623317164368927},\n",
       " {'ALEGRIA': 0.9901309013366699, 'MEDO': 0.0069357906468212605},\n",
       " {'ALEGRIA': 0.9976502060890198, 'MEDO': 0.0002651193062774837},\n",
       " {'ALEGRIA': 0.9973708391189575, 'MEDO': 0.00442440016195178},\n",
       " {'ALEGRIA': 0.9910719990730286, 'MEDO': 0.004341027699410915},\n",
       " {'ALEGRIA': 0.998302698135376, 'MEDO': 0.002197388792410493},\n",
       " {'ALEGRIA': 0.984885573387146, 'MEDO': 0.012813153676688671},\n",
       " {'ALEGRIA': 0.9945218563079834, 'MEDO': 0.0012869364582002163},\n",
       " {'ALEGRIA': 0.9986966252326965, 'MEDO': 0.001166151836514473},\n",
       " {'ALEGRIA': 0.9938831329345703, 'MEDO': 0.0060126460157334805},\n",
       " {'ALEGRIA': 0.9976898431777954, 'MEDO': 0.0008849583100527525},\n",
       " {'ALEGRIA': 0.998245120048523, 'MEDO': 0.0009953257394954562},\n",
       " {'ALEGRIA': 0.9910998940467834, 'MEDO': 0.011116407811641693},\n",
       " {'ALEGRIA': 0.9963483214378357, 'MEDO': 0.0016247828025370836},\n",
       " {'ALEGRIA': 0.9932842254638672, 'MEDO': 0.0009576783631928265},\n",
       " {'ALEGRIA': 0.9945749044418335, 'MEDO': 0.003128357231616974},\n",
       " {'ALEGRIA': 0.9974356293678284, 'MEDO': 0.00041687602060846984},\n",
       " {'ALEGRIA': 0.9931718111038208, 'MEDO': 0.001732410048134625},\n",
       " {'ALEGRIA': 0.9943981766700745, 'MEDO': 0.004137155134230852},\n",
       " {'ALEGRIA': 0.99359130859375, 'MEDO': 0.006093047093600035},\n",
       " {'ALEGRIA': 0.9974349141120911, 'MEDO': 0.0026511424221098423},\n",
       " {'ALEGRIA': 0.9970232844352722, 'MEDO': 0.0015924611361697316},\n",
       " {'ALEGRIA': 0.9973069429397583, 'MEDO': 0.0017653325339779258},\n",
       " {'ALEGRIA': 0.9962508082389832, 'MEDO': 0.0025731788482517004},\n",
       " {'ALEGRIA': 0.9993662238121033, 'MEDO': 0.0006015571998432279},\n",
       " {'ALEGRIA': 0.9968675971031189, 'MEDO': 0.00047549427836202085},\n",
       " {'ALEGRIA': 0.9927095174789429, 'MEDO': 0.00317592965438962},\n",
       " {'ALEGRIA': 0.9956443309783936, 'MEDO': 0.0016935266321524978},\n",
       " {'ALEGRIA': 0.9980395436286926, 'MEDO': 0.0019643099512904882},\n",
       " {'ALEGRIA': 0.9891751408576965, 'MEDO': 0.006480248644948006},\n",
       " {'ALEGRIA': 0.9986061453819275, 'MEDO': 0.003437045030295849},\n",
       " {'ALEGRIA': 0.9988296627998352, 'MEDO': 0.0012773241614922881},\n",
       " {'ALEGRIA': 0.991296648979187, 'MEDO': 0.0053986189886927605},\n",
       " {'ALEGRIA': 0.9986407160758972, 'MEDO': 0.000720018579158932},\n",
       " {'ALEGRIA': 0.9930745363235474, 'MEDO': 0.004606483969837427},\n",
       " {'ALEGRIA': 0.9921597838401794, 'MEDO': 0.008297967724502087},\n",
       " {'ALEGRIA': 0.9946684241294861, 'MEDO': 0.007223415654152632},\n",
       " {'ALEGRIA': 0.992852509021759, 'MEDO': 0.005620174575597048},\n",
       " {'ALEGRIA': 0.9955332279205322, 'MEDO': 0.00418447470292449},\n",
       " {'ALEGRIA': 0.9905936121940613, 'MEDO': 0.0028232638724148273},\n",
       " {'ALEGRIA': 0.9931261539459229, 'MEDO': 0.004481737967580557},\n",
       " {'ALEGRIA': 0.9950299263000488, 'MEDO': 0.0027151366230100393},\n",
       " {'ALEGRIA': 0.9973836541175842, 'MEDO': 0.0011586815817281604},\n",
       " {'ALEGRIA': 0.9987059831619263, 'MEDO': 0.0005439026281237602},\n",
       " {'ALEGRIA': 0.9995459914207458, 'MEDO': 0.0006537825101986527},\n",
       " {'ALEGRIA': 0.9921025633811951, 'MEDO': 0.005991971120238304},\n",
       " {'ALEGRIA': 0.9963435530662537, 'MEDO': 0.0037009126972407103},\n",
       " {'ALEGRIA': 0.9910422563552856, 'MEDO': 0.006211866158992052},\n",
       " {'ALEGRIA': 0.9927507638931274, 'MEDO': 0.0003224383690394461},\n",
       " {'ALEGRIA': 0.9868766069412231, 'MEDO': 0.010347622446715832},\n",
       " {'ALEGRIA': 0.9968350529670715, 'MEDO': 0.0033968575298786163},\n",
       " {'ALEGRIA': 0.9989897608757019, 'MEDO': 0.00018301652744412422},\n",
       " {'ALEGRIA': 0.9961227774620056, 'MEDO': 0.0006208760314621031},\n",
       " {'ALEGRIA': 0.9962538480758667, 'MEDO': 0.0022204830311238766},\n",
       " {'ALEGRIA': 0.992479681968689, 'MEDO': 0.003995493520051241},\n",
       " {'ALEGRIA': 0.9940728545188904, 'MEDO': 0.004044491797685623},\n",
       " {'ALEGRIA': 0.9958654642105103, 'MEDO': 0.0011825000401586294},\n",
       " {'ALEGRIA': 0.9869912266731262, 'MEDO': 0.007258704863488674},\n",
       " {'ALEGRIA': 0.9947612881660461, 'MEDO': 0.003504903754219413},\n",
       " {'ALEGRIA': 0.9848039150238037, 'MEDO': 0.00639245705679059},\n",
       " {'ALEGRIA': 0.9990211725234985, 'MEDO': 0.00026721469475887716},\n",
       " {'ALEGRIA': 0.9939451813697815, 'MEDO': 0.006333280820399523},\n",
       " {'ALEGRIA': 0.9929986000061035, 'MEDO': 0.0054185157641768456},\n",
       " {'ALEGRIA': 0.9953209757804871, 'MEDO': 0.007138100452721119},\n",
       " {'ALEGRIA': 0.9979985356330872, 'MEDO': 0.0008529794286005199},\n",
       " {'ALEGRIA': 0.9933466911315918, 'MEDO': 0.008387576788663864},\n",
       " {'ALEGRIA': 0.9978849291801453, 'MEDO': 0.00031576849869452417},\n",
       " {'ALEGRIA': 0.9981626868247986, 'MEDO': 0.003752579912543297},\n",
       " {'ALEGRIA': 0.9906196594238281, 'MEDO': 0.0037857380229979753},\n",
       " {'ALEGRIA': 0.9926250576972961, 'MEDO': 0.007230469491332769},\n",
       " {'ALEGRIA': 0.9915779829025269, 'MEDO': 0.004901557695120573},\n",
       " {'ALEGRIA': 0.9939146637916565, 'MEDO': 0.0020031635649502277},\n",
       " {'ALEGRIA': 0.9929841756820679, 'MEDO': 0.004464383237063885},\n",
       " {'ALEGRIA': 0.997565746307373, 'MEDO': 0.0025596737395972013},\n",
       " {'ALEGRIA': 0.995012104511261, 'MEDO': 0.004102702718228102},\n",
       " {'ALEGRIA': 0.9846125245094299, 'MEDO': 0.0046563297510147095},\n",
       " {'ALEGRIA': 0.995674192905426, 'MEDO': 0.004020822234451771},\n",
       " {'ALEGRIA': 0.9944538474082947, 'MEDO': 0.003846778767183423},\n",
       " {'ALEGRIA': 0.9961905479431152, 'MEDO': 0.004226244054734707},\n",
       " {'ALEGRIA': 0.9952588677406311, 'MEDO': 0.0008824961259961128},\n",
       " {'ALEGRIA': 0.9966257810592651, 'MEDO': 0.0004886790411546826},\n",
       " {'ALEGRIA': 0.9932978749275208, 'MEDO': 0.007462797686457634},\n",
       " {'ALEGRIA': 0.9925488233566284, 'MEDO': 0.0030262076761573553},\n",
       " {'ALEGRIA': 0.9940078258514404, 'MEDO': 0.001078782370314002},\n",
       " {'ALEGRIA': 0.9963605999946594, 'MEDO': 0.0049703652039170265},\n",
       " {'ALEGRIA': 0.9945396780967712, 'MEDO': 0.0048394701443612576},\n",
       " {'ALEGRIA': 0.9906731247901917, 'MEDO': 0.006000290624797344},\n",
       " {'ALEGRIA': 0.9977127313613892, 'MEDO': 0.0014645953197032213},\n",
       " {'ALEGRIA': 0.9967118501663208, 'MEDO': 0.0010539366630837321},\n",
       " {'ALEGRIA': 0.9964646100997925, 'MEDO': 0.0020265073981136084},\n",
       " {'ALEGRIA': 0.9978931546211243, 'MEDO': 0.0015073595568537712},\n",
       " {'ALEGRIA': 0.9918539524078369, 'MEDO': 0.005825604312121868},\n",
       " {'ALEGRIA': 0.9958736300468445, 'MEDO': 0.00227512139827013},\n",
       " {'ALEGRIA': 0.9945753812789917, 'MEDO': 0.0017456264467909932},\n",
       " {'ALEGRIA': 0.0018338513327762485, 'MEDO': 0.9971746206283569},\n",
       " {'ALEGRIA': 0.0029380342457443476, 'MEDO': 0.9979335069656372},\n",
       " {'ALEGRIA': 0.004196658730506897, 'MEDO': 0.9973443150520325},\n",
       " {'ALEGRIA': 0.01149921864271164, 'MEDO': 0.9928076267242432},\n",
       " {'ALEGRIA': 0.0019233814673498273, 'MEDO': 0.9950417876243591},\n",
       " {'ALEGRIA': 0.00802227109670639, 'MEDO': 0.9933614730834961},\n",
       " {'ALEGRIA': 0.0007312085363082588, 'MEDO': 0.9994971752166748},\n",
       " {'ALEGRIA': 0.007234568241983652, 'MEDO': 0.9984419941902161},\n",
       " {'ALEGRIA': 0.0011101489653810859, 'MEDO': 0.9993002414703369},\n",
       " {'ALEGRIA': 0.0020629840437322855, 'MEDO': 0.9996159076690674},\n",
       " {'ALEGRIA': 0.0010913595324382186, 'MEDO': 0.9963956475257874},\n",
       " {'ALEGRIA': 0.0024703978560864925, 'MEDO': 0.995689332485199},\n",
       " {'ALEGRIA': 0.002698088763281703, 'MEDO': 0.9981313347816467},\n",
       " {'ALEGRIA': 0.011953318491578102, 'MEDO': 0.9981659054756165},\n",
       " {'ALEGRIA': 0.0055613345466554165, 'MEDO': 0.9948621392250061},\n",
       " {'ALEGRIA': 0.005572183523327112, 'MEDO': 0.9993109703063965},\n",
       " {'ALEGRIA': 0.003996056970208883, 'MEDO': 0.9961867928504944},\n",
       " {'ALEGRIA': 0.00968832615762949, 'MEDO': 0.9976983666419983},\n",
       " {'ALEGRIA': 0.007775763515383005, 'MEDO': 0.9958066940307617},\n",
       " {'ALEGRIA': 0.014963199384510517, 'MEDO': 0.9861708879470825},\n",
       " {'ALEGRIA': 0.018976479768753052, 'MEDO': 0.9900234341621399},\n",
       " {'ALEGRIA': 0.0005510147893801332, 'MEDO': 0.9975837469100952},\n",
       " {'ALEGRIA': 0.0020312180276960135, 'MEDO': 0.9988510608673096},\n",
       " {'ALEGRIA': 0.006343954708427191, 'MEDO': 0.9973424077033997},\n",
       " {'ALEGRIA': 0.003765423083677888, 'MEDO': 0.9983375072479248},\n",
       " {'ALEGRIA': 0.0032029643189162016, 'MEDO': 0.9987776875495911},\n",
       " {'ALEGRIA': 0.0007704348536208272, 'MEDO': 0.9994350075721741},\n",
       " {'ALEGRIA': 0.014788228087127209, 'MEDO': 0.9900598526000977},\n",
       " {'ALEGRIA': 0.001662427093833685, 'MEDO': 0.999537467956543},\n",
       " {'ALEGRIA': 0.002359144389629364, 'MEDO': 0.9959883093833923},\n",
       " {'ALEGRIA': 0.002219573361799121, 'MEDO': 0.9994086027145386},\n",
       " {'ALEGRIA': 0.0011470479657873511, 'MEDO': 0.9996238946914673},\n",
       " {'ALEGRIA': 0.002634691074490547, 'MEDO': 0.9993724226951599},\n",
       " {'ALEGRIA': 0.009852452203631401, 'MEDO': 0.9899846315383911},\n",
       " {'ALEGRIA': 0.0012018134584650397, 'MEDO': 0.997177243232727},\n",
       " {'ALEGRIA': 0.004516991320997477, 'MEDO': 0.9982008934020996},\n",
       " {'ALEGRIA': 0.003844963386654854, 'MEDO': 0.9995980858802795},\n",
       " {'ALEGRIA': 0.002703344216570258, 'MEDO': 0.9983955025672913},\n",
       " {'ALEGRIA': 0.006277830805629492, 'MEDO': 0.996880054473877},\n",
       " {'ALEGRIA': 0.002624926622956991, 'MEDO': 0.9990565180778503},\n",
       " {'ALEGRIA': 0.00596231734380126, 'MEDO': 0.9987969398498535},\n",
       " {'ALEGRIA': 0.007880385965108871, 'MEDO': 0.9969967603683472},\n",
       " {'ALEGRIA': 0.007500539533793926, 'MEDO': 0.9966431856155396},\n",
       " {'ALEGRIA': 0.0025800548028200865, 'MEDO': 0.9979074001312256},\n",
       " {'ALEGRIA': 0.006017623469233513, 'MEDO': 0.9964450001716614},\n",
       " {'ALEGRIA': 0.0074875797145068645, 'MEDO': 0.9914038181304932},\n",
       " {'ALEGRIA': 0.006692169234156609, 'MEDO': 0.9960798621177673},\n",
       " {'ALEGRIA': 0.023035697638988495, 'MEDO': 0.9800633192062378},\n",
       " {'ALEGRIA': 0.00200596428476274, 'MEDO': 0.9988855719566345},\n",
       " {'ALEGRIA': 0.006121608894318342, 'MEDO': 0.9966333508491516},\n",
       " {'ALEGRIA': 0.0010478640906512737, 'MEDO': 0.9966039657592773},\n",
       " {'ALEGRIA': 0.00828599277883768, 'MEDO': 0.9892362952232361},\n",
       " {'ALEGRIA': 0.007340498734265566, 'MEDO': 0.9938569664955139},\n",
       " {'ALEGRIA': 0.008099785074591637, 'MEDO': 0.9968891739845276},\n",
       " {'ALEGRIA': 0.0019015406724065542, 'MEDO': 0.998005211353302},\n",
       " {'ALEGRIA': 0.003485869849100709, 'MEDO': 0.9945281147956848},\n",
       " {'ALEGRIA': 0.0018874856177717447, 'MEDO': 0.9935856461524963},\n",
       " {'ALEGRIA': 0.005093051120638847, 'MEDO': 0.9963430762290955},\n",
       " {'ALEGRIA': 0.01845896989107132, 'MEDO': 0.9871952533721924},\n",
       " {'ALEGRIA': 0.0016540215583518147, 'MEDO': 0.9969304203987122},\n",
       " {'ALEGRIA': 0.0030498697888106108, 'MEDO': 0.9990135431289673},\n",
       " {'ALEGRIA': 0.004831826314330101, 'MEDO': 0.993633508682251},\n",
       " {'ALEGRIA': 0.005730523262172937, 'MEDO': 0.9973031282424927},\n",
       " {'ALEGRIA': 0.0065272096544504166, 'MEDO': 0.997307300567627},\n",
       " {'ALEGRIA': 0.002145653124898672, 'MEDO': 0.9954419136047363},\n",
       " {'ALEGRIA': 0.007039208896458149, 'MEDO': 0.9962648749351501},\n",
       " {'ALEGRIA': 0.010878377594053745, 'MEDO': 0.9910366535186768},\n",
       " {'ALEGRIA': 0.008302658796310425, 'MEDO': 0.9932552576065063},\n",
       " {'ALEGRIA': 0.0034375812392681837, 'MEDO': 0.9971510767936707},\n",
       " {'ALEGRIA': 0.0003063715703319758, 'MEDO': 0.997755229473114},\n",
       " {'ALEGRIA': 0.013686522841453552, 'MEDO': 0.9860420823097229},\n",
       " {'ALEGRIA': 0.006840602029114962, 'MEDO': 0.9970095157623291},\n",
       " {'ALEGRIA': 0.008731290698051453, 'MEDO': 0.9933285713195801},\n",
       " {'ALEGRIA': 0.0023821238428354263, 'MEDO': 0.9963456988334656},\n",
       " {'ALEGRIA': 0.007056327536702156, 'MEDO': 0.9964213371276855},\n",
       " {'ALEGRIA': 0.009214801713824272, 'MEDO': 0.9911812543869019},\n",
       " {'ALEGRIA': 0.009230039082467556, 'MEDO': 0.9921191930770874},\n",
       " {'ALEGRIA': 0.007581222802400589, 'MEDO': 0.9979960918426514},\n",
       " {'ALEGRIA': 0.020324908196926117, 'MEDO': 0.986395001411438},\n",
       " {'ALEGRIA': 0.006919656880199909, 'MEDO': 0.9972513318061829},\n",
       " {'ALEGRIA': 0.0054305423982441425, 'MEDO': 0.9916285276412964},\n",
       " {'ALEGRIA': 0.01142873801290989, 'MEDO': 0.9913023710250854},\n",
       " {'ALEGRIA': 0.00812619924545288, 'MEDO': 0.9957054257392883},\n",
       " {'ALEGRIA': 0.01126603689044714, 'MEDO': 0.9930404424667358}]"
      ]
     },
     "execution_count": 31,
     "metadata": {},
     "output_type": "execute_result"
    }
   ],
   "source": [
    "# Toda a base\n",
    "previsoes = []\n",
    "for texto in bd['texto']:\n",
    "    previsao = modelo_carregado(texto)\n",
    "    previsoes.append(previsao.cats)\n",
    "\n",
    "previsoes"
   ]
  },
  {
   "cell_type": "code",
   "execution_count": 32,
   "metadata": {},
   "outputs": [
    {
     "data": {
      "text/plain": [
       "array(['alegria', 'alegria', 'alegria', 'alegria', 'alegria', 'alegria',\n",
       "       'alegria', 'alegria', 'alegria', 'alegria', 'alegria', 'alegria',\n",
       "       'alegria', 'alegria', 'alegria', 'alegria', 'alegria', 'alegria',\n",
       "       'alegria', 'alegria', 'alegria', 'alegria', 'alegria', 'alegria',\n",
       "       'alegria', 'alegria', 'alegria', 'alegria', 'alegria', 'alegria',\n",
       "       'alegria', 'alegria', 'alegria', 'alegria', 'alegria', 'alegria',\n",
       "       'alegria', 'alegria', 'alegria', 'alegria', 'alegria', 'alegria',\n",
       "       'alegria', 'alegria', 'alegria', 'alegria', 'alegria', 'alegria',\n",
       "       'alegria', 'alegria', 'alegria', 'alegria', 'alegria', 'alegria',\n",
       "       'alegria', 'alegria', 'alegria', 'alegria', 'alegria', 'alegria',\n",
       "       'alegria', 'alegria', 'alegria', 'alegria', 'alegria', 'alegria',\n",
       "       'alegria', 'alegria', 'alegria', 'alegria', 'alegria', 'alegria',\n",
       "       'alegria', 'alegria', 'alegria', 'alegria', 'alegria', 'alegria',\n",
       "       'alegria', 'alegria', 'alegria', 'alegria', 'alegria', 'alegria',\n",
       "       'alegria', 'alegria', 'alegria', 'alegria', 'alegria', 'alegria',\n",
       "       'alegria', 'alegria', 'alegria', 'alegria', 'alegria', 'alegria',\n",
       "       'alegria', 'alegria', 'alegria', 'alegria', 'alegria', 'alegria',\n",
       "       'alegria', 'alegria', 'alegria', 'alegria', 'alegria', 'alegria',\n",
       "       'alegria', 'alegria', 'alegria', 'alegria', 'medo', 'medo', 'medo',\n",
       "       'medo', 'medo', 'medo', 'medo', 'medo', 'medo', 'medo', 'medo',\n",
       "       'medo', 'medo', 'medo', 'medo', 'medo', 'medo', 'medo', 'medo',\n",
       "       'medo', 'medo', 'medo', 'medo', 'medo', 'medo', 'medo', 'medo',\n",
       "       'medo', 'medo', 'medo', 'medo', 'medo', 'medo', 'medo', 'medo',\n",
       "       'medo', 'medo', 'medo', 'medo', 'medo', 'medo', 'medo', 'medo',\n",
       "       'medo', 'medo', 'medo', 'medo', 'medo', 'medo', 'medo', 'medo',\n",
       "       'medo', 'medo', 'medo', 'medo', 'medo', 'medo', 'medo', 'medo',\n",
       "       'medo', 'medo', 'medo', 'medo', 'medo', 'medo', 'medo', 'medo',\n",
       "       'medo', 'medo', 'medo', 'medo', 'medo', 'medo', 'medo', 'medo',\n",
       "       'medo', 'medo', 'medo', 'medo', 'medo', 'medo', 'medo', 'medo',\n",
       "       'medo'], dtype='<U7')"
      ]
     },
     "execution_count": 32,
     "metadata": {},
     "output_type": "execute_result"
    }
   ],
   "source": [
    "# Convertendo para array\n",
    "previsoes_final = []\n",
    "for previsao in previsoes:\n",
    "    if previsao['ALEGRIA'] > previsao['MEDO']:\n",
    "        previsoes_final.append('alegria')\n",
    "    else:\n",
    "        previsoes_final.append('medo')\n",
    "\n",
    "previsoes_final = np.array(previsoes_final)\n",
    "previsoes_final"
   ]
  },
  {
   "cell_type": "code",
   "execution_count": 33,
   "metadata": {},
   "outputs": [
    {
     "data": {
      "text/plain": [
       "array(['alegria', 'alegria', 'alegria', 'alegria', 'alegria', 'alegria',\n",
       "       'alegria', 'alegria', 'alegria', 'alegria', 'alegria', 'alegria',\n",
       "       'alegria', 'alegria', 'alegria', 'alegria', 'alegria', 'alegria',\n",
       "       'alegria', 'alegria', 'alegria', 'alegria', 'alegria', 'alegria',\n",
       "       'alegria', 'alegria', 'alegria', 'alegria', 'alegria', 'alegria',\n",
       "       'alegria', 'alegria', 'alegria', 'alegria', 'alegria', 'alegria',\n",
       "       'alegria', 'alegria', 'alegria', 'alegria', 'alegria', 'alegria',\n",
       "       'alegria', 'alegria', 'alegria', 'alegria', 'alegria', 'alegria',\n",
       "       'alegria', 'alegria', 'alegria', 'alegria', 'alegria', 'alegria',\n",
       "       'alegria', 'alegria', 'alegria', 'alegria', 'alegria', 'alegria',\n",
       "       'alegria', 'alegria', 'alegria', 'alegria', 'alegria', 'alegria',\n",
       "       'alegria', 'alegria', 'alegria', 'alegria', 'alegria', 'alegria',\n",
       "       'alegria', 'alegria', 'alegria', 'alegria', 'alegria', 'alegria',\n",
       "       'alegria', 'alegria', 'alegria', 'alegria', 'alegria', 'alegria',\n",
       "       'alegria', 'alegria', 'alegria', 'alegria', 'alegria', 'alegria',\n",
       "       'alegria', 'alegria', 'alegria', 'alegria', 'alegria', 'alegria',\n",
       "       'alegria', 'alegria', 'alegria', 'alegria', 'alegria', 'alegria',\n",
       "       'alegria', 'alegria', 'alegria', 'alegria', 'alegria', 'alegria',\n",
       "       'alegria', 'alegria', 'alegria', 'alegria', 'medo', 'medo', 'medo',\n",
       "       'medo', 'medo', 'medo', 'medo', 'medo', 'medo', 'medo', 'medo',\n",
       "       'medo', 'medo', 'medo', 'medo', 'medo', 'medo', 'medo', 'medo',\n",
       "       'medo', 'medo', 'medo', 'medo', 'medo', 'medo', 'medo', 'medo',\n",
       "       'medo', 'medo', 'medo', 'medo', 'medo', 'medo', 'medo', 'medo',\n",
       "       'medo', 'medo', 'medo', 'medo', 'medo', 'medo', 'medo', 'medo',\n",
       "       'medo', 'medo', 'medo', 'medo', 'medo', 'medo', 'medo', 'medo',\n",
       "       'medo', 'medo', 'medo', 'medo', 'medo', 'medo', 'medo', 'medo',\n",
       "       'medo', 'medo', 'medo', 'medo', 'medo', 'medo', 'medo', 'medo',\n",
       "       'medo', 'medo', 'medo', 'medo', 'medo', 'medo', 'medo', 'medo',\n",
       "       'medo', 'medo', 'medo', 'medo', 'medo', 'medo', 'medo', 'medo',\n",
       "       'medo'], dtype=object)"
      ]
     },
     "execution_count": 33,
     "metadata": {},
     "output_type": "execute_result"
    }
   ],
   "source": [
    "# convertendo a base de dados\n",
    "respostas_reais = bd['emocao'].values\n",
    "respostas_reais"
   ]
  },
  {
   "cell_type": "code",
   "execution_count": 34,
   "metadata": {},
   "outputs": [
    {
     "data": {
      "text/plain": [
       "1.0"
      ]
     },
     "execution_count": 34,
     "metadata": {},
     "output_type": "execute_result"
    }
   ],
   "source": [
    "# Visualizando a taxa de acerto \n",
    "from sklearn.metrics import accuracy_score, confusion_matrix\n",
    "accuracy_score(respostas_reais, previsoes_final)"
   ]
  },
  {
   "cell_type": "code",
   "execution_count": 35,
   "metadata": {},
   "outputs": [
    {
     "data": {
      "text/plain": [
       "array([[112,   0],\n",
       "       [  0,  84]], dtype=int64)"
      ]
     },
     "execution_count": 35,
     "metadata": {},
     "output_type": "execute_result"
    }
   ],
   "source": [
    "# Matrix de confusão\n",
    "cm = confusion_matrix(respostas_reais, previsoes_final)\n",
    "cm"
   ]
  },
  {
   "cell_type": "markdown",
   "metadata": {},
   "source": [
    "### Avaliação na base de teste"
   ]
  },
  {
   "cell_type": "code",
   "execution_count": 36,
   "metadata": {},
   "outputs": [
    {
     "data": {
      "text/html": [
       "<div>\n",
       "<style scoped>\n",
       "    .dataframe tbody tr th:only-of-type {\n",
       "        vertical-align: middle;\n",
       "    }\n",
       "\n",
       "    .dataframe tbody tr th {\n",
       "        vertical-align: top;\n",
       "    }\n",
       "\n",
       "    .dataframe thead th {\n",
       "        text-align: right;\n",
       "    }\n",
       "</style>\n",
       "<table border=\"1\" class=\"dataframe\">\n",
       "  <thead>\n",
       "    <tr style=\"text-align: right;\">\n",
       "      <th></th>\n",
       "      <th>texto</th>\n",
       "      <th>emocao</th>\n",
       "    </tr>\n",
       "  </thead>\n",
       "  <tbody>\n",
       "    <tr>\n",
       "      <th>0</th>\n",
       "      <td>não precisei pagar o ingresso</td>\n",
       "      <td>alegria</td>\n",
       "    </tr>\n",
       "    <tr>\n",
       "      <th>1</th>\n",
       "      <td>se eu ajeitar tudo fica bem</td>\n",
       "      <td>alegria</td>\n",
       "    </tr>\n",
       "    <tr>\n",
       "      <th>2</th>\n",
       "      <td>minha fortuna ultrapassará a sua</td>\n",
       "      <td>alegria</td>\n",
       "    </tr>\n",
       "    <tr>\n",
       "      <th>3</th>\n",
       "      <td>sou muito afortunado</td>\n",
       "      <td>alegria</td>\n",
       "    </tr>\n",
       "    <tr>\n",
       "      <th>4</th>\n",
       "      <td>é benéfico para todos esta nova medida</td>\n",
       "      <td>alegria</td>\n",
       "    </tr>\n",
       "    <tr>\n",
       "      <th>...</th>\n",
       "      <td>...</td>\n",
       "      <td>...</td>\n",
       "    </tr>\n",
       "    <tr>\n",
       "      <th>79</th>\n",
       "      <td>fui notificado e estou com medo de perder a gu...</td>\n",
       "      <td>medo</td>\n",
       "    </tr>\n",
       "    <tr>\n",
       "      <th>80</th>\n",
       "      <td>estou angustiada com meus filhos na rua</td>\n",
       "      <td>medo</td>\n",
       "    </tr>\n",
       "    <tr>\n",
       "      <th>81</th>\n",
       "      <td>e abominável o que fazem com os animais</td>\n",
       "      <td>medo</td>\n",
       "    </tr>\n",
       "    <tr>\n",
       "      <th>82</th>\n",
       "      <td>foi terrível o tigre quase o matou</td>\n",
       "      <td>medo</td>\n",
       "    </tr>\n",
       "    <tr>\n",
       "      <th>83</th>\n",
       "      <td>me advertiram sobre isso</td>\n",
       "      <td>medo</td>\n",
       "    </tr>\n",
       "  </tbody>\n",
       "</table>\n",
       "<p>84 rows × 2 columns</p>\n",
       "</div>"
      ],
      "text/plain": [
       "                                                texto   emocao\n",
       "0                       não precisei pagar o ingresso  alegria\n",
       "1                         se eu ajeitar tudo fica bem  alegria\n",
       "2                    minha fortuna ultrapassará a sua  alegria\n",
       "3                                sou muito afortunado  alegria\n",
       "4              é benéfico para todos esta nova medida  alegria\n",
       "..                                                ...      ...\n",
       "79  fui notificado e estou com medo de perder a gu...     medo\n",
       "80            estou angustiada com meus filhos na rua     medo\n",
       "81            e abominável o que fazem com os animais     medo\n",
       "82                 foi terrível o tigre quase o matou     medo\n",
       "83                           me advertiram sobre isso     medo\n",
       "\n",
       "[84 rows x 2 columns]"
      ]
     },
     "execution_count": 36,
     "metadata": {},
     "output_type": "execute_result"
    }
   ],
   "source": [
    "# Base de teste\n",
    "bd_teste = pd.read_csv('./data/base_teste.txt', encoding='utf-8')\n",
    "bd_teste"
   ]
  },
  {
   "cell_type": "code",
   "execution_count": 37,
   "metadata": {},
   "outputs": [
    {
     "data": {
      "text/html": [
       "<div>\n",
       "<style scoped>\n",
       "    .dataframe tbody tr th:only-of-type {\n",
       "        vertical-align: middle;\n",
       "    }\n",
       "\n",
       "    .dataframe tbody tr th {\n",
       "        vertical-align: top;\n",
       "    }\n",
       "\n",
       "    .dataframe thead th {\n",
       "        text-align: right;\n",
       "    }\n",
       "</style>\n",
       "<table border=\"1\" class=\"dataframe\">\n",
       "  <thead>\n",
       "    <tr style=\"text-align: right;\">\n",
       "      <th></th>\n",
       "      <th>texto</th>\n",
       "      <th>emocao</th>\n",
       "    </tr>\n",
       "  </thead>\n",
       "  <tbody>\n",
       "    <tr>\n",
       "      <th>0</th>\n",
       "      <td>precisar pagar o ingressar</td>\n",
       "      <td>alegria</td>\n",
       "    </tr>\n",
       "    <tr>\n",
       "      <th>1</th>\n",
       "      <td>ajeitar ficar</td>\n",
       "      <td>alegria</td>\n",
       "    </tr>\n",
       "    <tr>\n",
       "      <th>2</th>\n",
       "      <td>fortuna ultrapassar o suar</td>\n",
       "      <td>alegria</td>\n",
       "    </tr>\n",
       "    <tr>\n",
       "      <th>3</th>\n",
       "      <td>afortunar</td>\n",
       "      <td>alegria</td>\n",
       "    </tr>\n",
       "    <tr>\n",
       "      <th>4</th>\n",
       "      <td>benéfico parir medir</td>\n",
       "      <td>alegria</td>\n",
       "    </tr>\n",
       "  </tbody>\n",
       "</table>\n",
       "</div>"
      ],
      "text/plain": [
       "                        texto   emocao\n",
       "0  precisar pagar o ingressar  alegria\n",
       "1               ajeitar ficar  alegria\n",
       "2  fortuna ultrapassar o suar  alegria\n",
       "3                   afortunar  alegria\n",
       "4        benéfico parir medir  alegria"
      ]
     },
     "execution_count": 37,
     "metadata": {},
     "output_type": "execute_result"
    }
   ],
   "source": [
    "# Pre-processamento\n",
    "bd_teste['texto'] = bd_teste['texto'].apply(preprocessamento)\n",
    "bd_teste.head()"
   ]
  },
  {
   "cell_type": "code",
   "execution_count": 38,
   "metadata": {},
   "outputs": [
    {
     "data": {
      "text/plain": [
       "[{'ALEGRIA': 0.5137032866477966, 'MEDO': 0.11103884130716324},\n",
       " {'ALEGRIA': 0.732299268245697, 'MEDO': 0.5687525868415833},\n",
       " {'ALEGRIA': 0.9387229681015015, 'MEDO': 0.2829659879207611},\n",
       " {'ALEGRIA': 0.9688431024551392, 'MEDO': 0.013016765005886555},\n",
       " {'ALEGRIA': 0.9011048674583435, 'MEDO': 0.14651507139205933},\n",
       " {'ALEGRIA': 0.9615451097488403, 'MEDO': 0.042147446423769},\n",
       " {'ALEGRIA': 0.0418395921587944, 'MEDO': 0.905483067035675},\n",
       " {'ALEGRIA': 0.7808845639228821, 'MEDO': 0.6865423321723938},\n",
       " {'ALEGRIA': 0.995899498462677, 'MEDO': 0.004963704850524664},\n",
       " {'ALEGRIA': 0.937523603439331, 'MEDO': 0.049061525613069534},\n",
       " {'ALEGRIA': 0.9310786724090576, 'MEDO': 0.36885109543800354},\n",
       " {'ALEGRIA': 0.44140690565109253, 'MEDO': 0.7658360600471497},\n",
       " {'ALEGRIA': 0.07798325270414352, 'MEDO': 0.976473331451416},\n",
       " {'ALEGRIA': 0.6758157014846802, 'MEDO': 0.05443483963608742},\n",
       " {'ALEGRIA': 0.9908052682876587, 'MEDO': 0.0028353186789900064},\n",
       " {'ALEGRIA': 0.011451569385826588, 'MEDO': 0.9829798936843872},\n",
       " {'ALEGRIA': 0.7652803063392639, 'MEDO': 0.30564600229263306},\n",
       " {'ALEGRIA': 0.9968956708908081, 'MEDO': 0.05645649507641792},\n",
       " {'ALEGRIA': 0.8515613079071045, 'MEDO': 0.11456471681594849},\n",
       " {'ALEGRIA': 0.8515613079071045, 'MEDO': 0.11456471681594849},\n",
       " {'ALEGRIA': 0.9840213656425476, 'MEDO': 0.03639741986989975},\n",
       " {'ALEGRIA': 0.10162051767110825, 'MEDO': 0.8892511129379272},\n",
       " {'ALEGRIA': 0.025442685931921005, 'MEDO': 0.8673943281173706},\n",
       " {'ALEGRIA': 0.9960457682609558, 'MEDO': 0.007985315285623074},\n",
       " {'ALEGRIA': 0.9236807227134705, 'MEDO': 0.06284667551517487},\n",
       " {'ALEGRIA': 0.9742276072502136, 'MEDO': 0.0066701374016702175},\n",
       " {'ALEGRIA': 0.9578494429588318, 'MEDO': 0.010087229311466217},\n",
       " {'ALEGRIA': 0.8658421039581299, 'MEDO': 0.20072370767593384},\n",
       " {'ALEGRIA': 0.9920381307601929, 'MEDO': 0.008723803795874119},\n",
       " {'ALEGRIA': 0.9938192963600159, 'MEDO': 0.0005068416940048337},\n",
       " {'ALEGRIA': 0.9963365793228149, 'MEDO': 0.0053467596881091595},\n",
       " {'ALEGRIA': 0.9185660481452942, 'MEDO': 0.06805595010519028},\n",
       " {'ALEGRIA': 0.7902284264564514, 'MEDO': 0.19065240025520325},\n",
       " {'ALEGRIA': 0.23683418333530426, 'MEDO': 0.7159430384635925},\n",
       " {'ALEGRIA': 0.9359380602836609, 'MEDO': 0.1462089717388153},\n",
       " {'ALEGRIA': 0.870733380317688, 'MEDO': 0.17263288795948029},\n",
       " {'ALEGRIA': 0.8560800552368164, 'MEDO': 0.2964966595172882},\n",
       " {'ALEGRIA': 0.9684575796127319, 'MEDO': 0.1932632029056549},\n",
       " {'ALEGRIA': 0.9513051509857178, 'MEDO': 0.02185284160077572},\n",
       " {'ALEGRIA': 0.007363260257989168, 'MEDO': 0.9783341884613037},\n",
       " {'ALEGRIA': 0.8970890641212463, 'MEDO': 0.11389558017253876},\n",
       " {'ALEGRIA': 0.9963927865028381, 'MEDO': 0.009227413684129715},\n",
       " {'ALEGRIA': 0.5379192233085632, 'MEDO': 0.2628239393234253},\n",
       " {'ALEGRIA': 0.5351877808570862, 'MEDO': 0.23597411811351776},\n",
       " {'ALEGRIA': 0.9754887223243713, 'MEDO': 0.01507458183914423},\n",
       " {'ALEGRIA': 0.9601880311965942, 'MEDO': 0.031252678483724594},\n",
       " {'ALEGRIA': 0.9862922430038452, 'MEDO': 0.018941909074783325},\n",
       " {'ALEGRIA': 0.18400710821151733, 'MEDO': 0.8311128616333008},\n",
       " {'ALEGRIA': 0.8502761721611023, 'MEDO': 0.021653156727552414},\n",
       " {'ALEGRIA': 0.08962257206439972, 'MEDO': 0.5732247829437256},\n",
       " {'ALEGRIA': 0.024550780653953552, 'MEDO': 0.9849610328674316},\n",
       " {'ALEGRIA': 0.14763614535331726, 'MEDO': 0.9265611171722412},\n",
       " {'ALEGRIA': 0.9636582136154175, 'MEDO': 0.0700901597738266},\n",
       " {'ALEGRIA': 0.97788006067276, 'MEDO': 0.03888920694589615},\n",
       " {'ALEGRIA': 0.9749844074249268, 'MEDO': 0.27274802327156067},\n",
       " {'ALEGRIA': 0.025942327454686165, 'MEDO': 0.9927719235420227},\n",
       " {'ALEGRIA': 0.0029636218678206205, 'MEDO': 0.9914591312408447},\n",
       " {'ALEGRIA': 0.01126603689044714, 'MEDO': 0.9930404424667358},\n",
       " {'ALEGRIA': 0.9579713940620422, 'MEDO': 0.05653556436300278},\n",
       " {'ALEGRIA': 0.011451569385826588, 'MEDO': 0.9829798936843872},\n",
       " {'ALEGRIA': 0.011804712936282158, 'MEDO': 0.8355020880699158},\n",
       " {'ALEGRIA': 0.5825273394584656, 'MEDO': 0.12132284790277481},\n",
       " {'ALEGRIA': 0.043250102549791336, 'MEDO': 0.791924774646759},\n",
       " {'ALEGRIA': 0.20435333251953125, 'MEDO': 0.4334123730659485},\n",
       " {'ALEGRIA': 0.053855374455451965, 'MEDO': 0.9027496576309204},\n",
       " {'ALEGRIA': 0.5176934003829956, 'MEDO': 0.646310567855835},\n",
       " {'ALEGRIA': 0.9574624300003052, 'MEDO': 0.04500316455960274},\n",
       " {'ALEGRIA': 0.9173505306243896, 'MEDO': 0.11026684194803238},\n",
       " {'ALEGRIA': 0.3114868402481079, 'MEDO': 0.5471681356430054},\n",
       " {'ALEGRIA': 0.8499195575714111, 'MEDO': 0.0158087145537138},\n",
       " {'ALEGRIA': 0.9260919690132141, 'MEDO': 0.01410674024373293},\n",
       " {'ALEGRIA': 0.982396125793457, 'MEDO': 0.0625637024641037},\n",
       " {'ALEGRIA': 0.6276258230209351, 'MEDO': 0.42101553082466125},\n",
       " {'ALEGRIA': 0.4712119698524475, 'MEDO': 0.4253831207752228},\n",
       " {'ALEGRIA': 0.6887221336364746, 'MEDO': 0.7679086327552795},\n",
       " {'ALEGRIA': 0.022408228367567062, 'MEDO': 0.9783622622489929},\n",
       " {'ALEGRIA': 0.06892241537570953, 'MEDO': 0.9061111807823181},\n",
       " {'ALEGRIA': 0.002107811626046896, 'MEDO': 0.9965271353721619},\n",
       " {'ALEGRIA': 0.003959457390010357, 'MEDO': 0.9994814991950989},\n",
       " {'ALEGRIA': 0.44473761320114136, 'MEDO': 0.1065526083111763},\n",
       " {'ALEGRIA': 0.9882591962814331, 'MEDO': 0.0013136394554749131},\n",
       " {'ALEGRIA': 0.9806220531463623, 'MEDO': 0.03260881081223488},\n",
       " {'ALEGRIA': 0.027959823608398438, 'MEDO': 0.9663739204406738},\n",
       " {'ALEGRIA': 0.22013719379901886, 'MEDO': 0.7807023525238037}]"
      ]
     },
     "execution_count": 38,
     "metadata": {},
     "output_type": "execute_result"
    }
   ],
   "source": [
    "# prevendo Toda a base\n",
    "previsoes = []\n",
    "for texto in bd_teste['texto']:\n",
    "    previsao = modelo_carregado(texto)\n",
    "    previsoes.append(previsao.cats)\n",
    "\n",
    "previsoes"
   ]
  },
  {
   "cell_type": "code",
   "execution_count": 39,
   "metadata": {},
   "outputs": [
    {
     "data": {
      "text/plain": [
       "array(['alegria', 'alegria', 'alegria', 'alegria', 'alegria', 'alegria',\n",
       "       'medo', 'alegria', 'alegria', 'alegria', 'alegria', 'medo', 'medo',\n",
       "       'alegria', 'alegria', 'medo', 'alegria', 'alegria', 'alegria',\n",
       "       'alegria', 'alegria', 'medo', 'medo', 'alegria', 'alegria',\n",
       "       'alegria', 'alegria', 'alegria', 'alegria', 'alegria', 'alegria',\n",
       "       'alegria', 'alegria', 'medo', 'alegria', 'alegria', 'alegria',\n",
       "       'alegria', 'alegria', 'medo', 'alegria', 'alegria', 'alegria',\n",
       "       'alegria', 'alegria', 'alegria', 'alegria', 'medo', 'alegria',\n",
       "       'medo', 'medo', 'medo', 'alegria', 'alegria', 'alegria', 'medo',\n",
       "       'medo', 'medo', 'alegria', 'medo', 'medo', 'alegria', 'medo',\n",
       "       'medo', 'medo', 'medo', 'alegria', 'alegria', 'medo', 'alegria',\n",
       "       'alegria', 'alegria', 'alegria', 'alegria', 'medo', 'medo', 'medo',\n",
       "       'medo', 'medo', 'alegria', 'alegria', 'alegria', 'medo', 'medo'],\n",
       "      dtype='<U7')"
      ]
     },
     "execution_count": 39,
     "metadata": {},
     "output_type": "execute_result"
    }
   ],
   "source": [
    "# Convertendo para array\n",
    "previsoes_final = []\n",
    "for previsao in previsoes:\n",
    "    if previsao['ALEGRIA'] > previsao['MEDO']:\n",
    "        previsoes_final.append('alegria')\n",
    "    else:\n",
    "        previsoes_final.append('medo')\n",
    "\n",
    "previsoes_final = np.array(previsoes_final)\n",
    "previsoes_final"
   ]
  },
  {
   "cell_type": "code",
   "execution_count": 40,
   "metadata": {},
   "outputs": [
    {
     "data": {
      "text/plain": [
       "0.7023809523809523"
      ]
     },
     "execution_count": 40,
     "metadata": {},
     "output_type": "execute_result"
    }
   ],
   "source": [
    "# Convertendo e visualizando a taxa de acerto\n",
    "respostas_reais = bd_teste['emocao'].values\n",
    "accuracy_score(respostas_reais, previsoes_final)"
   ]
  },
  {
   "cell_type": "code",
   "execution_count": 41,
   "metadata": {},
   "outputs": [
    {
     "data": {
      "text/plain": [
       "array([[39,  9],\n",
       "       [16, 20]], dtype=int64)"
      ]
     },
     "execution_count": 41,
     "metadata": {},
     "output_type": "execute_result"
    }
   ],
   "source": [
    "# Matrix de confusão\n",
    "cm = confusion_matrix(respostas_reais, previsoes_final)\n",
    "cm"
   ]
  }
 ],
 "metadata": {
  "kernelspec": {
   "display_name": "venv",
   "language": "python",
   "name": "python3"
  },
  "language_info": {
   "codemirror_mode": {
    "name": "ipython",
    "version": 3
   },
   "file_extension": ".py",
   "mimetype": "text/x-python",
   "name": "python",
   "nbconvert_exporter": "python",
   "pygments_lexer": "ipython3",
   "version": "3.8.0"
  },
  "orig_nbformat": 4
 },
 "nbformat": 4,
 "nbformat_minor": 2
}
