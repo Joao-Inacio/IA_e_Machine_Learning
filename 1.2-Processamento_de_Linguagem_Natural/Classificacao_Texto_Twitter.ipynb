{
 "cells": [
  {
   "attachments": {},
   "cell_type": "markdown",
   "metadata": {},
   "source": [
    "# **Classificação de textos do Twitter com spaCy**"
   ]
  },
  {
   "attachments": {},
   "cell_type": "markdown",
   "metadata": {},
   "source": [
    "### Etapa 1: Bibliotecas"
   ]
  },
  {
   "cell_type": "code",
   "execution_count": 1,
   "metadata": {},
   "outputs": [
    {
     "data": {
      "text/plain": [
       "'2.2.3'"
      ]
     },
     "execution_count": 1,
     "metadata": {},
     "output_type": "execute_result"
    }
   ],
   "source": [
    "# Libs\n",
    "import pandas as pd\n",
    "import string\n",
    "import spacy\n",
    "import random\n",
    "import seaborn as sns\n",
    "import numpy as np\n",
    "import re\n",
    "spacy.__version__"
   ]
  },
  {
   "attachments": {},
   "cell_type": "markdown",
   "metadata": {},
   "source": [
    "### Etapa 2: Carregamento da Base de dados"
   ]
  },
  {
   "cell_type": "code",
   "execution_count": 2,
   "metadata": {},
   "outputs": [
    {
     "data": {
      "text/html": [
       "<div>\n",
       "<style scoped>\n",
       "    .dataframe tbody tr th:only-of-type {\n",
       "        vertical-align: middle;\n",
       "    }\n",
       "\n",
       "    .dataframe tbody tr th {\n",
       "        vertical-align: top;\n",
       "    }\n",
       "\n",
       "    .dataframe thead th {\n",
       "        text-align: right;\n",
       "    }\n",
       "</style>\n",
       "<table border=\"1\" class=\"dataframe\">\n",
       "  <thead>\n",
       "    <tr style=\"text-align: right;\">\n",
       "      <th></th>\n",
       "      <th>texto</th>\n",
       "      <th>emocao</th>\n",
       "    </tr>\n",
       "  </thead>\n",
       "  <tbody>\n",
       "    <tr>\n",
       "      <th>0</th>\n",
       "      <td>este trabalho é agradável</td>\n",
       "      <td>alegria</td>\n",
       "    </tr>\n",
       "    <tr>\n",
       "      <th>1</th>\n",
       "      <td>gosto de ficar no seu aconchego</td>\n",
       "      <td>alegria</td>\n",
       "    </tr>\n",
       "    <tr>\n",
       "      <th>2</th>\n",
       "      <td>fiz a adesão ao curso hoje</td>\n",
       "      <td>alegria</td>\n",
       "    </tr>\n",
       "    <tr>\n",
       "      <th>3</th>\n",
       "      <td>eu sou admirada por muitos</td>\n",
       "      <td>alegria</td>\n",
       "    </tr>\n",
       "    <tr>\n",
       "      <th>4</th>\n",
       "      <td>adoro como você</td>\n",
       "      <td>alegria</td>\n",
       "    </tr>\n",
       "  </tbody>\n",
       "</table>\n",
       "</div>"
      ],
      "text/plain": [
       "                             texto   emocao\n",
       "0        este trabalho é agradável  alegria\n",
       "1  gosto de ficar no seu aconchego  alegria\n",
       "2       fiz a adesão ao curso hoje  alegria\n",
       "3       eu sou admirada por muitos  alegria\n",
       "4                  adoro como você  alegria"
      ]
     },
     "execution_count": 2,
     "metadata": {},
     "output_type": "execute_result"
    }
   ],
   "source": [
    "# dados\n",
    "bd = pd.read_csv('./data/base_treinamento.txt', encoding='utf8')\n",
    "bd.head()"
   ]
  },
  {
   "cell_type": "code",
   "execution_count": 3,
   "metadata": {},
   "outputs": [
    {
     "data": {
      "text/plain": [
       "(196, 2)"
      ]
     },
     "execution_count": 3,
     "metadata": {},
     "output_type": "execute_result"
    }
   ],
   "source": [
    "# tamanho da base de dados \n",
    "bd.shape"
   ]
  },
  {
   "cell_type": "code",
   "execution_count": 4,
   "metadata": {},
   "outputs": [
    {
     "data": {
      "image/png": "[encoded data removed]",
      "text/plain": [
       "<Figure size 640x480 with 1 Axes>"
      ]
     },
     "metadata": {},
     "output_type": "display_data"
    }
   ],
   "source": [
    "# gráficos de emoções \n",
    "sns.countplot(x=bd['emocao'], label='Contagem');"
   ]
  },
  {
   "attachments": {},
   "cell_type": "markdown",
   "metadata": {},
   "source": [
    "### Etapa 3: Função para pré-processamento dos textos"
   ]
  },
  {
   "cell_type": "code",
   "execution_count": 5,
   "metadata": {},
   "outputs": [
    {
     "data": {
      "text/plain": [
       "'!\"#$%&\\'()*+,-./:;<=>?@[\\\\]^_`{|}~'"
      ]
     },
     "execution_count": 5,
     "metadata": {},
     "output_type": "execute_result"
    }
   ],
   "source": [
    "# Variável para remover pontuações \n",
    "pontuacoes = string.punctuation\n",
    "pontuacoes"
   ]
  },
  {
   "cell_type": "code",
   "execution_count": 6,
   "metadata": {},
   "outputs": [
    {
     "data": {
      "text/plain": [
       "413"
      ]
     },
     "execution_count": 6,
     "metadata": {},
     "output_type": "execute_result"
    }
   ],
   "source": [
    "# Variável para remover as stop_words\n",
    "from spacy.lang.pt.stop_words import STOP_WORDS\n",
    "\n",
    "stop_words = STOP_WORDS\n",
    "len(stop_words)"
   ]
  },
  {
   "cell_type": "code",
   "execution_count": 7,
   "metadata": {},
   "outputs": [
    {
     "data": {
      "text/plain": [
       "<spacy.lang.pt.Portuguese at 0x18fd7191790>"
      ]
     },
     "execution_count": 7,
     "metadata": {},
     "output_type": "execute_result"
    }
   ],
   "source": [
    "# Carregando o spacy\n",
    "spacy.prefer_gpu()\n",
    "pln = spacy.load(\"pt_core_news_sm\")\n",
    "pln"
   ]
  },
  {
   "cell_type": "code",
   "execution_count": 8,
   "metadata": {},
   "outputs": [],
   "source": [
    "# Criação da função de processamento \n",
    "def preprocessamento(texto):\n",
    "    # Letras minúsculas\n",
    "    texto = texto.lower()\n",
    "\n",
    "    # Nome do usuário\n",
    "    texto = re.sub(r\"@[A-Za-z0-9$-_@.&+]+\", ' ', texto)\n",
    "\n",
    "    # URLs\n",
    "    texto = re.sub(r\"https?://[A-Za-z0-9./]+\", ' ', texto)\n",
    "\n",
    "    # Espaços em branco\n",
    "    texto = re.sub(r\" +\", ' ', texto)\n",
    "\n",
    "    # Emoticons\n",
    "    lista_emocoes = {':)': 'emocaopositiva',\n",
    "                    ':d': 'emocaopositiva',\n",
    "                    ':(': 'emocaonegativa'}\n",
    "    for emocao in lista_emocoes:\n",
    "        texto = texto.replace(emocao, lista_emocoes[emocao])\n",
    "\n",
    "    # Lematização\n",
    "    documento = pln(texto)\n",
    "\n",
    "    lista = []\n",
    "    for token in documento:\n",
    "        lista.append(token.lemma_)\n",
    "    \n",
    "    # Stop words e pontuações\n",
    "    lista = [palavra for palavra in lista if palavra not in stop_words and palavra not in string.punctuation]\n",
    "    lista = ' '.join([str(elemento) for elemento in lista if not elemento.isdigit()])\n",
    "    \n",
    "    return lista"
   ]
  },
  {
   "cell_type": "code",
   "execution_count": 9,
   "metadata": {},
   "outputs": [
    {
     "data": {
      "text/plain": [
       "'  emocaopositiva parir emocaonegativa mim precisamente o contrário emocaopositiva vir o chuva e vir o disposição emocaopositiva'"
      ]
     },
     "execution_count": 9,
     "metadata": {},
     "output_type": "execute_result"
    }
   ],
   "source": [
    "# testando a função\n",
    "texto_teste = '@behin_d_curtain :D Para :( mim, http://www.iaexpert.com.br é precisamente o contrário :) Vem a chuva e vem a boa disposição :)'\n",
    "resultado = preprocessamento(texto_teste)\n",
    "resultado"
   ]
  },
  {
   "cell_type": "markdown",
   "metadata": {},
   "source": [
    "### Base de Teste"
   ]
  },
  {
   "cell_type": "code",
   "execution_count": 10,
   "metadata": {},
   "outputs": [
    {
     "data": {
      "text/html": [
       "<div>\n",
       "<style scoped>\n",
       "    .dataframe tbody tr th:only-of-type {\n",
       "        vertical-align: middle;\n",
       "    }\n",
       "\n",
       "    .dataframe tbody tr th {\n",
       "        vertical-align: top;\n",
       "    }\n",
       "\n",
       "    .dataframe thead th {\n",
       "        text-align: right;\n",
       "    }\n",
       "</style>\n",
       "<table border=\"1\" class=\"dataframe\">\n",
       "  <thead>\n",
       "    <tr style=\"text-align: right;\">\n",
       "      <th></th>\n",
       "      <th>texto</th>\n",
       "      <th>emocao</th>\n",
       "    </tr>\n",
       "  </thead>\n",
       "  <tbody>\n",
       "    <tr>\n",
       "      <th>0</th>\n",
       "      <td>não precisei pagar o ingresso</td>\n",
       "      <td>alegria</td>\n",
       "    </tr>\n",
       "    <tr>\n",
       "      <th>1</th>\n",
       "      <td>se eu ajeitar tudo fica bem</td>\n",
       "      <td>alegria</td>\n",
       "    </tr>\n",
       "    <tr>\n",
       "      <th>2</th>\n",
       "      <td>minha fortuna ultrapassará a sua</td>\n",
       "      <td>alegria</td>\n",
       "    </tr>\n",
       "    <tr>\n",
       "      <th>3</th>\n",
       "      <td>sou muito afortunado</td>\n",
       "      <td>alegria</td>\n",
       "    </tr>\n",
       "    <tr>\n",
       "      <th>4</th>\n",
       "      <td>é benéfico para todos esta nova medida</td>\n",
       "      <td>alegria</td>\n",
       "    </tr>\n",
       "  </tbody>\n",
       "</table>\n",
       "</div>"
      ],
      "text/plain": [
       "                                    texto   emocao\n",
       "0           não precisei pagar o ingresso  alegria\n",
       "1             se eu ajeitar tudo fica bem  alegria\n",
       "2        minha fortuna ultrapassará a sua  alegria\n",
       "3                    sou muito afortunado  alegria\n",
       "4  é benéfico para todos esta nova medida  alegria"
      ]
     },
     "execution_count": 10,
     "metadata": {},
     "output_type": "execute_result"
    }
   ],
   "source": [
    "# Base de teste\n",
    "bd_test = pd.read_csv('./data/base_teste.txt', encoding='utf8')\n",
    "bd_test.head()"
   ]
  },
  {
   "cell_type": "markdown",
   "metadata": {},
   "source": [
    "### Etapa 4: Pré-processamento da base de dados"
   ]
  },
  {
   "cell_type": "code",
   "execution_count": 11,
   "metadata": {},
   "outputs": [
    {
     "data": {
      "text/html": [
       "<div>\n",
       "<style scoped>\n",
       "    .dataframe tbody tr th:only-of-type {\n",
       "        vertical-align: middle;\n",
       "    }\n",
       "\n",
       "    .dataframe tbody tr th {\n",
       "        vertical-align: top;\n",
       "    }\n",
       "\n",
       "    .dataframe thead th {\n",
       "        text-align: right;\n",
       "    }\n",
       "</style>\n",
       "<table border=\"1\" class=\"dataframe\">\n",
       "  <thead>\n",
       "    <tr style=\"text-align: right;\">\n",
       "      <th></th>\n",
       "      <th>texto</th>\n",
       "      <th>emocao</th>\n",
       "    </tr>\n",
       "  </thead>\n",
       "  <tbody>\n",
       "    <tr>\n",
       "      <th>0</th>\n",
       "      <td>este trabalho é agradável</td>\n",
       "      <td>alegria</td>\n",
       "    </tr>\n",
       "    <tr>\n",
       "      <th>1</th>\n",
       "      <td>gosto de ficar no seu aconchego</td>\n",
       "      <td>alegria</td>\n",
       "    </tr>\n",
       "    <tr>\n",
       "      <th>2</th>\n",
       "      <td>fiz a adesão ao curso hoje</td>\n",
       "      <td>alegria</td>\n",
       "    </tr>\n",
       "    <tr>\n",
       "      <th>3</th>\n",
       "      <td>eu sou admirada por muitos</td>\n",
       "      <td>alegria</td>\n",
       "    </tr>\n",
       "    <tr>\n",
       "      <th>4</th>\n",
       "      <td>adoro como você</td>\n",
       "      <td>alegria</td>\n",
       "    </tr>\n",
       "  </tbody>\n",
       "</table>\n",
       "</div>"
      ],
      "text/plain": [
       "                             texto   emocao\n",
       "0        este trabalho é agradável  alegria\n",
       "1  gosto de ficar no seu aconchego  alegria\n",
       "2       fiz a adesão ao curso hoje  alegria\n",
       "3       eu sou admirada por muitos  alegria\n",
       "4                  adoro como você  alegria"
      ]
     },
     "execution_count": 11,
     "metadata": {},
     "output_type": "execute_result"
    }
   ],
   "source": [
    "# Limpeza de dado\n",
    "bd.head()"
   ]
  },
  {
   "cell_type": "code",
   "execution_count": 12,
   "metadata": {},
   "outputs": [
    {
     "data": {
      "text/html": [
       "<div>\n",
       "<style scoped>\n",
       "    .dataframe tbody tr th:only-of-type {\n",
       "        vertical-align: middle;\n",
       "    }\n",
       "\n",
       "    .dataframe tbody tr th {\n",
       "        vertical-align: top;\n",
       "    }\n",
       "\n",
       "    .dataframe thead th {\n",
       "        text-align: right;\n",
       "    }\n",
       "</style>\n",
       "<table border=\"1\" class=\"dataframe\">\n",
       "  <thead>\n",
       "    <tr style=\"text-align: right;\">\n",
       "      <th></th>\n",
       "      <th>texto</th>\n",
       "      <th>emocao</th>\n",
       "    </tr>\n",
       "  </thead>\n",
       "  <tbody>\n",
       "    <tr>\n",
       "      <th>0</th>\n",
       "      <td>trabalhar agradável</td>\n",
       "      <td>alegria</td>\n",
       "    </tr>\n",
       "    <tr>\n",
       "      <th>1</th>\n",
       "      <td>gostar ficar o aconchegar</td>\n",
       "      <td>alegria</td>\n",
       "    </tr>\n",
       "    <tr>\n",
       "      <th>2</th>\n",
       "      <td>o adesão o o cursar hoje</td>\n",
       "      <td>alegria</td>\n",
       "    </tr>\n",
       "    <tr>\n",
       "      <th>3</th>\n",
       "      <td>admirar</td>\n",
       "      <td>alegria</td>\n",
       "    </tr>\n",
       "    <tr>\n",
       "      <th>4</th>\n",
       "      <td>adorar comer</td>\n",
       "      <td>alegria</td>\n",
       "    </tr>\n",
       "    <tr>\n",
       "      <th>5</th>\n",
       "      <td>adorar cabelar maciar</td>\n",
       "      <td>alegria</td>\n",
       "    </tr>\n",
       "    <tr>\n",
       "      <th>6</th>\n",
       "      <td>adorar o cor olho</td>\n",
       "      <td>alegria</td>\n",
       "    </tr>\n",
       "    <tr>\n",
       "      <th>7</th>\n",
       "      <td>somar amável o outro</td>\n",
       "      <td>alegria</td>\n",
       "    </tr>\n",
       "    <tr>\n",
       "      <th>8</th>\n",
       "      <td>sentir umar afeição</td>\n",
       "      <td>alegria</td>\n",
       "    </tr>\n",
       "    <tr>\n",
       "      <th>9</th>\n",
       "      <td>querer agradar filho</td>\n",
       "      <td>alegria</td>\n",
       "    </tr>\n",
       "  </tbody>\n",
       "</table>\n",
       "</div>"
      ],
      "text/plain": [
       "                       texto   emocao\n",
       "0        trabalhar agradável  alegria\n",
       "1  gostar ficar o aconchegar  alegria\n",
       "2   o adesão o o cursar hoje  alegria\n",
       "3                    admirar  alegria\n",
       "4               adorar comer  alegria\n",
       "5      adorar cabelar maciar  alegria\n",
       "6          adorar o cor olho  alegria\n",
       "7       somar amável o outro  alegria\n",
       "8        sentir umar afeição  alegria\n",
       "9       querer agradar filho  alegria"
      ]
     },
     "execution_count": 12,
     "metadata": {},
     "output_type": "execute_result"
    }
   ],
   "source": [
    "# Limpeza\n",
    "bd['texto'] = bd['texto'].apply(preprocessamento)\n",
    "bd.head(10)"
   ]
  },
  {
   "cell_type": "code",
   "execution_count": 13,
   "metadata": {},
   "outputs": [
    {
     "data": {
      "text/html": [
       "<div>\n",
       "<style scoped>\n",
       "    .dataframe tbody tr th:only-of-type {\n",
       "        vertical-align: middle;\n",
       "    }\n",
       "\n",
       "    .dataframe tbody tr th {\n",
       "        vertical-align: top;\n",
       "    }\n",
       "\n",
       "    .dataframe thead th {\n",
       "        text-align: right;\n",
       "    }\n",
       "</style>\n",
       "<table border=\"1\" class=\"dataframe\">\n",
       "  <thead>\n",
       "    <tr style=\"text-align: right;\">\n",
       "      <th></th>\n",
       "      <th>texto</th>\n",
       "      <th>emocao</th>\n",
       "    </tr>\n",
       "  </thead>\n",
       "  <tbody>\n",
       "    <tr>\n",
       "      <th>0</th>\n",
       "      <td>trabalhar agradável</td>\n",
       "      <td>alegria</td>\n",
       "    </tr>\n",
       "    <tr>\n",
       "      <th>1</th>\n",
       "      <td>gostar ficar o aconchegar</td>\n",
       "      <td>alegria</td>\n",
       "    </tr>\n",
       "    <tr>\n",
       "      <th>2</th>\n",
       "      <td>o adesão o o cursar hoje</td>\n",
       "      <td>alegria</td>\n",
       "    </tr>\n",
       "    <tr>\n",
       "      <th>3</th>\n",
       "      <td>admirar</td>\n",
       "      <td>alegria</td>\n",
       "    </tr>\n",
       "    <tr>\n",
       "      <th>4</th>\n",
       "      <td>adorar comer</td>\n",
       "      <td>alegria</td>\n",
       "    </tr>\n",
       "    <tr>\n",
       "      <th>5</th>\n",
       "      <td>adorar cabelar maciar</td>\n",
       "      <td>alegria</td>\n",
       "    </tr>\n",
       "    <tr>\n",
       "      <th>6</th>\n",
       "      <td>adorar o cor olho</td>\n",
       "      <td>alegria</td>\n",
       "    </tr>\n",
       "    <tr>\n",
       "      <th>7</th>\n",
       "      <td>somar amável o outro</td>\n",
       "      <td>alegria</td>\n",
       "    </tr>\n",
       "    <tr>\n",
       "      <th>8</th>\n",
       "      <td>sentir umar afeição</td>\n",
       "      <td>alegria</td>\n",
       "    </tr>\n",
       "    <tr>\n",
       "      <th>9</th>\n",
       "      <td>querer agradar filho</td>\n",
       "      <td>alegria</td>\n",
       "    </tr>\n",
       "  </tbody>\n",
       "</table>\n",
       "</div>"
      ],
      "text/plain": [
       "                       texto   emocao\n",
       "0        trabalhar agradável  alegria\n",
       "1  gostar ficar o aconchegar  alegria\n",
       "2   o adesão o o cursar hoje  alegria\n",
       "3                    admirar  alegria\n",
       "4               adorar comer  alegria\n",
       "5      adorar cabelar maciar  alegria\n",
       "6          adorar o cor olho  alegria\n",
       "7       somar amável o outro  alegria\n",
       "8        sentir umar afeição  alegria\n",
       "9       querer agradar filho  alegria"
      ]
     },
     "execution_count": 13,
     "metadata": {},
     "output_type": "execute_result"
    }
   ],
   "source": [
    "# Limpeza da base de teste\n",
    "bd_test['texto'] = bd_test['texto'].apply(preprocessamento)\n",
    "bd.head(10)"
   ]
  },
  {
   "cell_type": "markdown",
   "metadata": {},
   "source": [
    "### Tratamento da Classe"
   ]
  },
  {
   "cell_type": "code",
   "execution_count": 14,
   "metadata": {},
   "outputs": [],
   "source": [
    "# Transformando as variáveis\n",
    "bd_final = []\n",
    "for texto, emocao in zip(bd['texto'], bd['emocao']):\n",
    "    if emocao == 'alegria':\n",
    "        dic = ({'ALEGRIA': True, 'MEDO': False})\n",
    "    elif emocao == 'medo':\n",
    "        dic = ({'ALEGRIA': False, 'MEDO': True})\n",
    "\n",
    "    bd_final.append([texto, dic.copy()])"
   ]
  },
  {
   "cell_type": "code",
   "execution_count": 15,
   "metadata": {},
   "outputs": [
    {
     "data": {
      "text/plain": [
       "196"
      ]
     },
     "execution_count": 15,
     "metadata": {},
     "output_type": "execute_result"
    }
   ],
   "source": [
    "# Tamanho \n",
    "len(bd_final)"
   ]
  },
  {
   "cell_type": "code",
   "execution_count": 16,
   "metadata": {},
   "outputs": [
    {
     "data": {
      "text/plain": [
       "[['sentir completamente amar', {'ALEGRIA': True, 'MEDO': False}],\n",
       " ['amar', {'ALEGRIA': True, 'MEDO': False}],\n",
       " ['alívio', {'ALEGRIA': True, 'MEDO': False}],\n",
       " ['o dor amenizar finalmente', {'ALEGRIA': True, 'MEDO': False}],\n",
       " ['achar apaixonar', {'ALEGRIA': True, 'MEDO': False}]]"
      ]
     },
     "execution_count": 16,
     "metadata": {},
     "output_type": "execute_result"
    }
   ],
   "source": [
    "# Visualizando a base de dado\n",
    "bd_final[10:15]"
   ]
  },
  {
   "cell_type": "code",
   "execution_count": 17,
   "metadata": {},
   "outputs": [
    {
     "data": {
      "text/plain": [
       "[['trabalhar agradável', {'ALEGRIA': True, 'MEDO': False}],\n",
       " ['gostar ficar o aconchegar', {'ALEGRIA': True, 'MEDO': False}],\n",
       " ['o adesão o o cursar hoje', {'ALEGRIA': True, 'MEDO': False}],\n",
       " ['admirar', {'ALEGRIA': True, 'MEDO': False}],\n",
       " ['adorar comer', {'ALEGRIA': True, 'MEDO': False}],\n",
       " ['adorar cabelar maciar', {'ALEGRIA': True, 'MEDO': False}],\n",
       " ['adorar o cor olho', {'ALEGRIA': True, 'MEDO': False}],\n",
       " ['somar amável o outro', {'ALEGRIA': True, 'MEDO': False}],\n",
       " ['sentir umar afeição', {'ALEGRIA': True, 'MEDO': False}],\n",
       " ['querer agradar filho', {'ALEGRIA': True, 'MEDO': False}],\n",
       " ['sentir completamente amar', {'ALEGRIA': True, 'MEDO': False}],\n",
       " ['amar', {'ALEGRIA': True, 'MEDO': False}],\n",
       " ['alívio', {'ALEGRIA': True, 'MEDO': False}],\n",
       " ['o dor amenizar finalmente', {'ALEGRIA': True, 'MEDO': False}],\n",
       " ['achar apaixonar', {'ALEGRIA': True, 'MEDO': False}],\n",
       " ['amar maravilhoso', {'ALEGRIA': True, 'MEDO': False}],\n",
       " ['sentir animar', {'ALEGRIA': True, 'MEDO': False}],\n",
       " ['sentir hoje', {'ALEGRIA': True, 'MEDO': False}],\n",
       " ['comer o luar belo', {'ALEGRIA': True, 'MEDO': False}],\n",
       " ['o dia bonito', {'ALEGRIA': True, 'MEDO': False}],\n",
       " ['comer afortunar', {'ALEGRIA': True, 'MEDO': False}],\n",
       " ['o maravilhar mundo', {'ALEGRIA': True, 'MEDO': False}],\n",
       " ['receber caro hoje colega', {'ALEGRIA': True, 'MEDO': False}],\n",
       " ['sentir reconfortar hoje', {'ALEGRIA': True, 'MEDO': False}],\n",
       " ['o amigo', {'ALEGRIA': True, 'MEDO': False}],\n",
       " ['contentar o resultar teste', {'ALEGRIA': True, 'MEDO': False}],\n",
       " ['pintura brilhante', {'ALEGRIA': True, 'MEDO': False}],\n",
       " ['água abundância', {'ALEGRIA': True, 'MEDO': False}],\n",
       " ['roupar delicado', {'ALEGRIA': True, 'MEDO': False}],\n",
       " ['comediante', {'ALEGRIA': True, 'MEDO': False}],\n",
       " ['bondade o suar', {'ALEGRIA': True, 'MEDO': False}],\n",
       " ['o amor lindar', {'ALEGRIA': True, 'MEDO': False}],\n",
       " ['amizade durar parir', {'ALEGRIA': True, 'MEDO': False}],\n",
       " ['eufórico o notícia', {'ALEGRIA': True, 'MEDO': False}],\n",
       " ['realmente fiel o mim', {'ALEGRIA': True, 'MEDO': False}],\n",
       " ['umar festa parir comemorar aniversário', {'ALEGRIA': True, 'MEDO': False}],\n",
       " ['graça o deus enxergar o certar', {'ALEGRIA': True, 'MEDO': False}],\n",
       " ['o melhor escolher', {'ALEGRIA': True, 'MEDO': False}],\n",
       " ['o incrível belo', {'ALEGRIA': True, 'MEDO': False}],\n",
       " ['engraçar explicar', {'ALEGRIA': True, 'MEDO': False}],\n",
       " ['emocionante n', {'ALEGRIA': True, 'MEDO': False}],\n",
       " ['cativar pelar olhar', {'ALEGRIA': True, 'MEDO': False}],\n",
       " ['loucamente apaixonar', {'ALEGRIA': True, 'MEDO': False}],\n",
       " ['dúvida', {'ALEGRIA': True, 'MEDO': False}],\n",
       " ['rodear pelar abraçar', {'ALEGRIA': True, 'MEDO': False}],\n",
       " ['estrelo pelar caminhar', {'ALEGRIA': True, 'MEDO': False}],\n",
       " ['sentir o sol', {'ALEGRIA': True, 'MEDO': False}],\n",
       " ['sorrir orelhar o orelhar', {'ALEGRIA': True, 'MEDO': False}],\n",
       " ['valer o peno', {'ALEGRIA': True, 'MEDO': False}],\n",
       " ['finalmente colocar amor', {'ALEGRIA': True, 'MEDO': False}],\n",
       " ['nó dançar noite adentrar', {'ALEGRIA': True, 'MEDO': False}],\n",
       " ['amor brilhante', {'ALEGRIA': True, 'MEDO': False}],\n",
       " ['tocar coração durante o caminhar', {'ALEGRIA': True, 'MEDO': False}],\n",
       " ['suar amigo e companheiro', {'ALEGRIA': True, 'MEDO': False}],\n",
       " ['trazer voltar o vidar', {'ALEGRIA': True, 'MEDO': False}],\n",
       " ['e comer sonhar doce', {'ALEGRIA': True, 'MEDO': False}],\n",
       " ['adorar doce frutar', {'ALEGRIA': True, 'MEDO': False}],\n",
       " ['suco favorito', {'ALEGRIA': True, 'MEDO': False}],\n",
       " ['agradecido pelar ajudar', {'ALEGRIA': True, 'MEDO': False}],\n",
       " ['enorme prazer equipar', {'ALEGRIA': True, 'MEDO': False}],\n",
       " ['trabalhar equipar o melhor', {'ALEGRIA': True, 'MEDO': False}],\n",
       " ['sentir flutuar o ar', {'ALEGRIA': True, 'MEDO': False}],\n",
       " ['o brisa agradável hoje', {'ALEGRIA': True, 'MEDO': False}],\n",
       " ['ótimo e compatível', {'ALEGRIA': True, 'MEDO': False}],\n",
       " ['compatível o outro', {'ALEGRIA': True, 'MEDO': False}],\n",
       " ['o órgão compatível o paciente', {'ALEGRIA': True, 'MEDO': False}],\n",
       " ['contentar aceito o faculdade', {'ALEGRIA': True, 'MEDO': False}],\n",
       " ['aprovar o exame', {'ALEGRIA': True, 'MEDO': False}],\n",
       " ['beneficiar pelar empresar', {'ALEGRIA': True, 'MEDO': False}],\n",
       " ['cativante', {'ALEGRIA': True, 'MEDO': False}],\n",
       " ['contentar o apoiar', {'ALEGRIA': True, 'MEDO': False}],\n",
       " ['comer e confortável', {'ALEGRIA': True, 'MEDO': False}],\n",
       " ['e quentar n frio', {'ALEGRIA': True, 'MEDO': False}],\n",
       " ['elogiar e', {'ALEGRIA': True, 'MEDO': False}],\n",
       " ['chamar parir comemorar', {'ALEGRIA': True, 'MEDO': False}],\n",
       " ['desejável o suar presença apresentação', {'ALEGRIA': True, 'MEDO': False}],\n",
       " ['grato o', {'ALEGRIA': True, 'MEDO': False}],\n",
       " ['dedicar n', {'ALEGRIA': True, 'MEDO': False}],\n",
       " ['completamente apaixonar', {'ALEGRIA': True, 'MEDO': False}],\n",
       " ['agitar noite', {'ALEGRIA': True, 'MEDO': False}],\n",
       " ['significar parir mim', {'ALEGRIA': True, 'MEDO': False}],\n",
       " ['agir preconceito e julgamento', {'ALEGRIA': True, 'MEDO': False}],\n",
       " ['finalmente completar o coleção maravilhoso',\n",
       "  {'ALEGRIA': True, 'MEDO': False}],\n",
       " ['suar rei', {'ALEGRIA': True, 'MEDO': False}],\n",
       " ['satisfatoriamente anunciar o vencedor jogo',\n",
       "  {'ALEGRIA': True, 'MEDO': False}],\n",
       " ['atrair facilmente', {'ALEGRIA': True, 'MEDO': False}],\n",
       " ['rapaz e extremamente atraente', {'ALEGRIA': True, 'MEDO': False}],\n",
       " ['sinto-me vivo', {'ALEGRIA': True, 'MEDO': False}],\n",
       " ['sinto-me paz', {'ALEGRIA': True, 'MEDO': False}],\n",
       " ['lucrar', {'ALEGRIA': True, 'MEDO': False}],\n",
       " ['ordem', {'ALEGRIA': True, 'MEDO': False}],\n",
       " ['arrumar empregar junto', {'ALEGRIA': True, 'MEDO': False}],\n",
       " ['o arrumação terminar alívio', {'ALEGRIA': True, 'MEDO': False}],\n",
       " ['o câncer benigno', {'ALEGRIA': True, 'MEDO': False}],\n",
       " ['o amor abundante', {'ALEGRIA': True, 'MEDO': False}],\n",
       " ['caridoso natal', {'ALEGRIA': True, 'MEDO': False}],\n",
       " ['charme irar atrair o', {'ALEGRIA': True, 'MEDO': False}],\n",
       " ['comer charmoso querer', {'ALEGRIA': True, 'MEDO': False}],\n",
       " ['querido amigo', {'ALEGRIA': True, 'MEDO': False}],\n",
       " ['cuidadoso o sentimento', {'ALEGRIA': True, 'MEDO': False}],\n",
       " ['comover tamanho caridade', {'ALEGRIA': True, 'MEDO': False}],\n",
       " ['chá quentar e reconfortante', {'ALEGRIA': True, 'MEDO': False}],\n",
       " ['alegria', {'ALEGRIA': True, 'MEDO': False}],\n",
       " ['aplaudir o vencedor', {'ALEGRIA': True, 'MEDO': False}],\n",
       " ['palmar parir o aniversariante', {'ALEGRIA': True, 'MEDO': False}],\n",
       " ['desejar o', {'ALEGRIA': True, 'MEDO': False}],\n",
       " ['horar apreciar vinho', {'ALEGRIA': True, 'MEDO': False}],\n",
       " ['apreciar suar presença escola', {'ALEGRIA': True, 'MEDO': False}],\n",
       " ['ansiar trabalho', {'ALEGRIA': True, 'MEDO': False}],\n",
       " ['maravilhoso jogar amistoso', {'ALEGRIA': True, 'MEDO': False}],\n",
       " ['e ótimo o menimos apaziguar', {'ALEGRIA': True, 'MEDO': False}],\n",
       " ['concretizar finalmente sonhar', {'ALEGRIA': True, 'MEDO': False}],\n",
       " ['implorar matar', {'ALEGRIA': False, 'MEDO': True}],\n",
       " ['perigoso', {'ALEGRIA': False, 'MEDO': True}],\n",
       " ['segurar', {'ALEGRIA': False, 'MEDO': True}],\n",
       " ['correr pra', {'ALEGRIA': False, 'MEDO': True}],\n",
       " ['socorrer querer roubar o doce', {'ALEGRIA': False, 'MEDO': True}],\n",
       " ['caro perseguir', {'ALEGRIA': False, 'MEDO': True}],\n",
       " ['entrar perigoso', {'ALEGRIA': False, 'MEDO': True}],\n",
       " ['continuar assustador', {'ALEGRIA': False, 'MEDO': True}],\n",
       " ['o selva animar perigoso', {'ALEGRIA': False, 'MEDO': True}],\n",
       " ['avançar cautela', {'ALEGRIA': False, 'MEDO': True}],\n",
       " ['silencioso cuidar', {'ALEGRIA': False, 'MEDO': True}],\n",
       " ['deixe-me viver', {'ALEGRIA': False, 'MEDO': True}],\n",
       " ['ficar mesada tirar noto', {'ALEGRIA': False, 'MEDO': True}],\n",
       " ['parecer olho o vigiar', {'ALEGRIA': False, 'MEDO': True}],\n",
       " ['o sentença juiz negativo', {'ALEGRIA': False, 'MEDO': True}],\n",
       " ['missão arriscar', {'ALEGRIA': False, 'MEDO': True}],\n",
       " ['salvem-se', {'ALEGRIA': False, 'MEDO': True}],\n",
       " ['planar descobrir', {'ALEGRIA': False, 'MEDO': True}],\n",
       " ['culpar jurar', {'ALEGRIA': False, 'MEDO': True}],\n",
       " ['tomar cuidar o lobisomem', {'ALEGRIA': False, 'MEDO': True}],\n",
       " ['achar descobrir o verdade', {'ALEGRIA': False, 'MEDO': True}],\n",
       " ['deus desaparecer', {'ALEGRIA': False, 'MEDO': True}],\n",
       " ['tomar d', {'ALEGRIA': False, 'MEDO': True}],\n",
       " ['manter segredar descobrir ferrar', {'ALEGRIA': False, 'MEDO': True}],\n",
       " ['soltar inocentar', {'ALEGRIA': False, 'MEDO': True}],\n",
       " ['ouvir passo mim', {'ALEGRIA': False, 'MEDO': True}],\n",
       " ['pedir socorrer', {'ALEGRIA': False, 'MEDO': True}],\n",
       " ['cuidar o curvo o estrar', {'ALEGRIA': False, 'MEDO': True}],\n",
       " ['parecer perigoso', {'ALEGRIA': False, 'MEDO': True}],\n",
       " ['tremer medo', {'ALEGRIA': False, 'MEDO': True}],\n",
       " ['socorrer cair', {'ALEGRIA': False, 'MEDO': True}],\n",
       " ['o florestar negro perigoso', {'ALEGRIA': False, 'MEDO': True}],\n",
       " ['ouvir passo o direção', {'ALEGRIA': False, 'MEDO': True}],\n",
       " ['achar arriscar', {'ALEGRIA': False, 'MEDO': True}],\n",
       " ['voltar perigoso', {'ALEGRIA': False, 'MEDO': True}],\n",
       " ['fugir acabar morto', {'ALEGRIA': False, 'MEDO': True}],\n",
       " ['recear livrar d situação', {'ALEGRIA': False, 'MEDO': True}],\n",
       " ['socorrer armar', {'ALEGRIA': False, 'MEDO': True}],\n",
       " ['eis cuidar bater o postar', {'ALEGRIA': False, 'MEDO': True}],\n",
       " ['socorrer nó afundar', {'ALEGRIA': False, 'MEDO': True}],\n",
       " ['e sério cuidar armar', {'ALEGRIA': False, 'MEDO': True}],\n",
       " ['o tubarão atacar', {'ALEGRIA': False, 'MEDO': True}],\n",
       " ['sentir arrepio ficar o escuro', {'ALEGRIA': False, 'MEDO': True}],\n",
       " ['calmo o dinheiro', {'ALEGRIA': False, 'MEDO': True}],\n",
       " ['achar enganar', {'ALEGRIA': False, 'MEDO': True}],\n",
       " ['ligeiro fugir depressa', {'ALEGRIA': False, 'MEDO': True}],\n",
       " ['crocodilo selvagem vir parir', {'ALEGRIA': False, 'MEDO': True}],\n",
       " ['ficar o achar', {'ALEGRIA': False, 'MEDO': True}],\n",
       " ['fugir o tigre parecer faminto', {'ALEGRIA': False, 'MEDO': True}],\n",
       " ['sair precisar milagre', {'ALEGRIA': False, 'MEDO': True}],\n",
       " ['tirar mim socorrer', {'ALEGRIA': False, 'MEDO': True}],\n",
       " ['nadar afogar', {'ALEGRIA': False, 'MEDO': True}],\n",
       " ['e segurar', {'ALEGRIA': False, 'MEDO': True}],\n",
       " ['apanhar pai boletim', {'ALEGRIA': False, 'MEDO': True}],\n",
       " ['conseguir sair d', {'ALEGRIA': False, 'MEDO': True}],\n",
       " ['sair tardar assaltar', {'ALEGRIA': False, 'MEDO': True}],\n",
       " ['deixar', {'ALEGRIA': False, 'MEDO': True}],\n",
       " ['esperar largar', {'ALEGRIA': False, 'MEDO': True}],\n",
       " ['pelar suar segurança', {'ALEGRIA': False, 'MEDO': True}],\n",
       " ['entregar o dinheiro matar', {'ALEGRIA': False, 'MEDO': True}],\n",
       " ['levar o dinheiro', {'ALEGRIA': False, 'MEDO': True}],\n",
       " ['dirigir rápido', {'ALEGRIA': False, 'MEDO': True}],\n",
       " ['descobrir prender', {'ALEGRIA': False, 'MEDO': True}],\n",
       " ['esperar nenhum', {'ALEGRIA': False, 'MEDO': True}],\n",
       " ['afogar ajudar o sair água', {'ALEGRIA': False, 'MEDO': True}],\n",
       " ['o salvar', {'ALEGRIA': False, 'MEDO': True}],\n",
       " ['querer pensar o acontecer', {'ALEGRIA': False, 'MEDO': True}],\n",
       " ['n cidade umar desgraçar outro', {'ALEGRIA': False, 'MEDO': True}],\n",
       " ['alguém ligar assustar', {'ALEGRIA': False, 'MEDO': True}],\n",
       " ['remedio matar', {'ALEGRIA': False, 'MEDO': True}],\n",
       " ['confiar n cautela', {'ALEGRIA': False, 'MEDO': True}],\n",
       " ['cautela', {'ALEGRIA': False, 'MEDO': True}],\n",
       " ['descobrir deus', {'ALEGRIA': False, 'MEDO': True}],\n",
       " ['recear', {'ALEGRIA': False, 'MEDO': True}],\n",
       " ['o noite e perigoso', {'ALEGRIA': False, 'MEDO': True}],\n",
       " ['estremecer casar', {'ALEGRIA': False, 'MEDO': True}],\n",
       " ['olhar criatura mover monstruosamente', {'ALEGRIA': False, 'MEDO': True}],\n",
       " ['aguentar suspense', {'ALEGRIA': False, 'MEDO': True}],\n",
       " ['afugentar o cão', {'ALEGRIA': False, 'MEDO': True}],\n",
       " ['chocar e amedrontar assassinato brutal', {'ALEGRIA': False, 'MEDO': True}],\n",
       " ['precisar afugentar ímpeto medo infernar', {'ALEGRIA': False, 'MEDO': True}],\n",
       " ['político suar forçar parir afugentar e amedrontar o',\n",
       "  {'ALEGRIA': False, 'MEDO': True}],\n",
       " ['o objetivo d e amedrontar', {'ALEGRIA': False, 'MEDO': True}],\n",
       " ['apavorar', {'ALEGRIA': False, 'MEDO': True}]]"
      ]
     },
     "execution_count": 17,
     "metadata": {},
     "output_type": "execute_result"
    }
   ],
   "source": [
    "# Visualizando a toda base de dado\n",
    "bd_final"
   ]
  },
  {
   "cell_type": "markdown",
   "metadata": {},
   "source": [
    "### Etapa 5: Criação do classificador"
   ]
  },
  {
   "cell_type": "code",
   "execution_count": 18,
   "metadata": {},
   "outputs": [],
   "source": [
    "# Criação do modelo\n",
    "modelo = spacy.blank('pt')\n",
    "categorias = modelo.create_pipe(\"textcat\")\n",
    "categorias.add_label(\"ALEGRIA\")\n",
    "categorias.add_label(\"MEDO\")\n",
    "modelo.add_pipe(categorias)\n",
    "historico = []"
   ]
  },
  {
   "cell_type": "code",
   "execution_count": 19,
   "metadata": {},
   "outputs": [
    {
     "name": "stdout",
     "output_type": "stream",
     "text": [
      "{'textcat': 0.006055206875316799}\n",
      "{'textcat': 2.5848753466561902e-05}\n",
      "{'textcat': 2.0996849912080506e-06}\n",
      "{'textcat': 1.5888284323750668e-06}\n",
      "{'textcat': 1.0383594215568337e-06}\n",
      "{'textcat': 6.908124916549241e-07}\n",
      "{'textcat': 5.918361729584376e-07}\n",
      "{'textcat': 6.042425724217537e-07}\n",
      "{'textcat': 4.3787724024468844e-07}\n"
     ]
    }
   ],
   "source": [
    "# Treinado o modelo\n",
    "modelo.begin_training()\n",
    "for epoca in range(42):\n",
    "    random.shuffle(bd_final)\n",
    "    losses = {}\n",
    "    for batch in spacy.util.minibatch(bd_final, 30):\n",
    "        textos = [modelo(texto) for texto, entities in batch]\n",
    "        annotations = [{'cats': entities} for texto, entities in batch]\n",
    "        modelo.update(textos, annotations, losses=losses)\n",
    "        historico.append(losses)\n",
    "    if epoca % 5 == 0:\n",
    "        print(losses)"
   ]
  },
  {
   "cell_type": "code",
   "execution_count": 20,
   "metadata": {},
   "outputs": [],
   "source": [
    "# Armazenando os valores dos resultados\n",
    "historico_loss = []\n",
    "for i in historico:\n",
    "    historico_loss.append(i.get('textcat'))"
   ]
  },
  {
   "cell_type": "code",
   "execution_count": 21,
   "metadata": {},
   "outputs": [
    {
     "data": {
      "text/plain": [
       "array([6.05520688e-03, 6.05520688e-03, 6.05520688e-03, 6.05520688e-03,\n",
       "       6.05520688e-03, 6.05520688e-03, 6.05520688e-03, 2.99449364e-03,\n",
       "       2.99449364e-03, 2.99449364e-03, 2.99449364e-03, 2.99449364e-03,\n",
       "       2.99449364e-03, 2.99449364e-03, 1.19359745e-03, 1.19359745e-03,\n",
       "       1.19359745e-03, 1.19359745e-03, 1.19359745e-03, 1.19359745e-03,\n",
       "       1.19359745e-03, 3.27938882e-04, 3.27938882e-04, 3.27938882e-04,\n",
       "       3.27938882e-04, 3.27938882e-04, 3.27938882e-04, 3.27938882e-04,\n",
       "       1.06255401e-04, 1.06255401e-04, 1.06255401e-04, 1.06255401e-04,\n",
       "       1.06255401e-04, 1.06255401e-04, 1.06255401e-04, 2.58487535e-05,\n",
       "       2.58487535e-05, 2.58487535e-05, 2.58487535e-05, 2.58487535e-05,\n",
       "       2.58487535e-05, 2.58487535e-05, 9.79484020e-06, 9.79484020e-06,\n",
       "       9.79484020e-06, 9.79484020e-06, 9.79484020e-06, 9.79484020e-06,\n",
       "       9.79484020e-06, 5.23292849e-06, 5.23292849e-06, 5.23292849e-06,\n",
       "       5.23292849e-06, 5.23292849e-06, 5.23292849e-06, 5.23292849e-06,\n",
       "       4.64936110e-06, 4.64936110e-06, 4.64936110e-06, 4.64936110e-06,\n",
       "       4.64936110e-06, 4.64936110e-06, 4.64936110e-06, 2.68940839e-06,\n",
       "       2.68940839e-06, 2.68940839e-06, 2.68940839e-06, 2.68940839e-06,\n",
       "       2.68940839e-06, 2.68940839e-06, 2.09968499e-06, 2.09968499e-06,\n",
       "       2.09968499e-06, 2.09968499e-06, 2.09968499e-06, 2.09968499e-06,\n",
       "       2.09968499e-06, 1.82558227e-06, 1.82558227e-06, 1.82558227e-06,\n",
       "       1.82558227e-06, 1.82558227e-06, 1.82558227e-06, 1.82558227e-06,\n",
       "       1.80777005e-06, 1.80777005e-06, 1.80777005e-06, 1.80777005e-06,\n",
       "       1.80777005e-06, 1.80777005e-06, 1.80777005e-06, 1.57403603e-06,\n",
       "       1.57403603e-06, 1.57403603e-06, 1.57403603e-06, 1.57403603e-06,\n",
       "       1.57403603e-06, 1.57403603e-06, 1.48016083e-06, 1.48016083e-06,\n",
       "       1.48016083e-06, 1.48016083e-06, 1.48016083e-06, 1.48016083e-06,\n",
       "       1.48016083e-06, 1.58882843e-06, 1.58882843e-06, 1.58882843e-06,\n",
       "       1.58882843e-06, 1.58882843e-06, 1.58882843e-06, 1.58882843e-06,\n",
       "       1.41476799e-06, 1.41476799e-06, 1.41476799e-06, 1.41476799e-06,\n",
       "       1.41476799e-06, 1.41476799e-06, 1.41476799e-06, 1.17363587e-06,\n",
       "       1.17363587e-06, 1.17363587e-06, 1.17363587e-06, 1.17363587e-06,\n",
       "       1.17363587e-06, 1.17363587e-06, 1.15830387e-06, 1.15830387e-06,\n",
       "       1.15830387e-06, 1.15830387e-06, 1.15830387e-06, 1.15830387e-06,\n",
       "       1.15830387e-06, 1.04437242e-06, 1.04437242e-06, 1.04437242e-06,\n",
       "       1.04437242e-06, 1.04437242e-06, 1.04437242e-06, 1.04437242e-06,\n",
       "       1.03835942e-06, 1.03835942e-06, 1.03835942e-06, 1.03835942e-06,\n",
       "       1.03835942e-06, 1.03835942e-06, 1.03835942e-06, 1.00639113e-06,\n",
       "       1.00639113e-06, 1.00639113e-06, 1.00639113e-06, 1.00639113e-06,\n",
       "       1.00639113e-06, 1.00639113e-06, 8.36441686e-07, 8.36441686e-07,\n",
       "       8.36441686e-07, 8.36441686e-07, 8.36441686e-07, 8.36441686e-07,\n",
       "       8.36441686e-07, 8.30398662e-07, 8.30398662e-07, 8.30398662e-07,\n",
       "       8.30398662e-07, 8.30398662e-07, 8.30398662e-07, 8.30398662e-07,\n",
       "       7.79438775e-07, 7.79438775e-07, 7.79438775e-07, 7.79438775e-07,\n",
       "       7.79438775e-07, 7.79438775e-07, 7.79438775e-07, 6.90812492e-07,\n",
       "       6.90812492e-07, 6.90812492e-07, 6.90812492e-07, 6.90812492e-07,\n",
       "       6.90812492e-07, 6.90812492e-07, 7.92273546e-07, 7.92273546e-07,\n",
       "       7.92273546e-07, 7.92273546e-07, 7.92273546e-07, 7.92273546e-07,\n",
       "       7.92273546e-07, 7.11641189e-07, 7.11641189e-07, 7.11641189e-07,\n",
       "       7.11641189e-07, 7.11641189e-07, 7.11641189e-07, 7.11641189e-07,\n",
       "       7.15316173e-07, 7.15316173e-07, 7.15316173e-07, 7.15316173e-07,\n",
       "       7.15316173e-07, 7.15316173e-07, 7.15316173e-07, 6.29672552e-07,\n",
       "       6.29672552e-07, 6.29672552e-07, 6.29672552e-07, 6.29672552e-07,\n",
       "       6.29672552e-07, 6.29672552e-07, 5.91836173e-07, 5.91836173e-07,\n",
       "       5.91836173e-07, 5.91836173e-07, 5.91836173e-07, 5.91836173e-07,\n",
       "       5.91836173e-07, 6.14743566e-07, 6.14743566e-07, 6.14743566e-07,\n",
       "       6.14743566e-07, 6.14743566e-07, 6.14743566e-07, 6.14743566e-07,\n",
       "       5.09571908e-07, 5.09571908e-07, 5.09571908e-07, 5.09571908e-07,\n",
       "       5.09571908e-07, 5.09571908e-07, 5.09571908e-07, 6.41993697e-07,\n",
       "       6.41993697e-07, 6.41993697e-07, 6.41993697e-07, 6.41993697e-07,\n",
       "       6.41993697e-07, 6.41993697e-07, 5.81163942e-07, 5.81163942e-07,\n",
       "       5.81163942e-07, 5.81163942e-07, 5.81163942e-07, 5.81163942e-07,\n",
       "       5.81163942e-07, 6.04242572e-07, 6.04242572e-07, 6.04242572e-07,\n",
       "       6.04242572e-07, 6.04242572e-07, 6.04242572e-07, 6.04242572e-07,\n",
       "       5.18971085e-07, 5.18971085e-07, 5.18971085e-07, 5.18971085e-07,\n",
       "       5.18971085e-07, 5.18971085e-07, 5.18971085e-07, 4.70960448e-07,\n",
       "       4.70960448e-07, 4.70960448e-07, 4.70960448e-07, 4.70960448e-07,\n",
       "       4.70960448e-07, 4.70960448e-07, 3.98685593e-07, 3.98685593e-07,\n",
       "       3.98685593e-07, 3.98685593e-07, 3.98685593e-07, 3.98685593e-07,\n",
       "       3.98685593e-07, 4.52385500e-07, 4.52385500e-07, 4.52385500e-07,\n",
       "       4.52385500e-07, 4.52385500e-07, 4.52385500e-07, 4.52385500e-07,\n",
       "       4.37877240e-07, 4.37877240e-07, 4.37877240e-07, 4.37877240e-07,\n",
       "       4.37877240e-07, 4.37877240e-07, 4.37877240e-07, 4.06172610e-07,\n",
       "       4.06172610e-07, 4.06172610e-07, 4.06172610e-07, 4.06172610e-07,\n",
       "       4.06172610e-07, 4.06172610e-07])"
      ]
     },
     "execution_count": 21,
     "metadata": {},
     "output_type": "execute_result"
    }
   ],
   "source": [
    "# convertendo para um array\n",
    "historico_loss = np.array(historico_loss)\n",
    "historico_loss"
   ]
  },
  {
   "cell_type": "code",
   "execution_count": 22,
   "metadata": {},
   "outputs": [
    {
     "data": {
      "text/plain": [
       "Text(0, 0.5, 'Erro')"
      ]
     },
     "execution_count": 22,
     "metadata": {},
     "output_type": "execute_result"
    },
    {
     "data": {
      "image/png": "[encoded data removed]",
      "text/plain": [
       "<Figure size 640x480 with 1 Axes>"
      ]
     },
     "metadata": {},
     "output_type": "display_data"
    }
   ],
   "source": [
    "# Visualizando a regressão do erro\n",
    "import matplotlib.pyplot as plt\n",
    "plt.plot(historico_loss)\n",
    "plt.title('Progressão do erro')\n",
    "plt.xlabel('Épocas')\n",
    "plt.ylabel('Erro')"
   ]
  },
  {
   "cell_type": "code",
   "execution_count": 23,
   "metadata": {},
   "outputs": [],
   "source": [
    "# Salvando o modelo\n",
    "modelo.to_disk('modelo')"
   ]
  },
  {
   "cell_type": "markdown",
   "metadata": {},
   "source": [
    "### Etapa 6 Teste com uma frase"
   ]
  },
  {
   "cell_type": "code",
   "execution_count": 24,
   "metadata": {},
   "outputs": [
    {
     "data": {
      "text/plain": [
       "<spacy.lang.pt.Portuguese at 0x18fd9698bb0>"
      ]
     },
     "execution_count": 24,
     "metadata": {},
     "output_type": "execute_result"
    }
   ],
   "source": [
    "# Carregando o modelo\n",
    "modelo_carregado = spacy.load('modelo')\n",
    "modelo_carregado"
   ]
  },
  {
   "cell_type": "code",
   "execution_count": 25,
   "metadata": {},
   "outputs": [],
   "source": [
    "# Frases\n",
    "texto_positivo = \"Eu adoro  cor dos seus olhos\""
   ]
  },
  {
   "cell_type": "code",
   "execution_count": 26,
   "metadata": {},
   "outputs": [
    {
     "data": {
      "text/plain": [
       "'adorar cor olho'"
      ]
     },
     "execution_count": 26,
     "metadata": {},
     "output_type": "execute_result"
    }
   ],
   "source": [
    "# Fazendo o processamento da frase\n",
    "texto_positivo = preprocessamento(texto_positivo)\n",
    "texto_positivo"
   ]
  },
  {
   "cell_type": "code",
   "execution_count": 27,
   "metadata": {},
   "outputs": [
    {
     "data": {
      "text/plain": [
       "adorar cor olho"
      ]
     },
     "execution_count": 27,
     "metadata": {},
     "output_type": "execute_result"
    }
   ],
   "source": [
    "# Fazendo a previsão\n",
    "previssao = modelo_carregado(texto_positivo)\n",
    "previssao"
   ]
  },
  {
   "cell_type": "code",
   "execution_count": 28,
   "metadata": {},
   "outputs": [
    {
     "data": {
      "text/plain": [
       "{'ALEGRIA': 0.9554942846298218, 'MEDO': 0.020603135228157043}"
      ]
     },
     "execution_count": 28,
     "metadata": {},
     "output_type": "execute_result"
    }
   ],
   "source": [
    "# Visualizando a previsão\n",
    "previssao.cats"
   ]
  },
  {
   "cell_type": "code",
   "execution_count": 29,
   "metadata": {},
   "outputs": [
    {
     "data": {
      "text/plain": [
       "'matar'"
      ]
     },
     "execution_count": 29,
     "metadata": {},
     "output_type": "execute_result"
    }
   ],
   "source": [
    "# Testando frase negativa\n",
    "frase_negativa = \"eu vou te mata\"\n",
    "frase_negativa = preprocessamento(frase_negativa)\n",
    "frase_negativa"
   ]
  },
  {
   "cell_type": "code",
   "execution_count": 30,
   "metadata": {},
   "outputs": [
    {
     "data": {
      "text/plain": [
       "{'ALEGRIA': 0.12317860871553421, 'MEDO': 0.771622896194458}"
      ]
     },
     "execution_count": 30,
     "metadata": {},
     "output_type": "execute_result"
    }
   ],
   "source": [
    "# Previsão\n",
    "previssao = modelo_carregado(frase_negativa)\n",
    "previssao.cats"
   ]
  },
  {
   "cell_type": "markdown",
   "metadata": {},
   "source": [
    "### Avaliação na Base de Treinamento"
   ]
  },
  {
   "cell_type": "code",
   "execution_count": 31,
   "metadata": {},
   "outputs": [
    {
     "data": {
      "text/plain": [
       "[{'ALEGRIA': 0.9943835735321045, 'MEDO': 0.0006202993681654334},\n",
       " {'ALEGRIA': 0.9939696788787842, 'MEDO': 0.001753408694639802},\n",
       " {'ALEGRIA': 0.9908792972564697, 'MEDO': 0.001235814532265067},\n",
       " {'ALEGRIA': 0.9935763478279114, 'MEDO': 0.0014563152799382806},\n",
       " {'ALEGRIA': 0.9992089867591858, 'MEDO': 0.0005686070653609931},\n",
       " {'ALEGRIA': 0.9979557991027832, 'MEDO': 0.0008748301770538092},\n",
       " {'ALEGRIA': 0.996273398399353, 'MEDO': 0.001116137602366507},\n",
       " {'ALEGRIA': 0.9981252551078796, 'MEDO': 0.001551570137962699},\n",
       " {'ALEGRIA': 0.9913185834884644, 'MEDO': 0.0011279897298663855},\n",
       " {'ALEGRIA': 0.9922345876693726, 'MEDO': 0.002718942705541849},\n",
       " {'ALEGRIA': 0.9978551268577576, 'MEDO': 0.000630359398201108},\n",
       " {'ALEGRIA': 0.998918890953064, 'MEDO': 0.0008052863413468003},\n",
       " {'ALEGRIA': 0.9969839453697205, 'MEDO': 0.0008860652451403439},\n",
       " {'ALEGRIA': 0.9975020289421082, 'MEDO': 0.0005024243728257716},\n",
       " {'ALEGRIA': 0.985461950302124, 'MEDO': 0.004896394908428192},\n",
       " {'ALEGRIA': 0.9989778995513916, 'MEDO': 0.0026427009142935276},\n",
       " {'ALEGRIA': 0.9951809644699097, 'MEDO': 0.0013691990170627832},\n",
       " {'ALEGRIA': 0.9986608028411865, 'MEDO': 0.0007438244065269828},\n",
       " {'ALEGRIA': 0.9976648092269897, 'MEDO': 0.0009068953222595155},\n",
       " {'ALEGRIA': 0.9927096366882324, 'MEDO': 0.0008817254565656185},\n",
       " {'ALEGRIA': 0.9988231062889099, 'MEDO': 0.0010817358270287514},\n",
       " {'ALEGRIA': 0.9951890707015991, 'MEDO': 0.0016524838283658028},\n",
       " {'ALEGRIA': 0.9941629767417908, 'MEDO': 0.0018764970591291785},\n",
       " {'ALEGRIA': 0.9946395754814148, 'MEDO': 0.0012334436178207397},\n",
       " {'ALEGRIA': 0.9980453252792358, 'MEDO': 0.001106131705455482},\n",
       " {'ALEGRIA': 0.9942408800125122, 'MEDO': 0.0008892212063074112},\n",
       " {'ALEGRIA': 0.9965672492980957, 'MEDO': 0.0006880639703013003},\n",
       " {'ALEGRIA': 0.9965483546257019, 'MEDO': 0.0005177748971618712},\n",
       " {'ALEGRIA': 0.9985839128494263, 'MEDO': 0.0003776941157411784},\n",
       " {'ALEGRIA': 0.9969128370285034, 'MEDO': 0.0012966007925570011},\n",
       " {'ALEGRIA': 0.9925541281700134, 'MEDO': 0.0024134856648743153},\n",
       " {'ALEGRIA': 0.9983263611793518, 'MEDO': 0.000994774978607893},\n",
       " {'ALEGRIA': 0.9955809712409973, 'MEDO': 0.0004951872397214174},\n",
       " {'ALEGRIA': 0.9944456815719604, 'MEDO': 0.0010461484780535102},\n",
       " {'ALEGRIA': 0.9973611235618591, 'MEDO': 0.001328998594544828},\n",
       " {'ALEGRIA': 0.9977002739906311, 'MEDO': 0.0005182308959774673},\n",
       " {'ALEGRIA': 0.9930875897407532, 'MEDO': 0.005134125705808401},\n",
       " {'ALEGRIA': 0.9974561333656311, 'MEDO': 0.00022921104391571134},\n",
       " {'ALEGRIA': 0.991737425327301, 'MEDO': 0.0020868778228759766},\n",
       " {'ALEGRIA': 0.991629421710968, 'MEDO': 0.0026938181836158037},\n",
       " {'ALEGRIA': 0.9937373399734497, 'MEDO': 0.0007486034301109612},\n",
       " {'ALEGRIA': 0.9924321174621582, 'MEDO': 0.0028264406137168407},\n",
       " {'ALEGRIA': 0.9995686411857605, 'MEDO': 0.00022626474674325436},\n",
       " {'ALEGRIA': 0.9965477585792542, 'MEDO': 0.0002422351681161672},\n",
       " {'ALEGRIA': 0.9980077147483826, 'MEDO': 0.0006872519734315574},\n",
       " {'ALEGRIA': 0.9985346794128418, 'MEDO': 0.0006098819430917501},\n",
       " {'ALEGRIA': 0.9962455630302429, 'MEDO': 0.002022562548518181},\n",
       " {'ALEGRIA': 0.9913100004196167, 'MEDO': 0.0010108959395438433},\n",
       " {'ALEGRIA': 0.9902510643005371, 'MEDO': 0.004148510750383139},\n",
       " {'ALEGRIA': 0.9989205598831177, 'MEDO': 0.0001512742746854201},\n",
       " {'ALEGRIA': 0.9933786392211914, 'MEDO': 0.0006757816299796104},\n",
       " {'ALEGRIA': 0.9933795928955078, 'MEDO': 0.005940033122897148},\n",
       " {'ALEGRIA': 0.9945749044418335, 'MEDO': 0.0009685764671303332},\n",
       " {'ALEGRIA': 0.9925514459609985, 'MEDO': 0.002115825191140175},\n",
       " {'ALEGRIA': 0.9913460612297058, 'MEDO': 0.004207849968224764},\n",
       " {'ALEGRIA': 0.9933388829231262, 'MEDO': 0.002702891593798995},\n",
       " {'ALEGRIA': 0.9975582361221313, 'MEDO': 0.0005318289040587842},\n",
       " {'ALEGRIA': 0.9985185265541077, 'MEDO': 0.00028492920682765543},\n",
       " {'ALEGRIA': 0.994293212890625, 'MEDO': 0.004359092563390732},\n",
       " {'ALEGRIA': 0.9976721405982971, 'MEDO': 0.0011735667940229177},\n",
       " {'ALEGRIA': 0.9957587122917175, 'MEDO': 0.001255568815395236},\n",
       " {'ALEGRIA': 0.9889161586761475, 'MEDO': 0.004844662733376026},\n",
       " {'ALEGRIA': 0.9950042366981506, 'MEDO': 0.004529881291091442},\n",
       " {'ALEGRIA': 0.9972348809242249, 'MEDO': 0.0011479022214189172},\n",
       " {'ALEGRIA': 0.9977679252624512, 'MEDO': 0.0021698621567338705},\n",
       " {'ALEGRIA': 0.9962066411972046, 'MEDO': 0.0005746445967815816},\n",
       " {'ALEGRIA': 0.9980478286743164, 'MEDO': 0.00025150502915494144},\n",
       " {'ALEGRIA': 0.996688187122345, 'MEDO': 0.0006099315942265093},\n",
       " {'ALEGRIA': 0.9981493949890137, 'MEDO': 0.00029227734194137156},\n",
       " {'ALEGRIA': 0.9958142638206482, 'MEDO': 0.0005346080288290977},\n",
       " {'ALEGRIA': 0.9960752129554749, 'MEDO': 0.001289409352466464},\n",
       " {'ALEGRIA': 0.9982458353042603, 'MEDO': 0.0007504366221837699},\n",
       " {'ALEGRIA': 0.9918379187583923, 'MEDO': 0.002992981346324086},\n",
       " {'ALEGRIA': 0.9931420683860779, 'MEDO': 0.0013277156976982951},\n",
       " {'ALEGRIA': 0.9937095642089844, 'MEDO': 0.0010011985432356596},\n",
       " {'ALEGRIA': 0.9938044548034668, 'MEDO': 0.0015127459773793817},\n",
       " {'ALEGRIA': 0.9963898062705994, 'MEDO': 0.0018934672698378563},\n",
       " {'ALEGRIA': 0.9938018918037415, 'MEDO': 0.0010509343119338155},\n",
       " {'ALEGRIA': 0.9995046854019165, 'MEDO': 0.00013507452968042344},\n",
       " {'ALEGRIA': 0.9908018708229065, 'MEDO': 0.002310180803760886},\n",
       " {'ALEGRIA': 0.9864543080329895, 'MEDO': 0.00436779111623764},\n",
       " {'ALEGRIA': 0.9937793612480164, 'MEDO': 0.0011286179069429636},\n",
       " {'ALEGRIA': 0.9926236867904663, 'MEDO': 0.0015425209421664476},\n",
       " {'ALEGRIA': 0.9960552453994751, 'MEDO': 0.00014153411029838026},\n",
       " {'ALEGRIA': 0.9950183629989624, 'MEDO': 0.001862064003944397},\n",
       " {'ALEGRIA': 0.9982905983924866, 'MEDO': 0.0006131720147095621},\n",
       " {'ALEGRIA': 0.9966074228286743, 'MEDO': 0.00034310403862036765},\n",
       " {'ALEGRIA': 0.9940510392189026, 'MEDO': 0.002019992098212242},\n",
       " {'ALEGRIA': 0.9958844780921936, 'MEDO': 0.0002053143980447203},\n",
       " {'ALEGRIA': 0.9945185780525208, 'MEDO': 0.0008962925639934838},\n",
       " {'ALEGRIA': 0.9931259155273438, 'MEDO': 0.0007537284400314093},\n",
       " {'ALEGRIA': 0.9973946809768677, 'MEDO': 0.0016224393621087074},\n",
       " {'ALEGRIA': 0.9965136647224426, 'MEDO': 0.0011405987897887826},\n",
       " {'ALEGRIA': 0.9964392781257629, 'MEDO': 0.0011884431587532163},\n",
       " {'ALEGRIA': 0.9959307312965393, 'MEDO': 0.0010274236556142569},\n",
       " {'ALEGRIA': 0.9935922026634216, 'MEDO': 0.00030977302230894566},\n",
       " {'ALEGRIA': 0.9966148734092712, 'MEDO': 0.00023977921227924526},\n",
       " {'ALEGRIA': 0.9964334964752197, 'MEDO': 0.000603576481807977},\n",
       " {'ALEGRIA': 0.9974949359893799, 'MEDO': 0.0011285810032859445},\n",
       " {'ALEGRIA': 0.994762122631073, 'MEDO': 0.0009966760408133268},\n",
       " {'ALEGRIA': 0.994276225566864, 'MEDO': 0.0016500799683853984},\n",
       " {'ALEGRIA': 0.9947316646575928, 'MEDO': 0.0007014714065007865},\n",
       " {'ALEGRIA': 0.9955891370773315, 'MEDO': 0.002823921386152506},\n",
       " {'ALEGRIA': 0.997858464717865, 'MEDO': 0.0012039889115840197},\n",
       " {'ALEGRIA': 0.9958264231681824, 'MEDO': 0.004118738695979118},\n",
       " {'ALEGRIA': 0.9928391575813293, 'MEDO': 0.0023967993911355734},\n",
       " {'ALEGRIA': 0.9954150915145874, 'MEDO': 0.0010985562112182379},\n",
       " {'ALEGRIA': 0.9972739815711975, 'MEDO': 0.0007518026395700872},\n",
       " {'ALEGRIA': 0.9984976053237915, 'MEDO': 0.0009450498037040234},\n",
       " {'ALEGRIA': 0.9948973059654236, 'MEDO': 0.0017733374843373895},\n",
       " {'ALEGRIA': 0.9985899329185486, 'MEDO': 0.0017474190099164844},\n",
       " {'ALEGRIA': 0.9968037605285645, 'MEDO': 0.0005151561927050352},\n",
       " {'ALEGRIA': 0.003347150981426239, 'MEDO': 0.9995198249816895},\n",
       " {'ALEGRIA': 0.0006100606988184154, 'MEDO': 0.9999545812606812},\n",
       " {'ALEGRIA': 0.003183118999004364, 'MEDO': 0.9998470544815063},\n",
       " {'ALEGRIA': 0.004475022200495005, 'MEDO': 0.9982165694236755},\n",
       " {'ALEGRIA': 0.005082963965833187, 'MEDO': 0.9980208873748779},\n",
       " {'ALEGRIA': 0.004881121218204498, 'MEDO': 0.9998536109924316},\n",
       " {'ALEGRIA': 0.0005884738638997078, 'MEDO': 0.9999545812606812},\n",
       " {'ALEGRIA': 0.006103318650275469, 'MEDO': 0.9996836185455322},\n",
       " {'ALEGRIA': 0.003613301320001483, 'MEDO': 0.9992008805274963},\n",
       " {'ALEGRIA': 0.00397894624620676, 'MEDO': 0.999722421169281},\n",
       " {'ALEGRIA': 0.007474384270608425, 'MEDO': 0.9979664087295532},\n",
       " {'ALEGRIA': 0.007209450006484985, 'MEDO': 0.9983842372894287},\n",
       " {'ALEGRIA': 0.004992248956114054, 'MEDO': 0.9994580149650574},\n",
       " {'ALEGRIA': 0.008842936716973782, 'MEDO': 0.9987741112709045},\n",
       " {'ALEGRIA': 0.005663695745170116, 'MEDO': 0.9996356964111328},\n",
       " {'ALEGRIA': 0.0007220838451758027, 'MEDO': 0.9999545812606812},\n",
       " {'ALEGRIA': 0.0020091859623789787, 'MEDO': 0.9998236298561096},\n",
       " {'ALEGRIA': 0.005580276716500521, 'MEDO': 0.9986020922660828},\n",
       " {'ALEGRIA': 0.004131312947720289, 'MEDO': 0.9996774196624756},\n",
       " {'ALEGRIA': 0.019035086035728455, 'MEDO': 0.9970478415489197},\n",
       " {'ALEGRIA': 0.010368743911385536, 'MEDO': 0.998927652835846},\n",
       " {'ALEGRIA': 0.006332356482744217, 'MEDO': 0.9980863332748413},\n",
       " {'ALEGRIA': 0.007458599749952555, 'MEDO': 0.9993047714233398},\n",
       " {'ALEGRIA': 0.00308370403945446, 'MEDO': 0.9979152083396912},\n",
       " {'ALEGRIA': 0.006214900873601437, 'MEDO': 0.9995021820068359},\n",
       " {'ALEGRIA': 0.006388892885297537, 'MEDO': 0.9973415732383728},\n",
       " {'ALEGRIA': 0.0023548207245767117, 'MEDO': 0.9994919300079346},\n",
       " {'ALEGRIA': 0.016103584319353104, 'MEDO': 0.9943044781684875},\n",
       " {'ALEGRIA': 0.0004972757888026536, 'MEDO': 0.9999545812606812},\n",
       " {'ALEGRIA': 0.002635218435898423, 'MEDO': 0.9996860027313232},\n",
       " {'ALEGRIA': 0.003914520610123873, 'MEDO': 0.9995502829551697},\n",
       " {'ALEGRIA': 0.0017575508682057261, 'MEDO': 0.9996918439865112},\n",
       " {'ALEGRIA': 0.0030121628660708666, 'MEDO': 0.9991181492805481},\n",
       " {'ALEGRIA': 0.0030142185278236866, 'MEDO': 0.9995504021644592},\n",
       " {'ALEGRIA': 0.00269710598513484, 'MEDO': 0.9997389912605286},\n",
       " {'ALEGRIA': 0.003013704204931855, 'MEDO': 0.9997606873512268},\n",
       " {'ALEGRIA': 0.007800532039254904, 'MEDO': 0.9998583793640137},\n",
       " {'ALEGRIA': 0.002131597138941288, 'MEDO': 0.9998486042022705},\n",
       " {'ALEGRIA': 0.0034343479201197624, 'MEDO': 0.9996490478515625},\n",
       " {'ALEGRIA': 0.0034263068810105324, 'MEDO': 0.9998412132263184},\n",
       " {'ALEGRIA': 0.004142477177083492, 'MEDO': 0.9995718598365784},\n",
       " {'ALEGRIA': 0.008057141676545143, 'MEDO': 0.9996328353881836},\n",
       " {'ALEGRIA': 0.008266839198768139, 'MEDO': 0.9996235370635986},\n",
       " {'ALEGRIA': 0.004597465042024851, 'MEDO': 0.9998946189880371},\n",
       " {'ALEGRIA': 0.013331574387848377, 'MEDO': 0.9997302889823914},\n",
       " {'ALEGRIA': 0.0033304367680102587, 'MEDO': 0.9997524619102478},\n",
       " {'ALEGRIA': 0.01241712924093008, 'MEDO': 0.9953957200050354},\n",
       " {'ALEGRIA': 0.0074165621772408485, 'MEDO': 0.9996585845947266},\n",
       " {'ALEGRIA': 0.0025006309151649475, 'MEDO': 0.9997542500495911},\n",
       " {'ALEGRIA': 0.0027641761116683483, 'MEDO': 0.9996683597564697},\n",
       " {'ALEGRIA': 0.009107486344873905, 'MEDO': 0.9956042766571045},\n",
       " {'ALEGRIA': 0.005024116486310959, 'MEDO': 0.9995129108428955},\n",
       " {'ALEGRIA': 0.011464755050837994, 'MEDO': 0.9974431991577148},\n",
       " {'ALEGRIA': 0.005866105668246746, 'MEDO': 0.9992864727973938},\n",
       " {'ALEGRIA': 0.0006802791031077504, 'MEDO': 0.9999545812606812},\n",
       " {'ALEGRIA': 0.003621567040681839, 'MEDO': 0.999920129776001},\n",
       " {'ALEGRIA': 0.0029291610699146986, 'MEDO': 0.9995526671409607},\n",
       " {'ALEGRIA': 0.007362395990639925, 'MEDO': 0.9973475933074951},\n",
       " {'ALEGRIA': 0.007465902715921402, 'MEDO': 0.998923122882843},\n",
       " {'ALEGRIA': 0.012972511351108551, 'MEDO': 0.9989822506904602},\n",
       " {'ALEGRIA': 0.011158651672303677, 'MEDO': 0.9986944794654846},\n",
       " {'ALEGRIA': 0.0070412554778158665, 'MEDO': 0.9996589422225952},\n",
       " {'ALEGRIA': 0.004700221121311188, 'MEDO': 0.9983742237091064},\n",
       " {'ALEGRIA': 0.00247025559656322, 'MEDO': 0.9998617172241211},\n",
       " {'ALEGRIA': 0.010548867285251617, 'MEDO': 0.9997398257255554},\n",
       " {'ALEGRIA': 0.010660750791430473, 'MEDO': 0.9980869293212891},\n",
       " {'ALEGRIA': 0.011004740372300148, 'MEDO': 0.999213695526123},\n",
       " {'ALEGRIA': 0.009341149590909481, 'MEDO': 0.9980375170707703},\n",
       " {'ALEGRIA': 0.007781504187732935, 'MEDO': 0.9996581077575684},\n",
       " {'ALEGRIA': 0.0019111387664452195, 'MEDO': 0.9999505281448364},\n",
       " {'ALEGRIA': 0.0026129186153411865, 'MEDO': 0.9999328851699829},\n",
       " {'ALEGRIA': 0.0063036661595106125, 'MEDO': 0.999868631362915},\n",
       " {'ALEGRIA': 0.007050613407045603, 'MEDO': 0.9990599751472473},\n",
       " {'ALEGRIA': 0.005667314399033785, 'MEDO': 0.9993201494216919},\n",
       " {'ALEGRIA': 0.0036522208247333765, 'MEDO': 0.9997820258140564},\n",
       " {'ALEGRIA': 0.0036428875755518675, 'MEDO': 0.9994111061096191},\n",
       " {'ALEGRIA': 0.007648070342838764, 'MEDO': 0.9988344311714172},\n",
       " {'ALEGRIA': 0.0064439307898283005, 'MEDO': 0.9990867376327515},\n",
       " {'ALEGRIA': 0.010830303654074669, 'MEDO': 0.9991403818130493},\n",
       " {'ALEGRIA': 0.008541171438992023, 'MEDO': 0.9997037053108215},\n",
       " {'ALEGRIA': 0.001726861810311675, 'MEDO': 0.9990002512931824},\n",
       " {'ALEGRIA': 0.006269177421927452, 'MEDO': 0.9974504113197327},\n",
       " {'ALEGRIA': 0.006702818907797337, 'MEDO': 0.9997226595878601},\n",
       " {'ALEGRIA': 0.007525756023824215, 'MEDO': 0.9994375109672546}]"
      ]
     },
     "execution_count": 31,
     "metadata": {},
     "output_type": "execute_result"
    }
   ],
   "source": [
    "# Toda a base\n",
    "previsoes = []\n",
    "for texto in bd['texto']:\n",
    "    previsao = modelo_carregado(texto)\n",
    "    previsoes.append(previsao.cats)\n",
    "\n",
    "previsoes"
   ]
  },
  {
   "cell_type": "code",
   "execution_count": 32,
   "metadata": {},
   "outputs": [
    {
     "data": {
      "text/plain": [
       "array(['alegria', 'alegria', 'alegria', 'alegria', 'alegria', 'alegria',\n",
       "       'alegria', 'alegria', 'alegria', 'alegria', 'alegria', 'alegria',\n",
       "       'alegria', 'alegria', 'alegria', 'alegria', 'alegria', 'alegria',\n",
       "       'alegria', 'alegria', 'alegria', 'alegria', 'alegria', 'alegria',\n",
       "       'alegria', 'alegria', 'alegria', 'alegria', 'alegria', 'alegria',\n",
       "       'alegria', 'alegria', 'alegria', 'alegria', 'alegria', 'alegria',\n",
       "       'alegria', 'alegria', 'alegria', 'alegria', 'alegria', 'alegria',\n",
       "       'alegria', 'alegria', 'alegria', 'alegria', 'alegria', 'alegria',\n",
       "       'alegria', 'alegria', 'alegria', 'alegria', 'alegria', 'alegria',\n",
       "       'alegria', 'alegria', 'alegria', 'alegria', 'alegria', 'alegria',\n",
       "       'alegria', 'alegria', 'alegria', 'alegria', 'alegria', 'alegria',\n",
       "       'alegria', 'alegria', 'alegria', 'alegria', 'alegria', 'alegria',\n",
       "       'alegria', 'alegria', 'alegria', 'alegria', 'alegria', 'alegria',\n",
       "       'alegria', 'alegria', 'alegria', 'alegria', 'alegria', 'alegria',\n",
       "       'alegria', 'alegria', 'alegria', 'alegria', 'alegria', 'alegria',\n",
       "       'alegria', 'alegria', 'alegria', 'alegria', 'alegria', 'alegria',\n",
       "       'alegria', 'alegria', 'alegria', 'alegria', 'alegria', 'alegria',\n",
       "       'alegria', 'alegria', 'alegria', 'alegria', 'alegria', 'alegria',\n",
       "       'alegria', 'alegria', 'alegria', 'alegria', 'medo', 'medo', 'medo',\n",
       "       'medo', 'medo', 'medo', 'medo', 'medo', 'medo', 'medo', 'medo',\n",
       "       'medo', 'medo', 'medo', 'medo', 'medo', 'medo', 'medo', 'medo',\n",
       "       'medo', 'medo', 'medo', 'medo', 'medo', 'medo', 'medo', 'medo',\n",
       "       'medo', 'medo', 'medo', 'medo', 'medo', 'medo', 'medo', 'medo',\n",
       "       'medo', 'medo', 'medo', 'medo', 'medo', 'medo', 'medo', 'medo',\n",
       "       'medo', 'medo', 'medo', 'medo', 'medo', 'medo', 'medo', 'medo',\n",
       "       'medo', 'medo', 'medo', 'medo', 'medo', 'medo', 'medo', 'medo',\n",
       "       'medo', 'medo', 'medo', 'medo', 'medo', 'medo', 'medo', 'medo',\n",
       "       'medo', 'medo', 'medo', 'medo', 'medo', 'medo', 'medo', 'medo',\n",
       "       'medo', 'medo', 'medo', 'medo', 'medo', 'medo', 'medo', 'medo',\n",
       "       'medo'], dtype='<U7')"
      ]
     },
     "execution_count": 32,
     "metadata": {},
     "output_type": "execute_result"
    }
   ],
   "source": [
    "# Convertendo para array\n",
    "previsoes_final = []\n",
    "for previsao in previsoes:\n",
    "    if previsao['ALEGRIA'] > previsao['MEDO']:\n",
    "        previsoes_final.append('alegria')\n",
    "    else:\n",
    "        previsoes_final.append('medo')\n",
    "\n",
    "previsoes_final = np.array(previsoes_final)\n",
    "previsoes_final"
   ]
  },
  {
   "cell_type": "code",
   "execution_count": 33,
   "metadata": {},
   "outputs": [
    {
     "data": {
      "text/plain": [
       "array(['alegria', 'alegria', 'alegria', 'alegria', 'alegria', 'alegria',\n",
       "       'alegria', 'alegria', 'alegria', 'alegria', 'alegria', 'alegria',\n",
       "       'alegria', 'alegria', 'alegria', 'alegria', 'alegria', 'alegria',\n",
       "       'alegria', 'alegria', 'alegria', 'alegria', 'alegria', 'alegria',\n",
       "       'alegria', 'alegria', 'alegria', 'alegria', 'alegria', 'alegria',\n",
       "       'alegria', 'alegria', 'alegria', 'alegria', 'alegria', 'alegria',\n",
       "       'alegria', 'alegria', 'alegria', 'alegria', 'alegria', 'alegria',\n",
       "       'alegria', 'alegria', 'alegria', 'alegria', 'alegria', 'alegria',\n",
       "       'alegria', 'alegria', 'alegria', 'alegria', 'alegria', 'alegria',\n",
       "       'alegria', 'alegria', 'alegria', 'alegria', 'alegria', 'alegria',\n",
       "       'alegria', 'alegria', 'alegria', 'alegria', 'alegria', 'alegria',\n",
       "       'alegria', 'alegria', 'alegria', 'alegria', 'alegria', 'alegria',\n",
       "       'alegria', 'alegria', 'alegria', 'alegria', 'alegria', 'alegria',\n",
       "       'alegria', 'alegria', 'alegria', 'alegria', 'alegria', 'alegria',\n",
       "       'alegria', 'alegria', 'alegria', 'alegria', 'alegria', 'alegria',\n",
       "       'alegria', 'alegria', 'alegria', 'alegria', 'alegria', 'alegria',\n",
       "       'alegria', 'alegria', 'alegria', 'alegria', 'alegria', 'alegria',\n",
       "       'alegria', 'alegria', 'alegria', 'alegria', 'alegria', 'alegria',\n",
       "       'alegria', 'alegria', 'alegria', 'alegria', 'medo', 'medo', 'medo',\n",
       "       'medo', 'medo', 'medo', 'medo', 'medo', 'medo', 'medo', 'medo',\n",
       "       'medo', 'medo', 'medo', 'medo', 'medo', 'medo', 'medo', 'medo',\n",
       "       'medo', 'medo', 'medo', 'medo', 'medo', 'medo', 'medo', 'medo',\n",
       "       'medo', 'medo', 'medo', 'medo', 'medo', 'medo', 'medo', 'medo',\n",
       "       'medo', 'medo', 'medo', 'medo', 'medo', 'medo', 'medo', 'medo',\n",
       "       'medo', 'medo', 'medo', 'medo', 'medo', 'medo', 'medo', 'medo',\n",
       "       'medo', 'medo', 'medo', 'medo', 'medo', 'medo', 'medo', 'medo',\n",
       "       'medo', 'medo', 'medo', 'medo', 'medo', 'medo', 'medo', 'medo',\n",
       "       'medo', 'medo', 'medo', 'medo', 'medo', 'medo', 'medo', 'medo',\n",
       "       'medo', 'medo', 'medo', 'medo', 'medo', 'medo', 'medo', 'medo',\n",
       "       'medo'], dtype=object)"
      ]
     },
     "execution_count": 33,
     "metadata": {},
     "output_type": "execute_result"
    }
   ],
   "source": [
    "# convertendo a base de dados\n",
    "respostas_reais = bd['emocao'].values\n",
    "respostas_reais"
   ]
  },
  {
   "cell_type": "code",
   "execution_count": 34,
   "metadata": {},
   "outputs": [
    {
     "data": {
      "text/plain": [
       "1.0"
      ]
     },
     "execution_count": 34,
     "metadata": {},
     "output_type": "execute_result"
    }
   ],
   "source": [
    "# Visualizando a taxa de acerto \n",
    "from sklearn.metrics import accuracy_score, confusion_matrix\n",
    "accuracy_score(respostas_reais, previsoes_final)"
   ]
  },
  {
   "cell_type": "code",
   "execution_count": 35,
   "metadata": {},
   "outputs": [
    {
     "data": {
      "text/plain": [
       "array([[112,   0],\n",
       "       [  0,  84]], dtype=int64)"
      ]
     },
     "execution_count": 35,
     "metadata": {},
     "output_type": "execute_result"
    }
   ],
   "source": [
    "# Matrix de confusão\n",
    "cm = confusion_matrix(respostas_reais, previsoes_final)\n",
    "cm"
   ]
  }
 ],
 "metadata": {
  "kernelspec": {
   "display_name": "venv",
   "language": "python",
   "name": "python3"
  },
  "language_info": {
   "codemirror_mode": {
    "name": "ipython",
    "version": 3
   },
   "file_extension": ".py",
   "mimetype": "text/x-python",
   "name": "python",
   "nbconvert_exporter": "python",
   "pygments_lexer": "ipython3",
   "version": "3.8.0"
  },
  "orig_nbformat": 4
 },
 "nbformat": 4,
 "nbformat_minor": 2
}
