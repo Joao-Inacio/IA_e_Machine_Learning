{
 "cells": [
  {
   "cell_type": "markdown",
   "metadata": {},
   "source": [
    "# **EXERCÍCIOS DE REVISÃO**"
   ]
  },
  {
   "cell_type": "markdown",
   "metadata": {},
   "source": [
    "1. Ler dois números inteiros, executar e mostrar o resultado das seguintes operações: adição, subtração, multiplicação e divisão"
   ]
  },
  {
   "cell_type": "code",
   "execution_count": 1,
   "metadata": {},
   "outputs": [
    {
     "name": "stdout",
     "output_type": "stream",
     "text": [
      "Adição de 3 + 4 = 7 \n",
      "Subtração de 3 - 4 = -1 \n",
      "Multiplicação de 3 * 4 = 12 \n",
      "Divisão de 3 / 4 = 0.75\n"
     ]
    }
   ],
   "source": [
    "n1 = int(input('Digite um número: '))\n",
    "n2 = int(input('Digite outro número: '))\n",
    "print(f'Adição de {n1} + {n2} = {n1 + n2} \\nSubtração de {n1} - {n2} = {n1 - n2} \\nMultiplicação de {n1} * {n2} = {n1 * n2} \\nDivisão de {n1} / {n2} = {n1 / n2}')"
   ]
  },
  {
   "cell_type": "markdown",
   "metadata": {},
   "source": [
    "2. Efetuar o cálculo da quantidade de litros de combustível gasto em uma viagem, utilizando um automóvel que faz 12 Km por litro. Para obter o cálculo, o usuário deve fornecer o tempo gasto na viagem e a velocidade média durante ela. Desta forma, será possível obter a distância percorrida com a fórmula DISTANCIA = TEMPO * VELOCIDADE. Tendo o valor da distância, basta calcular a quantidade de litros de combustível utilizada na viagem, com a fórmula: LITROS_USADOS = DISTANCIA / 12. O programa deve apresentar os valores da velocidade média, tempo gasto na viagem, a distância percorrida e a quantidade de litros utilizada na viagem"
   ]
  },
  {
   "cell_type": "code",
   "execution_count": 2,
   "metadata": {},
   "outputs": [
    {
     "name": "stdout",
     "output_type": "stream",
     "text": [
      "Velocidade: 69km/h\n",
      " Tempo de Viagem: 7h\n",
      " Distância: 483km\n",
      " Litros: 40.25L\n"
     ]
    }
   ],
   "source": [
    "tempo = int(input('Tempo de Viagem: '))\n",
    "velocidade = int(input('velocidade média: '))\n",
    "\n",
    "distancia = tempo * velocidade\n",
    "\n",
    "litros = distancia / 12\n",
    "print(f'Velocidade: {velocidade}km/h\\n Tempo de Viagem: {tempo}h\\n Distância: {distancia}km\\n Litros: {litros}L')"
   ]
  },
  {
   "cell_type": "markdown",
   "metadata": {},
   "source": [
    "3. Leia a idade do usuário e classifique-o em:\n",
    "- Criança – 0 a 12 anos\n",
    "- Adolescente – 13 a 17 anos\n",
    "- Adulto – acima de 18 anos\n",
    "-Se o usuário digitar um número negativo, mostrar a mensagem que a idade é inválida"
   ]
  },
  {
   "cell_type": "code",
   "execution_count": 3,
   "metadata": {},
   "outputs": [
    {
     "name": "stdout",
     "output_type": "stream",
     "text": [
      "Você é Adulto\n"
     ]
    }
   ],
   "source": [
    "idade = int(input('Sua idade: '))\n",
    "if idade >= 0 and idade <= 12:\n",
    "    print('Você é Criança')\n",
    "elif idade >= 13 and idade <= 17:\n",
    "    print('Você é Adolescente')\n",
    "elif idade >= 18:\n",
    "    print('Você é Adulto')\n",
    "else:\n",
    "    print('idade é inválida')"
   ]
  },
  {
   "cell_type": "markdown",
   "metadata": {},
   "source": [
    "4. Calcular a média de um aluno que cursou a disciplina de Programação I, a partir da leitura das notas M1, M2 e M3; passando por um cálculo da média aritmética. Após a média calculada, devemos anunciar se o aluno foi aprovado, reprovado ou pegou exame\n",
    "- Se a média estiver entre 0.0 e 4.0, o aluno está reprovado\n",
    "- Se a média estiver entre 4.1 e 6.0, o aluno pegou exame\n",
    "- Se a média for maior do que 6.0, o aluno está aprovado\n",
    "- Se o aluno pegou exame, deve ser lida a nota do exame. Se a nota do exame for maior do que 6.0, está aprovado, senão; está reprovado"
   ]
  },
  {
   "cell_type": "code",
   "execution_count": 4,
   "metadata": {},
   "outputs": [
    {
     "name": "stdout",
     "output_type": "stream",
     "text": [
      "A média = 7.0 o aluno está aprovado\n"
     ]
    }
   ],
   "source": [
    "m1 = float(input('Nota 1: '))\n",
    "m2 = float(input('Nota 2: '))\n",
    "m3 = float(input('Nota 3: '))\n",
    "media = (m1 + m2 + m3) / 3\n",
    "if media >= 0.0 and media <= 4.0:\n",
    "    print(f'A média = {media} o aluno está reprovado')\n",
    "elif media >= 4.1 and media <= 6.0:\n",
    "    print(f'A média = {media} o aluno pegou exame')\n",
    "    exam = float(input('Nota do Exame: '))\n",
    "    if exam > 6.0:\n",
    "        print(f'A média = {media} Está aprovado')\n",
    "    else:\n",
    "        print(f'A média = {media} Está reprovado')\n",
    "elif media >= 6.0:\n",
    "    print(f'A média = {media} o aluno está aprovado')\n"
   ]
  },
  {
   "cell_type": "markdown",
   "metadata": {},
   "source": [
    "5. Ler 5 notas e informar a média"
   ]
  },
  {
   "cell_type": "code",
   "execution_count": 5,
   "metadata": {},
   "outputs": [
    {
     "name": "stdout",
     "output_type": "stream",
     "text": [
      "A sua média foi de 7.60\n"
     ]
    }
   ],
   "source": [
    "nota = 0\n",
    "for i in range(5):\n",
    "    nota = nota + float(input(\"Digite a nota: \"))\n",
    "print(f'A sua média foi de {nota/5:.2f}')"
   ]
  },
  {
   "cell_type": "markdown",
   "metadata": {},
   "source": [
    "6. Imprimir a tabuada do número 3 (3 x 1 = 1 - 3 x 10 = 30)"
   ]
  },
  {
   "cell_type": "code",
   "execution_count": 6,
   "metadata": {},
   "outputs": [
    {
     "name": "stdout",
     "output_type": "stream",
     "text": [
      "3 X 0 = 0\n",
      "3 X 1 = 3\n",
      "3 X 2 = 6\n",
      "3 X 3 = 9\n",
      "3 X 4 = 12\n",
      "3 X 5 = 15\n",
      "3 X 6 = 18\n",
      "3 X 7 = 21\n",
      "3 X 8 = 24\n",
      "3 X 9 = 27\n",
      "3 X 10 = 30\n"
     ]
    }
   ],
   "source": [
    "contado = 0\n",
    "while contado <= 10:\n",
    "    print(f'3 X {contado} = {3*contado}')\n",
    "    contado += 1"
   ]
  },
  {
   "cell_type": "markdown",
   "metadata": {},
   "source": [
    "7. Lista: Crie uma estrutura de repetição para fazer a leitura de 5 números inteiros e os armazene dentro de uma lista. Após a leitura, crie outra estrutura de repetição para somar todos os valores digitados"
   ]
  },
  {
   "cell_type": "code",
   "execution_count": 7,
   "metadata": {},
   "outputs": [
    {
     "name": "stdout",
     "output_type": "stream",
     "text": [
      "[3, 4, 5, 7, 6]\n",
      "25\n"
     ]
    }
   ],
   "source": [
    "lista = []\n",
    "soma = 0\n",
    "while len(lista) < 5:\n",
    "    n = int(input(\"Digite um némero: \"))\n",
    "    lista.append(n)\n",
    "\n",
    "for i in lista:\n",
    "    soma += i\n",
    "\n",
    "print(lista)\n",
    "print(soma)"
   ]
  },
  {
   "cell_type": "markdown",
   "metadata": {},
   "source": [
    "8. Dicionário: Crie um dicionário para armazenar o nome e a nota de 3 alunos, fazendo a leitura dos valores por meio de uma estrutura de repetição. Depois, crie uma nova estrutura de repetição para somar todas as notas e retornar a média"
   ]
  },
  {
   "cell_type": "code",
   "execution_count": 8,
   "metadata": {},
   "outputs": [
    {
     "name": "stdout",
     "output_type": "stream",
     "text": [
      "{'Maria': 7, 'Pedro': 8, 'Joao': 9}\n",
      "24\n"
     ]
    }
   ],
   "source": [
    "boleti = {}\n",
    "soma = 0\n",
    "for i in range(3):\n",
    "    nome = input('Nome do Aluno: ')\n",
    "    notas = int(input(f'Nota do Aluno {nome}: '))\n",
    "    boleti[nome] = notas\n",
    "for i in boleti.values():\n",
    "    soma += i\n",
    "print(boleti)\n",
    "print(soma)"
   ]
  },
  {
   "cell_type": "markdown",
   "metadata": {},
   "source": [
    "8. Matriz: Dada a matriz abaixo, construa uma estrutura de repetição para percorrer e somar todos os elementos da matriz"
   ]
  },
  {
   "cell_type": "code",
   "execution_count": 9,
   "metadata": {},
   "outputs": [
    {
     "data": {
      "text/plain": [
       "17"
      ]
     },
     "execution_count": 9,
     "metadata": {},
     "output_type": "execute_result"
    }
   ],
   "source": [
    "import numpy as np\n",
    "matriz = np.array([\n",
    "    [3, 4, 1],\n",
    "    [3, 1, 5]\n",
    "])\n",
    "soma = 0\n",
    "for i in range(matriz.shape[0]):\n",
    "    for j in range(matriz.shape[1]):\n",
    "        soma += matriz[i,j]\n",
    "soma"
   ]
  },
  {
   "cell_type": "markdown",
   "metadata": {},
   "source": [
    "9. Ler uma temperatura em graus Celsius e apresentá-la convertida em graus Fahrenheit. A fórmula de conversão é F = (9 * C + 160) / 5, na qual F é a temperatura em Fahrenheit e C é a temperatura em graus Celsius\n",
    "   - Função para ler e retorna o valor da temperatura (não recebe parâmetro)\n",
    "   - Função para fazer o cálculo (recebe como parâmetro a temperatura em graus Celsius)\n",
    "   - Função para mostrar o resultado, recebendo como parâmetro o valor e fazendo a impressão"
   ]
  },
  {
   "cell_type": "code",
   "execution_count": 10,
   "metadata": {},
   "outputs": [
    {
     "data": {
      "text/plain": [
       "68.0"
      ]
     },
     "execution_count": 10,
     "metadata": {},
     "output_type": "execute_result"
    }
   ],
   "source": [
    "def LerRetornaTemperatura():\n",
    "    return Resultado()\n",
    "\n",
    "def CalcularTemperatura(c):\n",
    "    f = (9 * c + 160) / 5\n",
    "    return f\n",
    "\n",
    "def Resultado(f):\n",
    "    return f\n",
    "\n",
    "CalcularTemperatura(20)"
   ]
  },
  {
   "cell_type": "markdown",
   "metadata": {},
   "source": [
    "10. Efetuar o cálculo da quantidade de litros de combustível gasto em uma viagem, utilizando um automóvel que faz 12 Km por litro. Para obter o cálculo, o usuário deve fornecer o tempo gasto na viagem e a velocidade média durante ela. Desta forma, será possível obter a distância percorrida com a fórmula DISTANCIA = TEMPO * VELOCIDADE. Tendo o valor da distância, basta calcular a quantidade de litros de combustível utilizada na viagem, com a fórmula: LITROS_USADOS = DISTANCIA / 12. O programa deve apresentar os valores da velocidade média, tempo gasto na viagem, a distância percorrida e a quantidade de litros utilizada na viagem\n",
    "    - Função para ler os valores (não recebe parâmetro e retorna os dois valores)\n",
    "    - Função para calcular a distância (recebe como parâmetro o tempo e a velocidade e retorna a distância)\n",
    "    - Função para calcular a quantidade de litros (recebe como parâmetro a distância e retorna os litros)\n",
    "    - Função para apresentar o resultado (recebe como parâmetro os valores e somente imprime o resultado)"
   ]
  },
  {
   "cell_type": "code",
   "execution_count": 9,
   "metadata": {},
   "outputs": [
    {
     "name": "stdout",
     "output_type": "stream",
     "text": [
      "Velocidade média:  80.0 km/h\n",
      "Tempo gasto na viagem:  2.0 horas\n",
      "Distância percorrida:  160.0 km\n",
      "Quantidade de litros gastos: 13.33 litros\n"
     ]
    }
   ],
   "source": [
    "def LerValores():\n",
    "    tempo = float(input(\"Digite o tempo gasto na viagem: \"))\n",
    "    velocidade = float(input(\"Digite a velocidade média: \"))\n",
    "    return tempo, velocidade\n",
    "\n",
    "def CalcularDistancia(tempo, velocidade):\n",
    "    return tempo * velocidade\n",
    "\n",
    "def QuantidadeLitros(distancia):\n",
    "    return distancia / 12\n",
    "\n",
    "def ApresentarResultado(velocidade, tempo, distancia, litros):\n",
    "    print(\"Velocidade média: \", velocidade, \"km/h\")\n",
    "    print(\"Tempo gasto na viagem: \", tempo, \"horas\")\n",
    "    print(\"Distância percorrida: \", distancia, \"km\")\n",
    "    print(f\"Quantidade de litros gastos: {litros:.2f} litros\")\n",
    "\n",
    "t, v = LerValores()\n",
    "d = CalcularDistancia(t, v)\n",
    "l = QuantidadeLitros(d)\n",
    "ApresentarResultado(v, t, d, l)"
   ]
  },
  {
   "cell_type": "markdown",
   "metadata": {},
   "source": [
    "11. Importar o arquivo criado no Google Colab e testar as funções"
   ]
  },
  {
   "cell_type": "code",
   "execution_count": 1,
   "metadata": {},
   "outputs": [],
   "source": [
    "from func import LerStr, LerFloat"
   ]
  },
  {
   "cell_type": "code",
   "execution_count": 2,
   "metadata": {},
   "outputs": [
    {
     "data": {
      "text/plain": [
       "'Olá, Mundo'"
      ]
     },
     "execution_count": 2,
     "metadata": {},
     "output_type": "execute_result"
    }
   ],
   "source": [
    "mensagem = str(input(\"Digite uma mensagem: \"))\n",
    "LerStr(mensagem)"
   ]
  },
  {
   "cell_type": "code",
   "execution_count": 3,
   "metadata": {},
   "outputs": [
    {
     "data": {
      "text/plain": [
       "10.0"
      ]
     },
     "execution_count": 3,
     "metadata": {},
     "output_type": "execute_result"
    }
   ],
   "source": [
    "numero = float(input(\"Digite um némero: \"))\n",
    "LerFloat(numero)"
   ]
  },
  {
   "cell_type": "markdown",
   "metadata": {},
   "source": [
    "12. Crie uma lista vazia e faça a leitura de dois valores do tipo float, colocando cada um dos valores nas primeiras posições da lista (o valor1 ficará na posição 0 da lista e o valor2 ficará na posição 1 da lista). Faça a divisão dos dois valores e trate as seguintes exceções:\n",
    "- ValueError: se o usuário digitar um caracter\n",
    "- ZeroDivisionError: se o usuário digitar zero e ocorrer erro na divisão\n",
    "- IndexError: caso a divisão seja feita levando em consideração posições que não existem na lista\n",
    "- KeyboardInterrupt: caso o usuário interrompa a execução\n",
    "\n",
    "Mostre uma mensagem personalizada na ocorrência de cada um desses erros"
   ]
  },
  {
   "cell_type": "code",
   "execution_count": 6,
   "metadata": {},
   "outputs": [
    {
     "name": "stdout",
     "output_type": "stream",
     "text": [
      "O resultado da divisão é 0.4\n"
     ]
    }
   ],
   "source": [
    "while True:\n",
    "    lista = []\n",
    "    n1 = float(input('Digite um némero: '))\n",
    "    n2 = float(input('Digite um némero: '))\n",
    "    lista.append(n1)\n",
    "    lista.append(n2)\n",
    "    try:\n",
    "        div = lista[0] / lista[1]\n",
    "    except ValueError:\n",
    "        print('Digite um némero válido')\n",
    "        break\n",
    "    except ZeroDivisionError:\n",
    "        print('Não é possível dividir por zero')\n",
    "        break\n",
    "    except IndexError:\n",
    "        print('Digite dois némeros')\n",
    "        break\n",
    "    except KeyboardInterrupt:\n",
    "        print('O usuário preferiu não informar os dados')\n",
    "        break\n",
    "    else:\n",
    "        print(f'O resultado da divisão é {div}')\n",
    "        break\n",
    "        "
   ]
  }
 ],
 "metadata": {
  "kernelspec": {
   "display_name": "venv",
   "language": "python",
   "name": "python3"
  },
  "language_info": {
   "codemirror_mode": {
    "name": "ipython",
    "version": 3
   },
   "file_extension": ".py",
   "mimetype": "text/x-python",
   "name": "python",
   "nbconvert_exporter": "python",
   "pygments_lexer": "ipython3",
   "version": "3.8.10"
  },
  "orig_nbformat": 4
 },
 "nbformat": 4,
 "nbformat_minor": 2
}
