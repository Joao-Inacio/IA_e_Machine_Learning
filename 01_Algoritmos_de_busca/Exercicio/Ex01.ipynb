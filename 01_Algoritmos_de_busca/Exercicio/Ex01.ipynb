{
 "cells": [
  {
   "cell_type": "markdown",
   "metadata": {},
   "source": [
    "O objetivo desta tarefa é utilizar o mesmo código fonte das aulas anteriores para construir o exemplo abaixo. A cidade de origem é Porto União e a cidade de destino é Curitiba. No mapa abaixo você pode visualizar as distâncias pela estrada entre cada uma das cidades"
   ]
  },
  {
   "cell_type": "code",
   "execution_count": 1,
   "metadata": {},
   "outputs": [],
   "source": [
    "# Criando o vértice\n",
    "class Vertice:\n",
    "    def __init__(self, rotulo, distancia_objetivo):\n",
    "        self.rotulo = rotulo\n",
    "        self.visitado = False\n",
    "        self.distancia_objetivo = distancia_objetivo\n",
    "        self.adjacentes = []\n",
    "\n",
    "    def adiciona_adjacente(self, adjacente):\n",
    "        self.adjacentes.append(adjacente)\n",
    "\n",
    "    def mostra_adjacentes(self):\n",
    "        for i in self.adjacentes:\n",
    "            print(i.vertice.rotulo, i.custo)"
   ]
  },
  {
   "cell_type": "code",
   "execution_count": 2,
   "metadata": {},
   "outputs": [],
   "source": [
    "# Criando os adjacente\n",
    "class Adjacente:\n",
    "    def __init__(self, vertice, custo):\n",
    "        self.vertice = vertice\n",
    "        self.custo = custo\n",
    "        self.distancia_aestrela = vertice.distancia_objetivo + self.custo"
   ]
  },
  {
   "cell_type": "code",
   "execution_count": 3,
   "metadata": {},
   "outputs": [],
   "source": [
    "class Grafo:\n",
    "    porto_uniao = Vertice('Porto União', 203)\n",
    "    paulo_frontin = Vertice('Paulo Frontin', 172)\n",
    "    canoinhas = Vertice('Canoinhas', 141)\n",
    "    tres_barras = Vertice('Três Barras', 131)\n",
    "    s_mateus_sul = Vertice('São Mateus do Sul', 123)\n",
    "    irati = Vertice('Irati', 139)\n",
    "    curitiba = Vertice('Curitiba', 0)\n",
    "    palmeira = Vertice('Palmeira', 59)\n",
    "    mafra = Vertice('Mafra', 94)\n",
    "    campo_largo = Vertice('Campo Largo', 27)\n",
    "    balsa_nova = Vertice('Balsa Nova', 41)\n",
    "    lapa = Vertice('Lapa', 74)\n",
    "    tijucas_do_sul = Vertice('Tijucas do Sul', 56)\n",
    "    araucaria = Vertice('Araucária', 23)\n",
    "    s_jose_pinhais = Vertice('São José dos Pinhais', 13)\n",
    "    contenda = Vertice('Araucária', 39)\n",
    "\n",
    "    porto_uniao.adiciona_adjacente(Adjacente(paulo_frontin, 46))\n",
    "    porto_uniao.adiciona_adjacente(Adjacente(s_mateus_sul, 87))\n",
    "    porto_uniao.adiciona_adjacente(Adjacente(canoinhas, 78))\n",
    "\n",
    "    paulo_frontin.adiciona_adjacente(Adjacente(porto_uniao, 46))\n",
    "    paulo_frontin.adiciona_adjacente(Adjacente(irati, 75))\n",
    "\n",
    "    s_mateus_sul.adiciona_adjacente(Adjacente(porto_uniao, 87))\n",
    "    s_mateus_sul.adiciona_adjacente(Adjacente(tres_barras, 43))\n",
    "    s_mateus_sul.adiciona_adjacente(Adjacente(palmeira, 77))\n",
    "    s_mateus_sul.adiciona_adjacente(Adjacente(irati, 57))\n",
    "    s_mateus_sul.adiciona_adjacente(Adjacente(lapa, 60))\n",
    "\n",
    "    irati.adiciona_adjacente(Adjacente(s_mateus_sul, 57))\n",
    "    irati.adiciona_adjacente(Adjacente(paulo_frontin, 75))\n",
    "    irati.adiciona_adjacente(Adjacente(palmeira, 75))\n",
    "\n",
    "    canoinhas.adiciona_adjacente(Adjacente(porto_uniao, 78))\n",
    "    canoinhas.adiciona_adjacente(Adjacente(tres_barras, 12))\n",
    "    canoinhas.adiciona_adjacente(Adjacente(mafra, 66))\n",
    "\n",
    "    tres_barras.adiciona_adjacente(Adjacente(s_mateus_sul, 43))\n",
    "    tres_barras.adiciona_adjacente(Adjacente(canoinhas, 12))\n",
    "\n",
    "    mafra.adiciona_adjacente(Adjacente(canoinhas, 66))\n",
    "    mafra.adiciona_adjacente(Adjacente(tijucas_do_sul, 99))\n",
    "    mafra.adiciona_adjacente(Adjacente(lapa, 57))\n",
    "\n",
    "    lapa.adiciona_adjacente(Adjacente(s_mateus_sul, 60))\n",
    "    lapa.adiciona_adjacente(Adjacente(mafra, 57))\n",
    "    lapa.adiciona_adjacente(Adjacente(contenda, 26))\n",
    "\n",
    "    palmeira.adiciona_adjacente(Adjacente(irati, 75))\n",
    "    palmeira.adiciona_adjacente(Adjacente(s_mateus_sul, 77))\n",
    "    palmeira.adiciona_adjacente(Adjacente(campo_largo, 55))\n",
    "\n",
    "    contenda.adiciona_adjacente(Adjacente(lapa, 26))\n",
    "    contenda.adiciona_adjacente(Adjacente(araucaria, 18))\n",
    "    contenda.adiciona_adjacente(Adjacente(balsa_nova, 19))\n",
    "\n",
    "    tijucas_do_sul.adiciona_adjacente(Adjacente(mafra, 99))\n",
    "    tijucas_do_sul.adiciona_adjacente(Adjacente(s_jose_pinhais, 49))\n",
    "\n",
    "    balsa_nova.adiciona_adjacente(Adjacente(contenda, 19))\n",
    "    balsa_nova.adiciona_adjacente(Adjacente(curitiba, 51))\n",
    "    balsa_nova.adiciona_adjacente(Adjacente(campo_largo, 22))\n",
    "    \n",
    "    campo_largo.adiciona_adjacente(Adjacente(palmeira, 55))\n",
    "    campo_largo.adiciona_adjacente(Adjacente(balsa_nova, 22))\n",
    "    campo_largo.adiciona_adjacente(Adjacente(curitiba, 29))\n",
    "    \n",
    "    araucaria.adiciona_adjacente(Adjacente(contenda, 18))\n",
    "    araucaria.adiciona_adjacente(Adjacente(curitiba, 37))\n",
    "    \n",
    "    s_jose_pinhais.adiciona_adjacente(Adjacente(tijucas_do_sul, 49))\n",
    "    s_jose_pinhais.adiciona_adjacente(Adjacente(curitiba, 15))\n",
    "\n",
    "    curitiba.adiciona_adjacente(Adjacente(araucaria, 37))\n",
    "    curitiba.adiciona_adjacente(Adjacente(s_jose_pinhais, 15))\n",
    "    curitiba.adiciona_adjacente(Adjacente(balsa_nova, 51))\n",
    "    curitiba.adiciona_adjacente(Adjacente(campo_largo, 29))"
   ]
  },
  {
   "cell_type": "code",
   "execution_count": 4,
   "metadata": {},
   "outputs": [],
   "source": [
    "# Criando o grafo()\n",
    "grafo = Grafo()"
   ]
  },
  {
   "cell_type": "code",
   "execution_count": 5,
   "metadata": {},
   "outputs": [
    {
     "name": "stdout",
     "output_type": "stream",
     "text": [
      "Paulo Frontin 46\n",
      "São Mateus do Sul 87\n",
      "Canoinhas 78\n"
     ]
    }
   ],
   "source": [
    "# Visualizando adjacentes\n",
    "grafo.porto_uniao.mostra_adjacentes()"
   ]
  },
  {
   "cell_type": "code",
   "execution_count": 6,
   "metadata": {},
   "outputs": [],
   "source": [
    "# Importação da Libs\n",
    "import numpy as np\n",
    "class VetorOrdenado:\n",
    "    def __init__(self, capacidade):\n",
    "        self.capacidade = capacidade\n",
    "        self.ultima_posicao = -1\n",
    "        # Mudança no tipo de dados\n",
    "        self.valores = np.empty(self.capacidade, dtype=object)\n",
    "\n",
    "    # Referência para o vértice e comparação com a distância A*\n",
    "    def insere(self, adjacente):\n",
    "        if self.ultima_posicao == self.capacidade - 1:\n",
    "            print('Capacidade máxima atingida')\n",
    "            return\n",
    "        posicao = 0\n",
    "        for i in range(self.ultima_posicao + 1):\n",
    "            posicao = i\n",
    "            if self.valores[i].distancia_aestrela > adjacente.distancia_aestrela:\n",
    "                break\n",
    "            if i == self.ultima_posicao:\n",
    "                posicao = i + 1\n",
    "        x = self.ultima_posicao\n",
    "        while x >= posicao:\n",
    "            self.valores[x + 1] = self.valores[x]\n",
    "            x -= 1\n",
    "        self.valores[posicao] = adjacente\n",
    "        self.ultima_posicao += 1\n",
    "\n",
    "    def imprime(self):\n",
    "        if self.ultima_posicao == -1:\n",
    "            print('O vetor está vazio')\n",
    "        else:\n",
    "            for i in range(self.ultima_posicao + 1):\n",
    "                print(i, ' - ', self.valores[i].vertice.rotulo, ' - ', \n",
    "                        self.valores[i].custo, ' - ', \n",
    "                        self.valores[i].vertice.distancia_objetivo, ' - ',\n",
    "                        self.valores[i].distancia_aestrela\n",
    "                )  "
   ]
  },
  {
   "cell_type": "code",
   "execution_count": 7,
   "metadata": {},
   "outputs": [],
   "source": [
    "# Busca A*\n",
    "class AEstrela:\n",
    "    def __init__(self, objetivo):\n",
    "        self.objetivo = objetivo\n",
    "        self.encontrado = False\n",
    "\n",
    "    def buscar(self, atual):\n",
    "        print('------------------')\n",
    "        print(f'Atual: {atual.rotulo}')\n",
    "        atual.visitado = True\n",
    "\n",
    "        if atual == self.objetivo:\n",
    "            self.encontrado = True\n",
    "        else:\n",
    "            vetor_ordenado = VetorOrdenado(len(atual.adjacentes))\n",
    "        for adjacente in atual.adjacentes:\n",
    "            if adjacente.vertice.visitado == False:\n",
    "                adjacente.vertice.visitado = True\n",
    "                vetor_ordenado.insere(adjacente)\n",
    "        vetor_ordenado.imprime()\n",
    "\n",
    "        if vetor_ordenado.valores[0] != None:\n",
    "            self.buscar(vetor_ordenado.valores[0].vertice)"
   ]
  },
  {
   "cell_type": "code",
   "execution_count": 8,
   "metadata": {},
   "outputs": [
    {
     "name": "stdout",
     "output_type": "stream",
     "text": [
      "------------------\n",
      "Atual: Porto União\n",
      "0  -  São Mateus do Sul  -  87  -  123  -  210\n",
      "1  -  Paulo Frontin  -  46  -  172  -  218\n",
      "2  -  Canoinhas  -  78  -  141  -  219\n",
      "------------------\n",
      "Atual: São Mateus do Sul\n",
      "0  -  Lapa  -  60  -  74  -  134\n",
      "1  -  Palmeira  -  77  -  59  -  136\n",
      "2  -  Três Barras  -  43  -  131  -  174\n",
      "3  -  Irati  -  57  -  139  -  196\n",
      "------------------\n",
      "Atual: Lapa\n",
      "0  -  Araucária  -  26  -  39  -  65\n",
      "1  -  Mafra  -  57  -  94  -  151\n",
      "------------------\n",
      "Atual: Araucária\n",
      "0  -  Araucária  -  18  -  23  -  41\n",
      "1  -  Balsa Nova  -  19  -  41  -  60\n",
      "------------------\n",
      "Atual: Araucária\n",
      "0  -  Curitiba  -  37  -  0  -  37\n",
      "------------------\n",
      "Atual: Curitiba\n"
     ]
    },
    {
     "ename": "UnboundLocalError",
     "evalue": "local variable 'vetor_ordenado' referenced before assignment",
     "output_type": "error",
     "traceback": [
      "\u001b[1;31m---------------------------------------------------------------------------\u001b[0m",
      "\u001b[1;31mUnboundLocalError\u001b[0m                         Traceback (most recent call last)",
      "\u001b[1;32mc:\\IA_e_Machine_Learning\\01_Algoritmos_de_busca\\Exercicio\\Ex01.ipynb Célula: 9\u001b[0m in \u001b[0;36m<cell line: 3>\u001b[1;34m()\u001b[0m\n\u001b[0;32m      <a href='vscode-notebook-cell:/c%3A/IA_e_Machine_Learning/01_Algoritmos_de_busca/Exercicio/Ex01.ipynb#ch0000008?line=0'>1</a>\u001b[0m \u001b[39m# Testando a Busca\u001b[39;00m\n\u001b[0;32m      <a href='vscode-notebook-cell:/c%3A/IA_e_Machine_Learning/01_Algoritmos_de_busca/Exercicio/Ex01.ipynb#ch0000008?line=1'>2</a>\u001b[0m busca_aestrela \u001b[39m=\u001b[39m AEstrela(grafo\u001b[39m.\u001b[39mcuritiba)\n\u001b[1;32m----> <a href='vscode-notebook-cell:/c%3A/IA_e_Machine_Learning/01_Algoritmos_de_busca/Exercicio/Ex01.ipynb#ch0000008?line=2'>3</a>\u001b[0m busca_aestrela\u001b[39m.\u001b[39;49mbuscar(grafo\u001b[39m.\u001b[39;49mporto_uniao)\n",
      "\u001b[1;32mc:\\IA_e_Machine_Learning\\01_Algoritmos_de_busca\\Exercicio\\Ex01.ipynb Célula: 9\u001b[0m in \u001b[0;36mAEstrela.buscar\u001b[1;34m(self, atual)\u001b[0m\n\u001b[0;32m     <a href='vscode-notebook-cell:/c%3A/IA_e_Machine_Learning/01_Algoritmos_de_busca/Exercicio/Ex01.ipynb#ch0000008?line=19'>20</a>\u001b[0m vetor_ordenado\u001b[39m.\u001b[39mimprime()\n\u001b[0;32m     <a href='vscode-notebook-cell:/c%3A/IA_e_Machine_Learning/01_Algoritmos_de_busca/Exercicio/Ex01.ipynb#ch0000008?line=21'>22</a>\u001b[0m \u001b[39mif\u001b[39;00m vetor_ordenado\u001b[39m.\u001b[39mvalores[\u001b[39m0\u001b[39m] \u001b[39m!=\u001b[39m \u001b[39mNone\u001b[39;00m:\n\u001b[1;32m---> <a href='vscode-notebook-cell:/c%3A/IA_e_Machine_Learning/01_Algoritmos_de_busca/Exercicio/Ex01.ipynb#ch0000008?line=22'>23</a>\u001b[0m     \u001b[39mself\u001b[39;49m\u001b[39m.\u001b[39;49mbuscar(vetor_ordenado\u001b[39m.\u001b[39;49mvalores[\u001b[39m0\u001b[39;49m]\u001b[39m.\u001b[39;49mvertice)\n",
      "\u001b[1;32mc:\\IA_e_Machine_Learning\\01_Algoritmos_de_busca\\Exercicio\\Ex01.ipynb Célula: 9\u001b[0m in \u001b[0;36mAEstrela.buscar\u001b[1;34m(self, atual)\u001b[0m\n\u001b[0;32m     <a href='vscode-notebook-cell:/c%3A/IA_e_Machine_Learning/01_Algoritmos_de_busca/Exercicio/Ex01.ipynb#ch0000008?line=19'>20</a>\u001b[0m vetor_ordenado\u001b[39m.\u001b[39mimprime()\n\u001b[0;32m     <a href='vscode-notebook-cell:/c%3A/IA_e_Machine_Learning/01_Algoritmos_de_busca/Exercicio/Ex01.ipynb#ch0000008?line=21'>22</a>\u001b[0m \u001b[39mif\u001b[39;00m vetor_ordenado\u001b[39m.\u001b[39mvalores[\u001b[39m0\u001b[39m] \u001b[39m!=\u001b[39m \u001b[39mNone\u001b[39;00m:\n\u001b[1;32m---> <a href='vscode-notebook-cell:/c%3A/IA_e_Machine_Learning/01_Algoritmos_de_busca/Exercicio/Ex01.ipynb#ch0000008?line=22'>23</a>\u001b[0m     \u001b[39mself\u001b[39;49m\u001b[39m.\u001b[39;49mbuscar(vetor_ordenado\u001b[39m.\u001b[39;49mvalores[\u001b[39m0\u001b[39;49m]\u001b[39m.\u001b[39;49mvertice)\n",
      "    \u001b[1;31m[... skipping similar frames: AEstrela.buscar at line 23 (2 times)]\u001b[0m\n",
      "\u001b[1;32mc:\\IA_e_Machine_Learning\\01_Algoritmos_de_busca\\Exercicio\\Ex01.ipynb Célula: 9\u001b[0m in \u001b[0;36mAEstrela.buscar\u001b[1;34m(self, atual)\u001b[0m\n\u001b[0;32m     <a href='vscode-notebook-cell:/c%3A/IA_e_Machine_Learning/01_Algoritmos_de_busca/Exercicio/Ex01.ipynb#ch0000008?line=19'>20</a>\u001b[0m vetor_ordenado\u001b[39m.\u001b[39mimprime()\n\u001b[0;32m     <a href='vscode-notebook-cell:/c%3A/IA_e_Machine_Learning/01_Algoritmos_de_busca/Exercicio/Ex01.ipynb#ch0000008?line=21'>22</a>\u001b[0m \u001b[39mif\u001b[39;00m vetor_ordenado\u001b[39m.\u001b[39mvalores[\u001b[39m0\u001b[39m] \u001b[39m!=\u001b[39m \u001b[39mNone\u001b[39;00m:\n\u001b[1;32m---> <a href='vscode-notebook-cell:/c%3A/IA_e_Machine_Learning/01_Algoritmos_de_busca/Exercicio/Ex01.ipynb#ch0000008?line=22'>23</a>\u001b[0m     \u001b[39mself\u001b[39;49m\u001b[39m.\u001b[39;49mbuscar(vetor_ordenado\u001b[39m.\u001b[39;49mvalores[\u001b[39m0\u001b[39;49m]\u001b[39m.\u001b[39;49mvertice)\n",
      "\u001b[1;32mc:\\IA_e_Machine_Learning\\01_Algoritmos_de_busca\\Exercicio\\Ex01.ipynb Célula: 9\u001b[0m in \u001b[0;36mAEstrela.buscar\u001b[1;34m(self, atual)\u001b[0m\n\u001b[0;32m     <a href='vscode-notebook-cell:/c%3A/IA_e_Machine_Learning/01_Algoritmos_de_busca/Exercicio/Ex01.ipynb#ch0000008?line=16'>17</a>\u001b[0m     \u001b[39mif\u001b[39;00m adjacente\u001b[39m.\u001b[39mvertice\u001b[39m.\u001b[39mvisitado \u001b[39m==\u001b[39m \u001b[39mFalse\u001b[39;00m:\n\u001b[0;32m     <a href='vscode-notebook-cell:/c%3A/IA_e_Machine_Learning/01_Algoritmos_de_busca/Exercicio/Ex01.ipynb#ch0000008?line=17'>18</a>\u001b[0m         adjacente\u001b[39m.\u001b[39mvertice\u001b[39m.\u001b[39mvisitado \u001b[39m=\u001b[39m \u001b[39mTrue\u001b[39;00m\n\u001b[1;32m---> <a href='vscode-notebook-cell:/c%3A/IA_e_Machine_Learning/01_Algoritmos_de_busca/Exercicio/Ex01.ipynb#ch0000008?line=18'>19</a>\u001b[0m         vetor_ordenado\u001b[39m.\u001b[39minsere(adjacente)\n\u001b[0;32m     <a href='vscode-notebook-cell:/c%3A/IA_e_Machine_Learning/01_Algoritmos_de_busca/Exercicio/Ex01.ipynb#ch0000008?line=19'>20</a>\u001b[0m vetor_ordenado\u001b[39m.\u001b[39mimprime()\n\u001b[0;32m     <a href='vscode-notebook-cell:/c%3A/IA_e_Machine_Learning/01_Algoritmos_de_busca/Exercicio/Ex01.ipynb#ch0000008?line=21'>22</a>\u001b[0m \u001b[39mif\u001b[39;00m vetor_ordenado\u001b[39m.\u001b[39mvalores[\u001b[39m0\u001b[39m] \u001b[39m!=\u001b[39m \u001b[39mNone\u001b[39;00m:\n",
      "\u001b[1;31mUnboundLocalError\u001b[0m: local variable 'vetor_ordenado' referenced before assignment"
     ]
    }
   ],
   "source": [
    "# Testando a Busca\n",
    "busca_aestrela = AEstrela(grafo.curitiba)\n",
    "busca_aestrela.buscar(grafo.porto_uniao)"
   ]
  }
 ],
 "metadata": {
  "kernelspec": {
   "display_name": "Python 3.9.12 ('env')",
   "language": "python",
   "name": "python3"
  },
  "language_info": {
   "codemirror_mode": {
    "name": "ipython",
    "version": 3
   },
   "file_extension": ".py",
   "mimetype": "text/x-python",
   "name": "python",
   "nbconvert_exporter": "python",
   "pygments_lexer": "ipython3",
   "version": "3.9.12"
  },
  "orig_nbformat": 4,
  "vscode": {
   "interpreter": {
    "hash": "c5f6ce69dbdee32838ece07d9e8fd9729c7c568c3817f923ea5ea08e345fcd27"
   }
  }
 },
 "nbformat": 4,
 "nbformat_minor": 2
}
