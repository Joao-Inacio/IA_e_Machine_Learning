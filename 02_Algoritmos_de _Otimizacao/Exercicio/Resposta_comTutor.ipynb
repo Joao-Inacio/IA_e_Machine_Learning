{
 "cells": [
  {
   "cell_type": "markdown",
   "metadata": {},
   "source": [
    "#### Algoritmos de otimização \n",
    "- transporte de produtos"
   ]
  },
  {
   "cell_type": "code",
   "execution_count": 1,
   "metadata": {},
   "outputs": [],
   "source": [
    "# Importando a Bibliotecas\n",
    "import six\n",
    "import sys\n",
    "sys.modules['sklearn.externals.six'] = six\n",
    "import mlrose"
   ]
  },
  {
   "cell_type": "markdown",
   "metadata": {},
   "source": [
    "Representação do problema"
   ]
  },
  {
   "cell_type": "code",
   "execution_count": 2,
   "metadata": {},
   "outputs": [],
   "source": [
    "produtos = [\n",
    "    ('Refrigerador A', 0.751, 999.90),\n",
    "    ('Celular', 0.0000899, 2911.12),\n",
    "    ('TV 55', 0.400, 4346.99),\n",
    "    ('TV 50', 0.290, 3999.90),\n",
    "    ('TV 42', 0.200, 2999.00),\n",
    "    ('Notebook A', 0.00350, 2499.90),\n",
    "    ('Ventilador', 0.496, 199.90),\n",
    "    ('Microondas A', 0.0424, 308.66),\n",
    "    ('Microondas B', 0.0544, 429.90),\n",
    "    ('Microondas C', 0.0319, 299.29),\n",
    "    ('Refrigerador B', 0.635, 849.00),\n",
    "    ('Refrigerador C', 0.870, 1199.89),\n",
    "    ('Notebook B', 0.498, 1999.90),\n",
    "    ('Notebook C', 0.527, 3999.00)\n",
    "]\n",
    "espaco_disponivel = 3"
   ]
  },
  {
   "cell_type": "code",
   "execution_count": 3,
   "metadata": {},
   "outputs": [
    {
     "data": {
      "text/plain": [
       "(('Refrigerador A', 0.751, 999.9), 'Refrigerador A', 0.751, 999.9)"
      ]
     },
     "execution_count": 3,
     "metadata": {},
     "output_type": "execute_result"
    }
   ],
   "source": [
    "# Consulta os produtos\n",
    "produtos[0], produtos[0][0], produtos[0][1], produtos[0][2]"
   ]
  },
  {
   "cell_type": "code",
   "execution_count": 4,
   "metadata": {},
   "outputs": [],
   "source": [
    "# Criando a função de imprimir a solução\n",
    "def imprimir_solucao(solucao):\n",
    "    for i in range(len(solucao)):\n",
    "        if solucao[i] == 1:\n",
    "            print('%s - %s' % (produtos[i][0], produtos[i][2]))"
   ]
  },
  {
   "cell_type": "code",
   "execution_count": 5,
   "metadata": {},
   "outputs": [
    {
     "name": "stdout",
     "output_type": "stream",
     "text": [
      "Celular - 2911.12\n",
      "TV 55 - 4346.99\n",
      "TV 50 - 3999.9\n",
      "Ventilador - 199.9\n",
      "Microondas B - 429.9\n",
      "Refrigerador B - 849.0\n",
      "Refrigerador C - 1199.89\n",
      "Notebook C - 3999.0\n"
     ]
    }
   ],
   "source": [
    "# Testando a função\n",
    "imprimir_solucao([0, 1, 1, 1, 0, 0, 1, 0, 1, 0, 1, 1, 0, 1])"
   ]
  },
  {
   "cell_type": "code",
   "execution_count": 6,
   "metadata": {},
   "outputs": [],
   "source": [
    "# Criando a função de custo\n",
    "def fitness_function(solucao):\n",
    "    custo = 0\n",
    "    soma_espaco = 0\n",
    "    for i in range(len(solucao)):\n",
    "        if solucao[i] == 1:\n",
    "            custo += produtos[i][2]\n",
    "            soma_espaco += produtos[i][1]\n",
    "    if soma_espaco > espaco_disponivel:\n",
    "        custo = 1\n",
    "    return custo"
   ]
  },
  {
   "cell_type": "code",
   "execution_count": 7,
   "metadata": {},
   "outputs": [
    {
     "data": {
      "text/plain": [
       "13588.71"
      ]
     },
     "execution_count": 7,
     "metadata": {},
     "output_type": "execute_result"
    }
   ],
   "source": [
    "# Testando a função\n",
    "fitness_function([0, 1, 0, 1, 0, 0, 1, 0, 1, 0, 1, 1, 0, 1])"
   ]
  },
  {
   "cell_type": "code",
   "execution_count": 8,
   "metadata": {},
   "outputs": [],
   "source": [
    "# Usando a função em conjunto com a biblioteca mlrose\n",
    "fitness = mlrose.CustomFitness(fitness_function)"
   ]
  },
  {
   "cell_type": "code",
   "execution_count": 9,
   "metadata": {},
   "outputs": [],
   "source": [
    "# criando o problema\n",
    "problema = mlrose.DiscreteOpt(\n",
    "    length = 14, fitness_fn = fitness, maximize = True, max_val = 2\n",
    ")"
   ]
  },
  {
   "cell_type": "markdown",
   "metadata": {},
   "source": [
    "Hill climb"
   ]
  },
  {
   "cell_type": "code",
   "execution_count": 10,
   "metadata": {},
   "outputs": [
    {
     "data": {
      "text/plain": [
       "(array([0, 1, 1, 1, 0, 1, 1, 1, 1, 1, 1, 0, 1, 1]), 21843.56)"
      ]
     },
     "execution_count": 10,
     "metadata": {},
     "output_type": "execute_result"
    }
   ],
   "source": [
    "# Usando o Hill climb para obter a melhor solução e melhor custo\n",
    "melhor_solucao, melhor_custo = mlrose.hill_climb(problema)\n",
    "melhor_solucao, melhor_custo"
   ]
  },
  {
   "cell_type": "code",
   "execution_count": 11,
   "metadata": {},
   "outputs": [
    {
     "name": "stdout",
     "output_type": "stream",
     "text": [
      "Celular - 2911.12\n",
      "TV 55 - 4346.99\n",
      "TV 50 - 3999.9\n",
      "Notebook A - 2499.9\n",
      "Ventilador - 199.9\n",
      "Microondas A - 308.66\n",
      "Microondas B - 429.9\n",
      "Microondas C - 299.29\n",
      "Refrigerador B - 849.0\n",
      "Notebook B - 1999.9\n",
      "Notebook C - 3999.0\n"
     ]
    }
   ],
   "source": [
    "# Visualizando a melhor solução\n",
    "imprimir_solucao(melhor_solucao)"
   ]
  },
  {
   "cell_type": "markdown",
   "metadata": {},
   "source": [
    "Simulated annealing"
   ]
  },
  {
   "cell_type": "code",
   "execution_count": 12,
   "metadata": {},
   "outputs": [
    {
     "name": "stderr",
     "output_type": "stream",
     "text": [
      "c:\\anaconda3\\envs\\env\\lib\\site-packages\\mlrose\\algorithms.py:311: RuntimeWarning: overflow encountered in exp\n",
      "  prob = np.exp(delta_e/temp)\n"
     ]
    },
    {
     "data": {
      "text/plain": [
       "(array([0, 1, 0, 1, 1, 1, 1, 0, 1, 1, 0, 1, 1, 1]), 20537.8)"
      ]
     },
     "execution_count": 12,
     "metadata": {},
     "output_type": "execute_result"
    }
   ],
   "source": [
    "# Usando o Simulated annealing para obter a melhor solução e melhor custo\n",
    "melhor_solucao, melhor_custo = mlrose.simulated_annealing(problema)\n",
    "melhor_solucao, melhor_custo"
   ]
  },
  {
   "cell_type": "code",
   "execution_count": 13,
   "metadata": {},
   "outputs": [
    {
     "name": "stdout",
     "output_type": "stream",
     "text": [
      "Celular - 2911.12\n",
      "TV 50 - 3999.9\n",
      "TV 42 - 2999.0\n",
      "Notebook A - 2499.9\n",
      "Ventilador - 199.9\n",
      "Microondas B - 429.9\n",
      "Microondas C - 299.29\n",
      "Refrigerador C - 1199.89\n",
      "Notebook B - 1999.9\n",
      "Notebook C - 3999.0\n"
     ]
    }
   ],
   "source": [
    "# Visualizando a melhor solução\n",
    "imprimir_solucao(melhor_solucao)"
   ]
  },
  {
   "cell_type": "markdown",
   "metadata": {},
   "source": [
    "Algoritmo genético"
   ]
  },
  {
   "cell_type": "code",
   "execution_count": 14,
   "metadata": {},
   "outputs": [
    {
     "data": {
      "text/plain": [
       "(array([0, 1, 1, 1, 1, 1, 0, 1, 1, 1, 0, 1, 1, 1]), 24993.550000000003)"
      ]
     },
     "execution_count": 14,
     "metadata": {},
     "output_type": "execute_result"
    }
   ],
   "source": [
    "# Usando o Algoritmo genético para obter a melhor solução e melhor custo\n",
    "melhor_solucao, melhor_custo = mlrose.genetic_alg(problema, pop_size=500, mutation_prob=0.2)\n",
    "melhor_solucao, melhor_custo"
   ]
  },
  {
   "cell_type": "code",
   "execution_count": 15,
   "metadata": {},
   "outputs": [
    {
     "name": "stdout",
     "output_type": "stream",
     "text": [
      "Celular - 2911.12\n",
      "TV 55 - 4346.99\n",
      "TV 50 - 3999.9\n",
      "TV 42 - 2999.0\n",
      "Notebook A - 2499.9\n",
      "Microondas A - 308.66\n",
      "Microondas B - 429.9\n",
      "Microondas C - 299.29\n",
      "Refrigerador C - 1199.89\n",
      "Notebook B - 1999.9\n",
      "Notebook C - 3999.0\n"
     ]
    }
   ],
   "source": [
    "# Visualizando a melhor solução\n",
    "imprimir_solucao(melhor_solucao)"
   ]
  }
 ],
 "metadata": {
  "kernelspec": {
   "display_name": "Python 3.9.12 ('env')",
   "language": "python",
   "name": "python3"
  },
  "language_info": {
   "codemirror_mode": {
    "name": "ipython",
    "version": 3
   },
   "file_extension": ".py",
   "mimetype": "text/x-python",
   "name": "python",
   "nbconvert_exporter": "python",
   "pygments_lexer": "ipython3",
   "version": "3.9.12"
  },
  "orig_nbformat": 4,
  "vscode": {
   "interpreter": {
    "hash": "c5f6ce69dbdee32838ece07d9e8fd9729c7c568c3817f923ea5ea08e345fcd27"
   }
  }
 },
 "nbformat": 4,
 "nbformat_minor": 2
}
