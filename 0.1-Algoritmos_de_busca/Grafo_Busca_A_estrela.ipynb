{
 "cells": [
  {
   "cell_type": "markdown",
   "metadata": {},
   "source": [
    "Grafo"
   ]
  },
  {
   "cell_type": "code",
   "execution_count": 1,
   "metadata": {},
   "outputs": [],
   "source": [
    "class Vertice:\n",
    "    def __init__(self, rotulo, distancia_objetivo):\n",
    "        self.rotulo = rotulo\n",
    "        self.visitado = False\n",
    "        self.distancia_objetivo = distancia_objetivo\n",
    "        self.adjacentes = []\n",
    "\n",
    "    def adiciona_adjacente(self, adjacente):\n",
    "        self.adjacentes.append(adjacente)\n",
    "\n",
    "    def mostra_adjacentes(self):\n",
    "        for i in self.adjacentes:\n",
    "            print(i.vertice.rotulo, i.custo)"
   ]
  },
  {
   "cell_type": "code",
   "execution_count": 2,
   "metadata": {},
   "outputs": [],
   "source": [
    "class Adjacente:\n",
    "    def __init__(self, vertice, custo):\n",
    "        self.vertice = vertice\n",
    "        self.custo = custo\n",
    "        self.distancia_aestrela = vertice.distancia_objetivo + self.custo"
   ]
  },
  {
   "cell_type": "code",
   "execution_count": 3,
   "metadata": {},
   "outputs": [],
   "source": [
    "class Grafo:\n",
    "    arad = Vertice('Arad', 366)\n",
    "    zerind = Vertice('Zerind', 374)\n",
    "    oradea = Vertice('Oradea', 380)\n",
    "    sibiu = Vertice('Sibiu', 253)\n",
    "    timisoara = Vertice('Timisoara', 329)\n",
    "    lugoj = Vertice('Lugoj', 244)\n",
    "    mehadia = Vertice('Mehadia', 241)\n",
    "    dobreta = Vertice('Dobreta', 242)\n",
    "    craiova = Vertice('Craiova', 160)\n",
    "    rimnicu = Vertice('Rimnicu', 193)\n",
    "    fagaras = Vertice('Fagaras', 178)\n",
    "    pitesti = Vertice('Pitesti', 98)\n",
    "    bucharest = Vertice('Bucharest', 0)\n",
    "    giurgiu = Vertice('Giurgiu', 77)\n",
    "\n",
    "    arad.adiciona_adjacente(Adjacente(zerind, 75))\n",
    "    arad.adiciona_adjacente(Adjacente(sibiu, 140))\n",
    "    arad.adiciona_adjacente(Adjacente(timisoara, 118))\n",
    "\n",
    "    zerind.adiciona_adjacente(Adjacente(arad, 75))\n",
    "    zerind.adiciona_adjacente(Adjacente(oradea, 71))\n",
    "\n",
    "    oradea.adiciona_adjacente(Adjacente(zerind, 71))\n",
    "    oradea.adiciona_adjacente(Adjacente(sibiu, 151))\n",
    "\n",
    "    sibiu.adiciona_adjacente(Adjacente(oradea, 151))\n",
    "    sibiu.adiciona_adjacente(Adjacente(arad, 140))\n",
    "    sibiu.adiciona_adjacente(Adjacente(fagaras, 99))\n",
    "    sibiu.adiciona_adjacente(Adjacente(rimnicu, 80))\n",
    "\n",
    "    timisoara.adiciona_adjacente(Adjacente(arad, 118))\n",
    "    timisoara.adiciona_adjacente(Adjacente(lugoj, 111))\n",
    "\n",
    "    lugoj.adiciona_adjacente(Adjacente(timisoara, 111))\n",
    "    lugoj.adiciona_adjacente(Adjacente(mehadia, 70))\n",
    "\n",
    "    mehadia.adiciona_adjacente(Adjacente(lugoj, 70))\n",
    "    mehadia.adiciona_adjacente(Adjacente(dobreta, 75))\n",
    "\n",
    "    dobreta.adiciona_adjacente(Adjacente(mehadia, 75))\n",
    "    dobreta.adiciona_adjacente(Adjacente(craiova, 120))\n",
    "\n",
    "    craiova.adiciona_adjacente(Adjacente(dobreta, 120))\n",
    "    craiova.adiciona_adjacente(Adjacente(pitesti, 138))\n",
    "    craiova.adiciona_adjacente(Adjacente(rimnicu, 146))\n",
    "\n",
    "    rimnicu.adiciona_adjacente(Adjacente(craiova, 146))\n",
    "    rimnicu.adiciona_adjacente(Adjacente(sibiu, 80))\n",
    "    rimnicu.adiciona_adjacente(Adjacente(pitesti, 97))\n",
    "\n",
    "    fagaras.adiciona_adjacente(Adjacente(sibiu, 99))\n",
    "    fagaras.adiciona_adjacente(Adjacente(bucharest, 211))\n",
    "\n",
    "    pitesti.adiciona_adjacente(Adjacente(rimnicu, 97))\n",
    "    pitesti.adiciona_adjacente(Adjacente(craiova, 138))\n",
    "    pitesti.adiciona_adjacente(Adjacente(bucharest, 101))\n",
    "\n",
    "    bucharest.adiciona_adjacente(Adjacente(fagaras, 211))\n",
    "    bucharest.adiciona_adjacente(Adjacente(pitesti, 101))\n",
    "    bucharest.adiciona_adjacente(Adjacente(giurgiu, 90))"
   ]
  },
  {
   "cell_type": "code",
   "execution_count": 4,
   "metadata": {},
   "outputs": [],
   "source": [
    "# Criando o grafo()\n",
    "grafo = Grafo()"
   ]
  },
  {
   "cell_type": "code",
   "execution_count": 5,
   "metadata": {},
   "outputs": [
    {
     "name": "stdout",
     "output_type": "stream",
     "text": [
      "Zerind 75\n",
      "Sibiu 140\n",
      "Timisoara 118\n"
     ]
    }
   ],
   "source": [
    "# Visualizando adjacentes\n",
    "grafo.arad.mostra_adjacentes()"
   ]
  },
  {
   "cell_type": "markdown",
   "metadata": {},
   "source": [
    "Vetor ordenado(adjacente)"
   ]
  },
  {
   "cell_type": "code",
   "execution_count": 6,
   "metadata": {},
   "outputs": [],
   "source": [
    "# Importação da Libs\n",
    "import numpy as np\n",
    "class VetorOrdenado:\n",
    "    def __init__(self, capacidade):\n",
    "        self.capacidade = capacidade\n",
    "        self.ultima_posicao = -1\n",
    "        # Mudança no tipo de dados\n",
    "        self.valores = np.empty(self.capacidade, dtype=object)\n",
    "\n",
    "    # Referência para o vértice e comparação com a distância A*\n",
    "    def insere(self, adjacente):\n",
    "        if self.ultima_posicao == self.capacidade - 1:\n",
    "            print('Capacidade máxima atingida')\n",
    "            return\n",
    "        posicao = 0\n",
    "        for i in range(self.ultima_posicao + 1):\n",
    "            posicao = i\n",
    "            if self.valores[i].distancia_aestrela > adjacente.distancia_aestrela:\n",
    "                break\n",
    "            if i == self.ultima_posicao:\n",
    "                posicao = i + 1\n",
    "        x = self.ultima_posicao\n",
    "        while x >= posicao:\n",
    "            self.valores[x + 1] = self.valores[x]\n",
    "            x -= 1\n",
    "        self.valores[posicao] = adjacente\n",
    "        self.ultima_posicao += 1\n",
    "\n",
    "    def imprime(self):\n",
    "        if self.ultima_posicao == -1:\n",
    "            print('O vetor está vazio')\n",
    "        else:\n",
    "            for i in range(self.ultima_posicao + 1):\n",
    "                print(i, ' - ', self.valores[i].vertice.rotulo, ' - ', \n",
    "                        self.valores[i].custo, ' - ', \n",
    "                        self.valores[i].vertice.distancia_objetivo, ' - ',\n",
    "                        self.valores[i].distancia_aestrela\n",
    "                )  "
   ]
  },
  {
   "cell_type": "code",
   "execution_count": 7,
   "metadata": {},
   "outputs": [
    {
     "data": {
      "text/plain": [
       "('Zerind', 374)"
      ]
     },
     "execution_count": 7,
     "metadata": {},
     "output_type": "execute_result"
    }
   ],
   "source": [
    "grafo.arad.adjacentes[0].vertice.rotulo, grafo.arad.adjacentes[0].vertice.distancia_objetivo"
   ]
  },
  {
   "cell_type": "code",
   "execution_count": 8,
   "metadata": {},
   "outputs": [
    {
     "data": {
      "text/plain": [
       "(449, 75)"
      ]
     },
     "execution_count": 8,
     "metadata": {},
     "output_type": "execute_result"
    }
   ],
   "source": [
    "grafo.arad.adjacentes[0].distancia_aestrela, grafo.arad.adjacentes[0].custo"
   ]
  },
  {
   "cell_type": "code",
   "execution_count": 9,
   "metadata": {},
   "outputs": [],
   "source": [
    "vetor = VetorOrdenado(20)\n",
    "vetor.insere(grafo.arad.adjacentes[0])\n",
    "vetor.insere(grafo.arad.adjacentes[1])\n",
    "vetor.insere(grafo.arad.adjacentes[2])"
   ]
  },
  {
   "cell_type": "code",
   "execution_count": 10,
   "metadata": {},
   "outputs": [
    {
     "name": "stdout",
     "output_type": "stream",
     "text": [
      "0  -  Sibiu  -  140  -  253  -  393\n",
      "1  -  Timisoara  -  118  -  329  -  447\n",
      "2  -  Zerind  -  75  -  374  -  449\n"
     ]
    }
   ],
   "source": [
    "vetor.imprime()"
   ]
  },
  {
   "cell_type": "markdown",
   "metadata": {},
   "source": [
    "### Busca A*"
   ]
  },
  {
   "cell_type": "code",
   "execution_count": 11,
   "metadata": {},
   "outputs": [],
   "source": [
    "class AEstrela:\n",
    "    def __init__(self, objetivo):\n",
    "        self.objetivo = objetivo\n",
    "        self.encontrado = False\n",
    "\n",
    "    def buscar(self, atual):\n",
    "        print('------------------')\n",
    "        print(f'Atual: {atual.rotulo}')\n",
    "        atual.visitado = True\n",
    "\n",
    "        if atual == self.objetivo:\n",
    "            self.encontrado = True\n",
    "        else:\n",
    "            vetor_ordenado = VetorOrdenado(len(atual.adjacentes))\n",
    "        for adjacente in atual.adjacentes:\n",
    "            if adjacente.vertice.visitado == False:\n",
    "                adjacente.vertice.visitado = True\n",
    "                vetor_ordenado.insere(adjacente)\n",
    "        vetor_ordenado.imprime()\n",
    "\n",
    "        if vetor_ordenado.valores[0] != None:\n",
    "            self.buscar(vetor_ordenado.valores[0].vertice)"
   ]
  },
  {
   "cell_type": "code",
   "execution_count": 12,
   "metadata": {},
   "outputs": [
    {
     "name": "stdout",
     "output_type": "stream",
     "text": [
      "------------------\n",
      "Atual: Arad\n",
      "0  -  Sibiu  -  140  -  253  -  393\n",
      "1  -  Timisoara  -  118  -  329  -  447\n",
      "2  -  Zerind  -  75  -  374  -  449\n",
      "------------------\n",
      "Atual: Sibiu\n",
      "0  -  Rimnicu  -  80  -  193  -  273\n",
      "1  -  Fagaras  -  99  -  178  -  277\n",
      "2  -  Oradea  -  151  -  380  -  531\n",
      "------------------\n",
      "Atual: Rimnicu\n",
      "0  -  Pitesti  -  97  -  98  -  195\n",
      "1  -  Craiova  -  146  -  160  -  306\n",
      "------------------\n",
      "Atual: Pitesti\n",
      "0  -  Bucharest  -  101  -  0  -  101\n",
      "------------------\n",
      "Atual: Bucharest\n"
     ]
    },
    {
     "ename": "UnboundLocalError",
     "evalue": "local variable 'vetor_ordenado' referenced before assignment",
     "output_type": "error",
     "traceback": [
      "\u001b[1;31m---------------------------------------------------------------------------\u001b[0m",
      "\u001b[1;31mUnboundLocalError\u001b[0m                         Traceback (most recent call last)",
      "\u001b[1;32mc:\\IA_e_Machine_Learning\\01_Algoritmos_de_busca\\Grafo_Busca_A_estrela.ipynb Célula: 15\u001b[0m in \u001b[0;36m<cell line: 3>\u001b[1;34m()\u001b[0m\n\u001b[0;32m      <a href='vscode-notebook-cell:/c%3A/IA_e_Machine_Learning/01_Algoritmos_de_busca/Grafo_Busca_A_estrela.ipynb#ch0000017?line=0'>1</a>\u001b[0m \u001b[39m# Testando a Busca\u001b[39;00m\n\u001b[0;32m      <a href='vscode-notebook-cell:/c%3A/IA_e_Machine_Learning/01_Algoritmos_de_busca/Grafo_Busca_A_estrela.ipynb#ch0000017?line=1'>2</a>\u001b[0m busca_aestrela \u001b[39m=\u001b[39m AEstrela(grafo\u001b[39m.\u001b[39mbucharest)\n\u001b[1;32m----> <a href='vscode-notebook-cell:/c%3A/IA_e_Machine_Learning/01_Algoritmos_de_busca/Grafo_Busca_A_estrela.ipynb#ch0000017?line=2'>3</a>\u001b[0m busca_aestrela\u001b[39m.\u001b[39;49mbuscar(grafo\u001b[39m.\u001b[39;49marad)\n",
      "\u001b[1;32mc:\\IA_e_Machine_Learning\\01_Algoritmos_de_busca\\Grafo_Busca_A_estrela.ipynb Célula: 15\u001b[0m in \u001b[0;36mAEstrela.buscar\u001b[1;34m(self, atual)\u001b[0m\n\u001b[0;32m     <a href='vscode-notebook-cell:/c%3A/IA_e_Machine_Learning/01_Algoritmos_de_busca/Grafo_Busca_A_estrela.ipynb#ch0000017?line=18'>19</a>\u001b[0m vetor_ordenado\u001b[39m.\u001b[39mimprime()\n\u001b[0;32m     <a href='vscode-notebook-cell:/c%3A/IA_e_Machine_Learning/01_Algoritmos_de_busca/Grafo_Busca_A_estrela.ipynb#ch0000017?line=20'>21</a>\u001b[0m \u001b[39mif\u001b[39;00m vetor_ordenado\u001b[39m.\u001b[39mvalores[\u001b[39m0\u001b[39m] \u001b[39m!=\u001b[39m \u001b[39mNone\u001b[39;00m:\n\u001b[1;32m---> <a href='vscode-notebook-cell:/c%3A/IA_e_Machine_Learning/01_Algoritmos_de_busca/Grafo_Busca_A_estrela.ipynb#ch0000017?line=21'>22</a>\u001b[0m     \u001b[39mself\u001b[39;49m\u001b[39m.\u001b[39;49mbuscar(vetor_ordenado\u001b[39m.\u001b[39;49mvalores[\u001b[39m0\u001b[39;49m]\u001b[39m.\u001b[39;49mvertice)\n",
      "\u001b[1;32mc:\\IA_e_Machine_Learning\\01_Algoritmos_de_busca\\Grafo_Busca_A_estrela.ipynb Célula: 15\u001b[0m in \u001b[0;36mAEstrela.buscar\u001b[1;34m(self, atual)\u001b[0m\n\u001b[0;32m     <a href='vscode-notebook-cell:/c%3A/IA_e_Machine_Learning/01_Algoritmos_de_busca/Grafo_Busca_A_estrela.ipynb#ch0000017?line=18'>19</a>\u001b[0m vetor_ordenado\u001b[39m.\u001b[39mimprime()\n\u001b[0;32m     <a href='vscode-notebook-cell:/c%3A/IA_e_Machine_Learning/01_Algoritmos_de_busca/Grafo_Busca_A_estrela.ipynb#ch0000017?line=20'>21</a>\u001b[0m \u001b[39mif\u001b[39;00m vetor_ordenado\u001b[39m.\u001b[39mvalores[\u001b[39m0\u001b[39m] \u001b[39m!=\u001b[39m \u001b[39mNone\u001b[39;00m:\n\u001b[1;32m---> <a href='vscode-notebook-cell:/c%3A/IA_e_Machine_Learning/01_Algoritmos_de_busca/Grafo_Busca_A_estrela.ipynb#ch0000017?line=21'>22</a>\u001b[0m     \u001b[39mself\u001b[39;49m\u001b[39m.\u001b[39;49mbuscar(vetor_ordenado\u001b[39m.\u001b[39;49mvalores[\u001b[39m0\u001b[39;49m]\u001b[39m.\u001b[39;49mvertice)\n",
      "    \u001b[1;31m[... skipping similar frames: AEstrela.buscar at line 22 (1 times)]\u001b[0m\n",
      "\u001b[1;32mc:\\IA_e_Machine_Learning\\01_Algoritmos_de_busca\\Grafo_Busca_A_estrela.ipynb Célula: 15\u001b[0m in \u001b[0;36mAEstrela.buscar\u001b[1;34m(self, atual)\u001b[0m\n\u001b[0;32m     <a href='vscode-notebook-cell:/c%3A/IA_e_Machine_Learning/01_Algoritmos_de_busca/Grafo_Busca_A_estrela.ipynb#ch0000017?line=18'>19</a>\u001b[0m vetor_ordenado\u001b[39m.\u001b[39mimprime()\n\u001b[0;32m     <a href='vscode-notebook-cell:/c%3A/IA_e_Machine_Learning/01_Algoritmos_de_busca/Grafo_Busca_A_estrela.ipynb#ch0000017?line=20'>21</a>\u001b[0m \u001b[39mif\u001b[39;00m vetor_ordenado\u001b[39m.\u001b[39mvalores[\u001b[39m0\u001b[39m] \u001b[39m!=\u001b[39m \u001b[39mNone\u001b[39;00m:\n\u001b[1;32m---> <a href='vscode-notebook-cell:/c%3A/IA_e_Machine_Learning/01_Algoritmos_de_busca/Grafo_Busca_A_estrela.ipynb#ch0000017?line=21'>22</a>\u001b[0m     \u001b[39mself\u001b[39;49m\u001b[39m.\u001b[39;49mbuscar(vetor_ordenado\u001b[39m.\u001b[39;49mvalores[\u001b[39m0\u001b[39;49m]\u001b[39m.\u001b[39;49mvertice)\n",
      "\u001b[1;32mc:\\IA_e_Machine_Learning\\01_Algoritmos_de_busca\\Grafo_Busca_A_estrela.ipynb Célula: 15\u001b[0m in \u001b[0;36mAEstrela.buscar\u001b[1;34m(self, atual)\u001b[0m\n\u001b[0;32m     <a href='vscode-notebook-cell:/c%3A/IA_e_Machine_Learning/01_Algoritmos_de_busca/Grafo_Busca_A_estrela.ipynb#ch0000017?line=15'>16</a>\u001b[0m     \u001b[39mif\u001b[39;00m adjacente\u001b[39m.\u001b[39mvertice\u001b[39m.\u001b[39mvisitado \u001b[39m==\u001b[39m \u001b[39mFalse\u001b[39;00m:\n\u001b[0;32m     <a href='vscode-notebook-cell:/c%3A/IA_e_Machine_Learning/01_Algoritmos_de_busca/Grafo_Busca_A_estrela.ipynb#ch0000017?line=16'>17</a>\u001b[0m         adjacente\u001b[39m.\u001b[39mvertice\u001b[39m.\u001b[39mvisitado \u001b[39m=\u001b[39m \u001b[39mTrue\u001b[39;00m\n\u001b[1;32m---> <a href='vscode-notebook-cell:/c%3A/IA_e_Machine_Learning/01_Algoritmos_de_busca/Grafo_Busca_A_estrela.ipynb#ch0000017?line=17'>18</a>\u001b[0m         vetor_ordenado\u001b[39m.\u001b[39minsere(adjacente)\n\u001b[0;32m     <a href='vscode-notebook-cell:/c%3A/IA_e_Machine_Learning/01_Algoritmos_de_busca/Grafo_Busca_A_estrela.ipynb#ch0000017?line=18'>19</a>\u001b[0m vetor_ordenado\u001b[39m.\u001b[39mimprime()\n\u001b[0;32m     <a href='vscode-notebook-cell:/c%3A/IA_e_Machine_Learning/01_Algoritmos_de_busca/Grafo_Busca_A_estrela.ipynb#ch0000017?line=20'>21</a>\u001b[0m \u001b[39mif\u001b[39;00m vetor_ordenado\u001b[39m.\u001b[39mvalores[\u001b[39m0\u001b[39m] \u001b[39m!=\u001b[39m \u001b[39mNone\u001b[39;00m:\n",
      "\u001b[1;31mUnboundLocalError\u001b[0m: local variable 'vetor_ordenado' referenced before assignment"
     ]
    }
   ],
   "source": [
    "# Testando a Busca\n",
    "busca_aestrela = AEstrela(grafo.bucharest)\n",
    "busca_aestrela.buscar(grafo.arad)"
   ]
  }
 ],
 "metadata": {
  "kernelspec": {
   "display_name": "Python 3.9.12 ('env')",
   "language": "python",
   "name": "python3"
  },
  "language_info": {
   "codemirror_mode": {
    "name": "ipython",
    "version": 3
   },
   "file_extension": ".py",
   "mimetype": "text/x-python",
   "name": "python",
   "nbconvert_exporter": "python",
   "pygments_lexer": "ipython3",
   "version": "3.9.12"
  },
  "orig_nbformat": 4,
  "vscode": {
   "interpreter": {
    "hash": "c5f6ce69dbdee32838ece07d9e8fd9729c7c568c3817f923ea5ea08e345fcd27"
   }
  }
 },
 "nbformat": 4,
 "nbformat_minor": 2
}
