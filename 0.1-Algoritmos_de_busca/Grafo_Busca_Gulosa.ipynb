{
 "cells": [
  {
   "cell_type": "markdown",
   "metadata": {},
   "source": [
    "Grafo"
   ]
  },
  {
   "cell_type": "code",
   "execution_count": 6,
   "metadata": {},
   "outputs": [],
   "source": [
    "class Vertice:\n",
    "    def __init__(self, rotulo, distancia_objetivo):\n",
    "        self.rotulo = rotulo\n",
    "        self.visitado = False\n",
    "        self.distancia_objetivo = distancia_objetivo\n",
    "        self.adjacentes = []\n",
    "\n",
    "    def adiciona_adjacente(self, adjacente):\n",
    "        self.adjacentes.append(adjacente)\n",
    "\n",
    "    def mostra_adjacentes(self):\n",
    "        for i in self.adjacentes:\n",
    "            print(i.vertice.rotulo, i.custo)"
   ]
  },
  {
   "cell_type": "code",
   "execution_count": 7,
   "metadata": {},
   "outputs": [],
   "source": [
    "class Adjacente:\n",
    "    def __init__(self, vertice, custo):\n",
    "        self.vertice = vertice\n",
    "        self.custo = custo"
   ]
  },
  {
   "cell_type": "code",
   "execution_count": 8,
   "metadata": {},
   "outputs": [],
   "source": [
    "class Grafo:\n",
    "    arad = Vertice('Arad', 366)\n",
    "    zerind = Vertice('Zerind', 374)\n",
    "    oradea = Vertice('Oradea', 380)\n",
    "    sibiu = Vertice('Sibiu', 253)\n",
    "    timisoara = Vertice('Timisoara', 329)\n",
    "    lugoj = Vertice('Lugoj', 244)\n",
    "    mehadia = Vertice('Mehadia', 241)\n",
    "    dobreta = Vertice('Dobreta', 242)\n",
    "    craiova = Vertice('Craiova', 160)\n",
    "    rimnicu = Vertice('Rimnicu', 193)\n",
    "    fagaras = Vertice('Fagaras', 178)\n",
    "    pitesti = Vertice('Pitesti', 98)\n",
    "    bucharest = Vertice('Bucharest', 0)\n",
    "    giurgiu = Vertice('Giurgiu', 77)\n",
    "\n",
    "    arad.adiciona_adjacente(Adjacente(zerind, 75))\n",
    "    arad.adiciona_adjacente(Adjacente(sibiu, 140))\n",
    "    arad.adiciona_adjacente(Adjacente(timisoara, 118))\n",
    "\n",
    "    zerind.adiciona_adjacente(Adjacente(arad, 75))\n",
    "    zerind.adiciona_adjacente(Adjacente(oradea, 71))\n",
    "\n",
    "    oradea.adiciona_adjacente(Adjacente(zerind, 71))\n",
    "    oradea.adiciona_adjacente(Adjacente(sibiu, 151))\n",
    "\n",
    "    sibiu.adiciona_adjacente(Adjacente(oradea, 151))\n",
    "    sibiu.adiciona_adjacente(Adjacente(arad, 140))\n",
    "    sibiu.adiciona_adjacente(Adjacente(fagaras, 99))\n",
    "    sibiu.adiciona_adjacente(Adjacente(rimnicu, 80))\n",
    "\n",
    "    timisoara.adiciona_adjacente(Adjacente(arad, 118))\n",
    "    timisoara.adiciona_adjacente(Adjacente(lugoj, 111))\n",
    "\n",
    "    lugoj.adiciona_adjacente(Adjacente(timisoara, 111))\n",
    "    lugoj.adiciona_adjacente(Adjacente(mehadia, 70))\n",
    "\n",
    "    mehadia.adiciona_adjacente(Adjacente(lugoj, 70))\n",
    "    mehadia.adiciona_adjacente(Adjacente(dobreta, 75))\n",
    "\n",
    "    dobreta.adiciona_adjacente(Adjacente(mehadia, 75))\n",
    "    dobreta.adiciona_adjacente(Adjacente(craiova, 120))\n",
    "\n",
    "    craiova.adiciona_adjacente(Adjacente(dobreta, 120))\n",
    "    craiova.adiciona_adjacente(Adjacente(pitesti, 138))\n",
    "    craiova.adiciona_adjacente(Adjacente(rimnicu, 146))\n",
    "\n",
    "    rimnicu.adiciona_adjacente(Adjacente(craiova, 146))\n",
    "    rimnicu.adiciona_adjacente(Adjacente(sibiu, 80))\n",
    "    rimnicu.adiciona_adjacente(Adjacente(pitesti, 97))\n",
    "\n",
    "    fagaras.adiciona_adjacente(Adjacente(sibiu, 99))\n",
    "    fagaras.adiciona_adjacente(Adjacente(bucharest, 211))\n",
    "\n",
    "    pitesti.adiciona_adjacente(Adjacente(rimnicu, 97))\n",
    "    pitesti.adiciona_adjacente(Adjacente(craiova, 138))\n",
    "    pitesti.adiciona_adjacente(Adjacente(bucharest, 101))\n",
    "\n",
    "    bucharest.adiciona_adjacente(Adjacente(fagaras, 211))\n",
    "    bucharest.adiciona_adjacente(Adjacente(pitesti, 101))\n",
    "    bucharest.adiciona_adjacente(Adjacente(giurgiu, 90))"
   ]
  },
  {
   "cell_type": "code",
   "execution_count": 9,
   "metadata": {},
   "outputs": [],
   "source": [
    "# Criando o grafo()\n",
    "grafo = Grafo()"
   ]
  },
  {
   "cell_type": "code",
   "execution_count": 10,
   "metadata": {},
   "outputs": [
    {
     "name": "stdout",
     "output_type": "stream",
     "text": [
      "Zerind 75\n",
      "Sibiu 140\n",
      "Timisoara 118\n"
     ]
    }
   ],
   "source": [
    "# Visualizando adjacentes\n",
    "grafo.arad.mostra_adjacentes()"
   ]
  },
  {
   "cell_type": "code",
   "execution_count": 14,
   "metadata": {},
   "outputs": [],
   "source": [
    "# Importação da Libs\n",
    "import numpy as np\n",
    "class VetorOrdenado:\n",
    "    def __init__(self, capacidade):\n",
    "        self.capacidade = capacidade\n",
    "        self.ultima_posicao = -1\n",
    "        # Mudança no tipo de dados\n",
    "        self.valores = np.empty(self.capacidade, dtype=object)\n",
    "\n",
    "    # Referência para o vértice e comparação com a distância para o objetivo\n",
    "    def insere(self, vertice):\n",
    "        if self.ultima_posicao == self.capacidade - 1:\n",
    "            print('Capacidade máxima atingida')\n",
    "            return\n",
    "        posicao = 0\n",
    "        for i in range(self.ultima_posicao + 1):\n",
    "            posicao = i\n",
    "            if self.valores[i].distancia_objetivo > vertice.distancia_objetivo:\n",
    "                break\n",
    "            if i == self.ultima_posicao:\n",
    "                posicao = i + 1\n",
    "        x = self.ultima_posicao\n",
    "        while x >= posicao:\n",
    "            self.valores[x + 1] = self.valores[x]\n",
    "            x -= 1\n",
    "        self.valores[posicao] = vertice\n",
    "        self.ultima_posicao += 1\n",
    "\n",
    "    def imprime(self):\n",
    "        if self.ultima_posicao == -1:\n",
    "            print('O vetor está vazio')\n",
    "        else:\n",
    "            for i in range(self.ultima_posicao + 1):\n",
    "                print(f\"\"\"{i} - {self.valores[i].rotulo} - { self.valores[i].distancia_objetivo}\"\"\")"
   ]
  },
  {
   "cell_type": "code",
   "execution_count": 15,
   "metadata": {},
   "outputs": [],
   "source": [
    "vetor = VetorOrdenado(5)\n",
    "vetor.insere(grafo.arad)\n",
    "vetor.insere(grafo.craiova)\n",
    "vetor.insere(grafo.bucharest)\n",
    "vetor.insere(grafo.dobreta)"
   ]
  },
  {
   "cell_type": "code",
   "execution_count": 16,
   "metadata": {},
   "outputs": [
    {
     "name": "stdout",
     "output_type": "stream",
     "text": [
      "0 - Bucharest - 0\n",
      "1 - Craiova - 160\n",
      "2 - Dobreta - 242\n",
      "3 - Arad - 366\n"
     ]
    }
   ],
   "source": [
    "vetor.imprime()"
   ]
  },
  {
   "cell_type": "code",
   "execution_count": 17,
   "metadata": {},
   "outputs": [
    {
     "name": "stdout",
     "output_type": "stream",
     "text": [
      "0 - Bucharest - 0\n",
      "1 - Craiova - 160\n",
      "2 - Dobreta - 242\n",
      "3 - Lugoj - 244\n",
      "4 - Arad - 366\n"
     ]
    }
   ],
   "source": [
    "vetor.insere(grafo.lugoj)\n",
    "vetor.imprime()"
   ]
  },
  {
   "cell_type": "markdown",
   "metadata": {},
   "source": [
    "Busca Gulosa:"
   ]
  },
  {
   "cell_type": "code",
   "execution_count": 18,
   "metadata": {},
   "outputs": [],
   "source": [
    "class Gulosa:\n",
    "    def __init__(self, objetivo):\n",
    "        self.objetivo = objetivo\n",
    "        self.encontrado = False\n",
    "\n",
    "    def buscar(self, atual):\n",
    "        print('---------')\n",
    "        print(f'Atual: {atual.rotulo}')\n",
    "        atual.visitado = True\n",
    "\n",
    "        if atual == self.objetivo:\n",
    "            self.encontrado = True\n",
    "        else:\n",
    "            vetor_ordenado = VetorOrdenado(len(atual.adjacentes))\n",
    "            for adjacente in atual.adjacentes:\n",
    "                if adjacente.vertice.visitado == False:\n",
    "                    adjacente.vertice.visitado == True\n",
    "                    vetor_ordenado.insere(adjacente.vertice)\n",
    "            vetor_ordenado.imprime()\n",
    "\n",
    "            if vetor_ordenado.valores[0] != None:\n",
    "                self.buscar(vetor_ordenado.valores[0])"
   ]
  },
  {
   "cell_type": "code",
   "execution_count": 19,
   "metadata": {},
   "outputs": [
    {
     "name": "stdout",
     "output_type": "stream",
     "text": [
      "---------\n",
      "Atual: Arad\n",
      "0 - Sibiu - 253\n",
      "1 - Timisoara - 329\n",
      "2 - Zerind - 374\n",
      "---------\n",
      "Atual: Sibiu\n",
      "0 - Fagaras - 178\n",
      "1 - Rimnicu - 193\n",
      "2 - Oradea - 380\n",
      "---------\n",
      "Atual: Fagaras\n",
      "0 - Bucharest - 0\n",
      "---------\n",
      "Atual: Bucharest\n"
     ]
    }
   ],
   "source": [
    "# Testando a busca \n",
    "busca_gulosa = Gulosa(grafo.bucharest)\n",
    "busca_gulosa.buscar(grafo.arad)"
   ]
  }
 ],
 "metadata": {
  "kernelspec": {
   "display_name": "Python 3.9.12 ('env')",
   "language": "python",
   "name": "python3"
  },
  "language_info": {
   "codemirror_mode": {
    "name": "ipython",
    "version": 3
   },
   "file_extension": ".py",
   "mimetype": "text/x-python",
   "name": "python",
   "nbconvert_exporter": "python",
   "pygments_lexer": "ipython3",
   "version": "3.9.12"
  },
  "orig_nbformat": 4,
  "vscode": {
   "interpreter": {
    "hash": "c5f6ce69dbdee32838ece07d9e8fd9729c7c568c3817f923ea5ea08e345fcd27"
   }
  }
 },
 "nbformat": 4,
 "nbformat_minor": 2
}
